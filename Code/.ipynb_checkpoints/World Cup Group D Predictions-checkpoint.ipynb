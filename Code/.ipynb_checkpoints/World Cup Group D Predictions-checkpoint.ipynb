{
 "cells": [
  {
   "cell_type": "markdown",
   "metadata": {},
   "source": [
    "# Predicting World Cup Group Stage Outcomes\n",
    "    By Matteo Cangiano"
   ]
  },
  {
   "cell_type": "markdown",
   "metadata": {
    "toc": true
   },
   "source": [
    "<h1>Table of Contents<span class=\"tocSkip\"></span></h1>\n",
    "<div class=\"toc\"><ul class=\"toc-item\"><li><span><a href=\"#Problem-Statement\" data-toc-modified-id=\"Problem-Statement-1\">Problem Statement</a></span></li><li><span><a href=\"#Importing-Libraries\" data-toc-modified-id=\"Importing-Libraries-2\">Importing Libraries</a></span></li><li><span><a href=\"#Loading-Data\" data-toc-modified-id=\"Loading-Data-3\">Loading Data</a></span></li><li><span><a href=\"#Data-Cleaning\" data-toc-modified-id=\"Data-Cleaning-4\">Data Cleaning</a></span><ul class=\"toc-item\"><li><span><a href=\"#Selecting-National-Team-Members\" data-toc-modified-id=\"Selecting-National-Team-Members-4.1\">Selecting National Team Members</a></span></li><li><span><a href=\"#Dropping-the-Null-Values\" data-toc-modified-id=\"Dropping-the-Null-Values-4.2\">Dropping the Null Values</a></span></li><li><span><a href=\"#Checking-Team-Names\" data-toc-modified-id=\"Checking-Team-Names-4.3\">Checking Team Names</a></span></li><li><span><a href=\"#Selecting-the-National-Team-Players\" data-toc-modified-id=\"Selecting-the-National-Team-Players-4.4\">Selecting the National Team Players</a></span></li><li><span><a href=\"#Creating-a-DataFrame-with-the-2014-World-Cup-Eligible-Team-Stats\" data-toc-modified-id=\"Creating-a-DataFrame-with-the-2014-World-Cup-Eligible-Team-Stats-4.5\">Creating a DataFrame with the 2014 World Cup Eligible Team Stats</a></span></li><li><span><a href=\"#World-Cup-Matches-Cleaning\" data-toc-modified-id=\"World-Cup-Matches-Cleaning-4.6\">World Cup Matches Cleaning</a></span></li></ul></li><li><span><a href=\"#EDA\" data-toc-modified-id=\"EDA-5\">EDA</a></span><ul class=\"toc-item\"><li><span><a href=\"#Visualizing-the-Top-Teams\" data-toc-modified-id=\"Visualizing-the-Top-Teams-5.1\">Visualizing the Top Teams</a></span></li><li><span><a href=\"#Assigning-Average-Player-Statistics-to-Each-Country\" data-toc-modified-id=\"Assigning-Average-Player-Statistics-to-Each-Country-5.2\">Assigning Average Player Statistics to Each Country</a></span></li><li><span><a href=\"#Finding-Missing-Positions-for-Each-Country-and-Assigning-Mean-Statistics-for-Each-Position\" data-toc-modified-id=\"Finding-Missing-Positions-for-Each-Country-and-Assigning-Mean-Statistics-for-Each-Position-5.3\">Finding Missing Positions for Each Country and Assigning Mean Statistics for Each Position</a></span></li><li><span><a href=\"#Average-Overall-Ratings-by-Position\" data-toc-modified-id=\"Average-Overall-Ratings-by-Position-5.4\">Average Overall Ratings by Position</a></span></li><li><span><a href=\"#Average-Player-Value-by-Position\" data-toc-modified-id=\"Average-Player-Value-by-Position-5.5\">Average Player Value by Position</a></span></li></ul></li><li><span><a href=\"#Pre-Modeling\" data-toc-modified-id=\"Pre-Modeling-6\">Pre-Modeling</a></span><ul class=\"toc-item\"><li><span><a href=\"#Setting-up-the-DataFrames\" data-toc-modified-id=\"Setting-up-the-DataFrames-6.1\">Setting up the DataFrames</a></span></li><li><span><a href=\"#Imputing-missing-values-from-FutHead.com\" data-toc-modified-id=\"Imputing-missing-values-from-FutHead.com-6.2\">Imputing missing values from FutHead.com</a></span></li><li><span><a href=\"#Adding-Team-stats-to-wc_matchups-DataFrame\" data-toc-modified-id=\"Adding-Team-stats-to-wc_matchups-DataFrame-6.3\">Adding Team stats to <code>wc_matchups</code> DataFrame</a></span></li><li><span><a href=\"#Creating-Interaction-Terms-for-the-Statistics-for-both-teams.\" data-toc-modified-id=\"Creating-Interaction-Terms-for-the-Statistics-for-both-teams.-6.4\">Creating Interaction Terms for the Statistics for both teams.</a></span></li></ul></li><li><span><a href=\"#Modeling\" data-toc-modified-id=\"Modeling-7\">Modeling</a></span><ul class=\"toc-item\"><li><span><a href=\"#KNN\" data-toc-modified-id=\"KNN-7.1\">KNN</a></span></li><li><span><a href=\"#Decision-Tree\" data-toc-modified-id=\"Decision-Tree-7.2\">Decision Tree</a></span></li><li><span><a href=\"#Bagging-Classifier\" data-toc-modified-id=\"Bagging-Classifier-7.3\">Bagging Classifier</a></span></li><li><span><a href=\"#Random-Forest\" data-toc-modified-id=\"Random-Forest-7.4\">Random Forest</a></span></li><li><span><a href=\"#Extra-Trees\" data-toc-modified-id=\"Extra-Trees-7.5\">Extra Trees</a></span></li><li><span><a href=\"#ADA-Boost-Classifier\" data-toc-modified-id=\"ADA-Boost-Classifier-7.6\">ADA Boost Classifier</a></span></li><li><span><a href=\"#Gradient-Boost\" data-toc-modified-id=\"Gradient-Boost-7.7\">Gradient Boost</a></span></li><li><span><a href=\"#Voting-Classifier\" data-toc-modified-id=\"Voting-Classifier-7.8\">Voting Classifier</a></span></li></ul></li><li><span><a href=\"#Model-Selection\" data-toc-modified-id=\"Model-Selection-8\">Model Selection</a></span></li><li><span><a href=\"#Model-Evaluation\" data-toc-modified-id=\"Model-Evaluation-9\">Model Evaluation</a></span><ul class=\"toc-item\"><li><span><a href=\"#Confusion-Matrix\" data-toc-modified-id=\"Confusion-Matrix-9.1\">Confusion Matrix</a></span></li><li><span><a href=\"#Feature-Coefficients\" data-toc-modified-id=\"Feature-Coefficients-9.2\">Feature Coefficients</a></span></li></ul></li><li><span><a href=\"#Simulation\" data-toc-modified-id=\"Simulation-10\">Simulation</a></span><ul class=\"toc-item\"><li><span><a href=\"#Simulation-Results\" data-toc-modified-id=\"Simulation-Results-10.1\">Simulation Results</a></span></li></ul></li><li><span><a href=\"#Conclusion\" data-toc-modified-id=\"Conclusion-11\">Conclusion</a></span></li><li><span><a href=\"#Recommendations\" data-toc-modified-id=\"Recommendations-12\">Recommendations</a></span></li></ul></div>"
   ]
  },
  {
   "cell_type": "markdown",
   "metadata": {},
   "source": [
    "## Problem Statement"
   ]
  },
  {
   "cell_type": "markdown",
   "metadata": {},
   "source": [
    "The Italian Football Federation has asked to create a model that would predict whether or not Italy will pass the group stage of the 2014 World Cup. Progressing to the later stages of the World Cup brings extra funds as well as more marketing for the team, increasing their chance of future successes. With these funds teams are able to invest in their domestic leagues and youth development. For this project I will be using past World Cup data on matches as well as player ratings from FIFA 14. Using a classification model with a metric of accuracy, I will predict the outcome of the group stage for Group D (the group Italy is in)."
   ]
  },
  {
   "cell_type": "markdown",
   "metadata": {},
   "source": [
    "## Importing Libraries"
   ]
  },
  {
   "cell_type": "code",
   "execution_count": 1,
   "metadata": {
    "scrolled": true
   },
   "outputs": [
    {
     "name": "stderr",
     "output_type": "stream",
     "text": [
      "/Users/matteocangiano/opt/anaconda3/envs/dsi/lib/python3.7/site-packages/statsmodels/tools/_testing.py:19: FutureWarning: pandas.util.testing is deprecated. Use the functions in the public API at pandas.testing instead.\n",
      "  import pandas.util.testing as tm\n"
     ]
    }
   ],
   "source": [
    "import pandas as pd\n",
    "import numpy as np\n",
    "import matplotlib.pyplot as plt\n",
    "import seaborn as sns\n",
    "from sklearn.pipeline import Pipeline\n",
    "from sklearn.model_selection import cross_val_score, train_test_split, GridSearchCV\n",
    "from sklearn.neighbors import KNeighborsClassifier\n",
    "from sklearn.svm import SVC\n",
    "from sklearn.ensemble import BaggingClassifier, RandomForestClassifier, ExtraTreesClassifier\n",
    "from sklearn.tree import DecisionTreeClassifier\n",
    "from sklearn.metrics import confusion_matrix, roc_auc_score\n",
    "from sklearn.preprocessing import StandardScaler\n",
    "from sklearn.datasets import make_classification\n",
    "from sklearn.ensemble import GradientBoostingClassifier, AdaBoostClassifier, VotingClassifier, RandomForestClassifier\n",
    "from sklearn.tree import DecisionTreeClassifier\n",
    "from sklearn.neighbors import KNeighborsClassifier\n",
    "from sklearn.linear_model import LogisticRegression"
   ]
  },
  {
   "cell_type": "markdown",
   "metadata": {},
   "source": [
    "## Loading Data"
   ]
  },
  {
   "cell_type": "code",
   "execution_count": 2,
   "metadata": {},
   "outputs": [],
   "source": [
    "players = pd.read_csv('./FIFA_player_ratings/players_18.csv')\n",
    "wc_matches = pd.read_csv('./fifa-world-cup/WorldCupMatches.csv')"
   ]
  },
  {
   "cell_type": "markdown",
   "metadata": {},
   "source": [
    "## Data Cleaning"
   ]
  },
  {
   "cell_type": "markdown",
   "metadata": {},
   "source": [
    "### Selecting National Team Members"
   ]
  },
  {
   "cell_type": "markdown",
   "metadata": {},
   "source": [
    "For the purpose of this project we decided to use only the teams and players that were involved in the 2014 world cup, both to improve accuracy of the model eliminating the possibility of outliers as well as the computational efficiency of the model and simulations. "
   ]
  },
  {
   "cell_type": "markdown",
   "metadata": {},
   "source": [
    "Here we see the raw data from the FIFA dataset:"
   ]
  },
  {
   "cell_type": "code",
   "execution_count": 3,
   "metadata": {
    "scrolled": false
   },
   "outputs": [
    {
     "data": {
      "text/html": [
       "<div>\n",
       "<style scoped>\n",
       "    .dataframe tbody tr th:only-of-type {\n",
       "        vertical-align: middle;\n",
       "    }\n",
       "\n",
       "    .dataframe tbody tr th {\n",
       "        vertical-align: top;\n",
       "    }\n",
       "\n",
       "    .dataframe thead th {\n",
       "        text-align: right;\n",
       "    }\n",
       "</style>\n",
       "<table border=\"1\" class=\"dataframe\">\n",
       "  <thead>\n",
       "    <tr style=\"text-align: right;\">\n",
       "      <th></th>\n",
       "      <th>sofifa_id</th>\n",
       "      <th>player_url</th>\n",
       "      <th>short_name</th>\n",
       "      <th>long_name</th>\n",
       "      <th>age</th>\n",
       "      <th>dob</th>\n",
       "      <th>height_cm</th>\n",
       "      <th>weight_kg</th>\n",
       "      <th>nationality</th>\n",
       "      <th>club</th>\n",
       "      <th>...</th>\n",
       "      <th>lwb</th>\n",
       "      <th>ldm</th>\n",
       "      <th>cdm</th>\n",
       "      <th>rdm</th>\n",
       "      <th>rwb</th>\n",
       "      <th>lb</th>\n",
       "      <th>lcb</th>\n",
       "      <th>cb</th>\n",
       "      <th>rcb</th>\n",
       "      <th>rb</th>\n",
       "    </tr>\n",
       "  </thead>\n",
       "  <tbody>\n",
       "    <tr>\n",
       "      <th>0</th>\n",
       "      <td>20801</td>\n",
       "      <td>https://sofifa.com/player/20801/c-ronaldo-dos-...</td>\n",
       "      <td>Cristiano Ronaldo</td>\n",
       "      <td>Cristiano Ronaldo dos Santos Aveiro</td>\n",
       "      <td>32</td>\n",
       "      <td>1985-02-05</td>\n",
       "      <td>185</td>\n",
       "      <td>80</td>\n",
       "      <td>Portugal</td>\n",
       "      <td>Real Madrid</td>\n",
       "      <td>...</td>\n",
       "      <td>66+3</td>\n",
       "      <td>62+3</td>\n",
       "      <td>62+3</td>\n",
       "      <td>62+3</td>\n",
       "      <td>66+3</td>\n",
       "      <td>62+3</td>\n",
       "      <td>53+3</td>\n",
       "      <td>53+3</td>\n",
       "      <td>53+3</td>\n",
       "      <td>62+3</td>\n",
       "    </tr>\n",
       "    <tr>\n",
       "      <th>1</th>\n",
       "      <td>158023</td>\n",
       "      <td>https://sofifa.com/player/158023/lionel-messi/...</td>\n",
       "      <td>L. Messi</td>\n",
       "      <td>Lionel Andrés Messi Cuccittini</td>\n",
       "      <td>30</td>\n",
       "      <td>1987-06-24</td>\n",
       "      <td>170</td>\n",
       "      <td>72</td>\n",
       "      <td>Argentina</td>\n",
       "      <td>FC Barcelona</td>\n",
       "      <td>...</td>\n",
       "      <td>62+3</td>\n",
       "      <td>59+3</td>\n",
       "      <td>59+3</td>\n",
       "      <td>59+3</td>\n",
       "      <td>62+3</td>\n",
       "      <td>58+3</td>\n",
       "      <td>46+3</td>\n",
       "      <td>46+3</td>\n",
       "      <td>46+3</td>\n",
       "      <td>58+3</td>\n",
       "    </tr>\n",
       "    <tr>\n",
       "      <th>2</th>\n",
       "      <td>190871</td>\n",
       "      <td>https://sofifa.com/player/190871/neymar-da-sil...</td>\n",
       "      <td>Neymar</td>\n",
       "      <td>Neymar da Silva Santos Junior</td>\n",
       "      <td>25</td>\n",
       "      <td>1992-02-05</td>\n",
       "      <td>175</td>\n",
       "      <td>68</td>\n",
       "      <td>Brazil</td>\n",
       "      <td>Paris Saint-Germain</td>\n",
       "      <td>...</td>\n",
       "      <td>64+3</td>\n",
       "      <td>59+3</td>\n",
       "      <td>59+3</td>\n",
       "      <td>59+3</td>\n",
       "      <td>64+3</td>\n",
       "      <td>60+3</td>\n",
       "      <td>47+3</td>\n",
       "      <td>47+3</td>\n",
       "      <td>47+3</td>\n",
       "      <td>60+3</td>\n",
       "    </tr>\n",
       "  </tbody>\n",
       "</table>\n",
       "<p>3 rows × 104 columns</p>\n",
       "</div>"
      ],
      "text/plain": [
       "   sofifa_id                                         player_url  \\\n",
       "0      20801  https://sofifa.com/player/20801/c-ronaldo-dos-...   \n",
       "1     158023  https://sofifa.com/player/158023/lionel-messi/...   \n",
       "2     190871  https://sofifa.com/player/190871/neymar-da-sil...   \n",
       "\n",
       "          short_name                            long_name  age         dob  \\\n",
       "0  Cristiano Ronaldo  Cristiano Ronaldo dos Santos Aveiro   32  1985-02-05   \n",
       "1           L. Messi       Lionel Andrés Messi Cuccittini   30  1987-06-24   \n",
       "2             Neymar        Neymar da Silva Santos Junior   25  1992-02-05   \n",
       "\n",
       "   height_cm  weight_kg nationality                 club  ...   lwb   ldm  \\\n",
       "0        185         80    Portugal          Real Madrid  ...  66+3  62+3   \n",
       "1        170         72   Argentina         FC Barcelona  ...  62+3  59+3   \n",
       "2        175         68      Brazil  Paris Saint-Germain  ...  64+3  59+3   \n",
       "\n",
       "    cdm   rdm   rwb    lb   lcb    cb   rcb    rb  \n",
       "0  62+3  62+3  66+3  62+3  53+3  53+3  53+3  62+3  \n",
       "1  59+3  59+3  62+3  58+3  46+3  46+3  46+3  58+3  \n",
       "2  59+3  59+3  64+3  60+3  47+3  47+3  47+3  60+3  \n",
       "\n",
       "[3 rows x 104 columns]"
      ]
     },
     "execution_count": 3,
     "metadata": {},
     "output_type": "execute_result"
    }
   ],
   "source": [
    "players.head(3)"
   ]
  },
  {
   "cell_type": "code",
   "execution_count": 4,
   "metadata": {},
   "outputs": [
    {
     "data": {
      "text/plain": [
       "(17592, 104)"
      ]
     },
     "execution_count": 4,
     "metadata": {},
     "output_type": "execute_result"
    }
   ],
   "source": [
    "players.shape"
   ]
  },
  {
   "cell_type": "markdown",
   "metadata": {},
   "source": [
    "Here we see the raw data from the World Cup Matches dataset:"
   ]
  },
  {
   "cell_type": "code",
   "execution_count": 5,
   "metadata": {
    "scrolled": false
   },
   "outputs": [
    {
     "data": {
      "text/html": [
       "<div>\n",
       "<style scoped>\n",
       "    .dataframe tbody tr th:only-of-type {\n",
       "        vertical-align: middle;\n",
       "    }\n",
       "\n",
       "    .dataframe tbody tr th {\n",
       "        vertical-align: top;\n",
       "    }\n",
       "\n",
       "    .dataframe thead th {\n",
       "        text-align: right;\n",
       "    }\n",
       "</style>\n",
       "<table border=\"1\" class=\"dataframe\">\n",
       "  <thead>\n",
       "    <tr style=\"text-align: right;\">\n",
       "      <th></th>\n",
       "      <th>Year</th>\n",
       "      <th>Datetime</th>\n",
       "      <th>Stage</th>\n",
       "      <th>Stadium</th>\n",
       "      <th>City</th>\n",
       "      <th>Home Team Name</th>\n",
       "      <th>Home Team Goals</th>\n",
       "      <th>Away Team Goals</th>\n",
       "      <th>Away Team Name</th>\n",
       "      <th>Win conditions</th>\n",
       "      <th>Attendance</th>\n",
       "      <th>Half-time Home Goals</th>\n",
       "      <th>Half-time Away Goals</th>\n",
       "      <th>Referee</th>\n",
       "      <th>Assistant 1</th>\n",
       "      <th>Assistant 2</th>\n",
       "      <th>RoundID</th>\n",
       "      <th>MatchID</th>\n",
       "      <th>Home Team Initials</th>\n",
       "      <th>Away Team Initials</th>\n",
       "    </tr>\n",
       "  </thead>\n",
       "  <tbody>\n",
       "    <tr>\n",
       "      <th>0</th>\n",
       "      <td>1930.0</td>\n",
       "      <td>13 Jul 1930 - 15:00</td>\n",
       "      <td>Group 1</td>\n",
       "      <td>Pocitos</td>\n",
       "      <td>Montevideo</td>\n",
       "      <td>France</td>\n",
       "      <td>4.0</td>\n",
       "      <td>1.0</td>\n",
       "      <td>Mexico</td>\n",
       "      <td></td>\n",
       "      <td>4444.0</td>\n",
       "      <td>3.0</td>\n",
       "      <td>0.0</td>\n",
       "      <td>LOMBARDI Domingo (URU)</td>\n",
       "      <td>CRISTOPHE Henry (BEL)</td>\n",
       "      <td>REGO Gilberto (BRA)</td>\n",
       "      <td>201.0</td>\n",
       "      <td>1096.0</td>\n",
       "      <td>FRA</td>\n",
       "      <td>MEX</td>\n",
       "    </tr>\n",
       "    <tr>\n",
       "      <th>1</th>\n",
       "      <td>1930.0</td>\n",
       "      <td>13 Jul 1930 - 15:00</td>\n",
       "      <td>Group 4</td>\n",
       "      <td>Parque Central</td>\n",
       "      <td>Montevideo</td>\n",
       "      <td>USA</td>\n",
       "      <td>3.0</td>\n",
       "      <td>0.0</td>\n",
       "      <td>Belgium</td>\n",
       "      <td></td>\n",
       "      <td>18346.0</td>\n",
       "      <td>2.0</td>\n",
       "      <td>0.0</td>\n",
       "      <td>MACIAS Jose (ARG)</td>\n",
       "      <td>MATEUCCI Francisco (URU)</td>\n",
       "      <td>WARNKEN Alberto (CHI)</td>\n",
       "      <td>201.0</td>\n",
       "      <td>1090.0</td>\n",
       "      <td>USA</td>\n",
       "      <td>BEL</td>\n",
       "    </tr>\n",
       "    <tr>\n",
       "      <th>2</th>\n",
       "      <td>1930.0</td>\n",
       "      <td>14 Jul 1930 - 12:45</td>\n",
       "      <td>Group 2</td>\n",
       "      <td>Parque Central</td>\n",
       "      <td>Montevideo</td>\n",
       "      <td>Yugoslavia</td>\n",
       "      <td>2.0</td>\n",
       "      <td>1.0</td>\n",
       "      <td>Brazil</td>\n",
       "      <td></td>\n",
       "      <td>24059.0</td>\n",
       "      <td>2.0</td>\n",
       "      <td>0.0</td>\n",
       "      <td>TEJADA Anibal (URU)</td>\n",
       "      <td>VALLARINO Ricardo (URU)</td>\n",
       "      <td>BALWAY Thomas (FRA)</td>\n",
       "      <td>201.0</td>\n",
       "      <td>1093.0</td>\n",
       "      <td>YUG</td>\n",
       "      <td>BRA</td>\n",
       "    </tr>\n",
       "  </tbody>\n",
       "</table>\n",
       "</div>"
      ],
      "text/plain": [
       "     Year              Datetime    Stage         Stadium         City  \\\n",
       "0  1930.0  13 Jul 1930 - 15:00   Group 1         Pocitos  Montevideo    \n",
       "1  1930.0  13 Jul 1930 - 15:00   Group 4  Parque Central  Montevideo    \n",
       "2  1930.0  14 Jul 1930 - 12:45   Group 2  Parque Central  Montevideo    \n",
       "\n",
       "  Home Team Name  Home Team Goals  Away Team Goals Away Team Name  \\\n",
       "0         France              4.0              1.0         Mexico   \n",
       "1            USA              3.0              0.0        Belgium   \n",
       "2     Yugoslavia              2.0              1.0         Brazil   \n",
       "\n",
       "  Win conditions  Attendance  Half-time Home Goals  Half-time Away Goals  \\\n",
       "0                     4444.0                   3.0                   0.0   \n",
       "1                    18346.0                   2.0                   0.0   \n",
       "2                    24059.0                   2.0                   0.0   \n",
       "\n",
       "                  Referee               Assistant 1            Assistant 2  \\\n",
       "0  LOMBARDI Domingo (URU)     CRISTOPHE Henry (BEL)    REGO Gilberto (BRA)   \n",
       "1       MACIAS Jose (ARG)  MATEUCCI Francisco (URU)  WARNKEN Alberto (CHI)   \n",
       "2     TEJADA Anibal (URU)   VALLARINO Ricardo (URU)    BALWAY Thomas (FRA)   \n",
       "\n",
       "   RoundID  MatchID Home Team Initials Away Team Initials  \n",
       "0    201.0   1096.0                FRA                MEX  \n",
       "1    201.0   1090.0                USA                BEL  \n",
       "2    201.0   1093.0                YUG                BRA  "
      ]
     },
     "execution_count": 5,
     "metadata": {},
     "output_type": "execute_result"
    }
   ],
   "source": [
    "wc_matches.head(3)"
   ]
  },
  {
   "cell_type": "code",
   "execution_count": 6,
   "metadata": {},
   "outputs": [
    {
     "data": {
      "text/plain": [
       "(4572, 20)"
      ]
     },
     "execution_count": 6,
     "metadata": {},
     "output_type": "execute_result"
    }
   ],
   "source": [
    "wc_matches.shape"
   ]
  },
  {
   "cell_type": "markdown",
   "metadata": {},
   "source": [
    "When checking the number of nulls for each column we can see that the dataset did not assign each player their specific position. However, this is okay due to their being two columns labeled 'nation_position' and 'team_position' which contain the information about the roles each player has on the team. For the majority of the teams participating in the 2014 World Cup, the players with the column 'nation_position' filled are the players that are called up to international duty. Some teams however lack this sort of information and thus used the positions of the 'team_position' column. The teams affected by this are all teams that are lower overall ratings as well as having lower international reputation. For this reason, we believe that this method will not cause any problems with our model or simulations. "
   ]
  },
  {
   "cell_type": "code",
   "execution_count": 7,
   "metadata": {
    "scrolled": false
   },
   "outputs": [
    {
     "data": {
      "text/plain": [
       "ls     1979\n",
       "st     1979\n",
       "rs     1979\n",
       "lw     1979\n",
       "lf     1979\n",
       "cf     1979\n",
       "rf     1979\n",
       "rw     1979\n",
       "lam    1979\n",
       "cam    1979\n",
       "ram    1979\n",
       "lm     1979\n",
       "lcm    1979\n",
       "cm     1979\n",
       "rcm    1979\n",
       "rm     1979\n",
       "lwb    1979\n",
       "ldm    1979\n",
       "cdm    1979\n",
       "rdm    1979\n",
       "rwb    1979\n",
       "lb     1979\n",
       "lcb    1979\n",
       "cb     1979\n",
       "rcb    1979\n",
       "rb     1979\n",
       "dtype: int64"
      ]
     },
     "execution_count": 7,
     "metadata": {},
     "output_type": "execute_result"
    }
   ],
   "source": [
    "players.isnull().sum()[-26:]"
   ]
  },
  {
   "cell_type": "markdown",
   "metadata": {},
   "source": [
    "In the World Cup Matches we have many nulls for each column, however upon investigating this further we can see that all the nulls are in the same rows. The rows that matter to this project don't have any missing information. "
   ]
  },
  {
   "cell_type": "code",
   "execution_count": 8,
   "metadata": {},
   "outputs": [
    {
     "data": {
      "text/plain": [
       "Year                    3720\n",
       "Datetime                3720\n",
       "Stage                   3720\n",
       "Stadium                 3720\n",
       "City                    3720\n",
       "Home Team Name          3720\n",
       "Home Team Goals         3720\n",
       "Away Team Goals         3720\n",
       "Away Team Name          3720\n",
       "Win conditions          3720\n",
       "Attendance              3722\n",
       "Half-time Home Goals    3720\n",
       "Half-time Away Goals    3720\n",
       "Referee                 3720\n",
       "Assistant 1             3720\n",
       "Assistant 2             3720\n",
       "RoundID                 3720\n",
       "MatchID                 3720\n",
       "Home Team Initials      3720\n",
       "Away Team Initials      3720\n",
       "dtype: int64"
      ]
     },
     "execution_count": 8,
     "metadata": {},
     "output_type": "execute_result"
    }
   ],
   "source": [
    "wc_matches.isnull().sum()"
   ]
  },
  {
   "cell_type": "code",
   "execution_count": 9,
   "metadata": {
    "scrolled": true
   },
   "outputs": [
    {
     "data": {
      "text/html": [
       "<div>\n",
       "<style scoped>\n",
       "    .dataframe tbody tr th:only-of-type {\n",
       "        vertical-align: middle;\n",
       "    }\n",
       "\n",
       "    .dataframe tbody tr th {\n",
       "        vertical-align: top;\n",
       "    }\n",
       "\n",
       "    .dataframe thead th {\n",
       "        text-align: right;\n",
       "    }\n",
       "</style>\n",
       "<table border=\"1\" class=\"dataframe\">\n",
       "  <thead>\n",
       "    <tr style=\"text-align: right;\">\n",
       "      <th></th>\n",
       "      <th>Year</th>\n",
       "      <th>Datetime</th>\n",
       "      <th>Stage</th>\n",
       "      <th>Stadium</th>\n",
       "      <th>City</th>\n",
       "      <th>Home Team Name</th>\n",
       "      <th>Home Team Goals</th>\n",
       "      <th>Away Team Goals</th>\n",
       "      <th>Away Team Name</th>\n",
       "      <th>Win conditions</th>\n",
       "      <th>Attendance</th>\n",
       "      <th>Half-time Home Goals</th>\n",
       "      <th>Half-time Away Goals</th>\n",
       "      <th>Referee</th>\n",
       "      <th>Assistant 1</th>\n",
       "      <th>Assistant 2</th>\n",
       "      <th>RoundID</th>\n",
       "      <th>MatchID</th>\n",
       "      <th>Home Team Initials</th>\n",
       "      <th>Away Team Initials</th>\n",
       "    </tr>\n",
       "  </thead>\n",
       "  <tbody>\n",
       "    <tr>\n",
       "      <th>852</th>\n",
       "      <td>NaN</td>\n",
       "      <td>NaN</td>\n",
       "      <td>NaN</td>\n",
       "      <td>NaN</td>\n",
       "      <td>NaN</td>\n",
       "      <td>NaN</td>\n",
       "      <td>NaN</td>\n",
       "      <td>NaN</td>\n",
       "      <td>NaN</td>\n",
       "      <td>NaN</td>\n",
       "      <td>NaN</td>\n",
       "      <td>NaN</td>\n",
       "      <td>NaN</td>\n",
       "      <td>NaN</td>\n",
       "      <td>NaN</td>\n",
       "      <td>NaN</td>\n",
       "      <td>NaN</td>\n",
       "      <td>NaN</td>\n",
       "      <td>NaN</td>\n",
       "      <td>NaN</td>\n",
       "    </tr>\n",
       "    <tr>\n",
       "      <th>853</th>\n",
       "      <td>NaN</td>\n",
       "      <td>NaN</td>\n",
       "      <td>NaN</td>\n",
       "      <td>NaN</td>\n",
       "      <td>NaN</td>\n",
       "      <td>NaN</td>\n",
       "      <td>NaN</td>\n",
       "      <td>NaN</td>\n",
       "      <td>NaN</td>\n",
       "      <td>NaN</td>\n",
       "      <td>NaN</td>\n",
       "      <td>NaN</td>\n",
       "      <td>NaN</td>\n",
       "      <td>NaN</td>\n",
       "      <td>NaN</td>\n",
       "      <td>NaN</td>\n",
       "      <td>NaN</td>\n",
       "      <td>NaN</td>\n",
       "      <td>NaN</td>\n",
       "      <td>NaN</td>\n",
       "    </tr>\n",
       "    <tr>\n",
       "      <th>854</th>\n",
       "      <td>NaN</td>\n",
       "      <td>NaN</td>\n",
       "      <td>NaN</td>\n",
       "      <td>NaN</td>\n",
       "      <td>NaN</td>\n",
       "      <td>NaN</td>\n",
       "      <td>NaN</td>\n",
       "      <td>NaN</td>\n",
       "      <td>NaN</td>\n",
       "      <td>NaN</td>\n",
       "      <td>NaN</td>\n",
       "      <td>NaN</td>\n",
       "      <td>NaN</td>\n",
       "      <td>NaN</td>\n",
       "      <td>NaN</td>\n",
       "      <td>NaN</td>\n",
       "      <td>NaN</td>\n",
       "      <td>NaN</td>\n",
       "      <td>NaN</td>\n",
       "      <td>NaN</td>\n",
       "    </tr>\n",
       "  </tbody>\n",
       "</table>\n",
       "</div>"
      ],
      "text/plain": [
       "     Year Datetime Stage Stadium City Home Team Name  Home Team Goals  \\\n",
       "852   NaN      NaN   NaN     NaN  NaN            NaN              NaN   \n",
       "853   NaN      NaN   NaN     NaN  NaN            NaN              NaN   \n",
       "854   NaN      NaN   NaN     NaN  NaN            NaN              NaN   \n",
       "\n",
       "     Away Team Goals Away Team Name Win conditions  Attendance  \\\n",
       "852              NaN            NaN            NaN         NaN   \n",
       "853              NaN            NaN            NaN         NaN   \n",
       "854              NaN            NaN            NaN         NaN   \n",
       "\n",
       "     Half-time Home Goals  Half-time Away Goals Referee Assistant 1  \\\n",
       "852                   NaN                   NaN     NaN         NaN   \n",
       "853                   NaN                   NaN     NaN         NaN   \n",
       "854                   NaN                   NaN     NaN         NaN   \n",
       "\n",
       "    Assistant 2  RoundID  MatchID Home Team Initials Away Team Initials  \n",
       "852         NaN      NaN      NaN                NaN                NaN  \n",
       "853         NaN      NaN      NaN                NaN                NaN  \n",
       "854         NaN      NaN      NaN                NaN                NaN  "
      ]
     },
     "execution_count": 9,
     "metadata": {},
     "output_type": "execute_result"
    }
   ],
   "source": [
    "wc_matches[wc_matches['Year'].isnull() == True].head(3)"
   ]
  },
  {
   "cell_type": "code",
   "execution_count": 10,
   "metadata": {},
   "outputs": [
    {
     "data": {
      "text/plain": [
       "(3720, 20)"
      ]
     },
     "execution_count": 10,
     "metadata": {},
     "output_type": "execute_result"
    }
   ],
   "source": [
    "wc_matches[wc_matches['Year'].isnull() == True].shape"
   ]
  },
  {
   "cell_type": "markdown",
   "metadata": {},
   "source": [
    "### Dropping the Null Values"
   ]
  },
  {
   "cell_type": "code",
   "execution_count": 11,
   "metadata": {},
   "outputs": [],
   "source": [
    "rows_drop = list(wc_matches[wc_matches['Year'].isnull() == True].index)"
   ]
  },
  {
   "cell_type": "code",
   "execution_count": 12,
   "metadata": {
    "scrolled": true
   },
   "outputs": [],
   "source": [
    "wc_matches = wc_matches.drop(rows_drop)"
   ]
  },
  {
   "cell_type": "code",
   "execution_count": 13,
   "metadata": {},
   "outputs": [
    {
     "data": {
      "text/plain": [
       "Year                    0\n",
       "Datetime                0\n",
       "Stage                   0\n",
       "Stadium                 0\n",
       "City                    0\n",
       "Home Team Name          0\n",
       "Home Team Goals         0\n",
       "Away Team Goals         0\n",
       "Away Team Name          0\n",
       "Win conditions          0\n",
       "Attendance              2\n",
       "Half-time Home Goals    0\n",
       "Half-time Away Goals    0\n",
       "Referee                 0\n",
       "Assistant 1             0\n",
       "Assistant 2             0\n",
       "RoundID                 0\n",
       "MatchID                 0\n",
       "Home Team Initials      0\n",
       "Away Team Initials      0\n",
       "dtype: int64"
      ]
     },
     "execution_count": 13,
     "metadata": {},
     "output_type": "execute_result"
    }
   ],
   "source": [
    "wc_matches.isnull().sum()"
   ]
  },
  {
   "cell_type": "markdown",
   "metadata": {},
   "source": [
    "After removing the null values we can see that there are still two values that remain as nulls. Fortunately this column is irrelevant for the purposes of this project and thus will not need to be investigated further."
   ]
  },
  {
   "cell_type": "markdown",
   "metadata": {},
   "source": [
    "### Checking Team Names"
   ]
  },
  {
   "cell_type": "markdown",
   "metadata": {},
   "source": [
    "When looking at the two datasets, the common element is the name of the country and thus we have to make sure that the team names are consistent. The World Cup Matches contains matches since the 1930's and contains slightly different names. (i.e. East and West Germany vs. Germany)"
   ]
  },
  {
   "cell_type": "code",
   "execution_count": 14,
   "metadata": {},
   "outputs": [],
   "source": [
    "wc_14_qualified = ['Brazil','Cameroon', 'Croatia','Mexico', 'Australia', 'Chile', 'Holland', 'Spain', 'Colombia',\n",
    "'Greece', 'Japan', 'Ivory Coast', 'Costa Rica', 'England', 'Italy', 'Uruguay', 'Ecuador', 'France', 'Honduras',\n",
    "'Switzerland', 'Argentina', 'Bosnia-Herzegovina', 'Iran', 'Nigeria', 'Germany', 'Ghana', 'Portugal','USA',\n",
    "'Algeria','Belgium', 'South Korea', 'Russia']"
   ]
  },
  {
   "cell_type": "code",
   "execution_count": 15,
   "metadata": {},
   "outputs": [
    {
     "data": {
      "text/plain": [
       "array(['Turkmenistan', 'St Lucia', 'Sudan', 'Vietnam', 'Afghanistan',\n",
       "       'Sri Lanka', 'Kyrgyzstan', 'Brunei Darussalam', 'Hong Kong',\n",
       "       'San Marino'], dtype=object)"
      ]
     },
     "execution_count": 15,
     "metadata": {},
     "output_type": "execute_result"
    }
   ],
   "source": [
    "players['nationality'].unique()[-10:]"
   ]
  },
  {
   "cell_type": "code",
   "execution_count": 16,
   "metadata": {},
   "outputs": [],
   "source": [
    "players = players.replace('Bosnia Herzegovina', 'Bosnia-Herzegovina')\n",
    "players = players.replace('IR Iran', 'Iran')\n",
    "players = players.replace(\"C�te d'Ivoire\", 'Ivory Coast')\n",
    "players = players.replace('Netherlands', 'Holland')\n",
    "players = players.replace('Korea Republic', 'South Korea')\n",
    "players = players.replace('Germany FR', 'Germany')\n",
    "players = players.replace('Soviet Union', 'Russia')\n",
    "players = players.replace('German DR', 'Germany')\n",
    "players = players.replace('United States', 'USA')"
   ]
  },
  {
   "cell_type": "markdown",
   "metadata": {},
   "source": [
    "### Selecting the National Team Players"
   ]
  },
  {
   "cell_type": "markdown",
   "metadata": {},
   "source": [
    "We had to find the countries that had the national call-ups included in the original dataset versus the countries who did not have the international call-up information available."
   ]
  },
  {
   "cell_type": "code",
   "execution_count": 17,
   "metadata": {},
   "outputs": [],
   "source": [
    "int_players = list(players[(players['nation_position'].isnull() != True)]['nationality'].unique())\n",
    "no_int_players = list(set(wc_14_qualified) - set(int_players))\n",
    "int_players = list(set(wc_14_qualified) - set(no_int_players))"
   ]
  },
  {
   "cell_type": "code",
   "execution_count": 18,
   "metadata": {},
   "outputs": [
    {
     "name": "stdout",
     "output_type": "stream",
     "text": [
      "['Spain', 'France', 'Cameroon', 'Belgium', 'Holland', 'Mexico', 'Colombia', 'Greece', 'Chile', 'England', 'Switzerland', 'Brazil', 'Uruguay', 'Italy', 'Australia', 'Portugal', 'Ivory Coast', 'USA', 'Russia', 'Germany', 'Ecuador', 'Argentina'] ['Iran', 'Nigeria', 'Croatia', 'Japan', 'South Korea', 'Bosnia-Herzegovina', 'Honduras', 'Costa Rica', 'Ghana', 'Algeria']\n"
     ]
    }
   ],
   "source": [
    "print(int_players, no_int_players)"
   ]
  },
  {
   "cell_type": "code",
   "execution_count": 19,
   "metadata": {},
   "outputs": [],
   "source": [
    "drop = []\n",
    "for country in int_players:\n",
    "    drop += (list(players[(players['nationality'] == country) & (players['nation_position'].isnull() == True)].index.astype('int')))\n"
   ]
  },
  {
   "cell_type": "code",
   "execution_count": 20,
   "metadata": {},
   "outputs": [],
   "source": [
    "national_team_players = players.drop(drop)\n",
    "national_team_players = national_team_players.reset_index(drop= True)"
   ]
  },
  {
   "cell_type": "code",
   "execution_count": 21,
   "metadata": {},
   "outputs": [],
   "source": [
    "for i in range(len(national_team_players)):\n",
    "    if national_team_players['nationality'][i] in wc_14_qualified:\n",
    "        pass\n",
    "    else:\n",
    "        national_team_players = national_team_players.drop(index= i)"
   ]
  },
  {
   "cell_type": "code",
   "execution_count": 22,
   "metadata": {},
   "outputs": [
    {
     "data": {
      "text/plain": [
       "set()"
      ]
     },
     "execution_count": 22,
     "metadata": {},
     "output_type": "execute_result"
    }
   ],
   "source": [
    "set(wc_14_qualified) - set(national_team_players['nationality'].unique())"
   ]
  },
  {
   "cell_type": "code",
   "execution_count": 23,
   "metadata": {},
   "outputs": [
    {
     "data": {
      "text/plain": [
       "(1810, 104)"
      ]
     },
     "execution_count": 23,
     "metadata": {},
     "output_type": "execute_result"
    }
   ],
   "source": [
    "national_team_players.shape"
   ]
  },
  {
   "cell_type": "code",
   "execution_count": 24,
   "metadata": {},
   "outputs": [
    {
     "data": {
      "text/plain": [
       "(17592, 104)"
      ]
     },
     "execution_count": 24,
     "metadata": {},
     "output_type": "execute_result"
    }
   ],
   "source": [
    "players.shape"
   ]
  },
  {
   "cell_type": "markdown",
   "metadata": {},
   "source": [
    "Now we have selected only the teams eligible for the 2014 World Cup as well the players called up to those teams. (Except for the teams that did not have that information available, however this is doesn't effect the final outcome as the statistics for each team will be an average of the player statistics. The teams with no internaitonal call-up information are have all lower rated players and all have similar ratings.)"
   ]
  },
  {
   "cell_type": "markdown",
   "metadata": {},
   "source": [
    "### Creating a DataFrame with the 2014 World Cup Eligible Team Stats"
   ]
  },
  {
   "cell_type": "code",
   "execution_count": 25,
   "metadata": {},
   "outputs": [],
   "source": [
    "national_team_players = national_team_players.reset_index(drop=True)"
   ]
  },
  {
   "cell_type": "code",
   "execution_count": 26,
   "metadata": {},
   "outputs": [],
   "source": [
    "national_team_stats = national_team_players.groupby('nationality').mean()"
   ]
  },
  {
   "cell_type": "code",
   "execution_count": 27,
   "metadata": {
    "scrolled": true
   },
   "outputs": [
    {
     "data": {
      "text/html": [
       "<div>\n",
       "<style scoped>\n",
       "    .dataframe tbody tr th:only-of-type {\n",
       "        vertical-align: middle;\n",
       "    }\n",
       "\n",
       "    .dataframe tbody tr th {\n",
       "        vertical-align: top;\n",
       "    }\n",
       "\n",
       "    .dataframe thead th {\n",
       "        text-align: right;\n",
       "    }\n",
       "</style>\n",
       "<table border=\"1\" class=\"dataframe\">\n",
       "  <thead>\n",
       "    <tr style=\"text-align: right;\">\n",
       "      <th></th>\n",
       "      <th>sofifa_id</th>\n",
       "      <th>age</th>\n",
       "      <th>height_cm</th>\n",
       "      <th>weight_kg</th>\n",
       "      <th>overall</th>\n",
       "      <th>potential</th>\n",
       "      <th>value_eur</th>\n",
       "      <th>wage_eur</th>\n",
       "      <th>international_reputation</th>\n",
       "      <th>weak_foot</th>\n",
       "      <th>...</th>\n",
       "      <th>passing</th>\n",
       "      <th>dribbling</th>\n",
       "      <th>defending</th>\n",
       "      <th>physic</th>\n",
       "      <th>gk_diving</th>\n",
       "      <th>gk_handling</th>\n",
       "      <th>gk_kicking</th>\n",
       "      <th>gk_reflexes</th>\n",
       "      <th>gk_speed</th>\n",
       "      <th>gk_positioning</th>\n",
       "    </tr>\n",
       "    <tr>\n",
       "      <th>nationality</th>\n",
       "      <th></th>\n",
       "      <th></th>\n",
       "      <th></th>\n",
       "      <th></th>\n",
       "      <th></th>\n",
       "      <th></th>\n",
       "      <th></th>\n",
       "      <th></th>\n",
       "      <th></th>\n",
       "      <th></th>\n",
       "      <th></th>\n",
       "      <th></th>\n",
       "      <th></th>\n",
       "      <th></th>\n",
       "      <th></th>\n",
       "      <th></th>\n",
       "      <th></th>\n",
       "      <th></th>\n",
       "      <th></th>\n",
       "      <th></th>\n",
       "      <th></th>\n",
       "    </tr>\n",
       "  </thead>\n",
       "  <tbody>\n",
       "    <tr>\n",
       "      <th>Algeria</th>\n",
       "      <td>202145.535714</td>\n",
       "      <td>26.571429</td>\n",
       "      <td>181.678571</td>\n",
       "      <td>74.892857</td>\n",
       "      <td>70.821429</td>\n",
       "      <td>73.571429</td>\n",
       "      <td>4.766250e+06</td>\n",
       "      <td>17892.857143</td>\n",
       "      <td>1.321429</td>\n",
       "      <td>3.142857</td>\n",
       "      <td>...</td>\n",
       "      <td>64.150943</td>\n",
       "      <td>68.264151</td>\n",
       "      <td>51.245283</td>\n",
       "      <td>66.830189</td>\n",
       "      <td>67.333333</td>\n",
       "      <td>61.666667</td>\n",
       "      <td>62.000000</td>\n",
       "      <td>73.333333</td>\n",
       "      <td>45.333333</td>\n",
       "      <td>62.666667</td>\n",
       "    </tr>\n",
       "    <tr>\n",
       "      <th>Argentina</th>\n",
       "      <td>189708.652174</td>\n",
       "      <td>27.478261</td>\n",
       "      <td>180.043478</td>\n",
       "      <td>75.347826</td>\n",
       "      <td>81.565217</td>\n",
       "      <td>83.739130</td>\n",
       "      <td>2.604348e+07</td>\n",
       "      <td>106913.043478</td>\n",
       "      <td>2.608696</td>\n",
       "      <td>3.434783</td>\n",
       "      <td>...</td>\n",
       "      <td>73.650000</td>\n",
       "      <td>77.150000</td>\n",
       "      <td>51.650000</td>\n",
       "      <td>70.000000</td>\n",
       "      <td>80.000000</td>\n",
       "      <td>77.000000</td>\n",
       "      <td>75.666667</td>\n",
       "      <td>82.666667</td>\n",
       "      <td>49.333333</td>\n",
       "      <td>79.333333</td>\n",
       "    </tr>\n",
       "    <tr>\n",
       "      <th>Australia</th>\n",
       "      <td>191250.260870</td>\n",
       "      <td>26.434783</td>\n",
       "      <td>183.260870</td>\n",
       "      <td>77.695652</td>\n",
       "      <td>71.652174</td>\n",
       "      <td>74.608696</td>\n",
       "      <td>3.246739e+06</td>\n",
       "      <td>15565.217391</td>\n",
       "      <td>1.173913</td>\n",
       "      <td>3.347826</td>\n",
       "      <td>...</td>\n",
       "      <td>62.200000</td>\n",
       "      <td>64.950000</td>\n",
       "      <td>57.500000</td>\n",
       "      <td>72.300000</td>\n",
       "      <td>74.333333</td>\n",
       "      <td>71.666667</td>\n",
       "      <td>68.333333</td>\n",
       "      <td>75.333333</td>\n",
       "      <td>50.666667</td>\n",
       "      <td>69.666667</td>\n",
       "    </tr>\n",
       "  </tbody>\n",
       "</table>\n",
       "<p>3 rows × 27 columns</p>\n",
       "</div>"
      ],
      "text/plain": [
       "                 sofifa_id        age   height_cm  weight_kg    overall  \\\n",
       "nationality                                                               \n",
       "Algeria      202145.535714  26.571429  181.678571  74.892857  70.821429   \n",
       "Argentina    189708.652174  27.478261  180.043478  75.347826  81.565217   \n",
       "Australia    191250.260870  26.434783  183.260870  77.695652  71.652174   \n",
       "\n",
       "             potential     value_eur       wage_eur  international_reputation  \\\n",
       "nationality                                                                     \n",
       "Algeria      73.571429  4.766250e+06   17892.857143                  1.321429   \n",
       "Argentina    83.739130  2.604348e+07  106913.043478                  2.608696   \n",
       "Australia    74.608696  3.246739e+06   15565.217391                  1.173913   \n",
       "\n",
       "             weak_foot  ...    passing  dribbling  defending     physic  \\\n",
       "nationality             ...                                               \n",
       "Algeria       3.142857  ...  64.150943  68.264151  51.245283  66.830189   \n",
       "Argentina     3.434783  ...  73.650000  77.150000  51.650000  70.000000   \n",
       "Australia     3.347826  ...  62.200000  64.950000  57.500000  72.300000   \n",
       "\n",
       "             gk_diving  gk_handling  gk_kicking  gk_reflexes   gk_speed  \\\n",
       "nationality                                                               \n",
       "Algeria      67.333333    61.666667   62.000000    73.333333  45.333333   \n",
       "Argentina    80.000000    77.000000   75.666667    82.666667  49.333333   \n",
       "Australia    74.333333    71.666667   68.333333    75.333333  50.666667   \n",
       "\n",
       "             gk_positioning  \n",
       "nationality                  \n",
       "Algeria           62.666667  \n",
       "Argentina         79.333333  \n",
       "Australia         69.666667  \n",
       "\n",
       "[3 rows x 27 columns]"
      ]
     },
     "execution_count": 27,
     "metadata": {},
     "output_type": "execute_result"
    }
   ],
   "source": [
    "national_team_stats.head(3)"
   ]
  },
  {
   "cell_type": "markdown",
   "metadata": {},
   "source": [
    "### World Cup Matches Cleaning"
   ]
  },
  {
   "cell_type": "code",
   "execution_count": 60,
   "metadata": {},
   "outputs": [],
   "source": [
    "wc_matches = wc_matches.drop_duplicates().reset_index(drop= True)\n",
    "\n",
    "wc_matches = wc_matches.replace('Germany FR','Germany')\n",
    "\n",
    "wc14_matches = wc_matches[wc_matches['Year'] == 2014.0]\n",
    "\n",
    "wc14_matches = wc14_matches.reset_index(drop= True)"
   ]
  },
  {
   "cell_type": "markdown",
   "metadata": {},
   "source": [
    "## EDA"
   ]
  },
  {
   "cell_type": "markdown",
   "metadata": {},
   "source": [
    "### Visualizing the Top Teams"
   ]
  },
  {
   "cell_type": "code",
   "execution_count": 28,
   "metadata": {},
   "outputs": [],
   "source": [
    "avg_overall = national_team_stats['overall'].sort_values(ascending= False)\n",
    "avg_potential = national_team_stats['potential'].sort_values(ascending= False)\n",
    "avg_age = national_team_stats['age'].sort_values(ascending= False)\n",
    "avg_inter_rep = national_team_stats['international_reputation'].sort_values(ascending= False)\n",
    "avg_value = national_team_stats['value_eur'].sort_values(ascending= False)\n",
    "avg_wage = national_team_stats['wage_eur'].sort_values(ascending= False)"
   ]
  },
  {
   "cell_type": "code",
   "execution_count": 29,
   "metadata": {
    "scrolled": true
   },
   "outputs": [
    {
     "data": {
      "image/png": "[encoded data removed]",
      "text/plain": [
       "<Figure size 432x288 with 1 Axes>"
      ]
     },
     "metadata": {
      "needs_background": "light"
     },
     "output_type": "display_data"
    }
   ],
   "source": [
    "ax = sns.barplot(avg_overall.index[:5],\n",
    "                 avg_overall.head(),\n",
    "                 color = 'dodgerblue'\n",
    "                )\n",
    "\n",
    "ax.set_ylim(75,90)\n",
    "\n",
    "ax.set_title('Average Overall Stats')\n",
    "\n",
    "for p in ax.patches:\n",
    "    ax.annotate(format(p.get_height(), '.2f'),\n",
    "                (p.get_x() + p.get_width() / 2., p.get_height()),\n",
    "                ha = 'center', va = 'center', xytext = (0, 10),\n",
    "                textcoords = 'offset points')\n",
    "    ## Adapted from https://github.com/mwaskom/seaborn/issues/1582"
   ]
  },
  {
   "cell_type": "code",
   "execution_count": 30,
   "metadata": {},
   "outputs": [
    {
     "data": {
      "image/png": "[encoded data removed]",
      "text/plain": [
       "<Figure size 432x288 with 1 Axes>"
      ]
     },
     "metadata": {
      "needs_background": "light"
     },
     "output_type": "display_data"
    }
   ],
   "source": [
    "ax = sns.barplot(avg_potential.index[:5],\n",
    "                 avg_potential.head(),\n",
    "                 color = 'limegreen'\n",
    "                )\n",
    "\n",
    "ax.set_ylim(75,90)\n",
    "ax.set_title('Average Potential Stats')\n",
    "\n",
    "for p in ax.patches:\n",
    "    ax.annotate(format(p.get_height(), '.2f'),\n",
    "                (p.get_x() + p.get_width() / 2., p.get_height()),\n",
    "                ha = 'center', va = 'center', xytext = (0, 10),\n",
    "                textcoords = 'offset points')\n",
    "    ## Adapted from https://github.com/mwaskom/seaborn/issues/1582"
   ]
  },
  {
   "cell_type": "code",
   "execution_count": 31,
   "metadata": {},
   "outputs": [
    {
     "data": {
      "image/png": "[encoded data removed]",
      "text/plain": [
       "<Figure size 432x288 with 1 Axes>"
      ]
     },
     "metadata": {
      "needs_background": "light"
     },
     "output_type": "display_data"
    }
   ],
   "source": [
    "ax = sns.barplot(avg_age.index[:5],\n",
    "                 avg_age.head(),\n",
    "                 color = 'gray'\n",
    "                )\n",
    "\n",
    "ax.set_ylim(20,40)\n",
    "ax.set_title('Highest Average Age')\n",
    "\n",
    "for p in ax.patches:\n",
    "    ax.annotate(format(p.get_height(), '.2f'),\n",
    "                (p.get_x() + p.get_width() / 2., p.get_height()),\n",
    "                ha = 'center', va = 'center', xytext = (0, 10),\n",
    "                textcoords = 'offset points')\n",
    "    ## Adapted from https://github.com/mwaskom/seaborn/issues/1582"
   ]
  },
  {
   "cell_type": "code",
   "execution_count": 32,
   "metadata": {},
   "outputs": [
    {
     "data": {
      "image/png": "[encoded data removed]",
      "text/plain": [
       "<Figure size 432x288 with 1 Axes>"
      ]
     },
     "metadata": {
      "needs_background": "light"
     },
     "output_type": "display_data"
    }
   ],
   "source": [
    "ax = sns.barplot(avg_age.index[-5:],\n",
    "                 avg_age.tail(),\n",
    "                 color = 'lightgreen'\n",
    "                )\n",
    "\n",
    "ax.set_ylim(20,30)\n",
    "ax.set_title('Lowest Average Age')\n",
    "\n",
    "for p in ax.patches:\n",
    "    ax.annotate(format(p.get_height(), '.2f'),\n",
    "                (p.get_x() + p.get_width() / 2., p.get_height()),\n",
    "                ha = 'center', va = 'center', xytext = (0, 10),\n",
    "                textcoords = 'offset points')\n",
    "    ## Adapted from https://github.com/mwaskom/seaborn/issues/1582"
   ]
  },
  {
   "cell_type": "code",
   "execution_count": 33,
   "metadata": {},
   "outputs": [
    {
     "data": {
      "image/png": "[encoded data removed]",
      "text/plain": [
       "<Figure size 432x288 with 1 Axes>"
      ]
     },
     "metadata": {
      "needs_background": "light"
     },
     "output_type": "display_data"
    }
   ],
   "source": [
    "ax = sns.barplot(avg_inter_rep.index[:5],\n",
    "                 avg_inter_rep.head(),\n",
    "                 color = 'gold'\n",
    "                )\n",
    "\n",
    "ax.set_ylim(1.5,4)\n",
    "ax.set_title('Highest Average International Reputation')\n",
    "\n",
    "for p in ax.patches:\n",
    "    ax.annotate(format(p.get_height(), '.2f'),\n",
    "                (p.get_x() + p.get_width() / 2., p.get_height()),\n",
    "                ha = 'center', va = 'center', xytext = (0, 10),\n",
    "                textcoords = 'offset points')\n",
    "    ## Adapted from https://github.com/mwaskom/seaborn/issues/1582"
   ]
  },
  {
   "cell_type": "code",
   "execution_count": 34,
   "metadata": {
    "scrolled": false
   },
   "outputs": [
    {
     "data": {
      "image/png": "[encoded data removed]",
      "text/plain": [
       "<Figure size 432x288 with 1 Axes>"
      ]
     },
     "metadata": {
      "needs_background": "light"
     },
     "output_type": "display_data"
    }
   ],
   "source": [
    "ax = sns.barplot(avg_value.index[:5],\n",
    "                 avg_value.head(),\n",
    "                 color = 'gold'\n",
    "                )\n",
    "\n",
    "ax.set_ylim(20_500_000,40_000_000)\n",
    "ax.set_title('Highest Average Player Value')\n",
    "\n",
    "for p in ax.patches:\n",
    "    ax.annotate(format(round(p.get_height(),-6), '.2f'),\n",
    "                (p.get_x() + p.get_width() / 2., p.get_height()),\n",
    "                ha = 'center', va = 'center', xytext = (0, 10),\n",
    "                textcoords = 'offset points')\n",
    "    ## Adapted from https://github.com/mwaskom/seaborn/issues/1582"
   ]
  },
  {
   "cell_type": "code",
   "execution_count": 35,
   "metadata": {
    "scrolled": true
   },
   "outputs": [
    {
     "data": {
      "image/png": "[encoded data removed]",
      "text/plain": [
       "<Figure size 432x288 with 1 Axes>"
      ]
     },
     "metadata": {
      "needs_background": "light"
     },
     "output_type": "display_data"
    }
   ],
   "source": [
    "ax = sns.barplot(avg_wage.index[:5],\n",
    "                 avg_wage.head(),\n",
    "                 color = 'limegreen'\n",
    "                )\n",
    "\n",
    "ax.set_ylim(50_000,200_000)\n",
    "ax.set_title('Highest Average Player Wage')\n",
    "\n",
    "for p in ax.patches:\n",
    "    ax.annotate(format(round(p.get_height(), -3), '.2f'),\n",
    "                (p.get_x() + p.get_width() / 2., p.get_height()),\n",
    "                ha = 'center', va = 'center', xytext = (0, 10),\n",
    "                textcoords = 'offset points')\n",
    "    ## Adapted from https://github.com/mwaskom/seaborn/issues/1582"
   ]
  },
  {
   "cell_type": "markdown",
   "metadata": {},
   "source": [
    "### Assigning Average Player Statistics to Each Country"
   ]
  },
  {
   "cell_type": "code",
   "execution_count": 36,
   "metadata": {},
   "outputs": [],
   "source": [
    "forward_positions = ['ST','LS','RS','RW','LW','RF','LF','CF']\n",
    "midfielder_positions = ['CDM','LDM','RDM','CM','LCM','RCM','RM','LM','LAM','RAM','CAM']\n",
    "defender_positions = ['RWB','RB','LCB','CB','RCB','LB','LWB']\n",
    "gk_positions = ['GK']\n",
    "forwards = []\n",
    "midfielders = []\n",
    "defenders = []\n",
    "gk = []\n",
    "\n",
    "country_nat_pos = [\n",
    "    'Cameroon',\n",
    "    'Ecuador',\n",
    "    'Ghana',\n",
    "    'Greece',\n",
    "    'Honduras',\n",
    "    'Nigeria'\n",
    "]\n",
    "country_team_pos = list(set(wc_14_qualified) - set(country_nat_pos))\n",
    "\n",
    "\n",
    "\n",
    "for i in range(1,len(national_team_players)):\n",
    "    if national_team_players['team_position'][i] != False:\n",
    "        if national_team_players['team_position'][i] in forward_positions:\n",
    "            forwards.append(national_team_players.loc[i])\n",
    "        if national_team_players['team_position'][i] in midfielder_positions:\n",
    "            midfielders.append(national_team_players.loc[i])\n",
    "        if national_team_players['team_position'][i] in defender_positions:\n",
    "            defenders.append(national_team_players.loc[i])\n",
    "        if national_team_players['team_position'][i] in gk_positions:\n",
    "            gk.append(national_team_players.loc[i])"
   ]
  },
  {
   "cell_type": "markdown",
   "metadata": {},
   "source": [
    "### Finding Missing Positions for Each Country and Assigning Mean Statistics for Each Position"
   ]
  },
  {
   "cell_type": "code",
   "execution_count": 37,
   "metadata": {},
   "outputs": [
    {
     "name": "stdout",
     "output_type": "stream",
     "text": [
      "LS Cameroon\n",
      "RM Cameroon\n",
      "LM Cameroon\n",
      "RM Ecuador\n",
      "CDM Ecuador\n",
      "LS Ecuador\n",
      "RS Ecuador\n",
      "CAM Ecuador\n",
      "GK Greece\n",
      "ST Greece\n"
     ]
    }
   ],
   "source": [
    "for country in country_nat_pos:\n",
    "    for i in range(5):\n",
    "        if national_team_players[national_team_players['nationality'] == country].reset_index()['nation_position'][i] in forward_positions:\n",
    "            print(national_team_players[national_team_players['nationality'] == country].reset_index()['nation_position'][i],\n",
    "                  national_team_players[national_team_players['nationality'] == country].reset_index()['nationality'][i])\n",
    "        elif national_team_players[national_team_players['nationality'] == country].reset_index()['nation_position'][i] in midfielder_positions:\n",
    "            print(national_team_players[national_team_players['nationality'] == country].reset_index()['nation_position'][i],\n",
    "                  national_team_players[national_team_players['nationality'] == country].reset_index()['nationality'][i])\n",
    "        elif national_team_players[national_team_players['nationality'] == country].reset_index()['nation_position'][i] in gk_positions:\n",
    "            print(national_team_players[national_team_players['nationality'] == country].reset_index()['nation_position'][i],\n",
    "                  national_team_players[national_team_players['nationality'] == country].reset_index()['nationality'][i])"
   ]
  },
  {
   "cell_type": "markdown",
   "metadata": {},
   "source": [
    "These values will be imputed later in the pre-modeling phase."
   ]
  },
  {
   "cell_type": "code",
   "execution_count": 39,
   "metadata": {},
   "outputs": [],
   "source": [
    "forwards = pd.DataFrame(forwards)\n",
    "midfielders = pd.DataFrame(midfielders)\n",
    "defenders = pd.DataFrame(defenders)\n",
    "gk = pd.DataFrame(gk)"
   ]
  },
  {
   "cell_type": "code",
   "execution_count": 40,
   "metadata": {},
   "outputs": [],
   "source": [
    "avg_forward_stats = forwards.groupby('nationality').mean()\n",
    "avg_midfielders_stats = midfielders.groupby('nationality').mean()\n",
    "avg_defenders_stats = defenders.groupby('nationality').mean()\n",
    "avg_gk_stats = gk.groupby('nationality').mean()"
   ]
  },
  {
   "cell_type": "code",
   "execution_count": 41,
   "metadata": {},
   "outputs": [],
   "source": [
    "## Forwards\n",
    "avg_overall_forwards = avg_forward_stats['overall'].sort_values(ascending= False)\n",
    "avg_potential_forwards = avg_forward_stats['potential'].sort_values(ascending= False)\n",
    "avg_age_forwards = avg_forward_stats['age'].sort_values(ascending= False)\n",
    "avg_inter_rep_forwards = avg_forward_stats['international_reputation'].sort_values(ascending= False)\n",
    "avg_value_forwards = avg_forward_stats['value_eur'].sort_values(ascending= False)\n",
    "avg_wage_forwards = avg_forward_stats['wage_eur'].sort_values(ascending= False)\n",
    "## Midfielders\n",
    "avg_overall_midfielders = avg_midfielders_stats['overall'].sort_values(ascending= False)\n",
    "avg_potential_midfielders = avg_midfielders_stats['potential'].sort_values(ascending= False)\n",
    "avg_age_midfielders = avg_midfielders_stats['age'].sort_values(ascending= False)\n",
    "avg_inter_rep_midfielders = avg_midfielders_stats['international_reputation'].sort_values(ascending= False)\n",
    "avg_value_midfielders = avg_midfielders_stats['value_eur'].sort_values(ascending= False)\n",
    "avg_wage_midfielders = avg_midfielders_stats['wage_eur'].sort_values(ascending= False)\n",
    "## Defenders\n",
    "avg_overall_defenders = avg_defenders_stats['overall'].sort_values(ascending= False)\n",
    "avg_potential_defenders = avg_defenders_stats['potential'].sort_values(ascending= False)\n",
    "avg_age_defenders = avg_defenders_stats['age'].sort_values(ascending= False)\n",
    "avg_inter_rep_defenders = avg_defenders_stats['international_reputation'].sort_values(ascending= False)\n",
    "avg_value_defenders = avg_defenders_stats['value_eur'].sort_values(ascending= False)\n",
    "avg_wage_defenders = avg_defenders_stats['wage_eur'].sort_values(ascending= False)\n",
    "## Gks\n",
    "avg_overall_gk = avg_gk_stats['overall'].sort_values(ascending= False)\n",
    "avg_potential_gk = avg_gk_stats['potential'].sort_values(ascending= False)\n",
    "avg_age_gk = avg_gk_stats['age'].sort_values(ascending= False)\n",
    "avg_inter_rep_gk = avg_gk_stats['international_reputation'].sort_values(ascending= False)\n",
    "avg_value_gk = avg_gk_stats['value_eur'].sort_values(ascending= False)\n",
    "avg_wage_gk = avg_gk_stats['wage_eur'].sort_values(ascending= False)"
   ]
  },
  {
   "cell_type": "code",
   "execution_count": 43,
   "metadata": {},
   "outputs": [],
   "source": [
    "national_team_stats['ovr_forwards'] = avg_forward_stats['overall']\n",
    "national_team_stats['ovr_mids'] = avg_midfielders_stats['overall']\n",
    "national_team_stats['ovr_defs'] = avg_defenders_stats['overall']\n",
    "national_team_stats['ovr_gks'] = avg_gk_stats['overall']\n",
    "\n",
    "national_team_stats['ptl_forwards'] = avg_forward_stats['potential']\n",
    "national_team_stats['ptl_mids'] = avg_midfielders_stats['potential']\n",
    "national_team_stats['ptl_defs'] = avg_defenders_stats['potential']\n",
    "national_team_stats['ptl_gks'] = avg_gk_stats['potential']"
   ]
  },
  {
   "cell_type": "markdown",
   "metadata": {},
   "source": [
    "### Average Overall Ratings by Position"
   ]
  },
  {
   "cell_type": "code",
   "execution_count": 45,
   "metadata": {
    "scrolled": true
   },
   "outputs": [
    {
     "data": {
      "image/png": "[encoded data removed]",
      "text/plain": [
       "<Figure size 1080x360 with 2 Axes>"
      ]
     },
     "metadata": {
      "needs_background": "light"
     },
     "output_type": "display_data"
    }
   ],
   "source": [
    "f, axes = plt.subplots(1, 2, figsize=(15,5))\n",
    "\n",
    "ax = sns.barplot(avg_overall_forwards.index[:5],\n",
    "                 avg_overall_forwards.head(),\n",
    "                 color = 'dodgerblue', ax= axes[0]\n",
    "                )\n",
    "\n",
    "ax.set_ylim(80,95)\n",
    "ax.set_title('Average Overall Stats (Forwards)')\n",
    "\n",
    "for p in ax.patches:\n",
    "    ax.annotate(format(p.get_height(), '.2f'),\n",
    "                (p.get_x() + p.get_width() / 2., p.get_height()),\n",
    "                ha = 'center', va = 'center', xytext = (0, 10),\n",
    "                textcoords = 'offset points')\n",
    "    \n",
    "ax1 = sns.barplot(avg_potential_forwards.index[:5],\n",
    "                 avg_potential_forwards.head(),\n",
    "                 color = 'dodgerblue', ax= axes[1]\n",
    "                )\n",
    "\n",
    "ax1.set_ylim(80,95)\n",
    "ax1.set_title('Average Potential Stats (Forwards)')\n",
    "\n",
    "for p in ax1.patches:\n",
    "    ax1.annotate(format(p.get_height(), '.2f'),\n",
    "                (p.get_x() + p.get_width() / 2., p.get_height()),\n",
    "                ha = 'center', va = 'center', xytext = (0, 10),\n",
    "                textcoords = 'offset points')\n",
    "    ## Adapted from https://github.com/mwaskom/seaborn/issues/1582"
   ]
  },
  {
   "cell_type": "code",
   "execution_count": 46,
   "metadata": {
    "scrolled": false
   },
   "outputs": [
    {
     "data": {
      "image/png": "[encoded data removed]",
      "text/plain": [
       "<Figure size 1080x360 with 2 Axes>"
      ]
     },
     "metadata": {
      "needs_background": "light"
     },
     "output_type": "display_data"
    }
   ],
   "source": [
    "f, axes = plt.subplots(1, 2, figsize=(15,5))\n",
    "\n",
    "ax = sns.barplot(avg_overall_midfielders.index[:5],\n",
    "                 avg_overall_midfielders.head(),\n",
    "                 color = 'limegreen', ax = axes[0]\n",
    "                )\n",
    "\n",
    "ax.set_ylim(80,95)\n",
    "ax.set_title('Average Overall Stats (Midfielders)')\n",
    "\n",
    "for p in ax.patches:\n",
    "    ax.annotate(format(p.get_height(), '.2f'),\n",
    "                (p.get_x() + p.get_width() / 2., p.get_height()),\n",
    "                ha = 'center', va = 'center', xytext = (0, 10),\n",
    "                textcoords = 'offset points')\n",
    "    \n",
    "ax1 = sns.barplot(avg_potential_midfielders.index[:5],\n",
    "                 avg_potential_midfielders.head(),\n",
    "                 color = 'limegreen', ax = axes[1]\n",
    "                )\n",
    "\n",
    "ax1.set_ylim(80,95)\n",
    "ax1.set_title('Average Potential Stats (Midfielders)')\n",
    "\n",
    "for p in ax1.patches:\n",
    "    ax1.annotate(format(p.get_height(), '.2f'),\n",
    "                (p.get_x() + p.get_width() / 2., p.get_height()),\n",
    "                ha = 'center', va = 'center', xytext = (0, 10),\n",
    "                textcoords = 'offset points')\n",
    "    ## Adapted from https://github.com/mwaskom/seaborn/issues/1582"
   ]
  },
  {
   "cell_type": "code",
   "execution_count": 47,
   "metadata": {
    "scrolled": true
   },
   "outputs": [
    {
     "data": {
      "image/png": "[encoded data removed]",
      "text/plain": [
       "<Figure size 1080x360 with 2 Axes>"
      ]
     },
     "metadata": {
      "needs_background": "light"
     },
     "output_type": "display_data"
    }
   ],
   "source": [
    "f, axes = plt.subplots(1, 2, figsize=(15,5))\n",
    "ax = sns.barplot(avg_overall_defenders.index[:5],\n",
    "                 avg_overall_defenders.head(),\n",
    "                 color = 'gold', ax = axes[0]\n",
    "                )\n",
    "\n",
    "ax.set_ylim(80,95)\n",
    "ax.set_title('Average Overall Stats (Defenders)')\n",
    "\n",
    "for p in ax.patches:\n",
    "    ax.annotate(format(p.get_height(), '.2f'),\n",
    "                (p.get_x() + p.get_width() / 2., p.get_height()),\n",
    "                ha = 'center', va = 'center', xytext = (0, 10),\n",
    "                textcoords = 'offset points')\n",
    "    \n",
    "    \n",
    "ax1 = sns.barplot(avg_potential_defenders.index[:5],\n",
    "                 avg_potential_defenders.head(),\n",
    "                 color = 'gold', ax = axes[1]\n",
    "                )\n",
    "\n",
    "ax1.set_ylim(80,95)\n",
    "ax1.set_title('Average Potential Stats (Defenders)')\n",
    "\n",
    "for p in ax1.patches:\n",
    "    ax1.annotate(format(p.get_height(), '.2f'),\n",
    "                (p.get_x() + p.get_width() / 2., p.get_height()),\n",
    "                ha = 'center', va = 'center', xytext = (0, 10),\n",
    "                textcoords = 'offset points')\n",
    "    ## Adapted from https://github.com/mwaskom/seaborn/issues/1582"
   ]
  },
  {
   "cell_type": "code",
   "execution_count": 48,
   "metadata": {
    "scrolled": true
   },
   "outputs": [
    {
     "data": {
      "image/png": "[encoded data removed]",
      "text/plain": [
       "<Figure size 1080x360 with 2 Axes>"
      ]
     },
     "metadata": {
      "needs_background": "light"
     },
     "output_type": "display_data"
    }
   ],
   "source": [
    "f, axes = plt.subplots(1, 2, figsize=(15,5))\n",
    "ax = sns.barplot(avg_overall_gk.index[:5],\n",
    "                 avg_overall_gk.head(),\n",
    "                 color = 'orange', ax = axes[0]\n",
    "                )\n",
    "\n",
    "ax.set_ylim(80,95)\n",
    "ax.set_title('Average Potential Stats (GKs)')\n",
    "\n",
    "for p in ax.patches:\n",
    "    ax.annotate(format(p.get_height(), '.2f'),\n",
    "                (p.get_x() + p.get_width() / 2., p.get_height()),\n",
    "                ha = 'center', va = 'center', xytext = (0, 10),\n",
    "                textcoords = 'offset points')\n",
    "    \n",
    "ax1 = sns.barplot(avg_potential_gk.index[:5],\n",
    "                 avg_potential_gk.head(),\n",
    "                 color = 'orange', ax = axes[1]\n",
    "                )\n",
    "\n",
    "ax1.set_ylim(80,95)\n",
    "ax1.set_title('Average Potential Stats (GKs)')\n",
    "\n",
    "for p in ax1.patches:\n",
    "    ax1.annotate(format(p.get_height(), '.2f'),\n",
    "                (p.get_x() + p.get_width() / 2., p.get_height()),\n",
    "                ha = 'center', va = 'center', xytext = (0, 10),\n",
    "                textcoords = 'offset points')\n",
    "    ## Adapted from https://github.com/mwaskom/seaborn/issues/1582"
   ]
  },
  {
   "cell_type": "markdown",
   "metadata": {},
   "source": [
    "### Average Player Value by Position"
   ]
  },
  {
   "cell_type": "code",
   "execution_count": 53,
   "metadata": {
    "scrolled": false
   },
   "outputs": [
    {
     "data": {
      "image/png": "[encoded data removed]",
      "text/plain": [
       "<Figure size 1080x720 with 4 Axes>"
      ]
     },
     "metadata": {
      "needs_background": "light"
     },
     "output_type": "display_data"
    }
   ],
   "source": [
    "f, axes = plt.subplots(2, 2, figsize=(15,10))\n",
    "\n",
    "ax = sns.barplot(avg_value_forwards.index[:5],\n",
    "                 avg_value_forwards.head(),\n",
    "                 color = 'dodgerblue' , ax= axes[0,0]\n",
    "                )\n",
    "\n",
    "ax.set_ylim(20_000_000,80_000_000)\n",
    "ax.set_title('Highest Average Player Value (Forwards)')\n",
    "\n",
    "for p in ax.patches:\n",
    "    ax.annotate(format(round(p.get_height(),-6), '.2f'),\n",
    "                (p.get_x() + p.get_width() / 2., p.get_height()),\n",
    "                ha = 'center', va = 'center', xytext = (0, 10),\n",
    "                textcoords = 'offset points')\n",
    "    \n",
    "ax1 = sns.barplot(avg_value_midfielders.index[:5],\n",
    "                 avg_value_midfielders.head(),\n",
    "                 color = 'limegreen' , ax= axes[0,1]\n",
    "                )\n",
    "\n",
    "ax1.set_ylim(20_000_000,80_000_000)\n",
    "ax1.set_title('Highest Average Player Value (Midfielders)')\n",
    "\n",
    "for p in ax1.patches:\n",
    "    ax1.annotate(format(round(p.get_height(),-6), '.2f'),\n",
    "                (p.get_x() + p.get_width() / 2., p.get_height()),\n",
    "                ha = 'center', va = 'center', xytext = (0, 10),\n",
    "                textcoords = 'offset points')\n",
    "    \n",
    "ax2 = sns.barplot(avg_value_defenders.index[:5],\n",
    "                 avg_value_defenders.head(),\n",
    "                 color = 'gold' , ax= axes[1,0]\n",
    "                )\n",
    "\n",
    "ax2.set_ylim(20_000_000,40_000_000)\n",
    "ax2.set_title('Highest Average Player Value (Defenders)')\n",
    "\n",
    "for p in ax2.patches:\n",
    "    ax2.annotate(format(round(p.get_height(),-6), '.2f'),\n",
    "                (p.get_x() + p.get_width() / 2., p.get_height()),\n",
    "                ha = 'center', va = 'center', xytext = (0, 10),\n",
    "                textcoords = 'offset points')\n",
    "    \n",
    "ax3 = sns.barplot(avg_value_gk.index[:5],\n",
    "                 avg_value_gk.head(),\n",
    "                 color = 'orange' , ax= axes[1,1]\n",
    "                )\n",
    "\n",
    "ax3.set_ylim(20_000_000,60_000_000)\n",
    "ax3.set_title('Highest Average Player Value (GKs)')\n",
    "\n",
    "for p in ax3.patches:\n",
    "    ax3.annotate(format(round(p.get_height(),-6), '.2f'),\n",
    "                (p.get_x() + p.get_width() / 2., p.get_height()),\n",
    "                ha = 'center', va = 'center', xytext = (0, 10),\n",
    "                textcoords = 'offset points')\n",
    "    \n",
    "    ## Adapted from https://github.com/mwaskom/seaborn/issues/1582"
   ]
  },
  {
   "cell_type": "code",
   "execution_count": 54,
   "metadata": {
    "scrolled": true
   },
   "outputs": [
    {
     "data": {
      "image/png": "[encoded data removed]",
      "text/plain": [
       "<Figure size 1080x720 with 4 Axes>"
      ]
     },
     "metadata": {
      "needs_background": "light"
     },
     "output_type": "display_data"
    }
   ],
   "source": [
    "f, axes = plt.subplots(2, 2, figsize=(15,10))\n",
    "\n",
    "ax = sns.barplot(avg_wage_forwards.index[:5],\n",
    "                 avg_wage_forwards.head(),\n",
    "                 color = 'dodgerblue' , ax= axes[0,0]\n",
    "                )\n",
    "\n",
    "ax.set_ylim(0, 500_000)\n",
    "ax.set_title('Highest Average Player Wage (Forwards)')\n",
    "\n",
    "for p in ax.patches:\n",
    "    ax.annotate(format(round(p.get_height(),-3), '.2f'),\n",
    "                (p.get_x() + p.get_width() / 2., p.get_height()),\n",
    "                ha = 'center', va = 'center', xytext = (0, 10),\n",
    "                textcoords = 'offset points')\n",
    "    \n",
    "ax1 = sns.barplot(avg_wage_midfielders.index[:5],\n",
    "                 avg_wage_midfielders.head(),\n",
    "                 color = 'limegreen' , ax= axes[0,1]\n",
    "                )\n",
    "\n",
    "ax1.set_ylim(0, 500_000)\n",
    "ax1.set_title('Highest Average Player Wage (Midfielders)')\n",
    "\n",
    "for p in ax1.patches:\n",
    "    ax1.annotate(format(round(p.get_height(), -3), '.2f'),\n",
    "                (p.get_x() + p.get_width() / 2., p.get_height()),\n",
    "                ha = 'center', va = 'center', xytext = (0, 10),\n",
    "                textcoords = 'offset points')\n",
    "    \n",
    "ax2 = sns.barplot(avg_wage_defenders.index[:5],\n",
    "                 avg_wage_defenders.head(),\n",
    "                 color = 'gold' , ax= axes[1,0]\n",
    "                )\n",
    "\n",
    "ax2.set_ylim(0, 500_000)\n",
    "ax2.set_title('Highest Average Player Wage (Defenders)')\n",
    "\n",
    "for p in ax2.patches:\n",
    "    ax2.annotate(format(round(p.get_height(),-3), '.2f'),\n",
    "                (p.get_x() + p.get_width() / 2., p.get_height()),\n",
    "                ha = 'center', va = 'center', xytext = (0, 10),\n",
    "                textcoords = 'offset points')\n",
    "    \n",
    "ax3 = sns.barplot(avg_wage_gk.index[:5],\n",
    "                 avg_wage_gk.head(),\n",
    "                 color = 'orange' , ax= axes[1,1]\n",
    "                )\n",
    "\n",
    "ax3.set_ylim(0, 500_000)\n",
    "ax3.set_title('Highest Average Player Wage (GKs)')\n",
    "\n",
    "for p in ax3.patches:\n",
    "    ax3.annotate(format(round(p.get_height(),-3), '.2f'),\n",
    "                (p.get_x() + p.get_width() / 2., p.get_height()),\n",
    "                ha = 'center', va = 'center', xytext = (0, 10),\n",
    "                textcoords = 'offset points')\n",
    "    ## Adapted from https://github.com/mwaskom/seaborn/issues/1582"
   ]
  },
  {
   "cell_type": "markdown",
   "metadata": {},
   "source": [
    "Initial EDA of the FIFA dataset shows that we can trust these ratings due to their similarity to real world rankings and public opinion."
   ]
  },
  {
   "cell_type": "markdown",
   "metadata": {},
   "source": [
    "## Pre-Modeling"
   ]
  },
  {
   "cell_type": "markdown",
   "metadata": {},
   "source": [
    "### Setting up the DataFrames"
   ]
  },
  {
   "cell_type": "code",
   "execution_count": 163,
   "metadata": {},
   "outputs": [
    {
     "data": {
      "text/plain": [
       "['Algeria',\n",
       " 'Argentina',\n",
       " 'Australia',\n",
       " 'Belgium',\n",
       " 'Bosnia-Herzegovina',\n",
       " 'Brazil',\n",
       " 'Cameroon',\n",
       " 'Chile',\n",
       " 'Colombia',\n",
       " 'Costa Rica',\n",
       " 'Croatia',\n",
       " 'Ecuador',\n",
       " 'England',\n",
       " 'France',\n",
       " 'Germany',\n",
       " 'Ghana',\n",
       " 'Greece',\n",
       " 'Holland',\n",
       " 'Honduras',\n",
       " 'Iran',\n",
       " 'Italy',\n",
       " 'Ivory Coast',\n",
       " 'Japan',\n",
       " 'Mexico',\n",
       " 'Nigeria',\n",
       " 'Portugal',\n",
       " 'Russia',\n",
       " 'South Korea',\n",
       " 'Spain',\n",
       " 'Switzerland',\n",
       " 'USA',\n",
       " 'Uruguay']"
      ]
     },
     "execution_count": 163,
     "metadata": {},
     "output_type": "execute_result"
    }
   ],
   "source": [
    "wc_14_qualified.sort()\n",
    "wc_14_qualified"
   ]
  },
  {
   "cell_type": "code",
   "execution_count": 62,
   "metadata": {},
   "outputs": [],
   "source": [
    "wc_matches = wc_matches.replace('rn\">Bosnia and Herzegovina', 'Bosnia-Herzegovina')\n",
    "wc_matches = wc_matches.replace('IR Iran', 'Iran')\n",
    "wc_matches = wc_matches.replace(\"C�te d'Ivoire\", 'Ivory Coast')\n",
    "wc_matches = wc_matches.replace('Netherlands', 'Holland')\n",
    "wc_matches = wc_matches.replace('Korea Republic', 'South Korea')\n",
    "wc_matches = wc_matches.replace('Germany FR', 'Germany')\n",
    "wc_matches = wc_matches.replace('Soviet Union', 'Russia')\n",
    "wc_matches = wc_matches.replace('German DR', 'Germany')"
   ]
  },
  {
   "cell_type": "code",
   "execution_count": 63,
   "metadata": {},
   "outputs": [
    {
     "data": {
      "text/plain": [
       "array(['France', 'USA', 'Yugoslavia', 'Romania', 'Argentina', 'Chile',\n",
       "       'Uruguay', 'Brazil', 'Paraguay', 'Austria', 'Hungary',\n",
       "       'Switzerland', 'Sweden', 'Germany', 'Spain', 'Italy',\n",
       "       'Czechoslovakia', 'Cuba', 'England', 'Turkey', 'Russia',\n",
       "       'Northern Ireland', 'Mexico', 'Wales', 'Portugal', 'Korea DPR',\n",
       "       'Peru', 'Belgium', 'Bulgaria', 'Zaire', 'Poland', 'Australia',\n",
       "       'Scotland', 'Holland', 'Haiti', 'Tunisia', 'Algeria', 'Honduras',\n",
       "       'Canada', 'Morocco', 'South Korea', 'Iraq', 'Denmark',\n",
       "       'rn\">United Arab Emirates', 'Costa Rica', 'Cameroon',\n",
       "       'rn\">Republic of Ireland', 'Colombia', 'Norway', 'Nigeria',\n",
       "       'Saudi Arabia', 'Bolivia', 'Greece', 'Jamaica', 'South Africa',\n",
       "       'Japan', 'Croatia', 'China PR', 'Senegal', 'Slovenia', 'Ecuador',\n",
       "       'rn\">Trinidad and Tobago', 'rn\">Serbia and Montenegro', 'Angola',\n",
       "       'Czech Republic', 'Togo', 'Iran', 'Ivory Coast', 'Ghana',\n",
       "       'Ukraine', 'Serbia', 'New Zealand', 'Slovakia',\n",
       "       'Bosnia-Herzegovina'], dtype=object)"
      ]
     },
     "execution_count": 63,
     "metadata": {},
     "output_type": "execute_result"
    }
   ],
   "source": [
    "wc_matches['Home Team Name'].unique()"
   ]
  },
  {
   "cell_type": "code",
   "execution_count": 64,
   "metadata": {},
   "outputs": [
    {
     "data": {
      "text/plain": [
       "set()"
      ]
     },
     "execution_count": 64,
     "metadata": {},
     "output_type": "execute_result"
    }
   ],
   "source": [
    "set(wc_14_qualified) - set(wc_matches['Home Team Name'].unique())"
   ]
  },
  {
   "cell_type": "code",
   "execution_count": 65,
   "metadata": {},
   "outputs": [],
   "source": [
    "wc14_matches = []\n",
    "for i in range(1, len(wc_matches)):\n",
    "    if (wc_matches['Home Team Name'][i] in wc_14_qualified) & (wc_matches['Away Team Name'][i] in wc_14_qualified):\n",
    "        wc14_matches.append(wc_matches.loc[i])"
   ]
  },
  {
   "cell_type": "code",
   "execution_count": 66,
   "metadata": {},
   "outputs": [],
   "source": [
    "wc14_matches = pd.DataFrame(wc14_matches)"
   ]
  },
  {
   "cell_type": "code",
   "execution_count": 67,
   "metadata": {},
   "outputs": [
    {
     "data": {
      "text/html": [
       "<div>\n",
       "<style scoped>\n",
       "    .dataframe tbody tr th:only-of-type {\n",
       "        vertical-align: middle;\n",
       "    }\n",
       "\n",
       "    .dataframe tbody tr th {\n",
       "        vertical-align: top;\n",
       "    }\n",
       "\n",
       "    .dataframe thead th {\n",
       "        text-align: right;\n",
       "    }\n",
       "</style>\n",
       "<table border=\"1\" class=\"dataframe\">\n",
       "  <thead>\n",
       "    <tr style=\"text-align: right;\">\n",
       "      <th></th>\n",
       "      <th>Year</th>\n",
       "      <th>Datetime</th>\n",
       "      <th>Stage</th>\n",
       "      <th>Stadium</th>\n",
       "      <th>City</th>\n",
       "      <th>Home Team Name</th>\n",
       "      <th>Home Team Goals</th>\n",
       "      <th>Away Team Goals</th>\n",
       "      <th>Away Team Name</th>\n",
       "      <th>Win conditions</th>\n",
       "      <th>Attendance</th>\n",
       "      <th>Half-time Home Goals</th>\n",
       "      <th>Half-time Away Goals</th>\n",
       "      <th>Referee</th>\n",
       "      <th>Assistant 1</th>\n",
       "      <th>Assistant 2</th>\n",
       "      <th>RoundID</th>\n",
       "      <th>MatchID</th>\n",
       "      <th>Home Team Initials</th>\n",
       "      <th>Away Team Initials</th>\n",
       "    </tr>\n",
       "  </thead>\n",
       "  <tbody>\n",
       "    <tr>\n",
       "      <th>1</th>\n",
       "      <td>1930.0</td>\n",
       "      <td>13 Jul 1930 - 15:00</td>\n",
       "      <td>Group 4</td>\n",
       "      <td>Parque Central</td>\n",
       "      <td>Montevideo</td>\n",
       "      <td>USA</td>\n",
       "      <td>3.0</td>\n",
       "      <td>0.0</td>\n",
       "      <td>Belgium</td>\n",
       "      <td></td>\n",
       "      <td>18346.0</td>\n",
       "      <td>2.0</td>\n",
       "      <td>0.0</td>\n",
       "      <td>MACIAS Jose (ARG)</td>\n",
       "      <td>MATEUCCI Francisco (URU)</td>\n",
       "      <td>WARNKEN Alberto (CHI)</td>\n",
       "      <td>201.0</td>\n",
       "      <td>1090.0</td>\n",
       "      <td>USA</td>\n",
       "      <td>BEL</td>\n",
       "    </tr>\n",
       "    <tr>\n",
       "      <th>4</th>\n",
       "      <td>1930.0</td>\n",
       "      <td>15 Jul 1930 - 16:00</td>\n",
       "      <td>Group 1</td>\n",
       "      <td>Parque Central</td>\n",
       "      <td>Montevideo</td>\n",
       "      <td>Argentina</td>\n",
       "      <td>1.0</td>\n",
       "      <td>0.0</td>\n",
       "      <td>France</td>\n",
       "      <td></td>\n",
       "      <td>23409.0</td>\n",
       "      <td>0.0</td>\n",
       "      <td>0.0</td>\n",
       "      <td>REGO Gilberto (BRA)</td>\n",
       "      <td>SAUCEDO Ulises (BOL)</td>\n",
       "      <td>RADULESCU Constantin (ROU)</td>\n",
       "      <td>201.0</td>\n",
       "      <td>1085.0</td>\n",
       "      <td>ARG</td>\n",
       "      <td>FRA</td>\n",
       "    </tr>\n",
       "    <tr>\n",
       "      <th>5</th>\n",
       "      <td>1930.0</td>\n",
       "      <td>16 Jul 1930 - 14:45</td>\n",
       "      <td>Group 1</td>\n",
       "      <td>Parque Central</td>\n",
       "      <td>Montevideo</td>\n",
       "      <td>Chile</td>\n",
       "      <td>3.0</td>\n",
       "      <td>0.0</td>\n",
       "      <td>Mexico</td>\n",
       "      <td></td>\n",
       "      <td>9249.0</td>\n",
       "      <td>1.0</td>\n",
       "      <td>0.0</td>\n",
       "      <td>CRISTOPHE Henry (BEL)</td>\n",
       "      <td>APHESTEGUY Martin (URU)</td>\n",
       "      <td>LANGENUS Jean (BEL)</td>\n",
       "      <td>201.0</td>\n",
       "      <td>1095.0</td>\n",
       "      <td>CHI</td>\n",
       "      <td>MEX</td>\n",
       "    </tr>\n",
       "    <tr>\n",
       "      <th>9</th>\n",
       "      <td>1930.0</td>\n",
       "      <td>19 Jul 1930 - 12:50</td>\n",
       "      <td>Group 1</td>\n",
       "      <td>Estadio Centenario</td>\n",
       "      <td>Montevideo</td>\n",
       "      <td>Chile</td>\n",
       "      <td>1.0</td>\n",
       "      <td>0.0</td>\n",
       "      <td>France</td>\n",
       "      <td></td>\n",
       "      <td>2000.0</td>\n",
       "      <td>0.0</td>\n",
       "      <td>0.0</td>\n",
       "      <td>TEJADA Anibal (URU)</td>\n",
       "      <td>LOMBARDI Domingo (URU)</td>\n",
       "      <td>REGO Gilberto (BRA)</td>\n",
       "      <td>201.0</td>\n",
       "      <td>1094.0</td>\n",
       "      <td>CHI</td>\n",
       "      <td>FRA</td>\n",
       "    </tr>\n",
       "    <tr>\n",
       "      <th>10</th>\n",
       "      <td>1930.0</td>\n",
       "      <td>19 Jul 1930 - 15:00</td>\n",
       "      <td>Group 1</td>\n",
       "      <td>Estadio Centenario</td>\n",
       "      <td>Montevideo</td>\n",
       "      <td>Argentina</td>\n",
       "      <td>6.0</td>\n",
       "      <td>3.0</td>\n",
       "      <td>Mexico</td>\n",
       "      <td></td>\n",
       "      <td>42100.0</td>\n",
       "      <td>3.0</td>\n",
       "      <td>1.0</td>\n",
       "      <td>SAUCEDO Ulises (BOL)</td>\n",
       "      <td>ALONSO Gualberto (URU)</td>\n",
       "      <td>RADULESCU Constantin (ROU)</td>\n",
       "      <td>201.0</td>\n",
       "      <td>1086.0</td>\n",
       "      <td>ARG</td>\n",
       "      <td>MEX</td>\n",
       "    </tr>\n",
       "  </tbody>\n",
       "</table>\n",
       "</div>"
      ],
      "text/plain": [
       "      Year              Datetime    Stage             Stadium         City  \\\n",
       "1   1930.0  13 Jul 1930 - 15:00   Group 4      Parque Central  Montevideo    \n",
       "4   1930.0  15 Jul 1930 - 16:00   Group 1      Parque Central  Montevideo    \n",
       "5   1930.0  16 Jul 1930 - 14:45   Group 1      Parque Central  Montevideo    \n",
       "9   1930.0  19 Jul 1930 - 12:50   Group 1  Estadio Centenario  Montevideo    \n",
       "10  1930.0  19 Jul 1930 - 15:00   Group 1  Estadio Centenario  Montevideo    \n",
       "\n",
       "   Home Team Name  Home Team Goals  Away Team Goals Away Team Name  \\\n",
       "1             USA              3.0              0.0        Belgium   \n",
       "4       Argentina              1.0              0.0         France   \n",
       "5           Chile              3.0              0.0         Mexico   \n",
       "9           Chile              1.0              0.0         France   \n",
       "10      Argentina              6.0              3.0         Mexico   \n",
       "\n",
       "   Win conditions  Attendance  Half-time Home Goals  Half-time Away Goals  \\\n",
       "1                     18346.0                   2.0                   0.0   \n",
       "4                     23409.0                   0.0                   0.0   \n",
       "5                      9249.0                   1.0                   0.0   \n",
       "9                      2000.0                   0.0                   0.0   \n",
       "10                    42100.0                   3.0                   1.0   \n",
       "\n",
       "                  Referee               Assistant 1  \\\n",
       "1       MACIAS Jose (ARG)  MATEUCCI Francisco (URU)   \n",
       "4     REGO Gilberto (BRA)      SAUCEDO Ulises (BOL)   \n",
       "5   CRISTOPHE Henry (BEL)   APHESTEGUY Martin (URU)   \n",
       "9     TEJADA Anibal (URU)    LOMBARDI Domingo (URU)   \n",
       "10   SAUCEDO Ulises (BOL)    ALONSO Gualberto (URU)   \n",
       "\n",
       "                   Assistant 2  RoundID  MatchID Home Team Initials  \\\n",
       "1        WARNKEN Alberto (CHI)    201.0   1090.0                USA   \n",
       "4   RADULESCU Constantin (ROU)    201.0   1085.0                ARG   \n",
       "5          LANGENUS Jean (BEL)    201.0   1095.0                CHI   \n",
       "9          REGO Gilberto (BRA)    201.0   1094.0                CHI   \n",
       "10  RADULESCU Constantin (ROU)    201.0   1086.0                ARG   \n",
       "\n",
       "   Away Team Initials  \n",
       "1                 BEL  \n",
       "4                 FRA  \n",
       "5                 MEX  \n",
       "9                 FRA  \n",
       "10                MEX  "
      ]
     },
     "execution_count": 67,
     "metadata": {},
     "output_type": "execute_result"
    }
   ],
   "source": [
    "wc14_matches.head(3)"
   ]
  },
  {
   "cell_type": "code",
   "execution_count": 68,
   "metadata": {},
   "outputs": [
    {
     "data": {
      "text/plain": [
       "(396, 20)"
      ]
     },
     "execution_count": 68,
     "metadata": {},
     "output_type": "execute_result"
    }
   ],
   "source": [
    "wc14_matches.shape"
   ]
  },
  {
   "cell_type": "code",
   "execution_count": 69,
   "metadata": {},
   "outputs": [],
   "source": [
    "wc_matchups = wc14_matches[['Year','Datetime','Home Team Name','Away Team Name','Home Team Goals','Away Team Goals']]"
   ]
  },
  {
   "cell_type": "code",
   "execution_count": 70,
   "metadata": {
    "scrolled": false
   },
   "outputs": [],
   "source": [
    "df = national_team_stats[['age', 'height_cm', 'weight_kg','value_eur','wage_eur','international_reputation', 'ovr_forwards', 'ovr_mids','ovr_defs','ovr_gks', 'ptl_forwards','ptl_mids', 'ptl_defs', 'ptl_gks']]"
   ]
  },
  {
   "cell_type": "code",
   "execution_count": 71,
   "metadata": {},
   "outputs": [
    {
     "data": {
      "text/html": [
       "<div>\n",
       "<style scoped>\n",
       "    .dataframe tbody tr th:only-of-type {\n",
       "        vertical-align: middle;\n",
       "    }\n",
       "\n",
       "    .dataframe tbody tr th {\n",
       "        vertical-align: top;\n",
       "    }\n",
       "\n",
       "    .dataframe thead th {\n",
       "        text-align: right;\n",
       "    }\n",
       "</style>\n",
       "<table border=\"1\" class=\"dataframe\">\n",
       "  <thead>\n",
       "    <tr style=\"text-align: right;\">\n",
       "      <th></th>\n",
       "      <th>age</th>\n",
       "      <th>height_cm</th>\n",
       "      <th>weight_kg</th>\n",
       "      <th>value_eur</th>\n",
       "      <th>wage_eur</th>\n",
       "      <th>international_reputation</th>\n",
       "      <th>ovr_forwards</th>\n",
       "      <th>ovr_mids</th>\n",
       "      <th>ovr_defs</th>\n",
       "      <th>ovr_gks</th>\n",
       "      <th>ptl_forwards</th>\n",
       "      <th>ptl_mids</th>\n",
       "      <th>ptl_defs</th>\n",
       "      <th>ptl_gks</th>\n",
       "    </tr>\n",
       "    <tr>\n",
       "      <th>nationality</th>\n",
       "      <th></th>\n",
       "      <th></th>\n",
       "      <th></th>\n",
       "      <th></th>\n",
       "      <th></th>\n",
       "      <th></th>\n",
       "      <th></th>\n",
       "      <th></th>\n",
       "      <th></th>\n",
       "      <th></th>\n",
       "      <th></th>\n",
       "      <th></th>\n",
       "      <th></th>\n",
       "      <th></th>\n",
       "    </tr>\n",
       "  </thead>\n",
       "  <tbody>\n",
       "    <tr>\n",
       "      <th>Algeria</th>\n",
       "      <td>26.571429</td>\n",
       "      <td>181.678571</td>\n",
       "      <td>74.892857</td>\n",
       "      <td>4.766250e+06</td>\n",
       "      <td>17892.857143</td>\n",
       "      <td>1.321429</td>\n",
       "      <td>69.333333</td>\n",
       "      <td>73.312500</td>\n",
       "      <td>73.500000</td>\n",
       "      <td>65.000000</td>\n",
       "      <td>72.000000</td>\n",
       "      <td>75.312500</td>\n",
       "      <td>76.500000</td>\n",
       "      <td>65.000000</td>\n",
       "    </tr>\n",
       "    <tr>\n",
       "      <th>Argentina</th>\n",
       "      <td>27.478261</td>\n",
       "      <td>180.043478</td>\n",
       "      <td>75.347826</td>\n",
       "      <td>2.604348e+07</td>\n",
       "      <td>106913.043478</td>\n",
       "      <td>2.608696</td>\n",
       "      <td>84.400000</td>\n",
       "      <td>81.600000</td>\n",
       "      <td>82.500000</td>\n",
       "      <td>80.500000</td>\n",
       "      <td>85.600000</td>\n",
       "      <td>85.800000</td>\n",
       "      <td>82.500000</td>\n",
       "      <td>83.500000</td>\n",
       "    </tr>\n",
       "    <tr>\n",
       "      <th>Australia</th>\n",
       "      <td>26.434783</td>\n",
       "      <td>183.260870</td>\n",
       "      <td>77.695652</td>\n",
       "      <td>3.246739e+06</td>\n",
       "      <td>15565.217391</td>\n",
       "      <td>1.173913</td>\n",
       "      <td>72.000000</td>\n",
       "      <td>71.857143</td>\n",
       "      <td>70.000000</td>\n",
       "      <td>73.500000</td>\n",
       "      <td>73.500000</td>\n",
       "      <td>73.571429</td>\n",
       "      <td>77.000000</td>\n",
       "      <td>75.000000</td>\n",
       "    </tr>\n",
       "    <tr>\n",
       "      <th>Belgium</th>\n",
       "      <td>26.521739</td>\n",
       "      <td>185.434783</td>\n",
       "      <td>80.913043</td>\n",
       "      <td>2.971739e+07</td>\n",
       "      <td>115608.695652</td>\n",
       "      <td>2.826087</td>\n",
       "      <td>85.750000</td>\n",
       "      <td>82.333333</td>\n",
       "      <td>85.333333</td>\n",
       "      <td>82.666667</td>\n",
       "      <td>87.500000</td>\n",
       "      <td>85.500000</td>\n",
       "      <td>85.666667</td>\n",
       "      <td>84.666667</td>\n",
       "    </tr>\n",
       "    <tr>\n",
       "      <th>Bosnia-Herzegovina</th>\n",
       "      <td>26.178571</td>\n",
       "      <td>185.625000</td>\n",
       "      <td>79.196429</td>\n",
       "      <td>4.383839e+06</td>\n",
       "      <td>20196.428571</td>\n",
       "      <td>1.267857</td>\n",
       "      <td>79.666667</td>\n",
       "      <td>72.900000</td>\n",
       "      <td>69.400000</td>\n",
       "      <td>76.000000</td>\n",
       "      <td>79.666667</td>\n",
       "      <td>74.000000</td>\n",
       "      <td>71.900000</td>\n",
       "      <td>76.000000</td>\n",
       "    </tr>\n",
       "    <tr>\n",
       "      <th>Brazil</th>\n",
       "      <td>27.347826</td>\n",
       "      <td>180.043478</td>\n",
       "      <td>75.478261</td>\n",
       "      <td>2.719565e+07</td>\n",
       "      <td>112782.608696</td>\n",
       "      <td>2.826087</td>\n",
       "      <td>85.333333</td>\n",
       "      <td>83.200000</td>\n",
       "      <td>85.500000</td>\n",
       "      <td>81.000000</td>\n",
       "      <td>91.000000</td>\n",
       "      <td>84.800000</td>\n",
       "      <td>86.500000</td>\n",
       "      <td>84.333333</td>\n",
       "    </tr>\n",
       "    <tr>\n",
       "      <th>Cameroon</th>\n",
       "      <td>24.608696</td>\n",
       "      <td>182.478261</td>\n",
       "      <td>77.652174</td>\n",
       "      <td>1.886522e+06</td>\n",
       "      <td>5826.086957</td>\n",
       "      <td>1.173913</td>\n",
       "      <td>77.000000</td>\n",
       "      <td>67.500000</td>\n",
       "      <td>67.666667</td>\n",
       "      <td>NaN</td>\n",
       "      <td>80.500000</td>\n",
       "      <td>72.500000</td>\n",
       "      <td>71.333333</td>\n",
       "      <td>NaN</td>\n",
       "    </tr>\n",
       "    <tr>\n",
       "      <th>Chile</th>\n",
       "      <td>29.782609</td>\n",
       "      <td>177.304348</td>\n",
       "      <td>74.869565</td>\n",
       "      <td>9.586957e+06</td>\n",
       "      <td>42565.217391</td>\n",
       "      <td>1.956522</td>\n",
       "      <td>82.500000</td>\n",
       "      <td>78.600000</td>\n",
       "      <td>73.000000</td>\n",
       "      <td>NaN</td>\n",
       "      <td>85.000000</td>\n",
       "      <td>78.800000</td>\n",
       "      <td>76.000000</td>\n",
       "      <td>NaN</td>\n",
       "    </tr>\n",
       "    <tr>\n",
       "      <th>Colombia</th>\n",
       "      <td>27.956522</td>\n",
       "      <td>180.130435</td>\n",
       "      <td>76.695652</td>\n",
       "      <td>1.131304e+07</td>\n",
       "      <td>43608.695652</td>\n",
       "      <td>1.695652</td>\n",
       "      <td>78.666667</td>\n",
       "      <td>78.333333</td>\n",
       "      <td>76.000000</td>\n",
       "      <td>73.000000</td>\n",
       "      <td>80.000000</td>\n",
       "      <td>80.333333</td>\n",
       "      <td>77.750000</td>\n",
       "      <td>73.000000</td>\n",
       "    </tr>\n",
       "    <tr>\n",
       "      <th>Costa Rica</th>\n",
       "      <td>26.107143</td>\n",
       "      <td>180.678571</td>\n",
       "      <td>74.821429</td>\n",
       "      <td>3.228036e+06</td>\n",
       "      <td>19035.714286</td>\n",
       "      <td>1.250000</td>\n",
       "      <td>68.000000</td>\n",
       "      <td>72.000000</td>\n",
       "      <td>70.000000</td>\n",
       "      <td>85.000000</td>\n",
       "      <td>68.500000</td>\n",
       "      <td>73.000000</td>\n",
       "      <td>71.333333</td>\n",
       "      <td>85.000000</td>\n",
       "    </tr>\n",
       "    <tr>\n",
       "      <th>Croatia</th>\n",
       "      <td>24.861111</td>\n",
       "      <td>184.555556</td>\n",
       "      <td>78.425926</td>\n",
       "      <td>5.164815e+06</td>\n",
       "      <td>24564.814815</td>\n",
       "      <td>1.305556</td>\n",
       "      <td>71.625000</td>\n",
       "      <td>74.384615</td>\n",
       "      <td>69.062500</td>\n",
       "      <td>76.000000</td>\n",
       "      <td>73.500000</td>\n",
       "      <td>76.846154</td>\n",
       "      <td>71.875000</td>\n",
       "      <td>80.666667</td>\n",
       "    </tr>\n",
       "    <tr>\n",
       "      <th>Ecuador</th>\n",
       "      <td>28.695652</td>\n",
       "      <td>178.043478</td>\n",
       "      <td>75.913043</td>\n",
       "      <td>2.926087e+06</td>\n",
       "      <td>19521.739130</td>\n",
       "      <td>1.173913</td>\n",
       "      <td>74.000000</td>\n",
       "      <td>72.000000</td>\n",
       "      <td>74.750000</td>\n",
       "      <td>NaN</td>\n",
       "      <td>74.500000</td>\n",
       "      <td>79.000000</td>\n",
       "      <td>77.250000</td>\n",
       "      <td>NaN</td>\n",
       "    </tr>\n",
       "    <tr>\n",
       "      <th>England</th>\n",
       "      <td>25.739130</td>\n",
       "      <td>183.173913</td>\n",
       "      <td>77.782609</td>\n",
       "      <td>2.145652e+07</td>\n",
       "      <td>107304.347826</td>\n",
       "      <td>2.478261</td>\n",
       "      <td>83.500000</td>\n",
       "      <td>80.600000</td>\n",
       "      <td>81.166667</td>\n",
       "      <td>81.333333</td>\n",
       "      <td>85.500000</td>\n",
       "      <td>85.200000</td>\n",
       "      <td>82.833333</td>\n",
       "      <td>83.333333</td>\n",
       "    </tr>\n",
       "    <tr>\n",
       "      <th>France</th>\n",
       "      <td>24.869565</td>\n",
       "      <td>181.478261</td>\n",
       "      <td>75.521739</td>\n",
       "      <td>3.163043e+07</td>\n",
       "      <td>106826.086957</td>\n",
       "      <td>2.826087</td>\n",
       "      <td>84.600000</td>\n",
       "      <td>84.000000</td>\n",
       "      <td>82.200000</td>\n",
       "      <td>83.000000</td>\n",
       "      <td>89.800000</td>\n",
       "      <td>88.800000</td>\n",
       "      <td>86.600000</td>\n",
       "      <td>85.333333</td>\n",
       "    </tr>\n",
       "    <tr>\n",
       "      <th>Germany</th>\n",
       "      <td>25.521739</td>\n",
       "      <td>186.000000</td>\n",
       "      <td>81.521739</td>\n",
       "      <td>3.326087e+07</td>\n",
       "      <td>123913.043478</td>\n",
       "      <td>3.043478</td>\n",
       "      <td>83.000000</td>\n",
       "      <td>85.000000</td>\n",
       "      <td>84.600000</td>\n",
       "      <td>87.333333</td>\n",
       "      <td>85.000000</td>\n",
       "      <td>85.250000</td>\n",
       "      <td>87.400000</td>\n",
       "      <td>89.666667</td>\n",
       "    </tr>\n",
       "    <tr>\n",
       "      <th>Ghana</th>\n",
       "      <td>23.539130</td>\n",
       "      <td>178.434783</td>\n",
       "      <td>72.808696</td>\n",
       "      <td>2.335174e+06</td>\n",
       "      <td>11486.956522</td>\n",
       "      <td>1.121739</td>\n",
       "      <td>68.272727</td>\n",
       "      <td>68.833333</td>\n",
       "      <td>66.625000</td>\n",
       "      <td>NaN</td>\n",
       "      <td>72.818182</td>\n",
       "      <td>74.222222</td>\n",
       "      <td>70.250000</td>\n",
       "      <td>NaN</td>\n",
       "    </tr>\n",
       "    <tr>\n",
       "      <th>Greece</th>\n",
       "      <td>26.260870</td>\n",
       "      <td>184.173913</td>\n",
       "      <td>78.913043</td>\n",
       "      <td>7.852174e+06</td>\n",
       "      <td>20608.695652</td>\n",
       "      <td>1.565217</td>\n",
       "      <td>NaN</td>\n",
       "      <td>73.250000</td>\n",
       "      <td>77.000000</td>\n",
       "      <td>67.000000</td>\n",
       "      <td>NaN</td>\n",
       "      <td>75.750000</td>\n",
       "      <td>79.200000</td>\n",
       "      <td>70.000000</td>\n",
       "    </tr>\n",
       "    <tr>\n",
       "      <th>Holland</th>\n",
       "      <td>25.739130</td>\n",
       "      <td>183.434783</td>\n",
       "      <td>78.086957</td>\n",
       "      <td>1.698696e+07</td>\n",
       "      <td>70782.608696</td>\n",
       "      <td>2.391304</td>\n",
       "      <td>81.000000</td>\n",
       "      <td>81.142857</td>\n",
       "      <td>78.000000</td>\n",
       "      <td>79.000000</td>\n",
       "      <td>83.500000</td>\n",
       "      <td>83.857143</td>\n",
       "      <td>84.400000</td>\n",
       "      <td>82.000000</td>\n",
       "    </tr>\n",
       "    <tr>\n",
       "      <th>Honduras</th>\n",
       "      <td>27.384615</td>\n",
       "      <td>180.076923</td>\n",
       "      <td>77.153846</td>\n",
       "      <td>2.126923e+06</td>\n",
       "      <td>9692.307692</td>\n",
       "      <td>1.153846</td>\n",
       "      <td>71.500000</td>\n",
       "      <td>71.000000</td>\n",
       "      <td>70.750000</td>\n",
       "      <td>NaN</td>\n",
       "      <td>75.250000</td>\n",
       "      <td>71.000000</td>\n",
       "      <td>71.750000</td>\n",
       "      <td>NaN</td>\n",
       "    </tr>\n",
       "    <tr>\n",
       "      <th>Iran</th>\n",
       "      <td>24.882353</td>\n",
       "      <td>183.058824</td>\n",
       "      <td>77.411765</td>\n",
       "      <td>2.822353e+06</td>\n",
       "      <td>9117.647059</td>\n",
       "      <td>1.000000</td>\n",
       "      <td>73.000000</td>\n",
       "      <td>69.000000</td>\n",
       "      <td>73.000000</td>\n",
       "      <td>71.000000</td>\n",
       "      <td>77.000000</td>\n",
       "      <td>69.000000</td>\n",
       "      <td>80.000000</td>\n",
       "      <td>71.000000</td>\n",
       "    </tr>\n",
       "    <tr>\n",
       "      <th>Italy</th>\n",
       "      <td>27.173913</td>\n",
       "      <td>183.304348</td>\n",
       "      <td>77.434783</td>\n",
       "      <td>2.208696e+07</td>\n",
       "      <td>92739.130435</td>\n",
       "      <td>2.652174</td>\n",
       "      <td>82.250000</td>\n",
       "      <td>80.833333</td>\n",
       "      <td>84.000000</td>\n",
       "      <td>84.666667</td>\n",
       "      <td>85.500000</td>\n",
       "      <td>82.500000</td>\n",
       "      <td>86.666667</td>\n",
       "      <td>90.333333</td>\n",
       "    </tr>\n",
       "    <tr>\n",
       "      <th>Ivory Coast</th>\n",
       "      <td>26.000000</td>\n",
       "      <td>181.913043</td>\n",
       "      <td>77.086957</td>\n",
       "      <td>8.673913e+06</td>\n",
       "      <td>30173.913043</td>\n",
       "      <td>1.608696</td>\n",
       "      <td>75.333333</td>\n",
       "      <td>79.750000</td>\n",
       "      <td>77.500000</td>\n",
       "      <td>69.000000</td>\n",
       "      <td>78.000000</td>\n",
       "      <td>83.250000</td>\n",
       "      <td>81.000000</td>\n",
       "      <td>74.000000</td>\n",
       "    </tr>\n",
       "    <tr>\n",
       "      <th>Japan</th>\n",
       "      <td>26.654348</td>\n",
       "      <td>177.647826</td>\n",
       "      <td>71.606522</td>\n",
       "      <td>8.114783e+05</td>\n",
       "      <td>4093.478261</td>\n",
       "      <td>1.058696</td>\n",
       "      <td>69.181818</td>\n",
       "      <td>66.750000</td>\n",
       "      <td>64.983871</td>\n",
       "      <td>65.384615</td>\n",
       "      <td>70.772727</td>\n",
       "      <td>68.455882</td>\n",
       "      <td>67.112903</td>\n",
       "      <td>67.230769</td>\n",
       "    </tr>\n",
       "    <tr>\n",
       "      <th>Mexico</th>\n",
       "      <td>26.304348</td>\n",
       "      <td>179.565217</td>\n",
       "      <td>73.869565</td>\n",
       "      <td>1.066087e+07</td>\n",
       "      <td>34652.173913</td>\n",
       "      <td>2.043478</td>\n",
       "      <td>79.666667</td>\n",
       "      <td>76.875000</td>\n",
       "      <td>73.666667</td>\n",
       "      <td>76.333333</td>\n",
       "      <td>82.000000</td>\n",
       "      <td>79.625000</td>\n",
       "      <td>76.666667</td>\n",
       "      <td>76.333333</td>\n",
       "    </tr>\n",
       "    <tr>\n",
       "      <th>Nigeria</th>\n",
       "      <td>23.454545</td>\n",
       "      <td>182.214876</td>\n",
       "      <td>76.727273</td>\n",
       "      <td>2.340950e+06</td>\n",
       "      <td>12760.330579</td>\n",
       "      <td>1.115702</td>\n",
       "      <td>68.863636</td>\n",
       "      <td>69.933333</td>\n",
       "      <td>69.000000</td>\n",
       "      <td>NaN</td>\n",
       "      <td>73.636364</td>\n",
       "      <td>76.466667</td>\n",
       "      <td>74.000000</td>\n",
       "      <td>NaN</td>\n",
       "    </tr>\n",
       "    <tr>\n",
       "      <th>Portugal</th>\n",
       "      <td>27.565217</td>\n",
       "      <td>180.652174</td>\n",
       "      <td>75.130435</td>\n",
       "      <td>1.948696e+07</td>\n",
       "      <td>72826.086957</td>\n",
       "      <td>2.695652</td>\n",
       "      <td>74.000000</td>\n",
       "      <td>82.428571</td>\n",
       "      <td>79.666667</td>\n",
       "      <td>78.666667</td>\n",
       "      <td>77.000000</td>\n",
       "      <td>85.000000</td>\n",
       "      <td>81.166667</td>\n",
       "      <td>80.666667</td>\n",
       "    </tr>\n",
       "    <tr>\n",
       "      <th>Russia</th>\n",
       "      <td>28.000000</td>\n",
       "      <td>185.304348</td>\n",
       "      <td>78.304348</td>\n",
       "      <td>6.773913e+06</td>\n",
       "      <td>43956.521739</td>\n",
       "      <td>1.391304</td>\n",
       "      <td>75.666667</td>\n",
       "      <td>76.333333</td>\n",
       "      <td>74.833333</td>\n",
       "      <td>77.000000</td>\n",
       "      <td>78.333333</td>\n",
       "      <td>77.833333</td>\n",
       "      <td>76.333333</td>\n",
       "      <td>77.000000</td>\n",
       "    </tr>\n",
       "    <tr>\n",
       "      <th>South Korea</th>\n",
       "      <td>25.851964</td>\n",
       "      <td>181.326284</td>\n",
       "      <td>74.181269</td>\n",
       "      <td>9.782779e+05</td>\n",
       "      <td>3858.006042</td>\n",
       "      <td>1.075529</td>\n",
       "      <td>66.750000</td>\n",
       "      <td>67.560976</td>\n",
       "      <td>65.500000</td>\n",
       "      <td>67.705882</td>\n",
       "      <td>69.200000</td>\n",
       "      <td>70.756098</td>\n",
       "      <td>68.636364</td>\n",
       "      <td>69.941176</td>\n",
       "    </tr>\n",
       "    <tr>\n",
       "      <th>Spain</th>\n",
       "      <td>27.227273</td>\n",
       "      <td>180.227273</td>\n",
       "      <td>75.090909</td>\n",
       "      <td>3.634091e+07</td>\n",
       "      <td>165000.000000</td>\n",
       "      <td>3.090909</td>\n",
       "      <td>83.000000</td>\n",
       "      <td>86.250000</td>\n",
       "      <td>85.333333</td>\n",
       "      <td>84.333333</td>\n",
       "      <td>84.800000</td>\n",
       "      <td>87.750000</td>\n",
       "      <td>86.500000</td>\n",
       "      <td>87.333333</td>\n",
       "    </tr>\n",
       "    <tr>\n",
       "      <th>Switzerland</th>\n",
       "      <td>26.869565</td>\n",
       "      <td>184.086957</td>\n",
       "      <td>79.608696</td>\n",
       "      <td>1.056957e+07</td>\n",
       "      <td>45478.260870</td>\n",
       "      <td>1.956522</td>\n",
       "      <td>78.000000</td>\n",
       "      <td>77.142857</td>\n",
       "      <td>76.250000</td>\n",
       "      <td>82.000000</td>\n",
       "      <td>81.500000</td>\n",
       "      <td>78.714286</td>\n",
       "      <td>79.125000</td>\n",
       "      <td>83.000000</td>\n",
       "    </tr>\n",
       "    <tr>\n",
       "      <th>USA</th>\n",
       "      <td>27.478261</td>\n",
       "      <td>182.000000</td>\n",
       "      <td>76.608696</td>\n",
       "      <td>5.708696e+06</td>\n",
       "      <td>18782.608696</td>\n",
       "      <td>1.521739</td>\n",
       "      <td>76.333333</td>\n",
       "      <td>74.125000</td>\n",
       "      <td>71.800000</td>\n",
       "      <td>74.000000</td>\n",
       "      <td>82.000000</td>\n",
       "      <td>77.000000</td>\n",
       "      <td>72.000000</td>\n",
       "      <td>77.000000</td>\n",
       "    </tr>\n",
       "    <tr>\n",
       "      <th>Uruguay</th>\n",
       "      <td>27.913043</td>\n",
       "      <td>181.173913</td>\n",
       "      <td>76.739130</td>\n",
       "      <td>1.541522e+07</td>\n",
       "      <td>56956.521739</td>\n",
       "      <td>1.956522</td>\n",
       "      <td>82.500000</td>\n",
       "      <td>76.000000</td>\n",
       "      <td>81.200000</td>\n",
       "      <td>80.500000</td>\n",
       "      <td>82.500000</td>\n",
       "      <td>78.600000</td>\n",
       "      <td>83.600000</td>\n",
       "      <td>82.000000</td>\n",
       "    </tr>\n",
       "  </tbody>\n",
       "</table>\n",
       "</div>"
      ],
      "text/plain": [
       "                          age   height_cm  weight_kg     value_eur  \\\n",
       "nationality                                                          \n",
       "Algeria             26.571429  181.678571  74.892857  4.766250e+06   \n",
       "Argentina           27.478261  180.043478  75.347826  2.604348e+07   \n",
       "Australia           26.434783  183.260870  77.695652  3.246739e+06   \n",
       "Belgium             26.521739  185.434783  80.913043  2.971739e+07   \n",
       "Bosnia-Herzegovina  26.178571  185.625000  79.196429  4.383839e+06   \n",
       "Brazil              27.347826  180.043478  75.478261  2.719565e+07   \n",
       "Cameroon            24.608696  182.478261  77.652174  1.886522e+06   \n",
       "Chile               29.782609  177.304348  74.869565  9.586957e+06   \n",
       "Colombia            27.956522  180.130435  76.695652  1.131304e+07   \n",
       "Costa Rica          26.107143  180.678571  74.821429  3.228036e+06   \n",
       "Croatia             24.861111  184.555556  78.425926  5.164815e+06   \n",
       "Ecuador             28.695652  178.043478  75.913043  2.926087e+06   \n",
       "England             25.739130  183.173913  77.782609  2.145652e+07   \n",
       "France              24.869565  181.478261  75.521739  3.163043e+07   \n",
       "Germany             25.521739  186.000000  81.521739  3.326087e+07   \n",
       "Ghana               23.539130  178.434783  72.808696  2.335174e+06   \n",
       "Greece              26.260870  184.173913  78.913043  7.852174e+06   \n",
       "Holland             25.739130  183.434783  78.086957  1.698696e+07   \n",
       "Honduras            27.384615  180.076923  77.153846  2.126923e+06   \n",
       "Iran                24.882353  183.058824  77.411765  2.822353e+06   \n",
       "Italy               27.173913  183.304348  77.434783  2.208696e+07   \n",
       "Ivory Coast         26.000000  181.913043  77.086957  8.673913e+06   \n",
       "Japan               26.654348  177.647826  71.606522  8.114783e+05   \n",
       "Mexico              26.304348  179.565217  73.869565  1.066087e+07   \n",
       "Nigeria             23.454545  182.214876  76.727273  2.340950e+06   \n",
       "Portugal            27.565217  180.652174  75.130435  1.948696e+07   \n",
       "Russia              28.000000  185.304348  78.304348  6.773913e+06   \n",
       "South Korea         25.851964  181.326284  74.181269  9.782779e+05   \n",
       "Spain               27.227273  180.227273  75.090909  3.634091e+07   \n",
       "Switzerland         26.869565  184.086957  79.608696  1.056957e+07   \n",
       "USA                 27.478261  182.000000  76.608696  5.708696e+06   \n",
       "Uruguay             27.913043  181.173913  76.739130  1.541522e+07   \n",
       "\n",
       "                         wage_eur  international_reputation  ovr_forwards  \\\n",
       "nationality                                                                 \n",
       "Algeria              17892.857143                  1.321429     69.333333   \n",
       "Argentina           106913.043478                  2.608696     84.400000   \n",
       "Australia            15565.217391                  1.173913     72.000000   \n",
       "Belgium             115608.695652                  2.826087     85.750000   \n",
       "Bosnia-Herzegovina   20196.428571                  1.267857     79.666667   \n",
       "Brazil              112782.608696                  2.826087     85.333333   \n",
       "Cameroon              5826.086957                  1.173913     77.000000   \n",
       "Chile                42565.217391                  1.956522     82.500000   \n",
       "Colombia             43608.695652                  1.695652     78.666667   \n",
       "Costa Rica           19035.714286                  1.250000     68.000000   \n",
       "Croatia              24564.814815                  1.305556     71.625000   \n",
       "Ecuador              19521.739130                  1.173913     74.000000   \n",
       "England             107304.347826                  2.478261     83.500000   \n",
       "France              106826.086957                  2.826087     84.600000   \n",
       "Germany             123913.043478                  3.043478     83.000000   \n",
       "Ghana                11486.956522                  1.121739     68.272727   \n",
       "Greece               20608.695652                  1.565217           NaN   \n",
       "Holland              70782.608696                  2.391304     81.000000   \n",
       "Honduras              9692.307692                  1.153846     71.500000   \n",
       "Iran                  9117.647059                  1.000000     73.000000   \n",
       "Italy                92739.130435                  2.652174     82.250000   \n",
       "Ivory Coast          30173.913043                  1.608696     75.333333   \n",
       "Japan                 4093.478261                  1.058696     69.181818   \n",
       "Mexico               34652.173913                  2.043478     79.666667   \n",
       "Nigeria              12760.330579                  1.115702     68.863636   \n",
       "Portugal             72826.086957                  2.695652     74.000000   \n",
       "Russia               43956.521739                  1.391304     75.666667   \n",
       "South Korea           3858.006042                  1.075529     66.750000   \n",
       "Spain               165000.000000                  3.090909     83.000000   \n",
       "Switzerland          45478.260870                  1.956522     78.000000   \n",
       "USA                  18782.608696                  1.521739     76.333333   \n",
       "Uruguay              56956.521739                  1.956522     82.500000   \n",
       "\n",
       "                     ovr_mids   ovr_defs    ovr_gks  ptl_forwards   ptl_mids  \\\n",
       "nationality                                                                    \n",
       "Algeria             73.312500  73.500000  65.000000     72.000000  75.312500   \n",
       "Argentina           81.600000  82.500000  80.500000     85.600000  85.800000   \n",
       "Australia           71.857143  70.000000  73.500000     73.500000  73.571429   \n",
       "Belgium             82.333333  85.333333  82.666667     87.500000  85.500000   \n",
       "Bosnia-Herzegovina  72.900000  69.400000  76.000000     79.666667  74.000000   \n",
       "Brazil              83.200000  85.500000  81.000000     91.000000  84.800000   \n",
       "Cameroon            67.500000  67.666667        NaN     80.500000  72.500000   \n",
       "Chile               78.600000  73.000000        NaN     85.000000  78.800000   \n",
       "Colombia            78.333333  76.000000  73.000000     80.000000  80.333333   \n",
       "Costa Rica          72.000000  70.000000  85.000000     68.500000  73.000000   \n",
       "Croatia             74.384615  69.062500  76.000000     73.500000  76.846154   \n",
       "Ecuador             72.000000  74.750000        NaN     74.500000  79.000000   \n",
       "England             80.600000  81.166667  81.333333     85.500000  85.200000   \n",
       "France              84.000000  82.200000  83.000000     89.800000  88.800000   \n",
       "Germany             85.000000  84.600000  87.333333     85.000000  85.250000   \n",
       "Ghana               68.833333  66.625000        NaN     72.818182  74.222222   \n",
       "Greece              73.250000  77.000000  67.000000           NaN  75.750000   \n",
       "Holland             81.142857  78.000000  79.000000     83.500000  83.857143   \n",
       "Honduras            71.000000  70.750000        NaN     75.250000  71.000000   \n",
       "Iran                69.000000  73.000000  71.000000     77.000000  69.000000   \n",
       "Italy               80.833333  84.000000  84.666667     85.500000  82.500000   \n",
       "Ivory Coast         79.750000  77.500000  69.000000     78.000000  83.250000   \n",
       "Japan               66.750000  64.983871  65.384615     70.772727  68.455882   \n",
       "Mexico              76.875000  73.666667  76.333333     82.000000  79.625000   \n",
       "Nigeria             69.933333  69.000000        NaN     73.636364  76.466667   \n",
       "Portugal            82.428571  79.666667  78.666667     77.000000  85.000000   \n",
       "Russia              76.333333  74.833333  77.000000     78.333333  77.833333   \n",
       "South Korea         67.560976  65.500000  67.705882     69.200000  70.756098   \n",
       "Spain               86.250000  85.333333  84.333333     84.800000  87.750000   \n",
       "Switzerland         77.142857  76.250000  82.000000     81.500000  78.714286   \n",
       "USA                 74.125000  71.800000  74.000000     82.000000  77.000000   \n",
       "Uruguay             76.000000  81.200000  80.500000     82.500000  78.600000   \n",
       "\n",
       "                     ptl_defs    ptl_gks  \n",
       "nationality                               \n",
       "Algeria             76.500000  65.000000  \n",
       "Argentina           82.500000  83.500000  \n",
       "Australia           77.000000  75.000000  \n",
       "Belgium             85.666667  84.666667  \n",
       "Bosnia-Herzegovina  71.900000  76.000000  \n",
       "Brazil              86.500000  84.333333  \n",
       "Cameroon            71.333333        NaN  \n",
       "Chile               76.000000        NaN  \n",
       "Colombia            77.750000  73.000000  \n",
       "Costa Rica          71.333333  85.000000  \n",
       "Croatia             71.875000  80.666667  \n",
       "Ecuador             77.250000        NaN  \n",
       "England             82.833333  83.333333  \n",
       "France              86.600000  85.333333  \n",
       "Germany             87.400000  89.666667  \n",
       "Ghana               70.250000        NaN  \n",
       "Greece              79.200000  70.000000  \n",
       "Holland             84.400000  82.000000  \n",
       "Honduras            71.750000        NaN  \n",
       "Iran                80.000000  71.000000  \n",
       "Italy               86.666667  90.333333  \n",
       "Ivory Coast         81.000000  74.000000  \n",
       "Japan               67.112903  67.230769  \n",
       "Mexico              76.666667  76.333333  \n",
       "Nigeria             74.000000        NaN  \n",
       "Portugal            81.166667  80.666667  \n",
       "Russia              76.333333  77.000000  \n",
       "South Korea         68.636364  69.941176  \n",
       "Spain               86.500000  87.333333  \n",
       "Switzerland         79.125000  83.000000  \n",
       "USA                 72.000000  77.000000  \n",
       "Uruguay             83.600000  82.000000  "
      ]
     },
     "execution_count": 71,
     "metadata": {},
     "output_type": "execute_result"
    }
   ],
   "source": [
    "df.head(3)"
   ]
  },
  {
   "cell_type": "markdown",
   "metadata": {},
   "source": [
    "### Imputing missing values from FutHead.com \n",
    "This website contains all the player ratings for the online version of FIFA (Ultimate Team). I will be taking the top 3 rated players by position to impute the `ovr_gks` missing values as that is how the International Call-ups are made. I will then take the average of those three goalies. "
   ]
  },
  {
   "cell_type": "code",
   "execution_count": 72,
   "metadata": {},
   "outputs": [
    {
     "data": {
      "text/plain": [
       "age                         0\n",
       "height_cm                   0\n",
       "weight_kg                   0\n",
       "value_eur                   0\n",
       "wage_eur                    0\n",
       "international_reputation    0\n",
       "ovr_forwards                1\n",
       "ovr_mids                    0\n",
       "ovr_defs                    0\n",
       "ovr_gks                     6\n",
       "ptl_forwards                1\n",
       "ptl_mids                    0\n",
       "ptl_defs                    0\n",
       "ptl_gks                     6\n",
       "dtype: int64"
      ]
     },
     "execution_count": 72,
     "metadata": {},
     "output_type": "execute_result"
    }
   ],
   "source": [
    "df.isnull().sum()"
   ]
  },
  {
   "cell_type": "code",
   "execution_count": 73,
   "metadata": {},
   "outputs": [],
   "source": [
    "Honduras_gks = [71,62,58]\n",
    "Cameroon_gks = [75,70]\n",
    "Chile_gks = [81,73,73]\n",
    "Ecuador_gks = [71,62,58]\n",
    "Ghana_gks = [70,68]\n",
    "Greece_fws = [76,75,77]\n",
    "Nigeria_gks = [79,68]\n",
    "country_list = [\n",
    "    'Cameroon',\n",
    "    'Chile',\n",
    "    'Ecuador',\n",
    "    'Ghana',\n",
    "    'Honduras',\n",
    "    'Nigeria'\n",
    "]\n",
    "ratings_gk = [\n",
    "    Cameroon_gks,\n",
    "    Chile_gks,\n",
    "    Ecuador_gks,\n",
    "    Ghana_gks,\n",
    "    Honduras_gks,\n",
    "    Nigeria_gks\n",
    "]\n",
    "\n"
   ]
  },
  {
   "cell_type": "code",
   "execution_count": 74,
   "metadata": {
    "scrolled": true
   },
   "outputs": [],
   "source": [
    "for i in range(len(country_list)):\n",
    "    df.loc[country_list[i]]['ovr_gks'] = np.mean(ratings_gk[i])"
   ]
  },
  {
   "cell_type": "code",
   "execution_count": 75,
   "metadata": {},
   "outputs": [],
   "source": [
    "df.loc['Greece']['ovr_forwards'] = np.mean(Greece_fws)"
   ]
  },
  {
   "cell_type": "code",
   "execution_count": 76,
   "metadata": {
    "scrolled": true
   },
   "outputs": [
    {
     "data": {
      "text/html": [
       "<div>\n",
       "<style scoped>\n",
       "    .dataframe tbody tr th:only-of-type {\n",
       "        vertical-align: middle;\n",
       "    }\n",
       "\n",
       "    .dataframe tbody tr th {\n",
       "        vertical-align: top;\n",
       "    }\n",
       "\n",
       "    .dataframe thead th {\n",
       "        text-align: right;\n",
       "    }\n",
       "</style>\n",
       "<table border=\"1\" class=\"dataframe\">\n",
       "  <thead>\n",
       "    <tr style=\"text-align: right;\">\n",
       "      <th></th>\n",
       "      <th>age</th>\n",
       "      <th>height_cm</th>\n",
       "      <th>weight_kg</th>\n",
       "      <th>value_eur</th>\n",
       "      <th>wage_eur</th>\n",
       "      <th>international_reputation</th>\n",
       "      <th>ovr_forwards</th>\n",
       "      <th>ovr_mids</th>\n",
       "      <th>ovr_defs</th>\n",
       "      <th>ovr_gks</th>\n",
       "      <th>ptl_forwards</th>\n",
       "      <th>ptl_mids</th>\n",
       "      <th>ptl_defs</th>\n",
       "      <th>ptl_gks</th>\n",
       "    </tr>\n",
       "    <tr>\n",
       "      <th>nationality</th>\n",
       "      <th></th>\n",
       "      <th></th>\n",
       "      <th></th>\n",
       "      <th></th>\n",
       "      <th></th>\n",
       "      <th></th>\n",
       "      <th></th>\n",
       "      <th></th>\n",
       "      <th></th>\n",
       "      <th></th>\n",
       "      <th></th>\n",
       "      <th></th>\n",
       "      <th></th>\n",
       "      <th></th>\n",
       "    </tr>\n",
       "  </thead>\n",
       "  <tbody>\n",
       "    <tr>\n",
       "      <th>Cameroon</th>\n",
       "      <td>24.608696</td>\n",
       "      <td>182.478261</td>\n",
       "      <td>77.652174</td>\n",
       "      <td>1.886522e+06</td>\n",
       "      <td>5826.086957</td>\n",
       "      <td>1.173913</td>\n",
       "      <td>77.000000</td>\n",
       "      <td>67.500000</td>\n",
       "      <td>67.666667</td>\n",
       "      <td>72.500000</td>\n",
       "      <td>80.500000</td>\n",
       "      <td>72.500000</td>\n",
       "      <td>71.333333</td>\n",
       "      <td>NaN</td>\n",
       "    </tr>\n",
       "    <tr>\n",
       "      <th>Chile</th>\n",
       "      <td>29.782609</td>\n",
       "      <td>177.304348</td>\n",
       "      <td>74.869565</td>\n",
       "      <td>9.586957e+06</td>\n",
       "      <td>42565.217391</td>\n",
       "      <td>1.956522</td>\n",
       "      <td>82.500000</td>\n",
       "      <td>78.600000</td>\n",
       "      <td>73.000000</td>\n",
       "      <td>75.666667</td>\n",
       "      <td>85.000000</td>\n",
       "      <td>78.800000</td>\n",
       "      <td>76.000000</td>\n",
       "      <td>NaN</td>\n",
       "    </tr>\n",
       "    <tr>\n",
       "      <th>Ecuador</th>\n",
       "      <td>28.695652</td>\n",
       "      <td>178.043478</td>\n",
       "      <td>75.913043</td>\n",
       "      <td>2.926087e+06</td>\n",
       "      <td>19521.739130</td>\n",
       "      <td>1.173913</td>\n",
       "      <td>74.000000</td>\n",
       "      <td>72.000000</td>\n",
       "      <td>74.750000</td>\n",
       "      <td>63.666667</td>\n",
       "      <td>74.500000</td>\n",
       "      <td>79.000000</td>\n",
       "      <td>77.250000</td>\n",
       "      <td>NaN</td>\n",
       "    </tr>\n",
       "    <tr>\n",
       "      <th>Ghana</th>\n",
       "      <td>23.539130</td>\n",
       "      <td>178.434783</td>\n",
       "      <td>72.808696</td>\n",
       "      <td>2.335174e+06</td>\n",
       "      <td>11486.956522</td>\n",
       "      <td>1.121739</td>\n",
       "      <td>68.272727</td>\n",
       "      <td>68.833333</td>\n",
       "      <td>66.625000</td>\n",
       "      <td>69.000000</td>\n",
       "      <td>72.818182</td>\n",
       "      <td>74.222222</td>\n",
       "      <td>70.250000</td>\n",
       "      <td>NaN</td>\n",
       "    </tr>\n",
       "    <tr>\n",
       "      <th>Greece</th>\n",
       "      <td>26.260870</td>\n",
       "      <td>184.173913</td>\n",
       "      <td>78.913043</td>\n",
       "      <td>7.852174e+06</td>\n",
       "      <td>20608.695652</td>\n",
       "      <td>1.565217</td>\n",
       "      <td>76.000000</td>\n",
       "      <td>73.250000</td>\n",
       "      <td>77.000000</td>\n",
       "      <td>67.000000</td>\n",
       "      <td>NaN</td>\n",
       "      <td>75.750000</td>\n",
       "      <td>79.200000</td>\n",
       "      <td>70.0</td>\n",
       "    </tr>\n",
       "    <tr>\n",
       "      <th>Honduras</th>\n",
       "      <td>27.384615</td>\n",
       "      <td>180.076923</td>\n",
       "      <td>77.153846</td>\n",
       "      <td>2.126923e+06</td>\n",
       "      <td>9692.307692</td>\n",
       "      <td>1.153846</td>\n",
       "      <td>71.500000</td>\n",
       "      <td>71.000000</td>\n",
       "      <td>70.750000</td>\n",
       "      <td>63.666667</td>\n",
       "      <td>75.250000</td>\n",
       "      <td>71.000000</td>\n",
       "      <td>71.750000</td>\n",
       "      <td>NaN</td>\n",
       "    </tr>\n",
       "    <tr>\n",
       "      <th>Nigeria</th>\n",
       "      <td>23.454545</td>\n",
       "      <td>182.214876</td>\n",
       "      <td>76.727273</td>\n",
       "      <td>2.340950e+06</td>\n",
       "      <td>12760.330579</td>\n",
       "      <td>1.115702</td>\n",
       "      <td>68.863636</td>\n",
       "      <td>69.933333</td>\n",
       "      <td>69.000000</td>\n",
       "      <td>73.500000</td>\n",
       "      <td>73.636364</td>\n",
       "      <td>76.466667</td>\n",
       "      <td>74.000000</td>\n",
       "      <td>NaN</td>\n",
       "    </tr>\n",
       "  </tbody>\n",
       "</table>\n",
       "</div>"
      ],
      "text/plain": [
       "                   age   height_cm  weight_kg     value_eur      wage_eur  \\\n",
       "nationality                                                                 \n",
       "Cameroon     24.608696  182.478261  77.652174  1.886522e+06   5826.086957   \n",
       "Chile        29.782609  177.304348  74.869565  9.586957e+06  42565.217391   \n",
       "Ecuador      28.695652  178.043478  75.913043  2.926087e+06  19521.739130   \n",
       "Ghana        23.539130  178.434783  72.808696  2.335174e+06  11486.956522   \n",
       "Greece       26.260870  184.173913  78.913043  7.852174e+06  20608.695652   \n",
       "Honduras     27.384615  180.076923  77.153846  2.126923e+06   9692.307692   \n",
       "Nigeria      23.454545  182.214876  76.727273  2.340950e+06  12760.330579   \n",
       "\n",
       "             international_reputation  ovr_forwards   ovr_mids   ovr_defs  \\\n",
       "nationality                                                                 \n",
       "Cameroon                     1.173913     77.000000  67.500000  67.666667   \n",
       "Chile                        1.956522     82.500000  78.600000  73.000000   \n",
       "Ecuador                      1.173913     74.000000  72.000000  74.750000   \n",
       "Ghana                        1.121739     68.272727  68.833333  66.625000   \n",
       "Greece                       1.565217     76.000000  73.250000  77.000000   \n",
       "Honduras                     1.153846     71.500000  71.000000  70.750000   \n",
       "Nigeria                      1.115702     68.863636  69.933333  69.000000   \n",
       "\n",
       "               ovr_gks  ptl_forwards   ptl_mids   ptl_defs  ptl_gks  \n",
       "nationality                                                          \n",
       "Cameroon     72.500000     80.500000  72.500000  71.333333      NaN  \n",
       "Chile        75.666667     85.000000  78.800000  76.000000      NaN  \n",
       "Ecuador      63.666667     74.500000  79.000000  77.250000      NaN  \n",
       "Ghana        69.000000     72.818182  74.222222  70.250000      NaN  \n",
       "Greece       67.000000           NaN  75.750000  79.200000     70.0  \n",
       "Honduras     63.666667     75.250000  71.000000  71.750000      NaN  \n",
       "Nigeria      73.500000     73.636364  76.466667  74.000000      NaN  "
      ]
     },
     "execution_count": 76,
     "metadata": {},
     "output_type": "execute_result"
    }
   ],
   "source": [
    "df[(df['ptl_gks'].isnull() == True) ^ (df['ptl_forwards'].isnull() == True)]"
   ]
  },
  {
   "cell_type": "code",
   "execution_count": 77,
   "metadata": {},
   "outputs": [
    {
     "name": "stderr",
     "output_type": "stream",
     "text": [
      "/Users/matteocangiano/opt/anaconda3/envs/dsi/lib/python3.7/site-packages/ipykernel_launcher.py:2: SettingWithCopyWarning: \n",
      "A value is trying to be set on a copy of a slice from a DataFrame.\n",
      "Try using .loc[row_indexer,col_indexer] = value instead\n",
      "\n",
      "See the caveats in the documentation: https://pandas.pydata.org/pandas-docs/stable/user_guide/indexing.html#returning-a-view-versus-a-copy\n",
      "  \n"
     ]
    }
   ],
   "source": [
    "growth_gk = df[(df['ptl_gks'].isnull() == False) & (df['ptl_forwards'].isnull() == False)]\n",
    "growth_gk['pct_grwth_gk'] = (growth_gk['ptl_gks'] - growth_gk['ovr_gks']) / growth_gk['ovr_gks']"
   ]
  },
  {
   "cell_type": "code",
   "execution_count": 78,
   "metadata": {},
   "outputs": [],
   "source": [
    "avg_growth_gks = growth_gk['pct_grwth_gk'].mean()"
   ]
  },
  {
   "cell_type": "code",
   "execution_count": 79,
   "metadata": {
    "scrolled": true
   },
   "outputs": [
    {
     "name": "stderr",
     "output_type": "stream",
     "text": [
      "/Users/matteocangiano/opt/anaconda3/envs/dsi/lib/python3.7/site-packages/ipykernel_launcher.py:2: SettingWithCopyWarning: \n",
      "A value is trying to be set on a copy of a slice from a DataFrame.\n",
      "Try using .loc[row_indexer,col_indexer] = value instead\n",
      "\n",
      "See the caveats in the documentation: https://pandas.pydata.org/pandas-docs/stable/user_guide/indexing.html#returning-a-view-versus-a-copy\n",
      "  \n"
     ]
    }
   ],
   "source": [
    "growth_fwds = df[(df['ptl_gks'].isnull() == False) & (df['ptl_forwards'].isnull() == False)]\n",
    "growth_fwds['pct_grwth_fwds'] = (growth_fwds['ptl_forwards'] - growth_fwds['ovr_forwards']) / growth_fwds['ovr_forwards']\n",
    "avg_growth_fwds = growth_fwds['pct_grwth_fwds'].mean()"
   ]
  },
  {
   "cell_type": "code",
   "execution_count": 80,
   "metadata": {},
   "outputs": [
    {
     "name": "stdout",
     "output_type": "stream",
     "text": [
      "Average Growth Rate for FWDs: 3.15%\n",
      "Average Growth Rate for GKs: 2.54%\n"
     ]
    }
   ],
   "source": [
    "print(f'Average Growth Rate for FWDs: {round(100*avg_growth_fwds, 2)}%')\n",
    "print(f'Average Growth Rate for GKs: {round(100*avg_growth_gks, 2)}%')"
   ]
  },
  {
   "cell_type": "code",
   "execution_count": 81,
   "metadata": {},
   "outputs": [],
   "source": [
    "for i in range(len(country_list)):\n",
    "    df.loc[country_list[i]]['ptl_gks'] = (float(df.loc[country_list[i]]['ovr_gks']) * avg_growth_gks) + float(df.loc[country_list[i]]['ovr_gks'])"
   ]
  },
  {
   "cell_type": "code",
   "execution_count": 82,
   "metadata": {},
   "outputs": [],
   "source": [
    "df.loc['Greece']['ptl_forwards'] = (float(df.loc['Greece']['ovr_forwards']) * avg_growth_fwds) + float(df.loc['Greece']['ovr_forwards'])"
   ]
  },
  {
   "cell_type": "code",
   "execution_count": 83,
   "metadata": {},
   "outputs": [
    {
     "data": {
      "text/plain": [
       "ovr_gks    69.000000\n",
       "ptl_gks    70.752126\n",
       "Name: Ghana, dtype: float64"
      ]
     },
     "execution_count": 83,
     "metadata": {},
     "output_type": "execute_result"
    }
   ],
   "source": [
    "df.loc['Ghana'][['ovr_gks', 'ptl_gks']]"
   ]
  },
  {
   "cell_type": "code",
   "execution_count": 84,
   "metadata": {
    "scrolled": true
   },
   "outputs": [
    {
     "data": {
      "text/plain": [
       "age                         0\n",
       "height_cm                   0\n",
       "weight_kg                   0\n",
       "value_eur                   0\n",
       "wage_eur                    0\n",
       "international_reputation    0\n",
       "ovr_forwards                0\n",
       "ovr_mids                    0\n",
       "ovr_defs                    0\n",
       "ovr_gks                     0\n",
       "ptl_forwards                0\n",
       "ptl_mids                    0\n",
       "ptl_defs                    0\n",
       "ptl_gks                     0\n",
       "dtype: int64"
      ]
     },
     "execution_count": 84,
     "metadata": {},
     "output_type": "execute_result"
    }
   ],
   "source": [
    "df.isnull().sum()"
   ]
  },
  {
   "cell_type": "code",
   "execution_count": 85,
   "metadata": {},
   "outputs": [],
   "source": [
    "wc_matchups = wc_matchups.rename(columns= {'Home Team Name' : 'team_1',\n",
    "                                           'Away Team Name' : 'team_2',\n",
    "                                           'Home Team Goals' : 'team_1_gls',\n",
    "                                           'Away Team Goals' : 'team_2_gls'\n",
    "                                          }).copy()"
   ]
  },
  {
   "cell_type": "code",
   "execution_count": 86,
   "metadata": {
    "scrolled": true
   },
   "outputs": [
    {
     "data": {
      "text/html": [
       "<div>\n",
       "<style scoped>\n",
       "    .dataframe tbody tr th:only-of-type {\n",
       "        vertical-align: middle;\n",
       "    }\n",
       "\n",
       "    .dataframe tbody tr th {\n",
       "        vertical-align: top;\n",
       "    }\n",
       "\n",
       "    .dataframe thead th {\n",
       "        text-align: right;\n",
       "    }\n",
       "</style>\n",
       "<table border=\"1\" class=\"dataframe\">\n",
       "  <thead>\n",
       "    <tr style=\"text-align: right;\">\n",
       "      <th></th>\n",
       "      <th>Year</th>\n",
       "      <th>Datetime</th>\n",
       "      <th>team_1</th>\n",
       "      <th>team_2</th>\n",
       "      <th>team_1_gls</th>\n",
       "      <th>team_2_gls</th>\n",
       "    </tr>\n",
       "  </thead>\n",
       "  <tbody>\n",
       "    <tr>\n",
       "      <th>1</th>\n",
       "      <td>1930.0</td>\n",
       "      <td>13 Jul 1930 - 15:00</td>\n",
       "      <td>USA</td>\n",
       "      <td>Belgium</td>\n",
       "      <td>3.0</td>\n",
       "      <td>0.0</td>\n",
       "    </tr>\n",
       "    <tr>\n",
       "      <th>4</th>\n",
       "      <td>1930.0</td>\n",
       "      <td>15 Jul 1930 - 16:00</td>\n",
       "      <td>Argentina</td>\n",
       "      <td>France</td>\n",
       "      <td>1.0</td>\n",
       "      <td>0.0</td>\n",
       "    </tr>\n",
       "    <tr>\n",
       "      <th>5</th>\n",
       "      <td>1930.0</td>\n",
       "      <td>16 Jul 1930 - 14:45</td>\n",
       "      <td>Chile</td>\n",
       "      <td>Mexico</td>\n",
       "      <td>3.0</td>\n",
       "      <td>0.0</td>\n",
       "    </tr>\n",
       "    <tr>\n",
       "      <th>9</th>\n",
       "      <td>1930.0</td>\n",
       "      <td>19 Jul 1930 - 12:50</td>\n",
       "      <td>Chile</td>\n",
       "      <td>France</td>\n",
       "      <td>1.0</td>\n",
       "      <td>0.0</td>\n",
       "    </tr>\n",
       "    <tr>\n",
       "      <th>10</th>\n",
       "      <td>1930.0</td>\n",
       "      <td>19 Jul 1930 - 15:00</td>\n",
       "      <td>Argentina</td>\n",
       "      <td>Mexico</td>\n",
       "      <td>6.0</td>\n",
       "      <td>3.0</td>\n",
       "    </tr>\n",
       "  </tbody>\n",
       "</table>\n",
       "</div>"
      ],
      "text/plain": [
       "      Year              Datetime     team_1   team_2  team_1_gls  team_2_gls\n",
       "1   1930.0  13 Jul 1930 - 15:00         USA  Belgium         3.0         0.0\n",
       "4   1930.0  15 Jul 1930 - 16:00   Argentina   France         1.0         0.0\n",
       "5   1930.0  16 Jul 1930 - 14:45       Chile   Mexico         3.0         0.0\n",
       "9   1930.0  19 Jul 1930 - 12:50       Chile   France         1.0         0.0\n",
       "10  1930.0  19 Jul 1930 - 15:00   Argentina   Mexico         6.0         3.0"
      ]
     },
     "execution_count": 86,
     "metadata": {},
     "output_type": "execute_result"
    }
   ],
   "source": [
    "wc_matchups.head(3)"
   ]
  },
  {
   "cell_type": "markdown",
   "metadata": {},
   "source": [
    "### Adding Team stats to `wc_matchups` DataFrame"
   ]
  },
  {
   "cell_type": "code",
   "execution_count": 88,
   "metadata": {},
   "outputs": [],
   "source": [
    "trial = pd.merge(wc_matchups, df, right_on= df.index, left_on= 'team_1')\n",
    "for column in trial.columns[-14:]:\n",
    "    trial.rename(columns = {column : f'{column}_1'}, inplace = True)\n",
    "\n",
    "wc_matchups_trial = pd.merge(trial, df, right_on= df.index, left_on= 'team_2')\n",
    "for column in wc_matchups_trial.columns[-14:]:\n",
    "    wc_matchups_trial.rename(columns = {column : f'{column}_2'}, inplace = True)"
   ]
  },
  {
   "cell_type": "code",
   "execution_count": 89,
   "metadata": {},
   "outputs": [],
   "source": [
    "wc_matchups = wc_matchups_trial"
   ]
  },
  {
   "cell_type": "code",
   "execution_count": 162,
   "metadata": {
    "scrolled": false
   },
   "outputs": [
    {
     "data": {
      "text/html": [
       "<div>\n",
       "<style scoped>\n",
       "    .dataframe tbody tr th:only-of-type {\n",
       "        vertical-align: middle;\n",
       "    }\n",
       "\n",
       "    .dataframe tbody tr th {\n",
       "        vertical-align: top;\n",
       "    }\n",
       "\n",
       "    .dataframe thead th {\n",
       "        text-align: right;\n",
       "    }\n",
       "</style>\n",
       "<table border=\"1\" class=\"dataframe\">\n",
       "  <thead>\n",
       "    <tr style=\"text-align: right;\">\n",
       "      <th></th>\n",
       "      <th>Year</th>\n",
       "      <th>Datetime</th>\n",
       "      <th>age_1</th>\n",
       "      <th>height_cm_1</th>\n",
       "      <th>weight_kg_1</th>\n",
       "      <th>value_eur_1</th>\n",
       "      <th>wage_eur_1</th>\n",
       "      <th>international_reputation_1</th>\n",
       "      <th>ovr_forwards_1</th>\n",
       "      <th>ovr_mids_1</th>\n",
       "      <th>...</th>\n",
       "      <th>wage_diff</th>\n",
       "      <th>intl_rep_diff</th>\n",
       "      <th>fw_diff</th>\n",
       "      <th>mid_diff</th>\n",
       "      <th>def_diff</th>\n",
       "      <th>gk_diff</th>\n",
       "      <th>ptl_fw_diff</th>\n",
       "      <th>ptl_mid_diff</th>\n",
       "      <th>ptl_def_diff</th>\n",
       "      <th>ptl_gk_diff</th>\n",
       "    </tr>\n",
       "  </thead>\n",
       "  <tbody>\n",
       "    <tr>\n",
       "      <th>0</th>\n",
       "      <td>1930.0</td>\n",
       "      <td>13 Jul 1930 - 15:00</td>\n",
       "      <td>27.478261</td>\n",
       "      <td>182.000000</td>\n",
       "      <td>76.608696</td>\n",
       "      <td>5.708696e+06</td>\n",
       "      <td>18782.608696</td>\n",
       "      <td>1.521739</td>\n",
       "      <td>76.333333</td>\n",
       "      <td>74.125</td>\n",
       "      <td>...</td>\n",
       "      <td>0.0</td>\n",
       "      <td>-1.304348</td>\n",
       "      <td>-9.416667</td>\n",
       "      <td>-8.208333</td>\n",
       "      <td>-13.533333</td>\n",
       "      <td>-8.666667</td>\n",
       "      <td>-5.5</td>\n",
       "      <td>-8.5</td>\n",
       "      <td>-13.666667</td>\n",
       "      <td>-7.666667</td>\n",
       "    </tr>\n",
       "    <tr>\n",
       "      <th>1</th>\n",
       "      <td>1982.0</td>\n",
       "      <td>13 Jun 1982 - 20:00</td>\n",
       "      <td>27.478261</td>\n",
       "      <td>180.043478</td>\n",
       "      <td>75.347826</td>\n",
       "      <td>2.604348e+07</td>\n",
       "      <td>106913.043478</td>\n",
       "      <td>2.608696</td>\n",
       "      <td>84.400000</td>\n",
       "      <td>81.600</td>\n",
       "      <td>...</td>\n",
       "      <td>0.0</td>\n",
       "      <td>-0.217391</td>\n",
       "      <td>-1.350000</td>\n",
       "      <td>-0.733333</td>\n",
       "      <td>-2.833333</td>\n",
       "      <td>-2.166667</td>\n",
       "      <td>-1.9</td>\n",
       "      <td>0.3</td>\n",
       "      <td>-3.166667</td>\n",
       "      <td>-1.166667</td>\n",
       "    </tr>\n",
       "    <tr>\n",
       "      <th>2</th>\n",
       "      <td>1986.0</td>\n",
       "      <td>25 Jun 1986 - 16:00</td>\n",
       "      <td>27.478261</td>\n",
       "      <td>180.043478</td>\n",
       "      <td>75.347826</td>\n",
       "      <td>2.604348e+07</td>\n",
       "      <td>106913.043478</td>\n",
       "      <td>2.608696</td>\n",
       "      <td>84.400000</td>\n",
       "      <td>81.600</td>\n",
       "      <td>...</td>\n",
       "      <td>0.0</td>\n",
       "      <td>-0.217391</td>\n",
       "      <td>-1.350000</td>\n",
       "      <td>-0.733333</td>\n",
       "      <td>-2.833333</td>\n",
       "      <td>-2.166667</td>\n",
       "      <td>-1.9</td>\n",
       "      <td>0.3</td>\n",
       "      <td>-3.166667</td>\n",
       "      <td>-1.166667</td>\n",
       "    </tr>\n",
       "  </tbody>\n",
       "</table>\n",
       "<p>3 rows × 46 columns</p>\n",
       "</div>"
      ],
      "text/plain": [
       "     Year              Datetime      age_1  height_cm_1  weight_kg_1  \\\n",
       "0  1930.0  13 Jul 1930 - 15:00   27.478261   182.000000    76.608696   \n",
       "1  1982.0  13 Jun 1982 - 20:00   27.478261   180.043478    75.347826   \n",
       "2  1986.0  25 Jun 1986 - 16:00   27.478261   180.043478    75.347826   \n",
       "\n",
       "    value_eur_1     wage_eur_1  international_reputation_1  ovr_forwards_1  \\\n",
       "0  5.708696e+06   18782.608696                    1.521739       76.333333   \n",
       "1  2.604348e+07  106913.043478                    2.608696       84.400000   \n",
       "2  2.604348e+07  106913.043478                    2.608696       84.400000   \n",
       "\n",
       "   ovr_mids_1  ...  wage_diff  intl_rep_diff   fw_diff  mid_diff   def_diff  \\\n",
       "0      74.125  ...        0.0      -1.304348 -9.416667 -8.208333 -13.533333   \n",
       "1      81.600  ...        0.0      -0.217391 -1.350000 -0.733333  -2.833333   \n",
       "2      81.600  ...        0.0      -0.217391 -1.350000 -0.733333  -2.833333   \n",
       "\n",
       "    gk_diff  ptl_fw_diff  ptl_mid_diff  ptl_def_diff  ptl_gk_diff  \n",
       "0 -8.666667         -5.5          -8.5    -13.666667    -7.666667  \n",
       "1 -2.166667         -1.9           0.3     -3.166667    -1.166667  \n",
       "2 -2.166667         -1.9           0.3     -3.166667    -1.166667  \n",
       "\n",
       "[3 rows x 46 columns]"
      ]
     },
     "execution_count": 162,
     "metadata": {},
     "output_type": "execute_result"
    }
   ],
   "source": [
    "wc_matchups.head(3)"
   ]
  },
  {
   "cell_type": "code",
   "execution_count": 161,
   "metadata": {},
   "outputs": [
    {
     "data": {
      "text/html": [
       "<div>\n",
       "<style scoped>\n",
       "    .dataframe tbody tr th:only-of-type {\n",
       "        vertical-align: middle;\n",
       "    }\n",
       "\n",
       "    .dataframe tbody tr th {\n",
       "        vertical-align: top;\n",
       "    }\n",
       "\n",
       "    .dataframe thead th {\n",
       "        text-align: right;\n",
       "    }\n",
       "</style>\n",
       "<table border=\"1\" class=\"dataframe\">\n",
       "  <thead>\n",
       "    <tr style=\"text-align: right;\">\n",
       "      <th></th>\n",
       "      <th>age</th>\n",
       "      <th>height_cm</th>\n",
       "      <th>weight_kg</th>\n",
       "      <th>value_eur</th>\n",
       "      <th>wage_eur</th>\n",
       "      <th>international_reputation</th>\n",
       "      <th>ovr_forwards</th>\n",
       "      <th>ovr_mids</th>\n",
       "      <th>ovr_defs</th>\n",
       "      <th>ovr_gks</th>\n",
       "      <th>ptl_forwards</th>\n",
       "      <th>ptl_mids</th>\n",
       "      <th>ptl_defs</th>\n",
       "      <th>ptl_gks</th>\n",
       "    </tr>\n",
       "    <tr>\n",
       "      <th>nationality</th>\n",
       "      <th></th>\n",
       "      <th></th>\n",
       "      <th></th>\n",
       "      <th></th>\n",
       "      <th></th>\n",
       "      <th></th>\n",
       "      <th></th>\n",
       "      <th></th>\n",
       "      <th></th>\n",
       "      <th></th>\n",
       "      <th></th>\n",
       "      <th></th>\n",
       "      <th></th>\n",
       "      <th></th>\n",
       "    </tr>\n",
       "  </thead>\n",
       "  <tbody>\n",
       "    <tr>\n",
       "      <th>Algeria</th>\n",
       "      <td>26.571429</td>\n",
       "      <td>181.678571</td>\n",
       "      <td>74.892857</td>\n",
       "      <td>4.766250e+06</td>\n",
       "      <td>17892.857143</td>\n",
       "      <td>1.321429</td>\n",
       "      <td>69.333333</td>\n",
       "      <td>73.312500</td>\n",
       "      <td>73.5</td>\n",
       "      <td>65.0</td>\n",
       "      <td>72.0</td>\n",
       "      <td>75.312500</td>\n",
       "      <td>76.5</td>\n",
       "      <td>65.0</td>\n",
       "    </tr>\n",
       "    <tr>\n",
       "      <th>Argentina</th>\n",
       "      <td>27.478261</td>\n",
       "      <td>180.043478</td>\n",
       "      <td>75.347826</td>\n",
       "      <td>2.604348e+07</td>\n",
       "      <td>106913.043478</td>\n",
       "      <td>2.608696</td>\n",
       "      <td>84.400000</td>\n",
       "      <td>81.600000</td>\n",
       "      <td>82.5</td>\n",
       "      <td>80.5</td>\n",
       "      <td>85.6</td>\n",
       "      <td>85.800000</td>\n",
       "      <td>82.5</td>\n",
       "      <td>83.5</td>\n",
       "    </tr>\n",
       "    <tr>\n",
       "      <th>Australia</th>\n",
       "      <td>26.434783</td>\n",
       "      <td>183.260870</td>\n",
       "      <td>77.695652</td>\n",
       "      <td>3.246739e+06</td>\n",
       "      <td>15565.217391</td>\n",
       "      <td>1.173913</td>\n",
       "      <td>72.000000</td>\n",
       "      <td>71.857143</td>\n",
       "      <td>70.0</td>\n",
       "      <td>73.5</td>\n",
       "      <td>73.5</td>\n",
       "      <td>73.571429</td>\n",
       "      <td>77.0</td>\n",
       "      <td>75.0</td>\n",
       "    </tr>\n",
       "  </tbody>\n",
       "</table>\n",
       "</div>"
      ],
      "text/plain": [
       "                   age   height_cm  weight_kg     value_eur       wage_eur  \\\n",
       "nationality                                                                  \n",
       "Algeria      26.571429  181.678571  74.892857  4.766250e+06   17892.857143   \n",
       "Argentina    27.478261  180.043478  75.347826  2.604348e+07  106913.043478   \n",
       "Australia    26.434783  183.260870  77.695652  3.246739e+06   15565.217391   \n",
       "\n",
       "             international_reputation  ovr_forwards   ovr_mids  ovr_defs  \\\n",
       "nationality                                                                \n",
       "Algeria                      1.321429     69.333333  73.312500      73.5   \n",
       "Argentina                    2.608696     84.400000  81.600000      82.5   \n",
       "Australia                    1.173913     72.000000  71.857143      70.0   \n",
       "\n",
       "             ovr_gks  ptl_forwards   ptl_mids  ptl_defs  ptl_gks  \n",
       "nationality                                                       \n",
       "Algeria         65.0          72.0  75.312500      76.5     65.0  \n",
       "Argentina       80.5          85.6  85.800000      82.5     83.5  \n",
       "Australia       73.5          73.5  73.571429      77.0     75.0  "
      ]
     },
     "execution_count": 161,
     "metadata": {},
     "output_type": "execute_result"
    }
   ],
   "source": [
    "df.head(3)"
   ]
  },
  {
   "cell_type": "code",
   "execution_count": 92,
   "metadata": {},
   "outputs": [
    {
     "name": "stderr",
     "output_type": "stream",
     "text": [
      "/Users/matteocangiano/opt/anaconda3/envs/dsi/lib/python3.7/site-packages/ipykernel_launcher.py:7: SettingWithCopyWarning: \n",
      "A value is trying to be set on a copy of a slice from a DataFrame\n",
      "\n",
      "See the caveats in the documentation: https://pandas.pydata.org/pandas-docs/stable/user_guide/indexing.html#returning-a-view-versus-a-copy\n",
      "  import sys\n",
      "/Users/matteocangiano/opt/anaconda3/envs/dsi/lib/python3.7/site-packages/ipykernel_launcher.py:9: SettingWithCopyWarning: \n",
      "A value is trying to be set on a copy of a slice from a DataFrame\n",
      "\n",
      "See the caveats in the documentation: https://pandas.pydata.org/pandas-docs/stable/user_guide/indexing.html#returning-a-view-versus-a-copy\n",
      "  if __name__ == '__main__':\n",
      "/Users/matteocangiano/opt/anaconda3/envs/dsi/lib/python3.7/site-packages/ipykernel_launcher.py:11: SettingWithCopyWarning: \n",
      "A value is trying to be set on a copy of a slice from a DataFrame\n",
      "\n",
      "See the caveats in the documentation: https://pandas.pydata.org/pandas-docs/stable/user_guide/indexing.html#returning-a-view-versus-a-copy\n",
      "  # This is added back by InteractiveShellApp.init_path()\n"
     ]
    }
   ],
   "source": [
    "wc_matchups['score'] = wc_matchups['team_1_gls'] - wc_matchups['team_2_gls']\n",
    "wc_matchups = wc_matchups.drop(['team_1', 'team_2', 'team_1_gls', 'team_2_gls'], 1)\n",
    "\n",
    "wc_matchups['winner'] = None\n",
    "for i in range(len(wc_matchups['score'])):\n",
    "    if wc_matchups['score'][i] > 0:\n",
    "        wc_matchups['winner'][i] = 1\n",
    "    elif wc_matchups['score'][i] < 0:\n",
    "        wc_matchups['winner'][i] = -1\n",
    "    elif wc_matchups['score'][i] == 0:\n",
    "        wc_matchups['winner'][i] = 0\n",
    "\n",
    "#wc_matchups = wc_matchups[wc_matchups.winner != 0]"
   ]
  },
  {
   "cell_type": "code",
   "execution_count": 160,
   "metadata": {},
   "outputs": [
    {
     "data": {
      "text/plain": [
       "0    1\n",
       "1   -1\n",
       "2    1\n",
       "3    1\n",
       "4    1\n",
       "Name: winner, dtype: int64"
      ]
     },
     "execution_count": 160,
     "metadata": {},
     "output_type": "execute_result"
    }
   ],
   "source": [
    "wc_matchups['winner'].head()"
   ]
  },
  {
   "cell_type": "markdown",
   "metadata": {},
   "source": [
    "### Creating Interaction Terms for the Statistics for both teams. "
   ]
  },
  {
   "cell_type": "code",
   "execution_count": 94,
   "metadata": {},
   "outputs": [],
   "source": [
    "wc_matchups['age_diff'] = wc_matchups['age_1'] - wc_matchups['age_2']\n",
    "wc_matchups['height_diff'] = wc_matchups['height_cm_1'] - wc_matchups['height_cm_2']\n",
    "wc_matchups['weight_diff'] = wc_matchups['weight_kg_1'] - wc_matchups['weight_kg_2']\n",
    "wc_matchups['value_diff'] = wc_matchups['value_eur_1'] - wc_matchups['value_eur_2']\n",
    "wc_matchups['wage_diff'] = wc_matchups['wage_eur_1'] - wc_matchups['wage_eur_2']\n",
    "wc_matchups['intl_rep_diff'] = wc_matchups['international_reputation_1'] - wc_matchups['international_reputation_2']\n",
    "wc_matchups['fw_diff'] = wc_matchups['ovr_forwards_1'] - wc_matchups['ovr_forwards_2']\n",
    "wc_matchups['mid_diff'] = wc_matchups['ovr_mids_1'] - wc_matchups['ovr_mids_2']\n",
    "wc_matchups['def_diff'] = wc_matchups['ovr_defs_1'] - wc_matchups['ovr_defs_2']\n",
    "wc_matchups['gk_diff'] = wc_matchups['ovr_gks_1'] - wc_matchups['ovr_gks_2']\n",
    "wc_matchups['age_diff'] = wc_matchups['age_1'] - wc_matchups['age_2']\n",
    "wc_matchups['height_diff'] = wc_matchups['height_cm_1'] - wc_matchups['height_cm_2']\n",
    "wc_matchups['weight_diff'] = wc_matchups['weight_kg_1'] - wc_matchups['weight_kg_2']\n",
    "wc_matchups['value_diff'] = wc_matchups['value_eur_2'] - wc_matchups['value_eur_2']\n",
    "wc_matchups['wage_diff'] = wc_matchups['wage_eur_2'] - wc_matchups['wage_eur_2']\n",
    "wc_matchups['intl_rep_diff'] = wc_matchups['international_reputation_1'] - wc_matchups['international_reputation_2']\n",
    "wc_matchups['fw_diff'] = wc_matchups['ovr_forwards_1'] - wc_matchups['ovr_forwards_2']\n",
    "wc_matchups['mid_diff'] = wc_matchups['ovr_mids_1'] - wc_matchups['ovr_mids_2']\n",
    "wc_matchups['def_diff'] = wc_matchups['ovr_defs_1'] - wc_matchups['ovr_defs_2']\n",
    "wc_matchups['gk_diff'] = wc_matchups['ovr_gks_1'] - wc_matchups['ovr_gks_2'] \n",
    "wc_matchups['ptl_fw_diff'] = wc_matchups['ptl_forwards_1'] - wc_matchups['ptl_forwards_2']\n",
    "wc_matchups['ptl_mid_diff'] = wc_matchups['ptl_mids_1'] - wc_matchups['ptl_mids_2']\n",
    "wc_matchups['ptl_def_diff'] = wc_matchups['ptl_defs_1'] - wc_matchups['ptl_defs_2']\n",
    "wc_matchups['ptl_gk_diff'] = wc_matchups['ptl_gks_1'] - wc_matchups['ptl_gks_2'] "
   ]
  },
  {
   "cell_type": "code",
   "execution_count": 95,
   "metadata": {
    "scrolled": false
   },
   "outputs": [
    {
     "data": {
      "text/html": [
       "<div>\n",
       "<style scoped>\n",
       "    .dataframe tbody tr th:only-of-type {\n",
       "        vertical-align: middle;\n",
       "    }\n",
       "\n",
       "    .dataframe tbody tr th {\n",
       "        vertical-align: top;\n",
       "    }\n",
       "\n",
       "    .dataframe thead th {\n",
       "        text-align: right;\n",
       "    }\n",
       "</style>\n",
       "<table border=\"1\" class=\"dataframe\">\n",
       "  <thead>\n",
       "    <tr style=\"text-align: right;\">\n",
       "      <th></th>\n",
       "      <th>Year</th>\n",
       "      <th>Datetime</th>\n",
       "      <th>age_1</th>\n",
       "      <th>height_cm_1</th>\n",
       "      <th>weight_kg_1</th>\n",
       "      <th>value_eur_1</th>\n",
       "      <th>wage_eur_1</th>\n",
       "      <th>international_reputation_1</th>\n",
       "      <th>ovr_forwards_1</th>\n",
       "      <th>ovr_mids_1</th>\n",
       "      <th>...</th>\n",
       "      <th>wage_diff</th>\n",
       "      <th>intl_rep_diff</th>\n",
       "      <th>fw_diff</th>\n",
       "      <th>mid_diff</th>\n",
       "      <th>def_diff</th>\n",
       "      <th>gk_diff</th>\n",
       "      <th>ptl_fw_diff</th>\n",
       "      <th>ptl_mid_diff</th>\n",
       "      <th>ptl_def_diff</th>\n",
       "      <th>ptl_gk_diff</th>\n",
       "    </tr>\n",
       "  </thead>\n",
       "  <tbody>\n",
       "    <tr>\n",
       "      <th>0</th>\n",
       "      <td>1930.0</td>\n",
       "      <td>13 Jul 1930 - 15:00</td>\n",
       "      <td>27.478261</td>\n",
       "      <td>182.000000</td>\n",
       "      <td>76.608696</td>\n",
       "      <td>5.708696e+06</td>\n",
       "      <td>18782.608696</td>\n",
       "      <td>1.521739</td>\n",
       "      <td>76.333333</td>\n",
       "      <td>74.125</td>\n",
       "      <td>...</td>\n",
       "      <td>0.0</td>\n",
       "      <td>-1.304348</td>\n",
       "      <td>-9.416667</td>\n",
       "      <td>-8.208333</td>\n",
       "      <td>-13.533333</td>\n",
       "      <td>-8.666667</td>\n",
       "      <td>-5.5</td>\n",
       "      <td>-8.50</td>\n",
       "      <td>-13.666667</td>\n",
       "      <td>-7.666667</td>\n",
       "    </tr>\n",
       "    <tr>\n",
       "      <th>1</th>\n",
       "      <td>1982.0</td>\n",
       "      <td>13 Jun 1982 - 20:00</td>\n",
       "      <td>27.478261</td>\n",
       "      <td>180.043478</td>\n",
       "      <td>75.347826</td>\n",
       "      <td>2.604348e+07</td>\n",
       "      <td>106913.043478</td>\n",
       "      <td>2.608696</td>\n",
       "      <td>84.400000</td>\n",
       "      <td>81.600</td>\n",
       "      <td>...</td>\n",
       "      <td>0.0</td>\n",
       "      <td>-0.217391</td>\n",
       "      <td>-1.350000</td>\n",
       "      <td>-0.733333</td>\n",
       "      <td>-2.833333</td>\n",
       "      <td>-2.166667</td>\n",
       "      <td>-1.9</td>\n",
       "      <td>0.30</td>\n",
       "      <td>-3.166667</td>\n",
       "      <td>-1.166667</td>\n",
       "    </tr>\n",
       "    <tr>\n",
       "      <th>2</th>\n",
       "      <td>1986.0</td>\n",
       "      <td>25 Jun 1986 - 16:00</td>\n",
       "      <td>27.478261</td>\n",
       "      <td>180.043478</td>\n",
       "      <td>75.347826</td>\n",
       "      <td>2.604348e+07</td>\n",
       "      <td>106913.043478</td>\n",
       "      <td>2.608696</td>\n",
       "      <td>84.400000</td>\n",
       "      <td>81.600</td>\n",
       "      <td>...</td>\n",
       "      <td>0.0</td>\n",
       "      <td>-0.217391</td>\n",
       "      <td>-1.350000</td>\n",
       "      <td>-0.733333</td>\n",
       "      <td>-2.833333</td>\n",
       "      <td>-2.166667</td>\n",
       "      <td>-1.9</td>\n",
       "      <td>0.30</td>\n",
       "      <td>-3.166667</td>\n",
       "      <td>-1.166667</td>\n",
       "    </tr>\n",
       "    <tr>\n",
       "      <th>3</th>\n",
       "      <td>2014.0</td>\n",
       "      <td>05 Jul 2014 - 13:00</td>\n",
       "      <td>27.478261</td>\n",
       "      <td>180.043478</td>\n",
       "      <td>75.347826</td>\n",
       "      <td>2.604348e+07</td>\n",
       "      <td>106913.043478</td>\n",
       "      <td>2.608696</td>\n",
       "      <td>84.400000</td>\n",
       "      <td>81.600</td>\n",
       "      <td>...</td>\n",
       "      <td>0.0</td>\n",
       "      <td>-0.217391</td>\n",
       "      <td>-1.350000</td>\n",
       "      <td>-0.733333</td>\n",
       "      <td>-2.833333</td>\n",
       "      <td>-2.166667</td>\n",
       "      <td>-1.9</td>\n",
       "      <td>0.30</td>\n",
       "      <td>-3.166667</td>\n",
       "      <td>-1.166667</td>\n",
       "    </tr>\n",
       "    <tr>\n",
       "      <th>4</th>\n",
       "      <td>1934.0</td>\n",
       "      <td>27 May 1934 - 16:30</td>\n",
       "      <td>25.521739</td>\n",
       "      <td>186.000000</td>\n",
       "      <td>81.521739</td>\n",
       "      <td>3.326087e+07</td>\n",
       "      <td>123913.043478</td>\n",
       "      <td>3.043478</td>\n",
       "      <td>83.000000</td>\n",
       "      <td>85.000</td>\n",
       "      <td>...</td>\n",
       "      <td>0.0</td>\n",
       "      <td>0.217391</td>\n",
       "      <td>-2.750000</td>\n",
       "      <td>2.666667</td>\n",
       "      <td>-0.733333</td>\n",
       "      <td>4.666667</td>\n",
       "      <td>-2.5</td>\n",
       "      <td>-0.25</td>\n",
       "      <td>1.733333</td>\n",
       "      <td>5.000000</td>\n",
       "    </tr>\n",
       "  </tbody>\n",
       "</table>\n",
       "<p>5 rows × 46 columns</p>\n",
       "</div>"
      ],
      "text/plain": [
       "     Year              Datetime      age_1  height_cm_1  weight_kg_1  \\\n",
       "0  1930.0  13 Jul 1930 - 15:00   27.478261   182.000000    76.608696   \n",
       "1  1982.0  13 Jun 1982 - 20:00   27.478261   180.043478    75.347826   \n",
       "2  1986.0  25 Jun 1986 - 16:00   27.478261   180.043478    75.347826   \n",
       "3  2014.0  05 Jul 2014 - 13:00   27.478261   180.043478    75.347826   \n",
       "4  1934.0  27 May 1934 - 16:30   25.521739   186.000000    81.521739   \n",
       "\n",
       "    value_eur_1     wage_eur_1  international_reputation_1  ovr_forwards_1  \\\n",
       "0  5.708696e+06   18782.608696                    1.521739       76.333333   \n",
       "1  2.604348e+07  106913.043478                    2.608696       84.400000   \n",
       "2  2.604348e+07  106913.043478                    2.608696       84.400000   \n",
       "3  2.604348e+07  106913.043478                    2.608696       84.400000   \n",
       "4  3.326087e+07  123913.043478                    3.043478       83.000000   \n",
       "\n",
       "   ovr_mids_1  ...  wage_diff  intl_rep_diff   fw_diff  mid_diff   def_diff  \\\n",
       "0      74.125  ...        0.0      -1.304348 -9.416667 -8.208333 -13.533333   \n",
       "1      81.600  ...        0.0      -0.217391 -1.350000 -0.733333  -2.833333   \n",
       "2      81.600  ...        0.0      -0.217391 -1.350000 -0.733333  -2.833333   \n",
       "3      81.600  ...        0.0      -0.217391 -1.350000 -0.733333  -2.833333   \n",
       "4      85.000  ...        0.0       0.217391 -2.750000  2.666667  -0.733333   \n",
       "\n",
       "    gk_diff  ptl_fw_diff  ptl_mid_diff  ptl_def_diff  ptl_gk_diff  \n",
       "0 -8.666667         -5.5         -8.50    -13.666667    -7.666667  \n",
       "1 -2.166667         -1.9          0.30     -3.166667    -1.166667  \n",
       "2 -2.166667         -1.9          0.30     -3.166667    -1.166667  \n",
       "3 -2.166667         -1.9          0.30     -3.166667    -1.166667  \n",
       "4  4.666667         -2.5         -0.25      1.733333     5.000000  \n",
       "\n",
       "[5 rows x 46 columns]"
      ]
     },
     "execution_count": 95,
     "metadata": {},
     "output_type": "execute_result"
    }
   ],
   "source": [
    "wc_matchups.head(3)"
   ]
  },
  {
   "cell_type": "code",
   "execution_count": 159,
   "metadata": {},
   "outputs": [
    {
     "data": {
      "text/plain": [
       "dtype('int64')"
      ]
     },
     "execution_count": 159,
     "metadata": {},
     "output_type": "execute_result"
    }
   ],
   "source": [
    "wc_matchups['winner'].dtypes"
   ]
  },
  {
   "cell_type": "code",
   "execution_count": 97,
   "metadata": {},
   "outputs": [],
   "source": [
    "wc_matchups['winner'] = wc_matchups['winner'].astype(int)"
   ]
  },
  {
   "cell_type": "code",
   "execution_count": 98,
   "metadata": {},
   "outputs": [],
   "source": [
    "wc_matchups['winner'] = wc_matchups['winner'].map({1:1,0:0,-1:-1})"
   ]
  },
  {
   "cell_type": "code",
   "execution_count": 99,
   "metadata": {},
   "outputs": [
    {
     "data": {
      "text/plain": [
       "array([ 1, -1,  0])"
      ]
     },
     "execution_count": 99,
     "metadata": {},
     "output_type": "execute_result"
    }
   ],
   "source": [
    "wc_matchups['winner'].unique()"
   ]
  },
  {
   "cell_type": "markdown",
   "metadata": {},
   "source": [
    "## Modeling"
   ]
  },
  {
   "cell_type": "code",
   "execution_count": 101,
   "metadata": {},
   "outputs": [],
   "source": [
    "X = wc_matchups.drop(columns= ['winner', 'Datetime','score','Year'])\n",
    "y = wc_matchups['winner']\n",
    "X_train, X_test, y_train, y_test = train_test_split(X,y, random_state= 42)"
   ]
  },
  {
   "cell_type": "code",
   "execution_count": 103,
   "metadata": {
    "scrolled": true
   },
   "outputs": [
    {
     "name": "stderr",
     "output_type": "stream",
     "text": [
      "/Users/matteocangiano/opt/anaconda3/envs/dsi/lib/python3.7/site-packages/sklearn/linear_model/logistic.py:432: FutureWarning: Default solver will be changed to 'lbfgs' in 0.22. Specify a solver to silence this warning.\n",
      "  FutureWarning)\n",
      "/Users/matteocangiano/opt/anaconda3/envs/dsi/lib/python3.7/site-packages/sklearn/linear_model/logistic.py:469: FutureWarning: Default multi_class will be changed to 'auto' in 0.22. Specify the multi_class option to silence this warning.\n",
      "  \"this warning.\", FutureWarning)\n"
     ]
    }
   ],
   "source": [
    "lr = LogisticRegression(C = 1e9, penalty = 'l1', random_state = 42)\n",
    "lr_fit = lr.fit(X_train, y_train)"
   ]
  },
  {
   "cell_type": "code",
   "execution_count": 104,
   "metadata": {},
   "outputs": [
    {
     "data": {
      "text/plain": [
       "0.6026936026936027"
      ]
     },
     "execution_count": 104,
     "metadata": {},
     "output_type": "execute_result"
    }
   ],
   "source": [
    "lr_fit.score(X_train, y_train)"
   ]
  },
  {
   "cell_type": "code",
   "execution_count": 105,
   "metadata": {},
   "outputs": [
    {
     "data": {
      "text/plain": [
       "0.5757575757575758"
      ]
     },
     "execution_count": 105,
     "metadata": {},
     "output_type": "execute_result"
    }
   ],
   "source": [
    "lr_fit.score(X_test, y_test)"
   ]
  },
  {
   "cell_type": "code",
   "execution_count": 106,
   "metadata": {},
   "outputs": [
    {
     "name": "stderr",
     "output_type": "stream",
     "text": [
      "/Users/matteocangiano/opt/anaconda3/envs/dsi/lib/python3.7/site-packages/sklearn/model_selection/_split.py:1978: FutureWarning: The default value of cv will change from 3 to 5 in version 0.22. Specify it explicitly to silence this warning.\n",
      "  warnings.warn(CV_WARNING, FutureWarning)\n",
      "/Users/matteocangiano/opt/anaconda3/envs/dsi/lib/python3.7/site-packages/sklearn/linear_model/logistic.py:432: FutureWarning: Default solver will be changed to 'lbfgs' in 0.22. Specify a solver to silence this warning.\n",
      "  FutureWarning)\n",
      "/Users/matteocangiano/opt/anaconda3/envs/dsi/lib/python3.7/site-packages/sklearn/linear_model/logistic.py:469: FutureWarning: Default multi_class will be changed to 'auto' in 0.22. Specify the multi_class option to silence this warning.\n",
      "  \"this warning.\", FutureWarning)\n",
      "/Users/matteocangiano/opt/anaconda3/envs/dsi/lib/python3.7/site-packages/sklearn/svm/base.py:929: ConvergenceWarning: Liblinear failed to converge, increase the number of iterations.\n",
      "  \"the number of iterations.\", ConvergenceWarning)\n",
      "/Users/matteocangiano/opt/anaconda3/envs/dsi/lib/python3.7/site-packages/sklearn/linear_model/logistic.py:432: FutureWarning: Default solver will be changed to 'lbfgs' in 0.22. Specify a solver to silence this warning.\n",
      "  FutureWarning)\n",
      "/Users/matteocangiano/opt/anaconda3/envs/dsi/lib/python3.7/site-packages/sklearn/linear_model/logistic.py:469: FutureWarning: Default multi_class will be changed to 'auto' in 0.22. Specify the multi_class option to silence this warning.\n",
      "  \"this warning.\", FutureWarning)\n",
      "/Users/matteocangiano/opt/anaconda3/envs/dsi/lib/python3.7/site-packages/sklearn/svm/base.py:929: ConvergenceWarning: Liblinear failed to converge, increase the number of iterations.\n",
      "  \"the number of iterations.\", ConvergenceWarning)\n",
      "/Users/matteocangiano/opt/anaconda3/envs/dsi/lib/python3.7/site-packages/sklearn/linear_model/logistic.py:432: FutureWarning: Default solver will be changed to 'lbfgs' in 0.22. Specify a solver to silence this warning.\n",
      "  FutureWarning)\n",
      "/Users/matteocangiano/opt/anaconda3/envs/dsi/lib/python3.7/site-packages/sklearn/linear_model/logistic.py:469: FutureWarning: Default multi_class will be changed to 'auto' in 0.22. Specify the multi_class option to silence this warning.\n",
      "  \"this warning.\", FutureWarning)\n"
     ]
    },
    {
     "data": {
      "text/plain": [
       "0.5044275774826059"
      ]
     },
     "execution_count": 106,
     "metadata": {},
     "output_type": "execute_result"
    }
   ],
   "source": [
    "cross_val_score(lr_fit, X_test, y_test).mean()"
   ]
  },
  {
   "cell_type": "code",
   "execution_count": 107,
   "metadata": {},
   "outputs": [
    {
     "data": {
      "text/plain": [
       "array([[ 8.31751788e-03,  3.02808511e-02,  2.98665302e-04,\n",
       "         1.67185839e-07,  6.36293223e-06, -7.44981436e-01,\n",
       "        -9.72240806e-02,  6.49476727e-02, -7.48609620e-02,\n",
       "        -2.06220577e-02,  2.28635815e-03, -2.40120534e-02,\n",
       "        -4.77460843e-02,  4.48308207e-02,  8.56688793e-03,\n",
       "         3.02109571e-02,  7.78933730e-04,  1.12982984e-07,\n",
       "        -1.78475984e-05, -8.44854141e-01, -9.58273438e-02,\n",
       "         6.86638375e-02, -7.30996122e-02, -2.06819256e-02,\n",
       "        -6.90808372e-04, -1.21815839e-02, -4.91690859e-02,\n",
       "         4.60572416e-02,  2.34407275e-01,  2.80820436e-01,\n",
       "        -1.03178659e-01,  0.00000000e+00,  0.00000000e+00,\n",
       "         6.43056990e-01, -2.13634519e-03, -3.13562532e-01,\n",
       "        -1.06590043e-01, -5.91120514e-02,  2.00584905e-02,\n",
       "         1.30897804e-01, -3.18786833e-02,  3.36873159e-03],\n",
       "       [-1.21976462e-01, -4.59392640e-04, -4.55300535e-02,\n",
       "         1.30336328e-08, -7.86032487e-06, -9.18523322e-01,\n",
       "         1.38902686e-02, -1.49263411e-02,  1.83954178e-02,\n",
       "         3.81943986e-02, -1.83349835e-02,  3.05750968e-02,\n",
       "         3.19760031e-02, -5.80961564e-03, -1.21063625e-01,\n",
       "         4.31398063e-04, -4.89458970e-02,  9.33190897e-09,\n",
       "         9.15253038e-06, -8.77754202e-01,  1.55815212e-02,\n",
       "        -1.65734287e-02,  1.86372289e-02,  3.94641278e-02,\n",
       "        -1.76829721e-02,  3.00418054e-02,  3.33061619e-02,\n",
       "        -7.00404822e-03, -2.54544344e-01, -1.21471364e-01,\n",
       "         6.47506727e-03,  0.00000000e+00,  0.00000000e+00,\n",
       "        -1.39737417e+00,  7.49421238e-02,  2.54623505e-01,\n",
       "         2.83313837e-02, -1.77353620e-03, -5.20471501e-02,\n",
       "        -1.51524223e-01,  4.29302036e-02,  4.88241324e-02],\n",
       "       [ 6.71477614e-02, -1.35166363e-02, -8.85487949e-03,\n",
       "        -1.20037915e-07,  5.51855278e-06,  1.07874222e+00,\n",
       "         3.01320360e-02, -8.65766668e-03,  1.58742261e-02,\n",
       "        -1.67092363e-02,  2.27646175e-02, -1.12415139e-02,\n",
       "         3.50709698e-03, -1.73540090e-02,  6.96656605e-02,\n",
       "        -1.40046247e-02, -9.03254292e-03, -6.76115163e-08,\n",
       "         3.88743541e-06,  1.22398253e+00,  3.27247311e-02,\n",
       "        -8.13454276e-03,  1.60801452e-02, -1.77477281e-02,\n",
       "         2.55610645e-02, -1.13077819e-02,  3.42165919e-03,\n",
       "        -1.58030383e-02,  3.19982405e-02, -9.27051478e-02,\n",
       "         7.72337742e-02,  0.00000000e+00,  0.00000000e+00,\n",
       "         7.64071605e-01, -4.62207926e-02,  1.66236094e-02,\n",
       "         4.69304099e-02,  5.13339339e-02,  2.80113524e-02,\n",
       "         3.09693725e-02, -2.23351670e-02, -4.80227902e-02]])"
      ]
     },
     "execution_count": 107,
     "metadata": {},
     "output_type": "execute_result"
    }
   ],
   "source": [
    "lr_fit.coef_"
   ]
  },
  {
   "cell_type": "code",
   "execution_count": 108,
   "metadata": {},
   "outputs": [
    {
     "data": {
      "text/plain": [
       "(297, 42)"
      ]
     },
     "execution_count": 108,
     "metadata": {},
     "output_type": "execute_result"
    }
   ],
   "source": [
    "X_train.shape"
   ]
  },
  {
   "cell_type": "code",
   "execution_count": 109,
   "metadata": {
    "scrolled": true
   },
   "outputs": [
    {
     "data": {
      "text/plain": [
       "(99, 42)"
      ]
     },
     "execution_count": 109,
     "metadata": {},
     "output_type": "execute_result"
    }
   ],
   "source": [
    "X_test.shape"
   ]
  },
  {
   "cell_type": "code",
   "execution_count": 110,
   "metadata": {},
   "outputs": [],
   "source": [
    "proba = lr_fit.predict_proba(X_test)"
   ]
  },
  {
   "cell_type": "code",
   "execution_count": 111,
   "metadata": {},
   "outputs": [],
   "source": [
    "preds = lr_fit.predict(X_test)"
   ]
  },
  {
   "cell_type": "code",
   "execution_count": 112,
   "metadata": {},
   "outputs": [],
   "source": [
    "preds = pd.concat([pd.Series(preds), y_test.reset_index(drop=True)], axis = 1)"
   ]
  },
  {
   "cell_type": "code",
   "execution_count": 113,
   "metadata": {},
   "outputs": [
    {
     "data": {
      "text/html": [
       "<div>\n",
       "<style scoped>\n",
       "    .dataframe tbody tr th:only-of-type {\n",
       "        vertical-align: middle;\n",
       "    }\n",
       "\n",
       "    .dataframe tbody tr th {\n",
       "        vertical-align: top;\n",
       "    }\n",
       "\n",
       "    .dataframe thead th {\n",
       "        text-align: right;\n",
       "    }\n",
       "</style>\n",
       "<table border=\"1\" class=\"dataframe\">\n",
       "  <thead>\n",
       "    <tr style=\"text-align: right;\">\n",
       "      <th></th>\n",
       "      <th>0</th>\n",
       "      <th>winner</th>\n",
       "    </tr>\n",
       "  </thead>\n",
       "  <tbody>\n",
       "    <tr>\n",
       "      <th>0</th>\n",
       "      <td>0</td>\n",
       "      <td>0</td>\n",
       "    </tr>\n",
       "    <tr>\n",
       "      <th>1</th>\n",
       "      <td>1</td>\n",
       "      <td>0</td>\n",
       "    </tr>\n",
       "    <tr>\n",
       "      <th>2</th>\n",
       "      <td>-1</td>\n",
       "      <td>-1</td>\n",
       "    </tr>\n",
       "    <tr>\n",
       "      <th>3</th>\n",
       "      <td>1</td>\n",
       "      <td>-1</td>\n",
       "    </tr>\n",
       "    <tr>\n",
       "      <th>4</th>\n",
       "      <td>1</td>\n",
       "      <td>1</td>\n",
       "    </tr>\n",
       "  </tbody>\n",
       "</table>\n",
       "</div>"
      ],
      "text/plain": [
       "   0  winner\n",
       "0  0       0\n",
       "1  1       0\n",
       "2 -1      -1\n",
       "3  1      -1\n",
       "4  1       1"
      ]
     },
     "execution_count": 113,
     "metadata": {},
     "output_type": "execute_result"
    }
   ],
   "source": [
    "preds[:5]"
   ]
  },
  {
   "cell_type": "code",
   "execution_count": 114,
   "metadata": {},
   "outputs": [
    {
     "data": {
      "text/plain": [
       "<matplotlib.collections.PathCollection at 0x1a207b6fd0>"
      ]
     },
     "execution_count": 114,
     "metadata": {},
     "output_type": "execute_result"
    },
    {
     "data": {
      "image/png": "[encoded data removed]",
      "text/plain": [
       "<Figure size 1440x360 with 1 Axes>"
      ]
     },
     "metadata": {
      "needs_background": "light"
     },
     "output_type": "display_data"
    }
   ],
   "source": [
    "plt.figure(figsize=(20,5))\n",
    "plt.scatter(preds.index, preds[0])\n",
    "plt.scatter(preds.index, preds['winner'])"
   ]
  },
  {
   "cell_type": "code",
   "execution_count": 115,
   "metadata": {},
   "outputs": [],
   "source": [
    "from sklearn.pipeline import Pipeline\n",
    "from sklearn.model_selection import cross_val_score, train_test_split, GridSearchCV\n",
    "from sklearn.neighbors import KNeighborsClassifier\n",
    "from sklearn.svm import SVC\n",
    "from sklearn.ensemble import BaggingClassifier, RandomForestClassifier, ExtraTreesClassifier\n",
    "from sklearn.tree import DecisionTreeClassifier\n",
    "from sklearn.metrics import confusion_matrix, roc_auc_score\n",
    "from sklearn.preprocessing import StandardScaler\n",
    "from sklearn.datasets import make_classification\n",
    "from sklearn.ensemble import GradientBoostingClassifier, AdaBoostClassifier, VotingClassifier, RandomForestClassifier\n",
    "from sklearn.tree import DecisionTreeClassifier\n",
    "from sklearn.neighbors import KNeighborsClassifier"
   ]
  },
  {
   "cell_type": "markdown",
   "metadata": {},
   "source": [
    "### KNN"
   ]
  },
  {
   "cell_type": "code",
   "execution_count": 116,
   "metadata": {},
   "outputs": [
    {
     "data": {
      "text/plain": [
       "GridSearchCV(cv=5, error_score='raise-deprecating',\n",
       "             estimator=Pipeline(memory=None,\n",
       "                                steps=[('sc',\n",
       "                                        StandardScaler(copy=True,\n",
       "                                                       with_mean=True,\n",
       "                                                       with_std=True)),\n",
       "                                       ('knn',\n",
       "                                        KNeighborsClassifier(algorithm='auto',\n",
       "                                                             leaf_size=30,\n",
       "                                                             metric='minkowski',\n",
       "                                                             metric_params=None,\n",
       "                                                             n_jobs=None,\n",
       "                                                             n_neighbors=5, p=2,\n",
       "                                                             weights='uniform'))],\n",
       "                                verbose=False),\n",
       "             iid='warn', n_jobs=None,\n",
       "             param_grid={'knn__metric': ['minkowski', 'euclidean', 'manhattan'],\n",
       "                         'knn__n_neighbors': [3, 5, 7, 9]},\n",
       "             pre_dispatch='2*n_jobs', refit=True, return_train_score=False,\n",
       "             scoring='accuracy', verbose=0)"
      ]
     },
     "execution_count": 116,
     "metadata": {},
     "output_type": "execute_result"
    }
   ],
   "source": [
    "pipe = Pipeline(steps=[('sc', StandardScaler()), ('knn',\n",
    "                                                  KNeighborsClassifier())])\n",
    "\n",
    "params = {\n",
    "    'knn__n_neighbors': [3, 5, 7, 9],\n",
    "    'knn__metric': ['minkowski', 'euclidean', 'manhattan']\n",
    "}\n",
    "\n",
    "gs_knn = GridSearchCV(pipe, param_grid=params, cv=5, scoring='accuracy')\n",
    "\n",
    "gs_knn.fit(X_train, y_train)"
   ]
  },
  {
   "cell_type": "code",
   "execution_count": 117,
   "metadata": {},
   "outputs": [
    {
     "data": {
      "text/plain": [
       "Pipeline(memory=None,\n",
       "         steps=[('sc',\n",
       "                 StandardScaler(copy=True, with_mean=True, with_std=True)),\n",
       "                ('knn',\n",
       "                 KNeighborsClassifier(algorithm='auto', leaf_size=30,\n",
       "                                      metric='minkowski', metric_params=None,\n",
       "                                      n_jobs=None, n_neighbors=9, p=2,\n",
       "                                      weights='uniform'))],\n",
       "         verbose=False)"
      ]
     },
     "execution_count": 117,
     "metadata": {},
     "output_type": "execute_result"
    }
   ],
   "source": [
    "# Best Estimator for GridSearch\n",
    "gs_knn.best_estimator_"
   ]
  },
  {
   "cell_type": "code",
   "execution_count": 118,
   "metadata": {},
   "outputs": [
    {
     "data": {
      "text/plain": [
       "0.6430976430976431"
      ]
     },
     "execution_count": 118,
     "metadata": {},
     "output_type": "execute_result"
    }
   ],
   "source": [
    "# Training Score\n",
    "gs_knn.score(X_train, y_train)"
   ]
  },
  {
   "cell_type": "code",
   "execution_count": 119,
   "metadata": {},
   "outputs": [
    {
     "data": {
      "text/plain": [
       "0.5959595959595959"
      ]
     },
     "execution_count": 119,
     "metadata": {},
     "output_type": "execute_result"
    }
   ],
   "source": [
    "# Test Score\n",
    "gs_knn.score(X_test, y_test)"
   ]
  },
  {
   "cell_type": "code",
   "execution_count": 120,
   "metadata": {},
   "outputs": [
    {
     "data": {
      "text/plain": [
       "0.5488215488215489"
      ]
     },
     "execution_count": 120,
     "metadata": {},
     "output_type": "execute_result"
    }
   ],
   "source": [
    "# Cross-Val Score\n",
    "gs_knn.best_score_"
   ]
  },
  {
   "cell_type": "markdown",
   "metadata": {},
   "source": [
    "### Decision Tree"
   ]
  },
  {
   "cell_type": "code",
   "execution_count": 121,
   "metadata": {},
   "outputs": [
    {
     "data": {
      "text/plain": [
       "DecisionTreeClassifier(class_weight=None, criterion='gini', max_depth=None,\n",
       "                       max_features=None, max_leaf_nodes=None,\n",
       "                       min_impurity_decrease=0.0, min_impurity_split=None,\n",
       "                       min_samples_leaf=1, min_samples_split=2,\n",
       "                       min_weight_fraction_leaf=0.0, presort=False,\n",
       "                       random_state=None, splitter='best')"
      ]
     },
     "execution_count": 121,
     "metadata": {},
     "output_type": "execute_result"
    }
   ],
   "source": [
    "tree = DecisionTreeClassifier()\n",
    "tree.fit(X_train, y_train)"
   ]
  },
  {
   "cell_type": "code",
   "execution_count": 122,
   "metadata": {},
   "outputs": [
    {
     "data": {
      "text/plain": [
       "0.8585858585858586"
      ]
     },
     "execution_count": 122,
     "metadata": {},
     "output_type": "execute_result"
    }
   ],
   "source": [
    "# Training Score\n",
    "tree.score(X_train, y_train)"
   ]
  },
  {
   "cell_type": "code",
   "execution_count": 123,
   "metadata": {},
   "outputs": [
    {
     "data": {
      "text/plain": [
       "0.43434343434343436"
      ]
     },
     "execution_count": 123,
     "metadata": {},
     "output_type": "execute_result"
    }
   ],
   "source": [
    "# Test Score\n",
    "tree.score(X_test, y_test)"
   ]
  },
  {
   "cell_type": "markdown",
   "metadata": {},
   "source": [
    "### Bagging Classifier"
   ]
  },
  {
   "cell_type": "code",
   "execution_count": 124,
   "metadata": {},
   "outputs": [
    {
     "data": {
      "text/plain": [
       "BaggingClassifier(base_estimator=None, bootstrap=True, bootstrap_features=False,\n",
       "                  max_features=1.0, max_samples=1.0, n_estimators=10,\n",
       "                  n_jobs=None, oob_score=False, random_state=None, verbose=0,\n",
       "                  warm_start=False)"
      ]
     },
     "execution_count": 124,
     "metadata": {},
     "output_type": "execute_result"
    }
   ],
   "source": [
    "bagging = BaggingClassifier()\n",
    "bagging.fit(X_train, y_train)"
   ]
  },
  {
   "cell_type": "code",
   "execution_count": 125,
   "metadata": {},
   "outputs": [
    {
     "data": {
      "text/plain": [
       "0.8451178451178452"
      ]
     },
     "execution_count": 125,
     "metadata": {},
     "output_type": "execute_result"
    }
   ],
   "source": [
    "# Training Score\n",
    "bagging.score(X_train, y_train)"
   ]
  },
  {
   "cell_type": "code",
   "execution_count": 126,
   "metadata": {},
   "outputs": [
    {
     "data": {
      "text/plain": [
       "0.5050505050505051"
      ]
     },
     "execution_count": 126,
     "metadata": {},
     "output_type": "execute_result"
    }
   ],
   "source": [
    "# Test Score\n",
    "bagging.score(X_test, y_test)"
   ]
  },
  {
   "cell_type": "markdown",
   "metadata": {},
   "source": [
    "### Random Forest"
   ]
  },
  {
   "cell_type": "code",
   "execution_count": 127,
   "metadata": {},
   "outputs": [
    {
     "name": "stderr",
     "output_type": "stream",
     "text": [
      "/Users/matteocangiano/opt/anaconda3/envs/dsi/lib/python3.7/site-packages/sklearn/ensemble/forest.py:245: FutureWarning: The default value of n_estimators will change from 10 in version 0.20 to 100 in 0.22.\n",
      "  \"10 in version 0.20 to 100 in 0.22.\", FutureWarning)\n"
     ]
    },
    {
     "data": {
      "text/plain": [
       "RandomForestClassifier(bootstrap=True, class_weight=None, criterion='gini',\n",
       "                       max_depth=None, max_features='auto', max_leaf_nodes=None,\n",
       "                       min_impurity_decrease=0.0, min_impurity_split=None,\n",
       "                       min_samples_leaf=1, min_samples_split=2,\n",
       "                       min_weight_fraction_leaf=0.0, n_estimators=10,\n",
       "                       n_jobs=None, oob_score=False, random_state=None,\n",
       "                       verbose=0, warm_start=False)"
      ]
     },
     "execution_count": 127,
     "metadata": {},
     "output_type": "execute_result"
    }
   ],
   "source": [
    "rand_forest = RandomForestClassifier()\n",
    "rand_forest.fit(X_train, y_train)"
   ]
  },
  {
   "cell_type": "code",
   "execution_count": 128,
   "metadata": {},
   "outputs": [
    {
     "data": {
      "text/plain": [
       "0.8484848484848485"
      ]
     },
     "execution_count": 128,
     "metadata": {},
     "output_type": "execute_result"
    }
   ],
   "source": [
    "# Training Score\n",
    "rand_forest.score(X_train, y_train)"
   ]
  },
  {
   "cell_type": "code",
   "execution_count": 129,
   "metadata": {},
   "outputs": [
    {
     "data": {
      "text/plain": [
       "0.5555555555555556"
      ]
     },
     "execution_count": 129,
     "metadata": {},
     "output_type": "execute_result"
    }
   ],
   "source": [
    "# Test Score\n",
    "rand_forest.score(X_test, y_test)"
   ]
  },
  {
   "cell_type": "code",
   "execution_count": 130,
   "metadata": {},
   "outputs": [
    {
     "data": {
      "text/plain": [
       "0.4498409607270367"
      ]
     },
     "execution_count": 130,
     "metadata": {},
     "output_type": "execute_result"
    }
   ],
   "source": [
    "cross_val_score(rand_forest, X, y, cv = 5).mean()"
   ]
  },
  {
   "cell_type": "code",
   "execution_count": 131,
   "metadata": {},
   "outputs": [],
   "source": [
    "best_model = rand_forest"
   ]
  },
  {
   "cell_type": "markdown",
   "metadata": {},
   "source": [
    "### Extra Trees"
   ]
  },
  {
   "cell_type": "code",
   "execution_count": 132,
   "metadata": {},
   "outputs": [
    {
     "data": {
      "text/plain": [
       "GridSearchCV(cv=5, error_score='raise-deprecating',\n",
       "             estimator=Pipeline(memory=None,\n",
       "                                steps=[('extra_trees',\n",
       "                                        ExtraTreesClassifier(bootstrap=False,\n",
       "                                                             class_weight=None,\n",
       "                                                             criterion='gini',\n",
       "                                                             max_depth=None,\n",
       "                                                             max_features='auto',\n",
       "                                                             max_leaf_nodes=None,\n",
       "                                                             min_impurity_decrease=0.0,\n",
       "                                                             min_impurity_split=None,\n",
       "                                                             min_samples_leaf=1,\n",
       "                                                             min_samples_split=2,\n",
       "                                                             min_weight_fraction_leaf=0.0,\n",
       "                                                             n_estimators='warn',\n",
       "                                                             n_jobs=None,\n",
       "                                                             oob_score=False,\n",
       "                                                             random_state=None,\n",
       "                                                             verbose=0,\n",
       "                                                             warm_start=False))],\n",
       "                                verbose=False),\n",
       "             iid='warn', n_jobs=-2,\n",
       "             param_grid={'extra_trees__n_estimators': [300, 400, 500, 600]},\n",
       "             pre_dispatch='2*n_jobs', refit=True, return_train_score=False,\n",
       "             scoring='accuracy', verbose=0)"
      ]
     },
     "execution_count": 132,
     "metadata": {},
     "output_type": "execute_result"
    }
   ],
   "source": [
    "pipe = Pipeline(steps=[('extra_trees', ExtraTreesClassifier())])\n",
    "\n",
    "params = {'extra_trees__n_estimators': [300, 400, 500, 600]}\n",
    "gs_extra_trees = GridSearchCV(pipe,\n",
    "                              param_grid=params,\n",
    "                              cv=5,\n",
    "                              scoring='accuracy',\n",
    "                              n_jobs=-2)\n",
    "gs_extra_trees.fit(X_train, y_train)"
   ]
  },
  {
   "cell_type": "code",
   "execution_count": 133,
   "metadata": {},
   "outputs": [
    {
     "data": {
      "text/plain": [
       "Pipeline(memory=None,\n",
       "         steps=[('extra_trees',\n",
       "                 ExtraTreesClassifier(bootstrap=False, class_weight=None,\n",
       "                                      criterion='gini', max_depth=None,\n",
       "                                      max_features='auto', max_leaf_nodes=None,\n",
       "                                      min_impurity_decrease=0.0,\n",
       "                                      min_impurity_split=None,\n",
       "                                      min_samples_leaf=1, min_samples_split=2,\n",
       "                                      min_weight_fraction_leaf=0.0,\n",
       "                                      n_estimators=400, n_jobs=None,\n",
       "                                      oob_score=False, random_state=None,\n",
       "                                      verbose=0, warm_start=False))],\n",
       "         verbose=False)"
      ]
     },
     "execution_count": 133,
     "metadata": {},
     "output_type": "execute_result"
    }
   ],
   "source": [
    "# Best Estimator for GridSearch\n",
    "gs_extra_trees.best_estimator_"
   ]
  },
  {
   "cell_type": "code",
   "execution_count": 134,
   "metadata": {},
   "outputs": [
    {
     "data": {
      "text/plain": [
       "0.494949494949495"
      ]
     },
     "execution_count": 134,
     "metadata": {},
     "output_type": "execute_result"
    }
   ],
   "source": [
    "# Test Score\n",
    "gs_extra_trees.score(X_test, y_test)"
   ]
  },
  {
   "cell_type": "code",
   "execution_count": 135,
   "metadata": {},
   "outputs": [
    {
     "data": {
      "text/plain": [
       "0.47272395326192795"
      ]
     },
     "execution_count": 135,
     "metadata": {},
     "output_type": "execute_result"
    }
   ],
   "source": [
    "cross_val_score(gs_extra_trees.best_estimator_, X, y, cv = 5).mean()"
   ]
  },
  {
   "cell_type": "markdown",
   "metadata": {},
   "source": [
    "### ADA Boost Classifier"
   ]
  },
  {
   "cell_type": "code",
   "execution_count": 136,
   "metadata": {},
   "outputs": [
    {
     "data": {
      "text/plain": [
       "AdaBoostClassifier(algorithm='SAMME.R', base_estimator=None, learning_rate=1.0,\n",
       "                   n_estimators=200, random_state=None)"
      ]
     },
     "execution_count": 136,
     "metadata": {},
     "output_type": "execute_result"
    }
   ],
   "source": [
    "ada = AdaBoostClassifier(n_estimators = 200)\n",
    "ada.fit(X_train, y_train)"
   ]
  },
  {
   "cell_type": "code",
   "execution_count": 137,
   "metadata": {},
   "outputs": [
    {
     "data": {
      "text/plain": [
       "0.7575757575757576"
      ]
     },
     "execution_count": 137,
     "metadata": {},
     "output_type": "execute_result"
    }
   ],
   "source": [
    "# Training Score\n",
    "ada.score(X_train, y_train)"
   ]
  },
  {
   "cell_type": "code",
   "execution_count": 138,
   "metadata": {},
   "outputs": [
    {
     "data": {
      "text/plain": [
       "0.494949494949495"
      ]
     },
     "execution_count": 138,
     "metadata": {},
     "output_type": "execute_result"
    }
   ],
   "source": [
    "# Testing Score\n",
    "ada.score(X_test, y_test)"
   ]
  },
  {
   "cell_type": "markdown",
   "metadata": {},
   "source": [
    "### Gradient Boost"
   ]
  },
  {
   "cell_type": "code",
   "execution_count": 139,
   "metadata": {},
   "outputs": [
    {
     "data": {
      "text/plain": [
       "GradientBoostingClassifier(criterion='friedman_mse', init=None,\n",
       "                           learning_rate=0.1, loss='deviance', max_depth=3,\n",
       "                           max_features=None, max_leaf_nodes=None,\n",
       "                           min_impurity_decrease=0.0, min_impurity_split=None,\n",
       "                           min_samples_leaf=1, min_samples_split=2,\n",
       "                           min_weight_fraction_leaf=0.0, n_estimators=100,\n",
       "                           n_iter_no_change=None, presort='auto',\n",
       "                           random_state=None, subsample=1.0, tol=0.0001,\n",
       "                           validation_fraction=0.1, verbose=0,\n",
       "                           warm_start=False)"
      ]
     },
     "execution_count": 139,
     "metadata": {},
     "output_type": "execute_result"
    }
   ],
   "source": [
    "grad_boost = GradientBoostingClassifier()\n",
    "grad_boost.fit(X_train, y_train)"
   ]
  },
  {
   "cell_type": "code",
   "execution_count": 140,
   "metadata": {},
   "outputs": [
    {
     "data": {
      "text/plain": [
       "0.8585858585858586"
      ]
     },
     "execution_count": 140,
     "metadata": {},
     "output_type": "execute_result"
    }
   ],
   "source": [
    "# Training Score\n",
    "grad_boost.score(X_train, y_train)"
   ]
  },
  {
   "cell_type": "code",
   "execution_count": 141,
   "metadata": {},
   "outputs": [
    {
     "data": {
      "text/plain": [
       "0.5252525252525253"
      ]
     },
     "execution_count": 141,
     "metadata": {},
     "output_type": "execute_result"
    }
   ],
   "source": [
    "# Test Score\n",
    "grad_boost.score(X_test, y_test)"
   ]
  },
  {
   "cell_type": "markdown",
   "metadata": {},
   "source": [
    "### Voting Classifier"
   ]
  },
  {
   "cell_type": "code",
   "execution_count": 142,
   "metadata": {},
   "outputs": [
    {
     "name": "stderr",
     "output_type": "stream",
     "text": [
      "/Users/matteocangiano/opt/anaconda3/envs/dsi/lib/python3.7/site-packages/sklearn/model_selection/_search.py:814: DeprecationWarning: The default of the `iid` parameter will change from True to False in version 0.22 and will be removed in 0.24. This will change numeric results when test-set sizes are unequal.\n",
      "  DeprecationWarning)\n",
      "/Users/matteocangiano/opt/anaconda3/envs/dsi/lib/python3.7/site-packages/sklearn/ensemble/forest.py:245: FutureWarning: The default value of n_estimators will change from 10 in version 0.20 to 100 in 0.22.\n",
      "  \"10 in version 0.20 to 100 in 0.22.\", FutureWarning)\n",
      "/Users/matteocangiano/opt/anaconda3/envs/dsi/lib/python3.7/site-packages/sklearn/ensemble/forest.py:245: FutureWarning: The default value of n_estimators will change from 10 in version 0.20 to 100 in 0.22.\n",
      "  \"10 in version 0.20 to 100 in 0.22.\", FutureWarning)\n"
     ]
    },
    {
     "data": {
      "text/plain": [
       "GridSearchCV(cv=5, error_score='raise-deprecating',\n",
       "             estimator=VotingClassifier(estimators=[('x_tree',\n",
       "                                                     ExtraTreesClassifier(bootstrap=False,\n",
       "                                                                          class_weight=None,\n",
       "                                                                          criterion='gini',\n",
       "                                                                          max_depth=None,\n",
       "                                                                          max_features='auto',\n",
       "                                                                          max_leaf_nodes=None,\n",
       "                                                                          min_impurity_decrease=0.0,\n",
       "                                                                          min_impurity_split=None,\n",
       "                                                                          min_samples_leaf=1,\n",
       "                                                                          min_samples_split=2,\n",
       "                                                                          min_weight_fraction_leaf=0.0,\n",
       "                                                                          n_esti...\n",
       "                                                                                           n_jobs=None,\n",
       "                                                                                           n_neighbors=5,\n",
       "                                                                                           p=2,\n",
       "                                                                                           weights='uniform'))],\n",
       "                                                              verbose=False))],\n",
       "                                        flatten_transform=True, n_jobs=None,\n",
       "                                        voting='soft', weights=None),\n",
       "             iid='warn', n_jobs=-2,\n",
       "             param_grid={'knn_pipe__knn__n_neighbors': [3, 5, 7],\n",
       "                         'rand_forest__max_depth': [3, 4],\n",
       "                         'x_tree__max_depth': [None, 4]},\n",
       "             pre_dispatch='2*n_jobs', refit=True, return_train_score=False,\n",
       "             scoring='accuracy', verbose=0)"
      ]
     },
     "execution_count": 142,
     "metadata": {},
     "output_type": "execute_result"
    }
   ],
   "source": [
    "knn_pipe = Pipeline([('ss', StandardScaler()),\n",
    "                     ('knn', KNeighborsClassifier())])\n",
    "\n",
    "vote = VotingClassifier([\n",
    "    ('x_tree', ExtraTreesClassifier()),\n",
    "    ('rand_forest', RandomForestClassifier()),\n",
    "    ('knn_pipe', knn_pipe),\n",
    "],\n",
    "                        voting='soft')\n",
    "vote_params = {\n",
    "    'x_tree__max_depth': [None, 4],\n",
    "    'rand_forest__max_depth': [3, 4],\n",
    "    'knn_pipe__knn__n_neighbors': [3, 5, 7],\n",
    "}\n",
    "gs_vc = GridSearchCV(vote,\n",
    "                     param_grid=vote_params,\n",
    "                     cv=5,\n",
    "                     n_jobs=-2,\n",
    "                     scoring='accuracy')\n",
    "gs_vc.fit(X_train, y_train)"
   ]
  },
  {
   "cell_type": "code",
   "execution_count": 143,
   "metadata": {},
   "outputs": [
    {
     "data": {
      "text/plain": [
       "0.6430976430976431"
      ]
     },
     "execution_count": 143,
     "metadata": {},
     "output_type": "execute_result"
    }
   ],
   "source": [
    "# Training Score\n",
    "gs_vc.score(X_train, y_train)"
   ]
  },
  {
   "cell_type": "code",
   "execution_count": 144,
   "metadata": {},
   "outputs": [
    {
     "data": {
      "text/plain": [
       "0.6161616161616161"
      ]
     },
     "execution_count": 144,
     "metadata": {},
     "output_type": "execute_result"
    }
   ],
   "source": [
    "# Test Score\n",
    "gs_vc.score(X_test, y_test)"
   ]
  },
  {
   "cell_type": "markdown",
   "metadata": {},
   "source": [
    "## Model Selection"
   ]
  },
  {
   "cell_type": "markdown",
   "metadata": {},
   "source": [
    "|Model|Accuracy|\n",
    "|---|---|\n",
    "|Logistic Regression | 0.56 |\n",
    "|Voting Classifier | 0.61 |\n"
   ]
  },
  {
   "cell_type": "markdown",
   "metadata": {},
   "source": [
    "The Voting Classifier has the best accuracy."
   ]
  },
  {
   "cell_type": "markdown",
   "metadata": {},
   "source": [
    "## Model Evaluation"
   ]
  },
  {
   "cell_type": "markdown",
   "metadata": {},
   "source": [
    "To evaluate the model we will show a confusion matrix as well as a plot of the feature coefficients. "
   ]
  },
  {
   "cell_type": "markdown",
   "metadata": {},
   "source": [
    "### Confusion Matrix"
   ]
  },
  {
   "cell_type": "code",
   "execution_count": 145,
   "metadata": {},
   "outputs": [
    {
     "data": {
      "image/png": "[encoded data removed]",
      "text/plain": [
       "<Figure size 1008x504 with 2 Axes>"
      ]
     },
     "metadata": {},
     "output_type": "display_data"
    }
   ],
   "source": [
    "y_pred = gs_vc.predict(X_test) #getting predictions from the extra trees model\n",
    "\n",
    "def pretty_confusion_matrix(y_true, y_pred):\n",
    "    '''\n",
    "    Creates a confusion matrix and puts it into a prettier looking image.\n",
    "    '''\n",
    "    # handling data\n",
    "    cm = confusion_matrix(y_true, y_pred)\n",
    "    labels = y_true.unique()\n",
    "    labels.sort()\n",
    "    \n",
    "    \n",
    "    # plotting\n",
    "    sns.set(font_scale=1.5)\n",
    "    plt.figure(figsize=(14,7))\n",
    "    \n",
    "    chart = sns.heatmap(cm, annot=True, fmt='g', cmap=\"coolwarm\", xticklabels = labels, yticklabels = labels)\n",
    "    chart.set_yticklabels(chart.get_yticklabels(), rotation=0)\n",
    "    plt.title(\"Confusion Matrix\")\n",
    "    plt.xlabel('Predicted Class')\n",
    "    plt.ylabel('True Class')\n",
    "    b, t = plt.ylim() # discover the values for bottom and top\n",
    "    b += 0.5 # Add 0.5 to the bottom\n",
    "    t -= 0.5 # Subtract 0.5 from the top\n",
    "    plt.ylim(b, t) # update the ylim(bottom, top) values\n",
    "\n",
    "pretty_confusion_matrix(y_test, y_pred)"
   ]
  },
  {
   "cell_type": "markdown",
   "metadata": {},
   "source": [
    "The confusion matrix shows us that our model is good at predicting the winner, however it performs poorly when predicting a draw or a loss. "
   ]
  },
  {
   "cell_type": "markdown",
   "metadata": {},
   "source": [
    "### Feature Coefficients"
   ]
  },
  {
   "cell_type": "code",
   "execution_count": 158,
   "metadata": {},
   "outputs": [
    {
     "data": {
      "image/png": "[encoded data removed]",
      "text/plain": [
       "<Figure size 720x1080 with 1 Axes>"
      ]
     },
     "metadata": {},
     "output_type": "display_data"
    }
   ],
   "source": [
    "# getting the feature coefficiants crom the Logistic Regression model\n",
    "coefs = lr_fit.coef_\n",
    "# getting keys of the test set\n",
    "keys = X_test.keys()\n",
    "# zipping the keys and feature importances\n",
    "feat_coef = pd.DataFrame(list(zip(keys, coefs[0])),\n",
    "                         columns=['feature', 'coefficient'])\n",
    "# sorting the dataframe by coefficients\n",
    "feat_coef = feat_coef.sort_values(by='coefficient', ascending=False)\n",
    "\n",
    "# plotting coefficients\n",
    "plt.figure(figsize=(10, 15))\n",
    "plt.title('Feature Coefficients', fontsize=25)\n",
    "sns.set_style(\"darkgrid\")\n",
    "sns.barplot(data=feat_coef,\n",
    "            x='coefficient',\n",
    "            y='feature',\n",
    "            orient='h',\n",
    "            palette=\"gist_earth\")\n",
    "plt.xlabel('coefficient', fontsize=20)\n",
    "plt.ylabel('feature', fontsize=20)\n",
    "plt.tick_params(labelsize=20)"
   ]
  },
  {
   "cell_type": "markdown",
   "metadata": {},
   "source": [
    "The Feature Coefficients bar chart shows us that the best predictor for our model is international reputation. The model is able to see which teams tend to perform at an international level and predict a winner with 61% accuracy. "
   ]
  },
  {
   "cell_type": "markdown",
   "metadata": {},
   "source": [
    "## Simulation"
   ]
  },
  {
   "cell_type": "markdown",
   "metadata": {},
   "source": [
    "To simulate the games we used functions created by an author on Towards Data Science."
   ]
  },
  {
   "cell_type": "code",
   "execution_count": 146,
   "metadata": {},
   "outputs": [],
   "source": [
    "def match(wc, team1, team2, model):\n",
    "    \n",
    "    match = pd.DataFrame(columns=[\n",
    "        \n",
    "        'age_1', 'height_cm_1', 'weight_kg_1', 'value_eur_1', 'wage_eur_1',\n",
    "        'international_reputation_1', 'ovr_forwards_1', 'ovr_mids_1',\n",
    "        'ovr_defs_1', 'ovr_gks_1','ptl_forwards_1','ptl_mids_1','ptl_defs_1','ptl_gks_1',\n",
    "        'age_2', 'height_cm_2', 'weight_kg_2',\n",
    "        'value_eur_2', 'wage_eur_2', 'international_reputation_2',\n",
    "        'ovr_forwards_2', 'ovr_mids_2', 'ovr_defs_2', 'ovr_gks_2',\n",
    "        'ptl_forwards_2','ptl_mids_2','ptl_defs_2','ptl_gks_2',\n",
    "        'age_diff', 'height_diff', 'weight_diff', 'value_diff', 'wage_diff',\n",
    "        'intl_rep_diff', 'fw_diff', 'mid_diff', 'def_diff', 'gk_diff', 'ptl_fw_diff',\n",
    "        'ptl_mid_diff', 'ptl_def_diff','ptl_gk_diff'\n",
    "                         ],\n",
    "                         index=[0])\n",
    "    # Team 1 stats\n",
    "    \n",
    "    match['age_1'] = wc[wc.index == team1]['age'].iloc[0]\n",
    "    match['height_cm_1'] = wc[wc.index == team1]['height_cm'].iloc[0]\n",
    "    match['weight_kg_1'] = wc[wc.index == team1]['weight_kg'].iloc[0]\n",
    "    match['value_eur_1'] = wc[wc.index == team1]['value_eur'].iloc[0]\n",
    "    match['wage_eur_1'] = wc[wc.index == team1]['wage_eur'].iloc[0]\n",
    "    match['international_reputation_1'] = wc[wc.index == team1]['international_reputation'].iloc[0]\n",
    "    match['ovr_forwards_1'] = wc[wc.index == team1]['ovr_forwards'].iloc[0]\n",
    "    match['ovr_mids_1'] = wc[wc.index == team1]['ovr_mids'].iloc[0]\n",
    "    match['ovr_defs_1'] = wc[wc.index == team1]['ovr_defs'].iloc[0]\n",
    "    match['ovr_gks_1'] = wc[wc.index == team1]['ovr_gks'].iloc[0]\n",
    "    match['ptl_forwards_1'] = wc[wc.index == team1]['ptl_forwards'].iloc[0]\n",
    "    match['ptl_mids_1'] = wc[wc.index == team1]['ptl_mids'].iloc[0]\n",
    "    match['ptl_defs_1'] = wc[wc.index == team1]['ptl_defs'].iloc[0]\n",
    "    match['ptl_gks_1'] = wc[wc.index == team1]['ptl_gks'].iloc[0]\n",
    "   \n",
    "    \n",
    "    # Team 2 Stats\n",
    "    \n",
    "    match['age_2'] = wc[wc.index == team2]['age'].iloc[0]\n",
    "    match['height_cm_2'] = wc[wc.index == team2]['height_cm'].iloc[0]\n",
    "    match['weight_kg_2'] = wc[wc.index == team2]['weight_kg'].iloc[0]\n",
    "    match['value_eur_2'] = wc[wc.index == team2]['value_eur'].iloc[0]\n",
    "    match['wage_eur_2'] = wc[wc.index == team2]['wage_eur'].iloc[0]\n",
    "    match['international_reputation_2'] = wc[wc.index == team2]['international_reputation'].iloc[0]\n",
    "    match['ovr_forwards_2'] = wc[wc.index == team2]['ovr_forwards'].iloc[0]\n",
    "    match['ovr_mids_2'] = wc[wc.index == team2]['ovr_mids'].iloc[0]\n",
    "    match['ovr_defs_2'] = wc[wc.index == team2]['ovr_defs'].iloc[0]\n",
    "    match['ovr_gks_2'] = wc[wc.index == team2]['ovr_gks'].iloc[0]\n",
    "    match['ptl_forwards_2'] = wc[wc.index == team2]['ptl_forwards'].iloc[0]\n",
    "    match['ptl_mids_2'] = wc[wc.index == team2]['ptl_mids'].iloc[0]\n",
    "    match['ptl_defs_2'] = wc[wc.index == team2]['ptl_defs'].iloc[0]\n",
    "    match['ptl_gks_2'] = wc[wc.index == team2]['ptl_gks'].iloc[0]\n",
    "    \n",
    "    # Diff Columns \n",
    "    \n",
    "    match['age_diff'] = match['age_1'] - match['age_2']\n",
    "    match['height_diff'] = match['height_cm_1'] - match['height_cm_2']\n",
    "    match['weight_diff'] = match['weight_kg_1'] - match['weight_kg_2']\n",
    "    match['value_diff'] = match['value_eur_2'] - match['value_eur_2']\n",
    "    match['wage_diff'] = match['wage_eur_2'] - match['wage_eur_2']\n",
    "    match['intl_rep_diff'] = match['international_reputation_1'] - match['international_reputation_2']\n",
    "    match['fw_diff'] = match['ovr_forwards_1'] - match['ovr_forwards_2']\n",
    "    match['mid_diff'] = match['ovr_mids_1'] - match['ovr_mids_2']\n",
    "    match['def_diff'] = match['ovr_defs_1'] - match['ovr_defs_2']\n",
    "    match['gk_diff'] = match['ovr_gks_1'] - match['ovr_gks_2'] \n",
    "    match['ptl_fw_diff'] = match['ptl_forwards_1'] - match['ptl_forwards_2']\n",
    "    match['ptl_mid_diff'] = match['ptl_mids_1'] - match['ptl_mids_2']\n",
    "    match['ptl_def_diff'] = match['ptl_defs_1'] - match['ptl_defs_2']\n",
    "    match['ptl_gk_diff'] = match['ptl_gks_1'] - match['ptl_gks_2'] \n",
    "    \n",
    "    \n",
    "    \n",
    "    \n",
    "    \n",
    "    \n",
    "    \n",
    "    match = match[match.columns]\n",
    "    \n",
    "    match_array = match.values\n",
    "\n",
    "    prediction = model.predict(match_array)\n",
    "    \n",
    "    winner = None\n",
    "    \n",
    "    if prediction == 1:\n",
    "        winner = team1\n",
    "    elif prediction == 0:\n",
    "        winner = team2\n",
    "    else:\n",
    "        winner = 'draw'\n",
    "    \n",
    "    return winner\n",
    "\n",
    "## Adapted from https://towardsdatascience.com/using-machine-learning-to-simulate-world-cup-matches-959e24d0731"
   ]
  },
  {
   "cell_type": "code",
   "execution_count": 147,
   "metadata": {},
   "outputs": [],
   "source": [
    "def match(wc, team1, team2, model, random_scale= 5):\n",
    "    \n",
    "    match = pd.DataFrame(columns=[\n",
    "        \n",
    "        'age_1', 'height_cm_1', 'weight_kg_1', 'value_eur_1', 'wage_eur_1',\n",
    "        'international_reputation_1', 'ovr_forwards_1', 'ovr_mids_1',\n",
    "        'ovr_defs_1', 'ovr_gks_1','ptl_forwards_1','ptl_mids_1','ptl_defs_1','ptl_gks_1',\n",
    "        'age_2', 'height_cm_2', 'weight_kg_2',\n",
    "        'value_eur_2', 'wage_eur_2', 'international_reputation_2',\n",
    "        'ovr_forwards_2', 'ovr_mids_2', 'ovr_defs_2', 'ovr_gks_2',\n",
    "        'ptl_forwards_2','ptl_mids_2','ptl_defs_2','ptl_gks_2',\n",
    "        'age_diff', 'height_diff', 'weight_diff', 'value_diff', 'wage_diff',\n",
    "        'intl_rep_diff', 'fw_diff', 'mid_diff', 'def_diff', 'gk_diff', 'ptl_fw_diff',\n",
    "        'ptl_mid_diff', 'ptl_def_diff','ptl_gk_diff'\n",
    "                         ],\n",
    "                         index=[0])\n",
    "    # Team 1 stats\n",
    "    \n",
    "    age_1 = wc[wc.index == team1]['age'].iloc[0]\n",
    "    height_cm_1 = wc[wc.index == team1]['height_cm'].iloc[0]\n",
    "    weight_kg_1 = wc[wc.index == team1]['weight_kg'].iloc[0]\n",
    "    value_eur_1 = wc[wc.index == team1]['value_eur'].iloc[0]\n",
    "    wage_eur_1 = wc[wc.index == team1]['wage_eur'].iloc[0]\n",
    "    international_reputation_1= wc[wc.index == team1]['international_reputation'].iloc[0]\n",
    "    ovr_forwards_1 = wc[wc.index == team1]['ovr_forwards'].iloc[0]\n",
    "    ovr_mids_1 = wc[wc.index == team1]['ovr_mids'].iloc[0]\n",
    "    ovr_defs_1 = wc[wc.index == team1]['ovr_defs'].iloc[0]\n",
    "    ovr_gks_1 = wc[wc.index == team1]['ovr_gks'].iloc[0]\n",
    "    ptl_forwards_1 = wc[wc.index == team1]['ptl_forwards'].iloc[0]\n",
    "    ptl_mids_1 = wc[wc.index == team1]['ptl_mids'].iloc[0]\n",
    "    ptl_defs_1 = wc[wc.index == team1]['ptl_defs'].iloc[0]\n",
    "    ptl_gks_1 = wc[wc.index == team1]['ptl_gks'].iloc[0]\n",
    "   \n",
    "        #Assign randomness to each variable\n",
    "    \n",
    "    match['age_1'] = np.random.normal(age_1, scale=random_scale)\n",
    "    match['height_cm_1'] = np.random.normal(height_cm_1, scale=random_scale)\n",
    "    match['weight_kg_1'] = np.random.normal(weight_kg_1, scale=random_scale)\n",
    "    match['value_eur_1'] = np.random.normal(value_eur_1, scale=random_scale)\n",
    "    match['wage_eur_1'] = np.random.normal(wage_eur_1, scale=random_scale)\n",
    "    match['international_reputation_1'] = np.random.normal(international_reputation_1, scale=random_scale)\n",
    "    match['ovr_forwards_1'] = np.random.normal(ovr_forwards_1, scale=random_scale)\n",
    "    match['ovr_mids_1'] = np.random.normal(ovr_mids_1, scale=random_scale)\n",
    "    match['ovr_defs_1'] = np.random.normal(ovr_defs_1, scale=random_scale)\n",
    "    match['ovr_gks_1'] = np.random.normal(ovr_gks_1, scale=random_scale)\n",
    "    match['ptl_forwards_1'] = np.random.normal(ptl_forwards_1, scale=random_scale)\n",
    "    match['ptl_mids_1'] = np.random.normal(ptl_mids_1, scale=random_scale)\n",
    "    match['ptl_defs_1'] = np.random.normal(ptl_defs_1, scale=random_scale)\n",
    "    match['ptl_gks_1'] = np.random.normal(ptl_gks_1, scale=random_scale)\n",
    "   \n",
    "    \n",
    "    # Team 2 Stats\n",
    "    \n",
    "    age_2 = wc[wc.index == team1]['age'].iloc[0]\n",
    "    height_cm_2 = wc[wc.index == team1]['height_cm'].iloc[0]\n",
    "    weight_kg_2 = wc[wc.index == team1]['weight_kg'].iloc[0]\n",
    "    value_eur_2 = wc[wc.index == team1]['value_eur'].iloc[0]\n",
    "    wage_eur_2 = wc[wc.index == team1]['wage_eur'].iloc[0]\n",
    "    international_reputation_2= wc[wc.index == team1]['international_reputation'].iloc[0]\n",
    "    ovr_forwards_2 = wc[wc.index == team1]['ovr_forwards'].iloc[0]\n",
    "    ovr_mids_2 = wc[wc.index == team1]['ovr_mids'].iloc[0]\n",
    "    ovr_defs_2 = wc[wc.index == team1]['ovr_defs'].iloc[0]\n",
    "    ovr_gks_2 = wc[wc.index == team1]['ovr_gks'].iloc[0]\n",
    "    ptl_forwards_2 = wc[wc.index == team1]['ptl_forwards'].iloc[0]\n",
    "    ptl_mids_2 = wc[wc.index == team1]['ptl_mids'].iloc[0]\n",
    "    ptl_defs_2 = wc[wc.index == team1]['ptl_defs'].iloc[0]\n",
    "    ptl_gks_2 = wc[wc.index == team1]['ptl_gks'].iloc[0]\n",
    "    \n",
    "    match['age_2'] = np.random.normal(age_2, scale=random_scale)\n",
    "    match['height_cm_2'] = np.random.normal(height_cm_2, scale=random_scale)\n",
    "    match['weight_kg_2'] = np.random.normal(weight_kg_2, scale=random_scale)\n",
    "    match['value_eur_2'] = np.random.normal(value_eur_2, scale=random_scale)\n",
    "    match['wage_eur_2'] = np.random.normal(wage_eur_2, scale=random_scale)\n",
    "    match['international_reputation_2'] = np.random.normal(international_reputation_2, scale=random_scale)\n",
    "    match['ovr_forwards_2'] = np.random.normal(ovr_forwards_2, scale=random_scale)\n",
    "    match['ovr_mids_2'] = np.random.normal(ovr_mids_2, scale=random_scale)\n",
    "    match['ovr_defs_2'] = np.random.normal(ovr_defs_2, scale=random_scale)\n",
    "    match['ovr_gks_2'] = np.random.normal(ovr_gks_2, scale=random_scale)\n",
    "    match['ptl_forwards_2'] = np.random.normal(ptl_forwards_2, scale=random_scale)\n",
    "    match['ptl_mids_2'] = np.random.normal(ptl_mids_2, scale=random_scale)\n",
    "    match['ptl_defs_2'] = np.random.normal(ptl_defs_2, scale=random_scale)\n",
    "    match['ptl_gks_2'] = np.random.normal(ptl_gks_2, scale=random_scale)\n",
    "    \n",
    "    # Diff Columns \n",
    "    \n",
    "    match['age_diff'] = match['age_1'] - match['age_2']\n",
    "    match['height_diff'] = match['height_cm_1'] - match['height_cm_2']\n",
    "    match['weight_diff'] = match['weight_kg_1'] - match['weight_kg_2']\n",
    "    match['value_diff'] = match['value_eur_2'] - match['value_eur_2']\n",
    "    match['wage_diff'] = match['wage_eur_2'] - match['wage_eur_2']\n",
    "    match['intl_rep_diff'] = match['international_reputation_1'] - match['international_reputation_2']\n",
    "    match['fw_diff'] = match['ovr_forwards_1'] - match['ovr_forwards_2']\n",
    "    match['mid_diff'] = match['ovr_mids_1'] - match['ovr_mids_2']\n",
    "    match['def_diff'] = match['ovr_defs_1'] - match['ovr_defs_2']\n",
    "    match['gk_diff'] = match['ovr_gks_1'] - match['ovr_gks_2'] \n",
    "    match['ptl_fw_diff'] = match['ptl_forwards_1'] - match['ptl_forwards_2']\n",
    "    match['ptl_mid_diff'] = match['ptl_mids_1'] - match['ptl_mids_2']\n",
    "    match['ptl_def_diff'] = match['ptl_defs_1'] - match['ptl_defs_2']\n",
    "    match['ptl_gk_diff'] = match['ptl_gks_1'] - match['ptl_gks_2'] \n",
    "    \n",
    "    \n",
    "    \n",
    "    \n",
    "    \n",
    "    \n",
    "    \n",
    "    match = match[match.columns]\n",
    "    \n",
    "    match_array = match.values\n",
    "\n",
    "    prediction = model.predict(match_array)\n",
    "    \n",
    "    winner = None\n",
    "    \n",
    "    if prediction == 1:\n",
    "        winner = team1\n",
    "    elif prediction == 0:\n",
    "        winner = team2\n",
    "    else:\n",
    "        winner = 'draw'\n",
    "        \n",
    "    return winner\n",
    "\n",
    "## Adapted from https://towardsdatascience.com/using-machine-learning-to-simulate-world-cup-matches-959e24d0731"
   ]
  },
  {
   "cell_type": "code",
   "execution_count": 148,
   "metadata": {},
   "outputs": [],
   "source": [
    "def simulate_matches(data, team1, team2, model, n_matches=10000):\n",
    "    \n",
    "    match_results = []\n",
    "    for i in range(n_matches):\n",
    "        match_results.append(match(data, team1, team2, model, random_scale=5))\n",
    "        \n",
    "    team1_proba = match_results.count(team1)/len(match_results)*100\n",
    "    team2_proba = match_results.count(team2)/len(match_results)*100\n",
    "    draw_proba = match_results.count('draw')/len(match_results)*100\n",
    "    \n",
    "    print(team1, str(round(team1_proba, 2)) + '%')\n",
    "    print(team2, str(round(team2_proba,2)) + '%')\n",
    "    print('draw', str(round(draw_proba,2)) + '%')\n",
    "    print('-------------------------')\n",
    "    print()\n",
    "    \n",
    "    if team1_proba > team2_proba:\n",
    "        overall_winner = team1\n",
    "    elif team1_proba < team2_proba:\n",
    "        overall_winner = team2\n",
    "    else:\n",
    "        overall_winner = 'draw'\n",
    "    \n",
    "    return {'team1': team1,\n",
    "            'team2': team2,\n",
    "            'team1_proba': team1_proba, \n",
    "            'team2_proba': team2_proba, \n",
    "            'overall_winner': overall_winner,\n",
    "            'match_results': match_results}\n",
    "\n",
    "## Adapted from https://towardsdatascience.com/using-machine-learning-to-simulate-world-cup-matches-959e24d0731"
   ]
  },
  {
   "cell_type": "code",
   "execution_count": 149,
   "metadata": {},
   "outputs": [
    {
     "name": "stdout",
     "output_type": "stream",
     "text": [
      "Uruguay 93.6%\n",
      "Costa Rica 1.2%\n",
      "draw 5.2%\n",
      "-------------------------\n",
      "\n"
     ]
    }
   ],
   "source": [
    "uruguay_cr = simulate_matches(df, 'Uruguay', 'Costa Rica', gs_vc, n_matches = 1000)"
   ]
  },
  {
   "cell_type": "code",
   "execution_count": 150,
   "metadata": {},
   "outputs": [
    {
     "name": "stdout",
     "output_type": "stream",
     "text": [
      "England 92.2%\n",
      "Italy 2.7%\n",
      "draw 5.1%\n",
      "-------------------------\n",
      "\n"
     ]
    }
   ],
   "source": [
    "eng_ita = simulate_matches(df, 'England', 'Italy', gs_vc, n_matches = 1000)"
   ]
  },
  {
   "cell_type": "code",
   "execution_count": 151,
   "metadata": {},
   "outputs": [
    {
     "name": "stdout",
     "output_type": "stream",
     "text": [
      "Uruguay 92.3%\n",
      "England 1.6%\n",
      "draw 6.1%\n",
      "-------------------------\n",
      "\n"
     ]
    }
   ],
   "source": [
    "uru_eng = simulate_matches(df, 'Uruguay', 'England', gs_vc, n_matches = 1000)"
   ]
  },
  {
   "cell_type": "code",
   "execution_count": 152,
   "metadata": {},
   "outputs": [
    {
     "name": "stdout",
     "output_type": "stream",
     "text": [
      "Italy 90.3%\n",
      "Costa Rica 4.6%\n",
      "draw 5.1%\n",
      "-------------------------\n",
      "\n"
     ]
    }
   ],
   "source": [
    "ita_cr = simulate_matches(df, 'Italy', 'Costa Rica', gs_vc, n_matches = 1000)"
   ]
  },
  {
   "cell_type": "code",
   "execution_count": 153,
   "metadata": {},
   "outputs": [
    {
     "name": "stdout",
     "output_type": "stream",
     "text": [
      "Italy 91.4%\n",
      "Uruguay 4.8%\n",
      "draw 3.8%\n",
      "-------------------------\n",
      "\n"
     ]
    }
   ],
   "source": [
    "ita_uru = simulate_matches(df, 'Italy', 'Uruguay', gs_vc, n_matches = 1000)"
   ]
  },
  {
   "cell_type": "code",
   "execution_count": 154,
   "metadata": {},
   "outputs": [
    {
     "name": "stdout",
     "output_type": "stream",
     "text": [
      "Costa Rica 43.0%\n",
      "England 9.3%\n",
      "draw 47.7%\n",
      "-------------------------\n",
      "\n"
     ]
    }
   ],
   "source": [
    "cr_eng = simulate_matches(df, 'Costa Rica', 'England', gs_vc, n_matches = 1000)"
   ]
  },
  {
   "cell_type": "markdown",
   "metadata": {},
   "source": [
    "### Simulation Results"
   ]
  },
  {
   "cell_type": "markdown",
   "metadata": {},
   "source": [
    "Predictions:<br>\n",
    "\n",
    "|Team | Points|\n",
    "|----|----|\n",
    "|Italy| 6 |\n",
    "|Uruguay | 6 | \n",
    "|England | 4 |\n",
    "|Costa Rica | 1 | <br>\n",
    "\n",
    "Actual Results: <br>\n",
    "\n",
    "|Team | Points|\n",
    "|----|----|\n",
    "|Costa Rica| 7 |\n",
    "|Uruguay | 6 | \n",
    "|Italy | 3 |\n",
    "|England | 1 |\n"
   ]
  },
  {
   "cell_type": "markdown",
   "metadata": {},
   "source": [
    "## Conclusion"
   ]
  },
  {
   "cell_type": "markdown",
   "metadata": {},
   "source": [
    "The model is able to predict with 61% accuracy which team will win. The model which worked best according to the accuracy score was the Voting Classifier. The simulating of the individual games sometimes seem more accurate using different classifier models on the simulation functions. However, the overall outcome of the group is best predicted by the Voting Classifier which uses a tuned Extra Trees model. There are many considerations to make when trying to predict the future as there is always a level of uncertainty present. This particular group in the 2014 World Cup was a prime example of this as the world watched Costa Rica put on a performance of a life time causing huge upsets and ultimately winning the group. The best we can do is use this data to identify what makes a winning team by looking at the coefficients of the model. This information could be of great use to international teams looking for areas in need of improvement. Ultimately my goal was to predict whether or not Italy would pass the group stages. According to my model Italy should have passed easily winning two out of the three games. However, this proved to be Costa Rica's year and the Italian nationals ended up going home. "
   ]
  },
  {
   "cell_type": "markdown",
   "metadata": {},
   "source": [
    "## Recommendations"
   ]
  },
  {
   "cell_type": "markdown",
   "metadata": {},
   "source": [
    "The model can be improved in the future by giving it more data on each team. This became evident when we found leakage due to the 'score' column in our dataset. The model was able to take this information and correctly predict the outcome every time. What can be done to include the goal scoring factor into the model would be to calculate the probability of a given team to score against another. This way our features would be able to take into consideration the goal scoring ability of each squad without having it directly inform the model on who the winner is. Furthermore, for the feasibility of this project we only ran my model on games that included teams from the 2014 World Cup. A next step would be to include all matches as the model would have more data to work with. Since the model examines the relationships between the teams average statistics rather than the team names, it would not have an impact on the outcome."
   ]
  },
  {
   "cell_type": "code",
   "execution_count": null,
   "metadata": {},
   "outputs": [],
   "source": []
  }
 ],
 "metadata": {
  "kernelspec": {
   "display_name": "Python 3",
   "language": "python",
   "name": "python3"
  },
  "language_info": {
   "codemirror_mode": {
    "name": "ipython",
    "version": 3
   },
   "file_extension": ".py",
   "mimetype": "text/x-python",
   "name": "python",
   "nbconvert_exporter": "python",
   "pygments_lexer": "ipython3",
   "version": "3.7.5"
  },
  "toc": {
   "base_numbering": 1,
   "nav_menu": {
    "height": "16.9886px",
    "width": "312.628px"
   },
   "number_sections": false,
   "sideBar": true,
   "skip_h1_title": true,
   "title_cell": "Table of Contents",
   "title_sidebar": "Contents",
   "toc_cell": true,
   "toc_position": {
    "height": "calc(100% - 180px)",
    "left": "10px",
    "top": "150px",
    "width": "173.48px"
   },
   "toc_section_display": true,
   "toc_window_display": true
  },
  "varInspector": {
   "cols": {
    "lenName": 16,
    "lenType": 16,
    "lenVar": 40
   },
   "kernels_config": {
    "python": {
     "delete_cmd_postfix": "",
     "delete_cmd_prefix": "del ",
     "library": "var_list.py",
     "varRefreshCmd": "print(var_dic_list())"
    },
    "r": {
     "delete_cmd_postfix": ") ",
     "delete_cmd_prefix": "rm(",
     "library": "var_list.r",
     "varRefreshCmd": "cat(var_dic_list()) "
    }
   },
   "types_to_exclude": [
    "module",
    "function",
    "builtin_function_or_method",
    "instance",
    "_Feature"
   ],
   "window_display": false
  }
 },
 "nbformat": 4,
 "nbformat_minor": 2
}
