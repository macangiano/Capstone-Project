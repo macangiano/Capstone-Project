{
 "cells": [
  {
   "cell_type": "markdown",
   "metadata": {},
   "source": [
    "# Predicting World Cup Group Stage Outcomes\n",
    "    By Matteo Cangiano"
   ]
  },
  {
   "cell_type": "markdown",
   "metadata": {},
   "source": [
    "## Problem Statement"
   ]
  },
  {
   "cell_type": "markdown",
   "metadata": {},
   "source": [
    "The Italian Football Federation has asked to create a model that would predict whether or not Italy will pass the group stage of the 2014 World Cup. Progressing to the later stages of the World Cup brings extra funds as well as more marketing for the team, increasing their chance of future successes. With these funds teams are able to invest in their domestic leagues and youth development. For this project I will be using past World Cup data on matches as well as player ratings from FIFA 14. Using a classification model with a metric of accuracy, I will predict the outcome of the group stage for Group D (the group Italy is in)."
   ]
  },
  {
   "cell_type": "markdown",
   "metadata": {},
   "source": [
    "## Executive Summary\n",
    "\n",
    "This project is being developed for the Italian Football Federation (FIGC) an organization that oversees soccer in Italy as well as the international team for European and world competitions such as the World Cup. The winner of the World Cup receives \\\\$38 million as prize money to then cover their costs and invest in the future of the sport within their country. Just by passing the group stages a team will receive $12 million, which can go a long way in upgrading technology and developing youth. We developed a machine learning-based tool that can predict the outcome of the group stages, allowing the FIGC to plan for future investments.\n",
    "\n",
    "The problem statement asked to create a model that would predict whether or not Italy will pass the group stage of the 2014 World Cup. Due to the limited time we decided to leave out some data that will later be mentioned in the ‘Recommendations’ section to improve model performance.\n",
    "\n",
    "Instead we found two datasets, one on the FIFA ratings for the year 2014 and the other on historical World Cup matches dating back to 1930. Combining the two datasets allowed us to better predict the outcomes by analyzing past records and form against certain teams as well as the current team status. Preliminary EDA showed that the ratings from the FIFA dataset could be trusted as they corresponded with the national team rankings and public opinion. It also showed us that based on the difference between the mean statistics of two teams, the model should be able to distinguish which team would win the head-to-head. \n",
    "\n",
    "Once the datasets were ready we began fitting different classification models to predict the probability that one team would win over the other. Subsequently, we created functions that would take into the consideration the attributes of both teams and predict the winner via simulations. Each game was simulated 1000 times to ensure accurate scores. Our model is able to correctly predict the outcome of any given match with 61% accuracy. However, it must be noted that “the beautiful game” is highly unpredictable as we can see from the results of the actual outcomes of the group stages, leaving many in shock to see smaller teams such as Costa Rica come out on top. This model can give us an idea of how a game should turn out on paper, but anything can happen once the players are on the field. "
   ]
  },
  {
   "cell_type": "markdown",
   "metadata": {
    "toc": true
   },
   "source": [
    "<h1>Table of Contents<span class=\"tocSkip\"></span></h1>\n",
    "<div class=\"toc\"><ul class=\"toc-item\"><li><span><a href=\"#Problem-Statement\" data-toc-modified-id=\"Problem-Statement-1\">Problem Statement</a></span></li><li><span><a href=\"#Executive-Summary\" data-toc-modified-id=\"Executive-Summary-2\">Executive Summary</a></span></li><li><span><a href=\"#Importing-Libraries\" data-toc-modified-id=\"Importing-Libraries-3\">Importing Libraries</a></span></li><li><span><a href=\"#Setting-a-Random-State\" data-toc-modified-id=\"Setting-a-Random-State-4\">Setting a Random State</a></span></li><li><span><a href=\"#Loading-Data\" data-toc-modified-id=\"Loading-Data-5\">Loading Data</a></span></li><li><span><a href=\"#Data-Cleaning\" data-toc-modified-id=\"Data-Cleaning-6\">Data Cleaning</a></span><ul class=\"toc-item\"><li><span><a href=\"#Selecting-National-Team-Members\" data-toc-modified-id=\"Selecting-National-Team-Members-6.1\">Selecting National Team Members</a></span></li><li><span><a href=\"#Dropping-the-Null-Values\" data-toc-modified-id=\"Dropping-the-Null-Values-6.2\">Dropping the Null Values</a></span></li><li><span><a href=\"#Checking-Team-Names\" data-toc-modified-id=\"Checking-Team-Names-6.3\">Checking Team Names</a></span></li><li><span><a href=\"#Selecting-the-National-Team-Players\" data-toc-modified-id=\"Selecting-the-National-Team-Players-6.4\">Selecting the National Team Players</a></span></li><li><span><a href=\"#Creating-a-DataFrame-with-the-2014-World-Cup-Eligible-Team-Stats\" data-toc-modified-id=\"Creating-a-DataFrame-with-the-2014-World-Cup-Eligible-Team-Stats-6.5\">Creating a DataFrame with the 2014 World Cup Eligible Team Stats</a></span></li><li><span><a href=\"#World-Cup-Matches-Cleaning\" data-toc-modified-id=\"World-Cup-Matches-Cleaning-6.6\">World Cup Matches Cleaning</a></span></li></ul></li><li><span><a href=\"#EDA\" data-toc-modified-id=\"EDA-7\">EDA</a></span><ul class=\"toc-item\"><li><span><a href=\"#Visualizing-the-Top-Teams\" data-toc-modified-id=\"Visualizing-the-Top-Teams-7.1\">Visualizing the Top Teams</a></span></li><li><span><a href=\"#Assigning-Average-Player-Statistics-to-Each-Country\" data-toc-modified-id=\"Assigning-Average-Player-Statistics-to-Each-Country-7.2\">Assigning Average Player Statistics to Each Country</a></span></li><li><span><a href=\"#Finding-Missing-Positions-for-Each-Country-and-Assigning-Mean-Statistics-for-Each-Position\" data-toc-modified-id=\"Finding-Missing-Positions-for-Each-Country-and-Assigning-Mean-Statistics-for-Each-Position-7.3\">Finding Missing Positions for Each Country and Assigning Mean Statistics for Each Position</a></span></li><li><span><a href=\"#Average-Overall-Ratings-by-Position\" data-toc-modified-id=\"Average-Overall-Ratings-by-Position-7.4\">Average Overall Ratings by Position</a></span></li><li><span><a href=\"#Average-Player-Value-by-Position\" data-toc-modified-id=\"Average-Player-Value-by-Position-7.5\">Average Player Value by Position</a></span></li></ul></li><li><span><a href=\"#Pre-Modeling\" data-toc-modified-id=\"Pre-Modeling-8\">Pre-Modeling</a></span><ul class=\"toc-item\"><li><span><a href=\"#Setting-up-the-DataFrames\" data-toc-modified-id=\"Setting-up-the-DataFrames-8.1\">Setting up the DataFrames</a></span></li><li><span><a href=\"#Imputing-missing-values-from-FutHead.com\" data-toc-modified-id=\"Imputing-missing-values-from-FutHead.com-8.2\">Imputing missing values from FutHead.com</a></span></li><li><span><a href=\"#Adding-Team-stats-to-wc_matchups-DataFrame\" data-toc-modified-id=\"Adding-Team-stats-to-wc_matchups-DataFrame-8.3\">Adding Team stats to <code>wc_matchups</code> DataFrame</a></span></li><li><span><a href=\"#Creating-Interaction-Terms-for-the-Statistics-for-both-teams.\" data-toc-modified-id=\"Creating-Interaction-Terms-for-the-Statistics-for-both-teams.-8.4\">Creating Interaction Terms for the Statistics for both teams.</a></span></li></ul></li><li><span><a href=\"#Modeling\" data-toc-modified-id=\"Modeling-9\">Modeling</a></span><ul class=\"toc-item\"><li><span><a href=\"#Logistic-Regression\" data-toc-modified-id=\"Logistic-Regression-9.1\">Logistic Regression</a></span></li><li><span><a href=\"#KNN\" data-toc-modified-id=\"KNN-9.2\">KNN</a></span></li><li><span><a href=\"#Decision-Tree\" data-toc-modified-id=\"Decision-Tree-9.3\">Decision Tree</a></span></li><li><span><a href=\"#Bagging-Classifier\" data-toc-modified-id=\"Bagging-Classifier-9.4\">Bagging Classifier</a></span></li><li><span><a href=\"#Random-Forest\" data-toc-modified-id=\"Random-Forest-9.5\">Random Forest</a></span></li><li><span><a href=\"#Extra-Trees\" data-toc-modified-id=\"Extra-Trees-9.6\">Extra Trees</a></span></li></ul></li><li><span><a href=\"#Model-Selection\" data-toc-modified-id=\"Model-Selection-10\">Model Selection</a></span></li><li><span><a href=\"#Model-Evaluation\" data-toc-modified-id=\"Model-Evaluation-11\">Model Evaluation</a></span><ul class=\"toc-item\"><li><span><a href=\"#Confusion-Matrix\" data-toc-modified-id=\"Confusion-Matrix-11.1\">Confusion Matrix</a></span></li><li><span><a href=\"#Feature-Coefficients\" data-toc-modified-id=\"Feature-Coefficients-11.2\">Feature Coefficients</a></span></li></ul></li><li><span><a href=\"#Simulation\" data-toc-modified-id=\"Simulation-12\">Simulation</a></span><ul class=\"toc-item\"><li><span><a href=\"#Simulation-Results\" data-toc-modified-id=\"Simulation-Results-12.1\">Simulation Results</a></span></li></ul></li><li><span><a href=\"#Conclusion\" data-toc-modified-id=\"Conclusion-13\">Conclusion</a></span></li><li><span><a href=\"#Recommendations\" data-toc-modified-id=\"Recommendations-14\">Recommendations</a></span></li><li><span><a href=\"#References\" data-toc-modified-id=\"References-15\">References</a></span></li></ul></div>"
   ]
  },
  {
   "cell_type": "markdown",
   "metadata": {},
   "source": [
    "## Importing Libraries"
   ]
  },
  {
   "cell_type": "code",
   "execution_count": 1,
   "metadata": {
    "scrolled": false
   },
   "outputs": [],
   "source": [
    "import pandas as pd\n",
    "import numpy as np\n",
    "import matplotlib.pyplot as plt\n",
    "import seaborn as sns\n",
    "from sklearn.pipeline import Pipeline\n",
    "from sklearn.model_selection import cross_val_score, train_test_split, GridSearchCV\n",
    "from sklearn.neighbors import KNeighborsClassifier\n",
    "from sklearn.svm import SVC\n",
    "from sklearn.ensemble import BaggingClassifier, RandomForestClassifier, ExtraTreesClassifier\n",
    "from sklearn.tree import DecisionTreeClassifier\n",
    "from sklearn.metrics import confusion_matrix, roc_auc_score\n",
    "from sklearn.preprocessing import StandardScaler\n",
    "from sklearn.datasets import make_classification\n",
    "from sklearn.ensemble import GradientBoostingClassifier, AdaBoostClassifier, VotingClassifier, RandomForestClassifier\n",
    "from sklearn.tree import DecisionTreeClassifier\n",
    "from sklearn.neighbors import KNeighborsClassifier\n",
    "from sklearn.linear_model import LogisticRegression"
   ]
  },
  {
   "cell_type": "markdown",
   "metadata": {},
   "source": [
    "## Setting a Random State\n",
    "For reproducibility, the random state used in the notebook is 42."
   ]
  },
  {
   "cell_type": "code",
   "execution_count": 2,
   "metadata": {},
   "outputs": [],
   "source": [
    "random_state = 42"
   ]
  },
  {
   "cell_type": "markdown",
   "metadata": {},
   "source": [
    "## Loading Data"
   ]
  },
  {
   "cell_type": "code",
   "execution_count": 3,
   "metadata": {},
   "outputs": [],
   "source": [
    "players = pd.read_csv('../datasets/players_18.csv')\n",
    "wc_matches = pd.read_csv('../datasets/WorldCupMatches.csv')"
   ]
  },
  {
   "cell_type": "markdown",
   "metadata": {},
   "source": [
    "## Data Cleaning"
   ]
  },
  {
   "cell_type": "markdown",
   "metadata": {},
   "source": [
    "### Selecting National Team Members"
   ]
  },
  {
   "cell_type": "markdown",
   "metadata": {},
   "source": [
    "For the purpose of this project we decided to use only the teams and players that were involved in the 2014 world cup, both to improve accuracy of the model eliminating the possibility of outliers as well as the computational efficiency of the model and simulations. "
   ]
  },
  {
   "cell_type": "markdown",
   "metadata": {},
   "source": [
    "Here we see the raw data from the FIFA dataset:"
   ]
  },
  {
   "cell_type": "code",
   "execution_count": 4,
   "metadata": {
    "scrolled": false
   },
   "outputs": [
    {
     "data": {
      "text/html": [
       "<div>\n",
       "<style scoped>\n",
       "    .dataframe tbody tr th:only-of-type {\n",
       "        vertical-align: middle;\n",
       "    }\n",
       "\n",
       "    .dataframe tbody tr th {\n",
       "        vertical-align: top;\n",
       "    }\n",
       "\n",
       "    .dataframe thead th {\n",
       "        text-align: right;\n",
       "    }\n",
       "</style>\n",
       "<table border=\"1\" class=\"dataframe\">\n",
       "  <thead>\n",
       "    <tr style=\"text-align: right;\">\n",
       "      <th></th>\n",
       "      <th>sofifa_id</th>\n",
       "      <th>player_url</th>\n",
       "      <th>short_name</th>\n",
       "      <th>long_name</th>\n",
       "      <th>age</th>\n",
       "      <th>dob</th>\n",
       "      <th>height_cm</th>\n",
       "      <th>weight_kg</th>\n",
       "      <th>nationality</th>\n",
       "      <th>club</th>\n",
       "      <th>...</th>\n",
       "      <th>lwb</th>\n",
       "      <th>ldm</th>\n",
       "      <th>cdm</th>\n",
       "      <th>rdm</th>\n",
       "      <th>rwb</th>\n",
       "      <th>lb</th>\n",
       "      <th>lcb</th>\n",
       "      <th>cb</th>\n",
       "      <th>rcb</th>\n",
       "      <th>rb</th>\n",
       "    </tr>\n",
       "  </thead>\n",
       "  <tbody>\n",
       "    <tr>\n",
       "      <th>0</th>\n",
       "      <td>20801</td>\n",
       "      <td>https://sofifa.com/player/20801/c-ronaldo-dos-...</td>\n",
       "      <td>Cristiano Ronaldo</td>\n",
       "      <td>Cristiano Ronaldo dos Santos Aveiro</td>\n",
       "      <td>32</td>\n",
       "      <td>1985-02-05</td>\n",
       "      <td>185</td>\n",
       "      <td>80</td>\n",
       "      <td>Portugal</td>\n",
       "      <td>Real Madrid</td>\n",
       "      <td>...</td>\n",
       "      <td>66+3</td>\n",
       "      <td>62+3</td>\n",
       "      <td>62+3</td>\n",
       "      <td>62+3</td>\n",
       "      <td>66+3</td>\n",
       "      <td>62+3</td>\n",
       "      <td>53+3</td>\n",
       "      <td>53+3</td>\n",
       "      <td>53+3</td>\n",
       "      <td>62+3</td>\n",
       "    </tr>\n",
       "    <tr>\n",
       "      <th>1</th>\n",
       "      <td>158023</td>\n",
       "      <td>https://sofifa.com/player/158023/lionel-messi/...</td>\n",
       "      <td>L. Messi</td>\n",
       "      <td>Lionel Andrés Messi Cuccittini</td>\n",
       "      <td>30</td>\n",
       "      <td>1987-06-24</td>\n",
       "      <td>170</td>\n",
       "      <td>72</td>\n",
       "      <td>Argentina</td>\n",
       "      <td>FC Barcelona</td>\n",
       "      <td>...</td>\n",
       "      <td>62+3</td>\n",
       "      <td>59+3</td>\n",
       "      <td>59+3</td>\n",
       "      <td>59+3</td>\n",
       "      <td>62+3</td>\n",
       "      <td>58+3</td>\n",
       "      <td>46+3</td>\n",
       "      <td>46+3</td>\n",
       "      <td>46+3</td>\n",
       "      <td>58+3</td>\n",
       "    </tr>\n",
       "    <tr>\n",
       "      <th>2</th>\n",
       "      <td>190871</td>\n",
       "      <td>https://sofifa.com/player/190871/neymar-da-sil...</td>\n",
       "      <td>Neymar</td>\n",
       "      <td>Neymar da Silva Santos Junior</td>\n",
       "      <td>25</td>\n",
       "      <td>1992-02-05</td>\n",
       "      <td>175</td>\n",
       "      <td>68</td>\n",
       "      <td>Brazil</td>\n",
       "      <td>Paris Saint-Germain</td>\n",
       "      <td>...</td>\n",
       "      <td>64+3</td>\n",
       "      <td>59+3</td>\n",
       "      <td>59+3</td>\n",
       "      <td>59+3</td>\n",
       "      <td>64+3</td>\n",
       "      <td>60+3</td>\n",
       "      <td>47+3</td>\n",
       "      <td>47+3</td>\n",
       "      <td>47+3</td>\n",
       "      <td>60+3</td>\n",
       "    </tr>\n",
       "  </tbody>\n",
       "</table>\n",
       "<p>3 rows × 104 columns</p>\n",
       "</div>"
      ],
      "text/plain": [
       "   sofifa_id                                         player_url  \\\n",
       "0      20801  https://sofifa.com/player/20801/c-ronaldo-dos-...   \n",
       "1     158023  https://sofifa.com/player/158023/lionel-messi/...   \n",
       "2     190871  https://sofifa.com/player/190871/neymar-da-sil...   \n",
       "\n",
       "          short_name                            long_name  age         dob  \\\n",
       "0  Cristiano Ronaldo  Cristiano Ronaldo dos Santos Aveiro   32  1985-02-05   \n",
       "1           L. Messi       Lionel Andrés Messi Cuccittini   30  1987-06-24   \n",
       "2             Neymar        Neymar da Silva Santos Junior   25  1992-02-05   \n",
       "\n",
       "   height_cm  weight_kg nationality                 club  ...   lwb   ldm  \\\n",
       "0        185         80    Portugal          Real Madrid  ...  66+3  62+3   \n",
       "1        170         72   Argentina         FC Barcelona  ...  62+3  59+3   \n",
       "2        175         68      Brazil  Paris Saint-Germain  ...  64+3  59+3   \n",
       "\n",
       "    cdm   rdm   rwb    lb   lcb    cb   rcb    rb  \n",
       "0  62+3  62+3  66+3  62+3  53+3  53+3  53+3  62+3  \n",
       "1  59+3  59+3  62+3  58+3  46+3  46+3  46+3  58+3  \n",
       "2  59+3  59+3  64+3  60+3  47+3  47+3  47+3  60+3  \n",
       "\n",
       "[3 rows x 104 columns]"
      ]
     },
     "execution_count": 4,
     "metadata": {},
     "output_type": "execute_result"
    }
   ],
   "source": [
    "players.head(3)"
   ]
  },
  {
   "cell_type": "code",
   "execution_count": 5,
   "metadata": {},
   "outputs": [
    {
     "data": {
      "text/plain": [
       "(17592, 104)"
      ]
     },
     "execution_count": 5,
     "metadata": {},
     "output_type": "execute_result"
    }
   ],
   "source": [
    "players.shape"
   ]
  },
  {
   "cell_type": "markdown",
   "metadata": {},
   "source": [
    "Here we see the raw data from the World Cup Matches dataset:"
   ]
  },
  {
   "cell_type": "code",
   "execution_count": 6,
   "metadata": {
    "scrolled": false
   },
   "outputs": [
    {
     "data": {
      "text/html": [
       "<div>\n",
       "<style scoped>\n",
       "    .dataframe tbody tr th:only-of-type {\n",
       "        vertical-align: middle;\n",
       "    }\n",
       "\n",
       "    .dataframe tbody tr th {\n",
       "        vertical-align: top;\n",
       "    }\n",
       "\n",
       "    .dataframe thead th {\n",
       "        text-align: right;\n",
       "    }\n",
       "</style>\n",
       "<table border=\"1\" class=\"dataframe\">\n",
       "  <thead>\n",
       "    <tr style=\"text-align: right;\">\n",
       "      <th></th>\n",
       "      <th>Year</th>\n",
       "      <th>Datetime</th>\n",
       "      <th>Stage</th>\n",
       "      <th>Stadium</th>\n",
       "      <th>City</th>\n",
       "      <th>Home Team Name</th>\n",
       "      <th>Home Team Goals</th>\n",
       "      <th>Away Team Goals</th>\n",
       "      <th>Away Team Name</th>\n",
       "      <th>Win conditions</th>\n",
       "      <th>Attendance</th>\n",
       "      <th>Half-time Home Goals</th>\n",
       "      <th>Half-time Away Goals</th>\n",
       "      <th>Referee</th>\n",
       "      <th>Assistant 1</th>\n",
       "      <th>Assistant 2</th>\n",
       "      <th>RoundID</th>\n",
       "      <th>MatchID</th>\n",
       "      <th>Home Team Initials</th>\n",
       "      <th>Away Team Initials</th>\n",
       "    </tr>\n",
       "  </thead>\n",
       "  <tbody>\n",
       "    <tr>\n",
       "      <th>0</th>\n",
       "      <td>1930.0</td>\n",
       "      <td>13 Jul 1930 - 15:00</td>\n",
       "      <td>Group 1</td>\n",
       "      <td>Pocitos</td>\n",
       "      <td>Montevideo</td>\n",
       "      <td>France</td>\n",
       "      <td>4.0</td>\n",
       "      <td>1.0</td>\n",
       "      <td>Mexico</td>\n",
       "      <td></td>\n",
       "      <td>4444.0</td>\n",
       "      <td>3.0</td>\n",
       "      <td>0.0</td>\n",
       "      <td>LOMBARDI Domingo (URU)</td>\n",
       "      <td>CRISTOPHE Henry (BEL)</td>\n",
       "      <td>REGO Gilberto (BRA)</td>\n",
       "      <td>201.0</td>\n",
       "      <td>1096.0</td>\n",
       "      <td>FRA</td>\n",
       "      <td>MEX</td>\n",
       "    </tr>\n",
       "    <tr>\n",
       "      <th>1</th>\n",
       "      <td>1930.0</td>\n",
       "      <td>13 Jul 1930 - 15:00</td>\n",
       "      <td>Group 4</td>\n",
       "      <td>Parque Central</td>\n",
       "      <td>Montevideo</td>\n",
       "      <td>USA</td>\n",
       "      <td>3.0</td>\n",
       "      <td>0.0</td>\n",
       "      <td>Belgium</td>\n",
       "      <td></td>\n",
       "      <td>18346.0</td>\n",
       "      <td>2.0</td>\n",
       "      <td>0.0</td>\n",
       "      <td>MACIAS Jose (ARG)</td>\n",
       "      <td>MATEUCCI Francisco (URU)</td>\n",
       "      <td>WARNKEN Alberto (CHI)</td>\n",
       "      <td>201.0</td>\n",
       "      <td>1090.0</td>\n",
       "      <td>USA</td>\n",
       "      <td>BEL</td>\n",
       "    </tr>\n",
       "    <tr>\n",
       "      <th>2</th>\n",
       "      <td>1930.0</td>\n",
       "      <td>14 Jul 1930 - 12:45</td>\n",
       "      <td>Group 2</td>\n",
       "      <td>Parque Central</td>\n",
       "      <td>Montevideo</td>\n",
       "      <td>Yugoslavia</td>\n",
       "      <td>2.0</td>\n",
       "      <td>1.0</td>\n",
       "      <td>Brazil</td>\n",
       "      <td></td>\n",
       "      <td>24059.0</td>\n",
       "      <td>2.0</td>\n",
       "      <td>0.0</td>\n",
       "      <td>TEJADA Anibal (URU)</td>\n",
       "      <td>VALLARINO Ricardo (URU)</td>\n",
       "      <td>BALWAY Thomas (FRA)</td>\n",
       "      <td>201.0</td>\n",
       "      <td>1093.0</td>\n",
       "      <td>YUG</td>\n",
       "      <td>BRA</td>\n",
       "    </tr>\n",
       "  </tbody>\n",
       "</table>\n",
       "</div>"
      ],
      "text/plain": [
       "     Year              Datetime    Stage         Stadium         City  \\\n",
       "0  1930.0  13 Jul 1930 - 15:00   Group 1         Pocitos  Montevideo    \n",
       "1  1930.0  13 Jul 1930 - 15:00   Group 4  Parque Central  Montevideo    \n",
       "2  1930.0  14 Jul 1930 - 12:45   Group 2  Parque Central  Montevideo    \n",
       "\n",
       "  Home Team Name  Home Team Goals  Away Team Goals Away Team Name  \\\n",
       "0         France              4.0              1.0         Mexico   \n",
       "1            USA              3.0              0.0        Belgium   \n",
       "2     Yugoslavia              2.0              1.0         Brazil   \n",
       "\n",
       "  Win conditions  Attendance  Half-time Home Goals  Half-time Away Goals  \\\n",
       "0                     4444.0                   3.0                   0.0   \n",
       "1                    18346.0                   2.0                   0.0   \n",
       "2                    24059.0                   2.0                   0.0   \n",
       "\n",
       "                  Referee               Assistant 1            Assistant 2  \\\n",
       "0  LOMBARDI Domingo (URU)     CRISTOPHE Henry (BEL)    REGO Gilberto (BRA)   \n",
       "1       MACIAS Jose (ARG)  MATEUCCI Francisco (URU)  WARNKEN Alberto (CHI)   \n",
       "2     TEJADA Anibal (URU)   VALLARINO Ricardo (URU)    BALWAY Thomas (FRA)   \n",
       "\n",
       "   RoundID  MatchID Home Team Initials Away Team Initials  \n",
       "0    201.0   1096.0                FRA                MEX  \n",
       "1    201.0   1090.0                USA                BEL  \n",
       "2    201.0   1093.0                YUG                BRA  "
      ]
     },
     "execution_count": 6,
     "metadata": {},
     "output_type": "execute_result"
    }
   ],
   "source": [
    "wc_matches.head(3)"
   ]
  },
  {
   "cell_type": "code",
   "execution_count": 7,
   "metadata": {},
   "outputs": [
    {
     "data": {
      "text/plain": [
       "(4572, 20)"
      ]
     },
     "execution_count": 7,
     "metadata": {},
     "output_type": "execute_result"
    }
   ],
   "source": [
    "wc_matches.shape"
   ]
  },
  {
   "cell_type": "markdown",
   "metadata": {},
   "source": [
    "When checking the number of nulls for each column we can see that the dataset did not assign each player their specific position. However, this is okay due to their being two columns labeled 'nation_position' and 'team_position' which contain the information about the roles each player has on the team. For the majority of the teams participating in the 2014 World Cup, the players with the column 'nation_position' filled are the players that are called up to international duty. Some teams however lack this sort of information and thus used the positions of the 'team_position' column. The teams affected by this are all teams that are lower overall ratings as well as having lower international reputation. For this reason, we believe that this method will not cause any problems with our model or simulations. "
   ]
  },
  {
   "cell_type": "code",
   "execution_count": 8,
   "metadata": {
    "scrolled": false
   },
   "outputs": [
    {
     "data": {
      "text/plain": [
       "ls     1979\n",
       "st     1979\n",
       "rs     1979\n",
       "lw     1979\n",
       "lf     1979\n",
       "cf     1979\n",
       "rf     1979\n",
       "rw     1979\n",
       "lam    1979\n",
       "cam    1979\n",
       "ram    1979\n",
       "lm     1979\n",
       "lcm    1979\n",
       "cm     1979\n",
       "rcm    1979\n",
       "rm     1979\n",
       "lwb    1979\n",
       "ldm    1979\n",
       "cdm    1979\n",
       "rdm    1979\n",
       "rwb    1979\n",
       "lb     1979\n",
       "lcb    1979\n",
       "cb     1979\n",
       "rcb    1979\n",
       "rb     1979\n",
       "dtype: int64"
      ]
     },
     "execution_count": 8,
     "metadata": {},
     "output_type": "execute_result"
    }
   ],
   "source": [
    "players.isnull().sum()[-26:]"
   ]
  },
  {
   "cell_type": "markdown",
   "metadata": {},
   "source": [
    "In the World Cup Matches we have many nulls for each column, however upon investigating this further we can see that all the nulls are in the same rows. The rows that matter to this project don't have any missing information. "
   ]
  },
  {
   "cell_type": "code",
   "execution_count": 9,
   "metadata": {},
   "outputs": [
    {
     "data": {
      "text/plain": [
       "Year                    3720\n",
       "Datetime                3720\n",
       "Stage                   3720\n",
       "Stadium                 3720\n",
       "City                    3720\n",
       "Home Team Name          3720\n",
       "Home Team Goals         3720\n",
       "Away Team Goals         3720\n",
       "Away Team Name          3720\n",
       "Win conditions          3720\n",
       "Attendance              3722\n",
       "Half-time Home Goals    3720\n",
       "Half-time Away Goals    3720\n",
       "Referee                 3720\n",
       "Assistant 1             3720\n",
       "Assistant 2             3720\n",
       "RoundID                 3720\n",
       "MatchID                 3720\n",
       "Home Team Initials      3720\n",
       "Away Team Initials      3720\n",
       "dtype: int64"
      ]
     },
     "execution_count": 9,
     "metadata": {},
     "output_type": "execute_result"
    }
   ],
   "source": [
    "wc_matches.isnull().sum()"
   ]
  },
  {
   "cell_type": "code",
   "execution_count": 10,
   "metadata": {
    "scrolled": true
   },
   "outputs": [
    {
     "data": {
      "text/html": [
       "<div>\n",
       "<style scoped>\n",
       "    .dataframe tbody tr th:only-of-type {\n",
       "        vertical-align: middle;\n",
       "    }\n",
       "\n",
       "    .dataframe tbody tr th {\n",
       "        vertical-align: top;\n",
       "    }\n",
       "\n",
       "    .dataframe thead th {\n",
       "        text-align: right;\n",
       "    }\n",
       "</style>\n",
       "<table border=\"1\" class=\"dataframe\">\n",
       "  <thead>\n",
       "    <tr style=\"text-align: right;\">\n",
       "      <th></th>\n",
       "      <th>Year</th>\n",
       "      <th>Datetime</th>\n",
       "      <th>Stage</th>\n",
       "      <th>Stadium</th>\n",
       "      <th>City</th>\n",
       "      <th>Home Team Name</th>\n",
       "      <th>Home Team Goals</th>\n",
       "      <th>Away Team Goals</th>\n",
       "      <th>Away Team Name</th>\n",
       "      <th>Win conditions</th>\n",
       "      <th>Attendance</th>\n",
       "      <th>Half-time Home Goals</th>\n",
       "      <th>Half-time Away Goals</th>\n",
       "      <th>Referee</th>\n",
       "      <th>Assistant 1</th>\n",
       "      <th>Assistant 2</th>\n",
       "      <th>RoundID</th>\n",
       "      <th>MatchID</th>\n",
       "      <th>Home Team Initials</th>\n",
       "      <th>Away Team Initials</th>\n",
       "    </tr>\n",
       "  </thead>\n",
       "  <tbody>\n",
       "    <tr>\n",
       "      <th>852</th>\n",
       "      <td>NaN</td>\n",
       "      <td>NaN</td>\n",
       "      <td>NaN</td>\n",
       "      <td>NaN</td>\n",
       "      <td>NaN</td>\n",
       "      <td>NaN</td>\n",
       "      <td>NaN</td>\n",
       "      <td>NaN</td>\n",
       "      <td>NaN</td>\n",
       "      <td>NaN</td>\n",
       "      <td>NaN</td>\n",
       "      <td>NaN</td>\n",
       "      <td>NaN</td>\n",
       "      <td>NaN</td>\n",
       "      <td>NaN</td>\n",
       "      <td>NaN</td>\n",
       "      <td>NaN</td>\n",
       "      <td>NaN</td>\n",
       "      <td>NaN</td>\n",
       "      <td>NaN</td>\n",
       "    </tr>\n",
       "    <tr>\n",
       "      <th>853</th>\n",
       "      <td>NaN</td>\n",
       "      <td>NaN</td>\n",
       "      <td>NaN</td>\n",
       "      <td>NaN</td>\n",
       "      <td>NaN</td>\n",
       "      <td>NaN</td>\n",
       "      <td>NaN</td>\n",
       "      <td>NaN</td>\n",
       "      <td>NaN</td>\n",
       "      <td>NaN</td>\n",
       "      <td>NaN</td>\n",
       "      <td>NaN</td>\n",
       "      <td>NaN</td>\n",
       "      <td>NaN</td>\n",
       "      <td>NaN</td>\n",
       "      <td>NaN</td>\n",
       "      <td>NaN</td>\n",
       "      <td>NaN</td>\n",
       "      <td>NaN</td>\n",
       "      <td>NaN</td>\n",
       "    </tr>\n",
       "    <tr>\n",
       "      <th>854</th>\n",
       "      <td>NaN</td>\n",
       "      <td>NaN</td>\n",
       "      <td>NaN</td>\n",
       "      <td>NaN</td>\n",
       "      <td>NaN</td>\n",
       "      <td>NaN</td>\n",
       "      <td>NaN</td>\n",
       "      <td>NaN</td>\n",
       "      <td>NaN</td>\n",
       "      <td>NaN</td>\n",
       "      <td>NaN</td>\n",
       "      <td>NaN</td>\n",
       "      <td>NaN</td>\n",
       "      <td>NaN</td>\n",
       "      <td>NaN</td>\n",
       "      <td>NaN</td>\n",
       "      <td>NaN</td>\n",
       "      <td>NaN</td>\n",
       "      <td>NaN</td>\n",
       "      <td>NaN</td>\n",
       "    </tr>\n",
       "  </tbody>\n",
       "</table>\n",
       "</div>"
      ],
      "text/plain": [
       "     Year Datetime Stage Stadium City Home Team Name  Home Team Goals  \\\n",
       "852   NaN      NaN   NaN     NaN  NaN            NaN              NaN   \n",
       "853   NaN      NaN   NaN     NaN  NaN            NaN              NaN   \n",
       "854   NaN      NaN   NaN     NaN  NaN            NaN              NaN   \n",
       "\n",
       "     Away Team Goals Away Team Name Win conditions  Attendance  \\\n",
       "852              NaN            NaN            NaN         NaN   \n",
       "853              NaN            NaN            NaN         NaN   \n",
       "854              NaN            NaN            NaN         NaN   \n",
       "\n",
       "     Half-time Home Goals  Half-time Away Goals Referee Assistant 1  \\\n",
       "852                   NaN                   NaN     NaN         NaN   \n",
       "853                   NaN                   NaN     NaN         NaN   \n",
       "854                   NaN                   NaN     NaN         NaN   \n",
       "\n",
       "    Assistant 2  RoundID  MatchID Home Team Initials Away Team Initials  \n",
       "852         NaN      NaN      NaN                NaN                NaN  \n",
       "853         NaN      NaN      NaN                NaN                NaN  \n",
       "854         NaN      NaN      NaN                NaN                NaN  "
      ]
     },
     "execution_count": 10,
     "metadata": {},
     "output_type": "execute_result"
    }
   ],
   "source": [
    "wc_matches[wc_matches['Year'].isnull() == True].head(3)"
   ]
  },
  {
   "cell_type": "code",
   "execution_count": 11,
   "metadata": {},
   "outputs": [
    {
     "data": {
      "text/plain": [
       "(3720, 20)"
      ]
     },
     "execution_count": 11,
     "metadata": {},
     "output_type": "execute_result"
    }
   ],
   "source": [
    "wc_matches[wc_matches['Year'].isnull() == True].shape"
   ]
  },
  {
   "cell_type": "markdown",
   "metadata": {},
   "source": [
    "### Dropping the Null Values"
   ]
  },
  {
   "cell_type": "code",
   "execution_count": 12,
   "metadata": {},
   "outputs": [],
   "source": [
    "rows_drop = list(wc_matches[wc_matches['Year'].isnull() == True].index)"
   ]
  },
  {
   "cell_type": "code",
   "execution_count": 13,
   "metadata": {
    "scrolled": true
   },
   "outputs": [],
   "source": [
    "wc_matches = wc_matches.drop(rows_drop)"
   ]
  },
  {
   "cell_type": "code",
   "execution_count": 14,
   "metadata": {},
   "outputs": [
    {
     "data": {
      "text/plain": [
       "Year                    0\n",
       "Datetime                0\n",
       "Stage                   0\n",
       "Stadium                 0\n",
       "City                    0\n",
       "Home Team Name          0\n",
       "Home Team Goals         0\n",
       "Away Team Goals         0\n",
       "Away Team Name          0\n",
       "Win conditions          0\n",
       "Attendance              2\n",
       "Half-time Home Goals    0\n",
       "Half-time Away Goals    0\n",
       "Referee                 0\n",
       "Assistant 1             0\n",
       "Assistant 2             0\n",
       "RoundID                 0\n",
       "MatchID                 0\n",
       "Home Team Initials      0\n",
       "Away Team Initials      0\n",
       "dtype: int64"
      ]
     },
     "execution_count": 14,
     "metadata": {},
     "output_type": "execute_result"
    }
   ],
   "source": [
    "wc_matches.isnull().sum()"
   ]
  },
  {
   "cell_type": "markdown",
   "metadata": {},
   "source": [
    "After removing the null values we can see that there are still two values that remain as nulls. Fortunately this column is irrelevant for the purposes of this project and thus will not need to be investigated further."
   ]
  },
  {
   "cell_type": "markdown",
   "metadata": {},
   "source": [
    "### Checking Team Names"
   ]
  },
  {
   "cell_type": "markdown",
   "metadata": {},
   "source": [
    "When looking at the two datasets, the common element is the name of the country and thus we have to make sure that the team names are consistent. The World Cup Matches contains matches since the 1930's and contains slightly different names. (i.e. East and West Germany vs. Germany)"
   ]
  },
  {
   "cell_type": "code",
   "execution_count": 15,
   "metadata": {},
   "outputs": [],
   "source": [
    "wc_14_qualified = ['Brazil','Cameroon', 'Croatia','Mexico', 'Australia', 'Chile', 'Holland', 'Spain', 'Colombia',\n",
    "'Greece', 'Japan', 'Ivory Coast', 'Costa Rica', 'England', 'Italy', 'Uruguay', 'Ecuador', 'France', 'Honduras',\n",
    "'Switzerland', 'Argentina', 'Bosnia-Herzegovina', 'Iran', 'Nigeria', 'Germany', 'Ghana', 'Portugal','USA',\n",
    "'Algeria','Belgium', 'South Korea', 'Russia']"
   ]
  },
  {
   "cell_type": "code",
   "execution_count": 16,
   "metadata": {},
   "outputs": [
    {
     "data": {
      "text/plain": [
       "array(['Turkmenistan', 'St Lucia', 'Sudan', 'Vietnam', 'Afghanistan',\n",
       "       'Sri Lanka', 'Kyrgyzstan', 'Brunei Darussalam', 'Hong Kong',\n",
       "       'San Marino'], dtype=object)"
      ]
     },
     "execution_count": 16,
     "metadata": {},
     "output_type": "execute_result"
    }
   ],
   "source": [
    "players['nationality'].unique()[-10:]"
   ]
  },
  {
   "cell_type": "code",
   "execution_count": 17,
   "metadata": {},
   "outputs": [],
   "source": [
    "players = players.replace('Bosnia Herzegovina', 'Bosnia-Herzegovina')\n",
    "players = players.replace('IR Iran', 'Iran')\n",
    "players = players.replace(\"C�te d'Ivoire\", 'Ivory Coast')\n",
    "players = players.replace('Netherlands', 'Holland')\n",
    "players = players.replace('Korea Republic', 'South Korea')\n",
    "players = players.replace('Germany FR', 'Germany')\n",
    "players = players.replace('Soviet Union', 'Russia')\n",
    "players = players.replace('German DR', 'Germany')\n",
    "players = players.replace('United States', 'USA')"
   ]
  },
  {
   "cell_type": "markdown",
   "metadata": {},
   "source": [
    "### Selecting the National Team Players"
   ]
  },
  {
   "cell_type": "markdown",
   "metadata": {},
   "source": [
    "We had to find the countries that had the national call-ups included in the original dataset versus the countries who did not have the international call-up information available."
   ]
  },
  {
   "cell_type": "code",
   "execution_count": 18,
   "metadata": {},
   "outputs": [],
   "source": [
    "int_players = list(players[(players['nation_position'].isnull() != True)]['nationality'].unique())\n",
    "no_int_players = list(set(wc_14_qualified) - set(int_players))\n",
    "int_players = list(set(wc_14_qualified) - set(no_int_players))"
   ]
  },
  {
   "cell_type": "code",
   "execution_count": 19,
   "metadata": {},
   "outputs": [],
   "source": [
    "drop = []\n",
    "for country in int_players:\n",
    "    drop += (list(players[(players['nationality'] == country) & (players['nation_position'].isnull() == True)].index.astype('int')))\n"
   ]
  },
  {
   "cell_type": "code",
   "execution_count": 20,
   "metadata": {},
   "outputs": [],
   "source": [
    "national_team_players = players.drop(drop)\n",
    "national_team_players = national_team_players.reset_index(drop= True)"
   ]
  },
  {
   "cell_type": "code",
   "execution_count": 21,
   "metadata": {},
   "outputs": [],
   "source": [
    "for i in range(len(national_team_players)):\n",
    "    if national_team_players['nationality'][i] in wc_14_qualified:\n",
    "        pass\n",
    "    else:\n",
    "        national_team_players = national_team_players.drop(index= i)"
   ]
  },
  {
   "cell_type": "code",
   "execution_count": 22,
   "metadata": {},
   "outputs": [
    {
     "data": {
      "text/plain": [
       "set()"
      ]
     },
     "execution_count": 22,
     "metadata": {},
     "output_type": "execute_result"
    }
   ],
   "source": [
    "set(wc_14_qualified) - set(national_team_players['nationality'].unique())"
   ]
  },
  {
   "cell_type": "code",
   "execution_count": 23,
   "metadata": {},
   "outputs": [
    {
     "data": {
      "text/plain": [
       "(1810, 104)"
      ]
     },
     "execution_count": 23,
     "metadata": {},
     "output_type": "execute_result"
    }
   ],
   "source": [
    "national_team_players.shape"
   ]
  },
  {
   "cell_type": "code",
   "execution_count": 24,
   "metadata": {},
   "outputs": [
    {
     "data": {
      "text/plain": [
       "(17592, 104)"
      ]
     },
     "execution_count": 24,
     "metadata": {},
     "output_type": "execute_result"
    }
   ],
   "source": [
    "players.shape"
   ]
  },
  {
   "cell_type": "markdown",
   "metadata": {},
   "source": [
    "Now we have selected only the teams eligible for the 2014 World Cup as well the players called up to those teams. (Except for the teams that did not have that information available, however this is doesn't effect the final outcome as the statistics for each team will be an average of the player statistics. The teams with no internaitonal call-up information are have all lower rated players and all have similar ratings.)"
   ]
  },
  {
   "cell_type": "markdown",
   "metadata": {},
   "source": [
    "### Creating a DataFrame with the 2014 World Cup Eligible Team Stats"
   ]
  },
  {
   "cell_type": "code",
   "execution_count": 25,
   "metadata": {},
   "outputs": [],
   "source": [
    "national_team_players = national_team_players.reset_index(drop=True)"
   ]
  },
  {
   "cell_type": "code",
   "execution_count": 26,
   "metadata": {},
   "outputs": [],
   "source": [
    "national_team_stats = national_team_players.groupby('nationality').mean()"
   ]
  },
  {
   "cell_type": "code",
   "execution_count": 27,
   "metadata": {
    "scrolled": true
   },
   "outputs": [
    {
     "data": {
      "text/html": [
       "<div>\n",
       "<style scoped>\n",
       "    .dataframe tbody tr th:only-of-type {\n",
       "        vertical-align: middle;\n",
       "    }\n",
       "\n",
       "    .dataframe tbody tr th {\n",
       "        vertical-align: top;\n",
       "    }\n",
       "\n",
       "    .dataframe thead th {\n",
       "        text-align: right;\n",
       "    }\n",
       "</style>\n",
       "<table border=\"1\" class=\"dataframe\">\n",
       "  <thead>\n",
       "    <tr style=\"text-align: right;\">\n",
       "      <th></th>\n",
       "      <th>sofifa_id</th>\n",
       "      <th>age</th>\n",
       "      <th>height_cm</th>\n",
       "      <th>weight_kg</th>\n",
       "      <th>overall</th>\n",
       "      <th>potential</th>\n",
       "      <th>value_eur</th>\n",
       "      <th>wage_eur</th>\n",
       "      <th>international_reputation</th>\n",
       "      <th>weak_foot</th>\n",
       "      <th>...</th>\n",
       "      <th>passing</th>\n",
       "      <th>dribbling</th>\n",
       "      <th>defending</th>\n",
       "      <th>physic</th>\n",
       "      <th>gk_diving</th>\n",
       "      <th>gk_handling</th>\n",
       "      <th>gk_kicking</th>\n",
       "      <th>gk_reflexes</th>\n",
       "      <th>gk_speed</th>\n",
       "      <th>gk_positioning</th>\n",
       "    </tr>\n",
       "    <tr>\n",
       "      <th>nationality</th>\n",
       "      <th></th>\n",
       "      <th></th>\n",
       "      <th></th>\n",
       "      <th></th>\n",
       "      <th></th>\n",
       "      <th></th>\n",
       "      <th></th>\n",
       "      <th></th>\n",
       "      <th></th>\n",
       "      <th></th>\n",
       "      <th></th>\n",
       "      <th></th>\n",
       "      <th></th>\n",
       "      <th></th>\n",
       "      <th></th>\n",
       "      <th></th>\n",
       "      <th></th>\n",
       "      <th></th>\n",
       "      <th></th>\n",
       "      <th></th>\n",
       "      <th></th>\n",
       "    </tr>\n",
       "  </thead>\n",
       "  <tbody>\n",
       "    <tr>\n",
       "      <th>Algeria</th>\n",
       "      <td>202145.535714</td>\n",
       "      <td>26.571429</td>\n",
       "      <td>181.678571</td>\n",
       "      <td>74.892857</td>\n",
       "      <td>70.821429</td>\n",
       "      <td>73.571429</td>\n",
       "      <td>4.766250e+06</td>\n",
       "      <td>17892.857143</td>\n",
       "      <td>1.321429</td>\n",
       "      <td>3.142857</td>\n",
       "      <td>...</td>\n",
       "      <td>64.150943</td>\n",
       "      <td>68.264151</td>\n",
       "      <td>51.245283</td>\n",
       "      <td>66.830189</td>\n",
       "      <td>67.333333</td>\n",
       "      <td>61.666667</td>\n",
       "      <td>62.000000</td>\n",
       "      <td>73.333333</td>\n",
       "      <td>45.333333</td>\n",
       "      <td>62.666667</td>\n",
       "    </tr>\n",
       "    <tr>\n",
       "      <th>Argentina</th>\n",
       "      <td>189708.652174</td>\n",
       "      <td>27.478261</td>\n",
       "      <td>180.043478</td>\n",
       "      <td>75.347826</td>\n",
       "      <td>81.565217</td>\n",
       "      <td>83.739130</td>\n",
       "      <td>2.604348e+07</td>\n",
       "      <td>106913.043478</td>\n",
       "      <td>2.608696</td>\n",
       "      <td>3.434783</td>\n",
       "      <td>...</td>\n",
       "      <td>73.650000</td>\n",
       "      <td>77.150000</td>\n",
       "      <td>51.650000</td>\n",
       "      <td>70.000000</td>\n",
       "      <td>80.000000</td>\n",
       "      <td>77.000000</td>\n",
       "      <td>75.666667</td>\n",
       "      <td>82.666667</td>\n",
       "      <td>49.333333</td>\n",
       "      <td>79.333333</td>\n",
       "    </tr>\n",
       "    <tr>\n",
       "      <th>Australia</th>\n",
       "      <td>191250.260870</td>\n",
       "      <td>26.434783</td>\n",
       "      <td>183.260870</td>\n",
       "      <td>77.695652</td>\n",
       "      <td>71.652174</td>\n",
       "      <td>74.608696</td>\n",
       "      <td>3.246739e+06</td>\n",
       "      <td>15565.217391</td>\n",
       "      <td>1.173913</td>\n",
       "      <td>3.347826</td>\n",
       "      <td>...</td>\n",
       "      <td>62.200000</td>\n",
       "      <td>64.950000</td>\n",
       "      <td>57.500000</td>\n",
       "      <td>72.300000</td>\n",
       "      <td>74.333333</td>\n",
       "      <td>71.666667</td>\n",
       "      <td>68.333333</td>\n",
       "      <td>75.333333</td>\n",
       "      <td>50.666667</td>\n",
       "      <td>69.666667</td>\n",
       "    </tr>\n",
       "  </tbody>\n",
       "</table>\n",
       "<p>3 rows × 27 columns</p>\n",
       "</div>"
      ],
      "text/plain": [
       "                 sofifa_id        age   height_cm  weight_kg    overall  \\\n",
       "nationality                                                               \n",
       "Algeria      202145.535714  26.571429  181.678571  74.892857  70.821429   \n",
       "Argentina    189708.652174  27.478261  180.043478  75.347826  81.565217   \n",
       "Australia    191250.260870  26.434783  183.260870  77.695652  71.652174   \n",
       "\n",
       "             potential     value_eur       wage_eur  international_reputation  \\\n",
       "nationality                                                                     \n",
       "Algeria      73.571429  4.766250e+06   17892.857143                  1.321429   \n",
       "Argentina    83.739130  2.604348e+07  106913.043478                  2.608696   \n",
       "Australia    74.608696  3.246739e+06   15565.217391                  1.173913   \n",
       "\n",
       "             weak_foot  ...    passing  dribbling  defending     physic  \\\n",
       "nationality             ...                                               \n",
       "Algeria       3.142857  ...  64.150943  68.264151  51.245283  66.830189   \n",
       "Argentina     3.434783  ...  73.650000  77.150000  51.650000  70.000000   \n",
       "Australia     3.347826  ...  62.200000  64.950000  57.500000  72.300000   \n",
       "\n",
       "             gk_diving  gk_handling  gk_kicking  gk_reflexes   gk_speed  \\\n",
       "nationality                                                               \n",
       "Algeria      67.333333    61.666667   62.000000    73.333333  45.333333   \n",
       "Argentina    80.000000    77.000000   75.666667    82.666667  49.333333   \n",
       "Australia    74.333333    71.666667   68.333333    75.333333  50.666667   \n",
       "\n",
       "             gk_positioning  \n",
       "nationality                  \n",
       "Algeria           62.666667  \n",
       "Argentina         79.333333  \n",
       "Australia         69.666667  \n",
       "\n",
       "[3 rows x 27 columns]"
      ]
     },
     "execution_count": 27,
     "metadata": {},
     "output_type": "execute_result"
    }
   ],
   "source": [
    "national_team_stats.head(3)"
   ]
  },
  {
   "cell_type": "markdown",
   "metadata": {},
   "source": [
    "### World Cup Matches Cleaning"
   ]
  },
  {
   "cell_type": "code",
   "execution_count": 28,
   "metadata": {},
   "outputs": [],
   "source": [
    "wc_matches = wc_matches.drop_duplicates().reset_index(drop= True)\n",
    "\n",
    "wc_matches = wc_matches.replace('Germany FR','Germany')\n",
    "\n",
    "wc14_matches = wc_matches[wc_matches['Year'] == 2014.0]\n",
    "\n",
    "wc14_matches = wc14_matches.reset_index(drop= True)"
   ]
  },
  {
   "cell_type": "markdown",
   "metadata": {},
   "source": [
    "## EDA"
   ]
  },
  {
   "cell_type": "markdown",
   "metadata": {},
   "source": [
    "### Visualizing the Top Teams"
   ]
  },
  {
   "cell_type": "code",
   "execution_count": 29,
   "metadata": {},
   "outputs": [],
   "source": [
    "avg_overall = national_team_stats['overall'].sort_values(ascending= False)\n",
    "avg_potential = national_team_stats['potential'].sort_values(ascending= False)\n",
    "avg_age = national_team_stats['age'].sort_values(ascending= False)\n",
    "avg_inter_rep = national_team_stats['international_reputation'].sort_values(ascending= False)\n",
    "avg_value = national_team_stats['value_eur'].sort_values(ascending= False)\n",
    "avg_wage = national_team_stats['wage_eur'].sort_values(ascending= False)"
   ]
  },
  {
   "cell_type": "code",
   "execution_count": 30,
   "metadata": {},
   "outputs": [
    {
     "data": {
      "text/plain": [
       "'nationality'"
      ]
     },
     "execution_count": 30,
     "metadata": {},
     "output_type": "execute_result"
    }
   ],
   "source": [
    "avg_overall.index.name"
   ]
  },
  {
   "cell_type": "code",
   "execution_count": 31,
   "metadata": {},
   "outputs": [],
   "source": [
    "def ovr_stats_top5(series, color= 'blue', title = 'Graph Title'):    \n",
    "    ax = sns.barplot(series.index[:5],\n",
    "                     series.head(),\n",
    "                     color = color\n",
    "                    )\n",
    "\n",
    "    if min(series.head()) - 5 <= 0:\n",
    "        ax.set_ylim(0, max(series.head() + 5))\n",
    "    else:\n",
    "        ax.set_ylim(min(series.head()) - min(series.head())*.10, max(series.head()) + max(series.head())*.10)\n",
    "        ## ^ This was done so that the function could be used on a variety of different graphs without causing any problems\n",
    "    ax.set_ylabel(series.name.title().replace('_', \" \"))\n",
    "    ax.set_xlabel(series.index.name.title().replace('_', \" \"))\n",
    "    ax.set_title(title)\n",
    "\n",
    "    for p in ax.patches:\n",
    "        ax.annotate(format(p.get_height(), '.2f'),\n",
    "                    (p.get_x() + p.get_width() / 2., p.get_height()),\n",
    "                    ha = 'center', va = 'center', xytext = (0, 10),\n",
    "                    textcoords = 'offset points')\n",
    "        ## Adapted from https://github.com/mwaskom/seaborn/issues/1582"
   ]
  },
  {
   "cell_type": "code",
   "execution_count": 32,
   "metadata": {
    "scrolled": true
   },
   "outputs": [
    {
     "data": {
      "image/png": "[encoded data removed]",
      "text/plain": [
       "<Figure size 432x288 with 1 Axes>"
      ]
     },
     "metadata": {
      "needs_background": "light"
     },
     "output_type": "display_data"
    }
   ],
   "source": [
    "ovr_stats_top5(avg_overall, color= 'dodgerblue', title= 'Average Overall Stats')"
   ]
  },
  {
   "cell_type": "code",
   "execution_count": 33,
   "metadata": {},
   "outputs": [
    {
     "data": {
      "image/png": "[encoded data removed]",
      "text/plain": [
       "<Figure size 432x288 with 1 Axes>"
      ]
     },
     "metadata": {
      "needs_background": "light"
     },
     "output_type": "display_data"
    }
   ],
   "source": [
    "ovr_stats_top5(avg_potential, color= 'limegreen', title= 'Average Potential Stats')"
   ]
  },
  {
   "cell_type": "code",
   "execution_count": 34,
   "metadata": {},
   "outputs": [
    {
     "data": {
      "image/png": "[encoded data removed]",
      "text/plain": [
       "<Figure size 432x288 with 1 Axes>"
      ]
     },
     "metadata": {
      "needs_background": "light"
     },
     "output_type": "display_data"
    }
   ],
   "source": [
    "ovr_stats_top5(avg_age, color= 'gray', title= 'Highest Average Age')"
   ]
  },
  {
   "cell_type": "code",
   "execution_count": 35,
   "metadata": {
    "scrolled": true
   },
   "outputs": [
    {
     "data": {
      "image/png": "[encoded data removed]",
      "text/plain": [
       "<Figure size 432x288 with 1 Axes>"
      ]
     },
     "metadata": {
      "needs_background": "light"
     },
     "output_type": "display_data"
    }
   ],
   "source": [
    "ovr_stats_top5(avg_age.sort_values(ascending = True), color= 'lightgreen', title= 'Lowest Average Age')"
   ]
  },
  {
   "cell_type": "markdown",
   "metadata": {},
   "source": [
    "> When it comes to a teams average age there is usually a trade-off between young explosives players and old veterans who provide much needed experience in getting their team further into the tournament. Only France is the top team listed in the 'Lowest Average Age' due to their above average quality of young players. Among them are world class players such as Mbappe, Griezmann, and Pogba. "
   ]
  },
  {
   "cell_type": "code",
   "execution_count": 36,
   "metadata": {},
   "outputs": [
    {
     "data": {
      "image/png": "[encoded data removed]",
      "text/plain": [
       "<Figure size 432x288 with 1 Axes>"
      ]
     },
     "metadata": {
      "needs_background": "light"
     },
     "output_type": "display_data"
    }
   ],
   "source": [
    "ovr_stats_top5(avg_inter_rep, color= 'gold', title= 'Highest Average International Reputation')"
   ]
  },
  {
   "cell_type": "code",
   "execution_count": 37,
   "metadata": {},
   "outputs": [
    {
     "data": {
      "image/png": "[encoded data removed]",
      "text/plain": [
       "<Figure size 432x288 with 1 Axes>"
      ]
     },
     "metadata": {
      "needs_background": "light"
     },
     "output_type": "display_data"
    }
   ],
   "source": [
    "ovr_stats_top5(avg_value, color= 'yellow', title= 'Highest Average Player Value')"
   ]
  },
  {
   "cell_type": "code",
   "execution_count": 38,
   "metadata": {},
   "outputs": [
    {
     "data": {
      "image/png": "[encoded data removed]",
      "text/plain": [
       "<Figure size 432x288 with 1 Axes>"
      ]
     },
     "metadata": {
      "needs_background": "light"
     },
     "output_type": "display_data"
    }
   ],
   "source": [
    "ovr_stats_top5(avg_wage, color= 'green', title= 'Highest Average Player Wage')"
   ]
  },
  {
   "cell_type": "markdown",
   "metadata": {},
   "source": [
    "The above visualizations provide insight on how the different teams relate to each other. We can see that there are many countries that appear in several different instances such as France, Germany, and Brazil which are considered to be major powerhouses in any international competition. This allows us to see that the FIFA dataset is one that we can trust due to its accurate depictions to the real FIFA rankings and public opinion. "
   ]
  },
  {
   "cell_type": "markdown",
   "metadata": {},
   "source": [
    "### Assigning Average Player Statistics to Each Country"
   ]
  },
  {
   "cell_type": "markdown",
   "metadata": {},
   "source": [
    "Although the above visualizations provide insight on the relationship between different teams and where they rank amongst each other, we believe it is important to dig a little further. This is due to the domain knowledge we have about the difference between the various positions in almost every aspect. Breaking the teams down by position and ranking their forwards, midfielders, defenders, and goalkeepers may provide even more information we can feed into our model to predict the winner of any given World Cup match. "
   ]
  },
  {
   "cell_type": "code",
   "execution_count": 39,
   "metadata": {},
   "outputs": [],
   "source": [
    "forward_positions = ['ST','LS','RS','RW','LW','RF','LF','CF']\n",
    "midfielder_positions = ['CDM','LDM','RDM','CM','LCM','RCM','RM','LM','LAM','RAM','CAM']\n",
    "defender_positions = ['RWB','RB','LCB','CB','RCB','LB','LWB']\n",
    "gk_positions = ['GK']\n",
    "forwards = []\n",
    "midfielders = []\n",
    "defenders = []\n",
    "gk = []\n",
    "\n",
    "country_nat_pos = [         ## These teams do not have their international positions for their squad.\n",
    "    'Cameroon',             ## Instead we will be using their team positions. \n",
    "    'Ecuador',\n",
    "    'Ghana',\n",
    "    'Greece',\n",
    "    'Honduras',\n",
    "    'Nigeria'\n",
    "]\n",
    "country_team_pos = list(set(wc_14_qualified) - set(country_nat_pos))\n",
    "\n",
    "\n",
    "\n",
    "for i in range(1,len(national_team_players)):\n",
    "    if national_team_players['team_position'][i] != False:\n",
    "        if national_team_players['team_position'][i] in forward_positions:\n",
    "            forwards.append(national_team_players.loc[i])\n",
    "        if national_team_players['team_position'][i] in midfielder_positions:\n",
    "            midfielders.append(national_team_players.loc[i])\n",
    "        if national_team_players['team_position'][i] in defender_positions:\n",
    "            defenders.append(national_team_players.loc[i])\n",
    "        if national_team_players['team_position'][i] in gk_positions:\n",
    "            gk.append(national_team_players.loc[i])"
   ]
  },
  {
   "cell_type": "markdown",
   "metadata": {},
   "source": [
    "### Finding Missing Positions for Each Country and Assigning Mean Statistics for Each Position"
   ]
  },
  {
   "cell_type": "code",
   "execution_count": 40,
   "metadata": {},
   "outputs": [
    {
     "name": "stdout",
     "output_type": "stream",
     "text": [
      "LS Cameroon\n",
      "RM Cameroon\n",
      "LM Cameroon\n",
      "RM Ecuador\n",
      "CDM Ecuador\n",
      "LS Ecuador\n",
      "RS Ecuador\n",
      "CAM Ecuador\n",
      "GK Greece\n",
      "ST Greece\n"
     ]
    }
   ],
   "source": [
    "for country in country_nat_pos:\n",
    "    for i in range(5):\n",
    "        if national_team_players[national_team_players['nationality'] == country].reset_index()['nation_position'][i] in forward_positions:\n",
    "            print(national_team_players[national_team_players['nationality'] == country].reset_index()['nation_position'][i],\n",
    "                  national_team_players[national_team_players['nationality'] == country].reset_index()['nationality'][i])\n",
    "        elif national_team_players[national_team_players['nationality'] == country].reset_index()['nation_position'][i] in midfielder_positions:\n",
    "            print(national_team_players[national_team_players['nationality'] == country].reset_index()['nation_position'][i],\n",
    "                  national_team_players[national_team_players['nationality'] == country].reset_index()['nationality'][i])\n",
    "        elif national_team_players[national_team_players['nationality'] == country].reset_index()['nation_position'][i] in gk_positions:\n",
    "            print(national_team_players[national_team_players['nationality'] == country].reset_index()['nation_position'][i],\n",
    "                  national_team_players[national_team_players['nationality'] == country].reset_index()['nationality'][i])"
   ]
  },
  {
   "cell_type": "markdown",
   "metadata": {},
   "source": [
    "These values will be imputed later in the pre-modeling phase. <br>\n",
    "\n",
    "Now we must create different DataFrames so that we can examine each positions average statistics and compare them."
   ]
  },
  {
   "cell_type": "code",
   "execution_count": 41,
   "metadata": {},
   "outputs": [],
   "source": [
    "forwards = pd.DataFrame(forwards)\n",
    "midfielders = pd.DataFrame(midfielders)\n",
    "defenders = pd.DataFrame(defenders)\n",
    "gk = pd.DataFrame(gk)"
   ]
  },
  {
   "cell_type": "code",
   "execution_count": 42,
   "metadata": {},
   "outputs": [],
   "source": [
    "avg_forward_stats = forwards.groupby('nationality').mean()\n",
    "avg_midfielders_stats = midfielders.groupby('nationality').mean()\n",
    "avg_defenders_stats = defenders.groupby('nationality').mean()\n",
    "avg_gk_stats = gk.groupby('nationality').mean()"
   ]
  },
  {
   "cell_type": "code",
   "execution_count": 43,
   "metadata": {},
   "outputs": [],
   "source": [
    "## Forwards\n",
    "avg_overall_forwards = avg_forward_stats['overall'].sort_values(ascending= False)\n",
    "avg_potential_forwards = avg_forward_stats['potential'].sort_values(ascending= False)\n",
    "avg_age_forwards = avg_forward_stats['age'].sort_values(ascending= False)\n",
    "avg_inter_rep_forwards = avg_forward_stats['international_reputation'].sort_values(ascending= False)\n",
    "avg_value_forwards = avg_forward_stats['value_eur'].sort_values(ascending= False)\n",
    "avg_wage_forwards = avg_forward_stats['wage_eur'].sort_values(ascending= False)\n",
    "## Midfielders\n",
    "avg_overall_midfielders = avg_midfielders_stats['overall'].sort_values(ascending= False)\n",
    "avg_potential_midfielders = avg_midfielders_stats['potential'].sort_values(ascending= False)\n",
    "avg_age_midfielders = avg_midfielders_stats['age'].sort_values(ascending= False)\n",
    "avg_inter_rep_midfielders = avg_midfielders_stats['international_reputation'].sort_values(ascending= False)\n",
    "avg_value_midfielders = avg_midfielders_stats['value_eur'].sort_values(ascending= False)\n",
    "avg_wage_midfielders = avg_midfielders_stats['wage_eur'].sort_values(ascending= False)\n",
    "## Defenders\n",
    "avg_overall_defenders = avg_defenders_stats['overall'].sort_values(ascending= False)\n",
    "avg_potential_defenders = avg_defenders_stats['potential'].sort_values(ascending= False)\n",
    "avg_age_defenders = avg_defenders_stats['age'].sort_values(ascending= False)\n",
    "avg_inter_rep_defenders = avg_defenders_stats['international_reputation'].sort_values(ascending= False)\n",
    "avg_value_defenders = avg_defenders_stats['value_eur'].sort_values(ascending= False)\n",
    "avg_wage_defenders = avg_defenders_stats['wage_eur'].sort_values(ascending= False)\n",
    "## Gks\n",
    "avg_overall_gk = avg_gk_stats['overall'].sort_values(ascending= False)\n",
    "avg_potential_gk = avg_gk_stats['potential'].sort_values(ascending= False)\n",
    "avg_age_gk = avg_gk_stats['age'].sort_values(ascending= False)\n",
    "avg_inter_rep_gk = avg_gk_stats['international_reputation'].sort_values(ascending= False)\n",
    "avg_value_gk = avg_gk_stats['value_eur'].sort_values(ascending= False)\n",
    "avg_wage_gk = avg_gk_stats['wage_eur'].sort_values(ascending= False)"
   ]
  },
  {
   "cell_type": "code",
   "execution_count": 44,
   "metadata": {},
   "outputs": [],
   "source": [
    "## Adding the overall stats for each position to the main DataFrame.\n",
    "national_team_stats['ovr_forwards'] = avg_forward_stats['overall']\n",
    "national_team_stats['ovr_mids'] = avg_midfielders_stats['overall']\n",
    "national_team_stats['ovr_defs'] = avg_defenders_stats['overall']\n",
    "national_team_stats['ovr_gks'] = avg_gk_stats['overall']\n",
    "## Adding the potential stats for each position to the main DataFrame.\n",
    "national_team_stats['ptl_forwards'] = avg_forward_stats['potential']\n",
    "national_team_stats['ptl_mids'] = avg_midfielders_stats['potential']\n",
    "national_team_stats['ptl_defs'] = avg_defenders_stats['potential']\n",
    "national_team_stats['ptl_gks'] = avg_gk_stats['potential']"
   ]
  },
  {
   "cell_type": "markdown",
   "metadata": {},
   "source": [
    "### Average Overall Ratings by Position"
   ]
  },
  {
   "cell_type": "code",
   "execution_count": 45,
   "metadata": {},
   "outputs": [],
   "source": [
    "def make_subplots12(series1, series2, figsize= (15, 5), color= ['b', 'g'],\n",
    "                    title= ['Graph Title', 'Graph Title']):\n",
    "\n",
    "\n",
    "    f, axes = plt.subplots(1, 2, figsize=(15,5))\n",
    "\n",
    "    ax = sns.barplot(series1.index[:5],\n",
    "                     series1.head(),\n",
    "                     color = color[0], ax= axes[0]\n",
    "                    )\n",
    "\n",
    "    if min(series1.head()) - 5 <= 0:\n",
    "        ax.set_ylim(0, max(series1.head() + 5))\n",
    "    else:\n",
    "        ax.set_ylim(min(series1.head()) - min(series1.head())*.10, max(series1.head()) + max(series1.head())*.10)\n",
    "        ## ^ This was done so that the function could be used on a variety of different graphs without causing any problems\n",
    "    ax.set_ylabel(series1.name.title().replace('_', \" \"))\n",
    "    ax.set_xlabel(series1.index.name.title().replace('_', \" \"))\n",
    "    ax.set_title(title[0])\n",
    "\n",
    "    for p in ax.patches:\n",
    "        ax.annotate(format(p.get_height(), '.2f'),\n",
    "                    (p.get_x() + p.get_width() / 2., p.get_height()),\n",
    "                    ha = 'center', va = 'center', xytext = (0, 10),\n",
    "                    textcoords = 'offset points')\n",
    "\n",
    "    ax1 = sns.barplot(series2.index[:5],\n",
    "                     series2.head(),\n",
    "                     color = color[1], ax= axes[1]\n",
    "                    )\n",
    "\n",
    "    if min(series2.head()) - 5 <= 0:\n",
    "        ax1.set_ylim(0, max(series2.head() + 5))\n",
    "    else:\n",
    "        ax1.set_ylim(min(series2.head()) - min(series2.head())*.10, max(series2.head()) + max(series2.head())*.10)\n",
    "        ## ^ This was done so that the function could be used on a variety of different graphs without causing any problems\n",
    "    ax1.set_ylabel(series2.name.title().replace('_', \" \"))\n",
    "    ax1.set_xlabel(series2.index.name.title().replace('_', \" \"))\n",
    "    ax1.set_title(title[1])\n",
    "\n",
    "    for p in ax1.patches:\n",
    "        ax1.annotate(format(p.get_height(), '.2f'),\n",
    "                    (p.get_x() + p.get_width() / 2., p.get_height()),\n",
    "                    ha = 'center', va = 'center', xytext = (0, 10),\n",
    "                    textcoords = 'offset points')\n",
    "        ## Adapted from https://github.com/mwaskom/seaborn/issues/1582"
   ]
  },
  {
   "cell_type": "code",
   "execution_count": 46,
   "metadata": {
    "scrolled": true
   },
   "outputs": [
    {
     "data": {
      "image/png": "[encoded data removed]",
      "text/plain": [
       "<Figure size 1080x360 with 2 Axes>"
      ]
     },
     "metadata": {
      "needs_background": "light"
     },
     "output_type": "display_data"
    }
   ],
   "source": [
    "make_subplots12(avg_overall_forwards, avg_potential_forwards, color = ['dodgerblue', 'dodgerblue'], \n",
    "                title = ['Average Overall Stats (Forwards)', 'Average Potential Stats (Forwards)']\n",
    "               )"
   ]
  },
  {
   "cell_type": "code",
   "execution_count": 47,
   "metadata": {},
   "outputs": [
    {
     "data": {
      "image/png": "[encoded data removed]",
      "text/plain": [
       "<Figure size 1080x360 with 2 Axes>"
      ]
     },
     "metadata": {
      "needs_background": "light"
     },
     "output_type": "display_data"
    }
   ],
   "source": [
    "make_subplots12(avg_overall_midfielders, avg_potential_midfielders, color = ['limegreen', 'limegreen'], \n",
    "                title = ['Average Overall Stats (Midfielders)', 'Average Potential Stats (Midfielders)']\n",
    "               )"
   ]
  },
  {
   "cell_type": "code",
   "execution_count": 48,
   "metadata": {},
   "outputs": [
    {
     "data": {
      "image/png": "[encoded data removed]",
      "text/plain": [
       "<Figure size 1080x360 with 2 Axes>"
      ]
     },
     "metadata": {
      "needs_background": "light"
     },
     "output_type": "display_data"
    }
   ],
   "source": [
    "make_subplots12(avg_overall_forwards, avg_potential_forwards, color = ['gold', 'gold'], \n",
    "                title = ['Average Overall Stats (Defenders)', 'Average Potential Stats (Defenders)']\n",
    "               )"
   ]
  },
  {
   "cell_type": "code",
   "execution_count": 49,
   "metadata": {},
   "outputs": [
    {
     "data": {
      "image/png": "[encoded data removed]",
      "text/plain": [
       "<Figure size 1080x360 with 2 Axes>"
      ]
     },
     "metadata": {
      "needs_background": "light"
     },
     "output_type": "display_data"
    }
   ],
   "source": [
    "make_subplots12(avg_overall_gk, avg_potential_gk, color = ['orange', 'orange'], \n",
    "                title = ['Average Overall Stats (Goalkeepers)', 'Average Potential Stats (Goalkeepers)']\n",
    "               )"
   ]
  },
  {
   "cell_type": "markdown",
   "metadata": {},
   "source": [
    "Here we can see that from position to position the top five teams change with only a select few that show up consistently. Of those teams France is the only team to be present in every top 5 list, showing their great dedication to their player development and bright future ahead of them. Germany is a close second, only lacking with their forwards and defenders. This is due to their top payers in those positions retiring and the inability to find replacements who were ready to step up immediately. Players such as Timo Werner are still too young to have amassed enough international reputation and overall rating to carry the German team to higher positions in these team rankings.  "
   ]
  },
  {
   "cell_type": "markdown",
   "metadata": {},
   "source": [
    "### Average Player Value by Position"
   ]
  },
  {
   "cell_type": "code",
   "execution_count": 50,
   "metadata": {},
   "outputs": [],
   "source": [
    "def make_subplot22(series1, series2, series3, series4, color = ['b', 'b', 'b', 'b'],\n",
    "                   title = ['Graph Title', 'Graph Title', 'Graph Title', 'Graph Title'], round_values= -6): \n",
    "\n",
    "    f, axes = plt.subplots(2, 2, figsize=(15,10))\n",
    "\n",
    "    ax = sns.barplot(series1.index[:5],\n",
    "                     series1.head(),\n",
    "                     color = color[0] , ax= axes[0,0]\n",
    "                    )\n",
    "\n",
    "    if min(series1.head()) - 5 <= 0:\n",
    "        ax.set_ylim(0, max(series1.head() + 5))\n",
    "    else:\n",
    "        ax.set_ylim(min(series1.head()) - min(series1.head())*.10, max(series1.head()) + max(series1.head())*.10)\n",
    "        ## ^ This was done so that the function could be used on a variety of different graphs without causing any problems\n",
    "    ax.set_ylabel(series1.name.title().replace('_', \" \"))\n",
    "    ax.set_xlabel(series1.index.name.title().replace('_', \" \"))\n",
    "    ax.set_title(title[0])\n",
    "\n",
    "    for p in ax.patches:\n",
    "        ax.annotate(format(round(p.get_height(),round_values), '.2f'),\n",
    "                    (p.get_x() + p.get_width() / 2., p.get_height()),\n",
    "                    ha = 'center', va = 'center', xytext = (0, 10),\n",
    "                    textcoords = 'offset points', clip_on=True)\n",
    "\n",
    "    ax1 = sns.barplot(series2.index[:5],\n",
    "                     series2.head(),\n",
    "                     color = color[1] , ax= axes[0,1]\n",
    "                    )\n",
    "\n",
    "    if min(series2.head()) - 5 <= 0:\n",
    "        ax1.set_ylim(0, max(series2.head() + 5))\n",
    "    else:\n",
    "        ax1.set_ylim(min(series2.head()) - min(series2.head())*.10, max(series2.head()) + max(series2.head())*.10)\n",
    "        ## ^ This was done so that the function could be used on a variety of different graphs without causing any problems\n",
    "    ax1.set_ylabel(series2.name.title().replace('_', \" \"))\n",
    "    ax1.set_xlabel(series2.index.name.title().replace('_', \" \"))\n",
    "    ax1.set_title(title[1])\n",
    "\n",
    "    for p in ax1.patches:\n",
    "        ax1.annotate(format(round(p.get_height(),round_values), '.2f'),\n",
    "                    (p.get_x() + p.get_width() / 2., p.get_height()),\n",
    "                    ha = 'center', va = 'center', xytext = (0, 10),\n",
    "                    textcoords = 'offset points', clip_on=True)\n",
    "\n",
    "    ax2 = sns.barplot(series3.index[:5],\n",
    "                     series3.head(),\n",
    "                     color = color[2] , ax= axes[1,0]\n",
    "                    )\n",
    "\n",
    "    if min(series3.head()) - 5 <= 0:\n",
    "        ax2.set_ylim(0, max(series3.head() + 5))\n",
    "    else:\n",
    "        ax2.set_ylim(min(series3.head()) - min(series3.head())*.10, max(series3.head()) + max(series3.head())*.10)\n",
    "        ## ^ This was done so that the function could be used on a variety of different graphs without causing any problems\n",
    "    ax2.set_ylabel(series3.name.title().replace('_', \" \"))\n",
    "    ax2.set_xlabel(series3.index.name.title().replace('_', \" \"))\n",
    "    ax2.set_title(title[2])\n",
    "\n",
    "    for p in ax2.patches:\n",
    "        ax2.annotate(format(round(p.get_height(),round_values), '.2f'),\n",
    "                    (p.get_x() + p.get_width() / 2., p.get_height()),\n",
    "                    ha = 'center', va = 'center', xytext = (0, 10),\n",
    "                    textcoords = 'offset points', clip_on=True)\n",
    "\n",
    "    ax3 = sns.barplot(series4.index[:5],\n",
    "                     series4.head(),\n",
    "                     color = color[3] , ax= axes[1,1]\n",
    "                    )\n",
    "\n",
    "    if min(series4.head()) - 5 <= 0:\n",
    "        ax3.set_ylim(0, max(series4.head() + 5))\n",
    "    else:\n",
    "        ax3.set_ylim(min(series4.head()) - min(series4.head())*.10, max(series4.head()) + max(series4.head())*.10)\n",
    "        ## ^ This was done so that the function could be used on a variety of different graphs without causing any problems\n",
    "    ax3.set_ylabel(series4.name.title().replace('_', \" \"))\n",
    "    ax3.set_xlabel(series4.index.name.title().replace('_', \" \"))\n",
    "    ax3.set_title(title[0])\n",
    "\n",
    "    for p in ax3.patches:\n",
    "        ax3.annotate(format(round(p.get_height(),round_values), '.2f'),\n",
    "                    (p.get_x() + p.get_width() / 2., p.get_height()),\n",
    "                    ha = 'center', va = 'center', xytext = (0, 10),\n",
    "                    textcoords = 'offset points', clip_on=True)\n",
    "\n",
    "        ## Adapted from https://github.com/mwaskom/seaborn/issues/1582"
   ]
  },
  {
   "cell_type": "code",
   "execution_count": 51,
   "metadata": {
    "scrolled": false
   },
   "outputs": [
    {
     "data": {
      "image/png": "[encoded data removed]",
      "text/plain": [
       "<Figure size 1080x720 with 4 Axes>"
      ]
     },
     "metadata": {
      "needs_background": "light"
     },
     "output_type": "display_data"
    }
   ],
   "source": [
    "make_subplot22(avg_value_forwards, avg_value_midfielders, avg_value_defenders, avg_value_gk,\n",
    "               color= ['dodgerblue', 'limegreen', 'gold', 'orange'],\n",
    "               title= [\n",
    "                   'Highest Average Player Value (Forwards)', 'Highest Average Player Value (Midfielders)', \n",
    "                   'Highest Average Player Value (Defenders)', 'Highest Average Player Value (GKs)'\n",
    "                      ]\n",
    "              )"
   ]
  },
  {
   "cell_type": "code",
   "execution_count": 52,
   "metadata": {
    "scrolled": false
   },
   "outputs": [
    {
     "data": {
      "image/png": "[encoded data removed]",
      "text/plain": [
       "<Figure size 1080x720 with 4 Axes>"
      ]
     },
     "metadata": {
      "needs_background": "light"
     },
     "output_type": "display_data"
    }
   ],
   "source": [
    "make_subplot22(avg_wage_forwards, avg_wage_midfielders, avg_wage_defenders, avg_wage_gk,\n",
    "               color= ['dodgerblue', 'limegreen', 'gold', 'orange'],\n",
    "               title= [\n",
    "                   'Highest Average Player Wage (Forwards)', 'Highest Average Player Wage (Midfielders)', \n",
    "                   'Highest Average Player Wage (Defenders)', 'Highest Average Player Wage (GKs)'\n",
    "                      ],\n",
    "               round_values= -2\n",
    "              )"
   ]
  },
  {
   "cell_type": "markdown",
   "metadata": {},
   "source": [
    "Initial EDA of the FIFA dataset shows that we can trust these ratings due to their similarity to real world rankings and public opinion. Furthermore, the relationship between the different positions becomes evident as we see that different teams compose the top 5 lists depending on the position being analyzed. In the charts showing the highest average wage and value, we can see that Spain is present in most of them. We believe this is due to their domination of international soccer from 2008 to 2012, winning 2 European competitions and one World Cup in 2010. <br>\n",
    "\n",
    "Now that we have examining the data we can begin the pre-modeling phase of the project."
   ]
  },
  {
   "cell_type": "markdown",
   "metadata": {},
   "source": [
    "## Pre-Modeling"
   ]
  },
  {
   "cell_type": "markdown",
   "metadata": {},
   "source": [
    "### Setting up the DataFrames"
   ]
  },
  {
   "cell_type": "code",
   "execution_count": 53,
   "metadata": {},
   "outputs": [],
   "source": [
    "# We have to make sure that the team names match up in both DataFrames\n",
    "wc_matches = wc_matches.replace('rn\">Bosnia and Herzegovina', 'Bosnia-Herzegovina')\n",
    "wc_matches = wc_matches.replace('IR Iran', 'Iran')\n",
    "wc_matches = wc_matches.replace(\"C�te d'Ivoire\", 'Ivory Coast')\n",
    "wc_matches = wc_matches.replace('Netherlands', 'Holland')\n",
    "wc_matches = wc_matches.replace('Korea Republic', 'South Korea')\n",
    "wc_matches = wc_matches.replace('Germany FR', 'Germany')\n",
    "wc_matches = wc_matches.replace('Soviet Union', 'Russia')\n",
    "wc_matches = wc_matches.replace('German DR', 'Germany')"
   ]
  },
  {
   "cell_type": "code",
   "execution_count": 54,
   "metadata": {},
   "outputs": [
    {
     "data": {
      "text/plain": [
       "set()"
      ]
     },
     "execution_count": 54,
     "metadata": {},
     "output_type": "execute_result"
    }
   ],
   "source": [
    "# This way we can see if we missed any teams\n",
    "set(wc_14_qualified) - set(wc_matches['Home Team Name'].unique())"
   ]
  },
  {
   "cell_type": "code",
   "execution_count": 55,
   "metadata": {},
   "outputs": [],
   "source": [
    "# Here we select the matches in 'wc_matches' where our eligible teams had plyed each other in the past.\n",
    "# This is done to create a record of team performances to feed into our model. \n",
    "wc14_matches = []\n",
    "for i in range(1, len(wc_matches)):\n",
    "    if (wc_matches['Home Team Name'][i] in wc_14_qualified) & (wc_matches['Away Team Name'][i] in wc_14_qualified):\n",
    "        wc14_matches.append(wc_matches.loc[i])"
   ]
  },
  {
   "cell_type": "code",
   "execution_count": 56,
   "metadata": {},
   "outputs": [],
   "source": [
    "# Turn it into a DataFrame\n",
    "wc14_matches = pd.DataFrame(wc14_matches)"
   ]
  },
  {
   "cell_type": "code",
   "execution_count": 57,
   "metadata": {},
   "outputs": [
    {
     "data": {
      "text/html": [
       "<div>\n",
       "<style scoped>\n",
       "    .dataframe tbody tr th:only-of-type {\n",
       "        vertical-align: middle;\n",
       "    }\n",
       "\n",
       "    .dataframe tbody tr th {\n",
       "        vertical-align: top;\n",
       "    }\n",
       "\n",
       "    .dataframe thead th {\n",
       "        text-align: right;\n",
       "    }\n",
       "</style>\n",
       "<table border=\"1\" class=\"dataframe\">\n",
       "  <thead>\n",
       "    <tr style=\"text-align: right;\">\n",
       "      <th></th>\n",
       "      <th>Year</th>\n",
       "      <th>Datetime</th>\n",
       "      <th>Stage</th>\n",
       "      <th>Stadium</th>\n",
       "      <th>City</th>\n",
       "      <th>Home Team Name</th>\n",
       "      <th>Home Team Goals</th>\n",
       "      <th>Away Team Goals</th>\n",
       "      <th>Away Team Name</th>\n",
       "      <th>Win conditions</th>\n",
       "      <th>Attendance</th>\n",
       "      <th>Half-time Home Goals</th>\n",
       "      <th>Half-time Away Goals</th>\n",
       "      <th>Referee</th>\n",
       "      <th>Assistant 1</th>\n",
       "      <th>Assistant 2</th>\n",
       "      <th>RoundID</th>\n",
       "      <th>MatchID</th>\n",
       "      <th>Home Team Initials</th>\n",
       "      <th>Away Team Initials</th>\n",
       "    </tr>\n",
       "  </thead>\n",
       "  <tbody>\n",
       "    <tr>\n",
       "      <th>1</th>\n",
       "      <td>1930.0</td>\n",
       "      <td>13 Jul 1930 - 15:00</td>\n",
       "      <td>Group 4</td>\n",
       "      <td>Parque Central</td>\n",
       "      <td>Montevideo</td>\n",
       "      <td>USA</td>\n",
       "      <td>3.0</td>\n",
       "      <td>0.0</td>\n",
       "      <td>Belgium</td>\n",
       "      <td></td>\n",
       "      <td>18346.0</td>\n",
       "      <td>2.0</td>\n",
       "      <td>0.0</td>\n",
       "      <td>MACIAS Jose (ARG)</td>\n",
       "      <td>MATEUCCI Francisco (URU)</td>\n",
       "      <td>WARNKEN Alberto (CHI)</td>\n",
       "      <td>201.0</td>\n",
       "      <td>1090.0</td>\n",
       "      <td>USA</td>\n",
       "      <td>BEL</td>\n",
       "    </tr>\n",
       "    <tr>\n",
       "      <th>4</th>\n",
       "      <td>1930.0</td>\n",
       "      <td>15 Jul 1930 - 16:00</td>\n",
       "      <td>Group 1</td>\n",
       "      <td>Parque Central</td>\n",
       "      <td>Montevideo</td>\n",
       "      <td>Argentina</td>\n",
       "      <td>1.0</td>\n",
       "      <td>0.0</td>\n",
       "      <td>France</td>\n",
       "      <td></td>\n",
       "      <td>23409.0</td>\n",
       "      <td>0.0</td>\n",
       "      <td>0.0</td>\n",
       "      <td>REGO Gilberto (BRA)</td>\n",
       "      <td>SAUCEDO Ulises (BOL)</td>\n",
       "      <td>RADULESCU Constantin (ROU)</td>\n",
       "      <td>201.0</td>\n",
       "      <td>1085.0</td>\n",
       "      <td>ARG</td>\n",
       "      <td>FRA</td>\n",
       "    </tr>\n",
       "    <tr>\n",
       "      <th>5</th>\n",
       "      <td>1930.0</td>\n",
       "      <td>16 Jul 1930 - 14:45</td>\n",
       "      <td>Group 1</td>\n",
       "      <td>Parque Central</td>\n",
       "      <td>Montevideo</td>\n",
       "      <td>Chile</td>\n",
       "      <td>3.0</td>\n",
       "      <td>0.0</td>\n",
       "      <td>Mexico</td>\n",
       "      <td></td>\n",
       "      <td>9249.0</td>\n",
       "      <td>1.0</td>\n",
       "      <td>0.0</td>\n",
       "      <td>CRISTOPHE Henry (BEL)</td>\n",
       "      <td>APHESTEGUY Martin (URU)</td>\n",
       "      <td>LANGENUS Jean (BEL)</td>\n",
       "      <td>201.0</td>\n",
       "      <td>1095.0</td>\n",
       "      <td>CHI</td>\n",
       "      <td>MEX</td>\n",
       "    </tr>\n",
       "  </tbody>\n",
       "</table>\n",
       "</div>"
      ],
      "text/plain": [
       "     Year              Datetime    Stage         Stadium         City  \\\n",
       "1  1930.0  13 Jul 1930 - 15:00   Group 4  Parque Central  Montevideo    \n",
       "4  1930.0  15 Jul 1930 - 16:00   Group 1  Parque Central  Montevideo    \n",
       "5  1930.0  16 Jul 1930 - 14:45   Group 1  Parque Central  Montevideo    \n",
       "\n",
       "  Home Team Name  Home Team Goals  Away Team Goals Away Team Name  \\\n",
       "1            USA              3.0              0.0        Belgium   \n",
       "4      Argentina              1.0              0.0         France   \n",
       "5          Chile              3.0              0.0         Mexico   \n",
       "\n",
       "  Win conditions  Attendance  Half-time Home Goals  Half-time Away Goals  \\\n",
       "1                    18346.0                   2.0                   0.0   \n",
       "4                    23409.0                   0.0                   0.0   \n",
       "5                     9249.0                   1.0                   0.0   \n",
       "\n",
       "                 Referee               Assistant 1  \\\n",
       "1      MACIAS Jose (ARG)  MATEUCCI Francisco (URU)   \n",
       "4    REGO Gilberto (BRA)      SAUCEDO Ulises (BOL)   \n",
       "5  CRISTOPHE Henry (BEL)   APHESTEGUY Martin (URU)   \n",
       "\n",
       "                  Assistant 2  RoundID  MatchID Home Team Initials  \\\n",
       "1       WARNKEN Alberto (CHI)    201.0   1090.0                USA   \n",
       "4  RADULESCU Constantin (ROU)    201.0   1085.0                ARG   \n",
       "5         LANGENUS Jean (BEL)    201.0   1095.0                CHI   \n",
       "\n",
       "  Away Team Initials  \n",
       "1                BEL  \n",
       "4                FRA  \n",
       "5                MEX  "
      ]
     },
     "execution_count": 57,
     "metadata": {},
     "output_type": "execute_result"
    }
   ],
   "source": [
    "#How the DataFrame should look like at this stage\n",
    "wc14_matches.head(3)"
   ]
  },
  {
   "cell_type": "code",
   "execution_count": 58,
   "metadata": {},
   "outputs": [],
   "source": [
    "# We select only the columns that interest us.\n",
    "wc_matchups = wc14_matches[['Year','Datetime','Home Team Name','Away Team Name','Home Team Goals','Away Team Goals']]"
   ]
  },
  {
   "cell_type": "code",
   "execution_count": 59,
   "metadata": {
    "scrolled": false
   },
   "outputs": [],
   "source": [
    "#We have to create a DataFrame with all the Teams Average Statisitcs that we need. \n",
    "df = national_team_stats[['age', 'height_cm', 'weight_kg','value_eur','wage_eur','international_reputation', 'ovr_forwards', 'ovr_mids','ovr_defs','ovr_gks', 'ptl_forwards','ptl_mids', 'ptl_defs', 'ptl_gks']]"
   ]
  },
  {
   "cell_type": "code",
   "execution_count": 60,
   "metadata": {},
   "outputs": [
    {
     "data": {
      "text/html": [
       "<div>\n",
       "<style scoped>\n",
       "    .dataframe tbody tr th:only-of-type {\n",
       "        vertical-align: middle;\n",
       "    }\n",
       "\n",
       "    .dataframe tbody tr th {\n",
       "        vertical-align: top;\n",
       "    }\n",
       "\n",
       "    .dataframe thead th {\n",
       "        text-align: right;\n",
       "    }\n",
       "</style>\n",
       "<table border=\"1\" class=\"dataframe\">\n",
       "  <thead>\n",
       "    <tr style=\"text-align: right;\">\n",
       "      <th></th>\n",
       "      <th>age</th>\n",
       "      <th>height_cm</th>\n",
       "      <th>weight_kg</th>\n",
       "      <th>value_eur</th>\n",
       "      <th>wage_eur</th>\n",
       "      <th>international_reputation</th>\n",
       "      <th>ovr_forwards</th>\n",
       "      <th>ovr_mids</th>\n",
       "      <th>ovr_defs</th>\n",
       "      <th>ovr_gks</th>\n",
       "      <th>ptl_forwards</th>\n",
       "      <th>ptl_mids</th>\n",
       "      <th>ptl_defs</th>\n",
       "      <th>ptl_gks</th>\n",
       "    </tr>\n",
       "    <tr>\n",
       "      <th>nationality</th>\n",
       "      <th></th>\n",
       "      <th></th>\n",
       "      <th></th>\n",
       "      <th></th>\n",
       "      <th></th>\n",
       "      <th></th>\n",
       "      <th></th>\n",
       "      <th></th>\n",
       "      <th></th>\n",
       "      <th></th>\n",
       "      <th></th>\n",
       "      <th></th>\n",
       "      <th></th>\n",
       "      <th></th>\n",
       "    </tr>\n",
       "  </thead>\n",
       "  <tbody>\n",
       "    <tr>\n",
       "      <th>Algeria</th>\n",
       "      <td>26.571429</td>\n",
       "      <td>181.678571</td>\n",
       "      <td>74.892857</td>\n",
       "      <td>4.766250e+06</td>\n",
       "      <td>17892.857143</td>\n",
       "      <td>1.321429</td>\n",
       "      <td>69.333333</td>\n",
       "      <td>73.312500</td>\n",
       "      <td>73.5</td>\n",
       "      <td>65.0</td>\n",
       "      <td>72.0</td>\n",
       "      <td>75.312500</td>\n",
       "      <td>76.5</td>\n",
       "      <td>65.0</td>\n",
       "    </tr>\n",
       "    <tr>\n",
       "      <th>Argentina</th>\n",
       "      <td>27.478261</td>\n",
       "      <td>180.043478</td>\n",
       "      <td>75.347826</td>\n",
       "      <td>2.604348e+07</td>\n",
       "      <td>106913.043478</td>\n",
       "      <td>2.608696</td>\n",
       "      <td>84.400000</td>\n",
       "      <td>81.600000</td>\n",
       "      <td>82.5</td>\n",
       "      <td>80.5</td>\n",
       "      <td>85.6</td>\n",
       "      <td>85.800000</td>\n",
       "      <td>82.5</td>\n",
       "      <td>83.5</td>\n",
       "    </tr>\n",
       "    <tr>\n",
       "      <th>Australia</th>\n",
       "      <td>26.434783</td>\n",
       "      <td>183.260870</td>\n",
       "      <td>77.695652</td>\n",
       "      <td>3.246739e+06</td>\n",
       "      <td>15565.217391</td>\n",
       "      <td>1.173913</td>\n",
       "      <td>72.000000</td>\n",
       "      <td>71.857143</td>\n",
       "      <td>70.0</td>\n",
       "      <td>73.5</td>\n",
       "      <td>73.5</td>\n",
       "      <td>73.571429</td>\n",
       "      <td>77.0</td>\n",
       "      <td>75.0</td>\n",
       "    </tr>\n",
       "  </tbody>\n",
       "</table>\n",
       "</div>"
      ],
      "text/plain": [
       "                   age   height_cm  weight_kg     value_eur       wage_eur  \\\n",
       "nationality                                                                  \n",
       "Algeria      26.571429  181.678571  74.892857  4.766250e+06   17892.857143   \n",
       "Argentina    27.478261  180.043478  75.347826  2.604348e+07  106913.043478   \n",
       "Australia    26.434783  183.260870  77.695652  3.246739e+06   15565.217391   \n",
       "\n",
       "             international_reputation  ovr_forwards   ovr_mids  ovr_defs  \\\n",
       "nationality                                                                \n",
       "Algeria                      1.321429     69.333333  73.312500      73.5   \n",
       "Argentina                    2.608696     84.400000  81.600000      82.5   \n",
       "Australia                    1.173913     72.000000  71.857143      70.0   \n",
       "\n",
       "             ovr_gks  ptl_forwards   ptl_mids  ptl_defs  ptl_gks  \n",
       "nationality                                                       \n",
       "Algeria         65.0          72.0  75.312500      76.5     65.0  \n",
       "Argentina       80.5          85.6  85.800000      82.5     83.5  \n",
       "Australia       73.5          73.5  73.571429      77.0     75.0  "
      ]
     },
     "execution_count": 60,
     "metadata": {},
     "output_type": "execute_result"
    }
   ],
   "source": [
    "# What our Team Statistics DataFrame should look like.\n",
    "df.head(3)"
   ]
  },
  {
   "cell_type": "markdown",
   "metadata": {},
   "source": [
    "In the above section we only select the columns that we feel would be beneficial in predicting the outcome of any given game. Since we are not interested in the referees or assistants we have excluded them We also excluded attendance as the dataset goes back to 1930 and depending on which country the hosts the World Cup these numbers change greatly. For this reason they were left out of the model. "
   ]
  },
  {
   "cell_type": "markdown",
   "metadata": {},
   "source": [
    "### Imputing missing values from FutHead.com \n",
    "This website contains all the player ratings for the online version of FIFA (Ultimate Team). I will be taking the top 3 rated players by position to impute the `ovr_gks` missing values as that is how the International Call-ups are made. I will then take the average of those three goalies. "
   ]
  },
  {
   "cell_type": "code",
   "execution_count": 61,
   "metadata": {},
   "outputs": [
    {
     "data": {
      "text/plain": [
       "age                         0\n",
       "height_cm                   0\n",
       "weight_kg                   0\n",
       "value_eur                   0\n",
       "wage_eur                    0\n",
       "international_reputation    0\n",
       "ovr_forwards                1\n",
       "ovr_mids                    0\n",
       "ovr_defs                    0\n",
       "ovr_gks                     6\n",
       "ptl_forwards                1\n",
       "ptl_mids                    0\n",
       "ptl_defs                    0\n",
       "ptl_gks                     6\n",
       "dtype: int64"
      ]
     },
     "execution_count": 61,
     "metadata": {},
     "output_type": "execute_result"
    }
   ],
   "source": [
    "df.isnull().sum()"
   ]
  },
  {
   "cell_type": "code",
   "execution_count": 62,
   "metadata": {},
   "outputs": [],
   "source": [
    "Honduras_gks = [71,62,58]\n",
    "Cameroon_gks = [75,70]\n",
    "Chile_gks = [81,73,73]\n",
    "Ecuador_gks = [71,62,58]\n",
    "Ghana_gks = [70,68]\n",
    "Greece_fws = [76,75,77]\n",
    "Nigeria_gks = [79,68]\n",
    "country_list = [\n",
    "    'Cameroon',\n",
    "    'Chile',\n",
    "    'Ecuador',\n",
    "    'Ghana',\n",
    "    'Honduras',\n",
    "    'Nigeria'\n",
    "]\n",
    "ratings_gk = [\n",
    "    Cameroon_gks,\n",
    "    Chile_gks,\n",
    "    Ecuador_gks,\n",
    "    Ghana_gks,\n",
    "    Honduras_gks,\n",
    "    Nigeria_gks\n",
    "]\n",
    "\n"
   ]
  },
  {
   "cell_type": "code",
   "execution_count": 63,
   "metadata": {
    "scrolled": true
   },
   "outputs": [],
   "source": [
    "for i in range(len(country_list)):\n",
    "    df.loc[country_list[i]]['ovr_gks'] = np.mean(ratings_gk[i])"
   ]
  },
  {
   "cell_type": "code",
   "execution_count": 64,
   "metadata": {},
   "outputs": [],
   "source": [
    "df.loc['Greece']['ovr_forwards'] = np.mean(Greece_fws)"
   ]
  },
  {
   "cell_type": "code",
   "execution_count": 65,
   "metadata": {
    "scrolled": false
   },
   "outputs": [
    {
     "data": {
      "text/html": [
       "<div>\n",
       "<style scoped>\n",
       "    .dataframe tbody tr th:only-of-type {\n",
       "        vertical-align: middle;\n",
       "    }\n",
       "\n",
       "    .dataframe tbody tr th {\n",
       "        vertical-align: top;\n",
       "    }\n",
       "\n",
       "    .dataframe thead th {\n",
       "        text-align: right;\n",
       "    }\n",
       "</style>\n",
       "<table border=\"1\" class=\"dataframe\">\n",
       "  <thead>\n",
       "    <tr style=\"text-align: right;\">\n",
       "      <th></th>\n",
       "      <th>age</th>\n",
       "      <th>height_cm</th>\n",
       "      <th>weight_kg</th>\n",
       "      <th>value_eur</th>\n",
       "      <th>wage_eur</th>\n",
       "      <th>international_reputation</th>\n",
       "      <th>ovr_forwards</th>\n",
       "      <th>ovr_mids</th>\n",
       "      <th>ovr_defs</th>\n",
       "      <th>ovr_gks</th>\n",
       "      <th>ptl_forwards</th>\n",
       "      <th>ptl_mids</th>\n",
       "      <th>ptl_defs</th>\n",
       "      <th>ptl_gks</th>\n",
       "    </tr>\n",
       "    <tr>\n",
       "      <th>nationality</th>\n",
       "      <th></th>\n",
       "      <th></th>\n",
       "      <th></th>\n",
       "      <th></th>\n",
       "      <th></th>\n",
       "      <th></th>\n",
       "      <th></th>\n",
       "      <th></th>\n",
       "      <th></th>\n",
       "      <th></th>\n",
       "      <th></th>\n",
       "      <th></th>\n",
       "      <th></th>\n",
       "      <th></th>\n",
       "    </tr>\n",
       "  </thead>\n",
       "  <tbody>\n",
       "    <tr>\n",
       "      <th>Cameroon</th>\n",
       "      <td>24.608696</td>\n",
       "      <td>182.478261</td>\n",
       "      <td>77.652174</td>\n",
       "      <td>1.886522e+06</td>\n",
       "      <td>5826.086957</td>\n",
       "      <td>1.173913</td>\n",
       "      <td>77.000000</td>\n",
       "      <td>67.500000</td>\n",
       "      <td>67.666667</td>\n",
       "      <td>72.500000</td>\n",
       "      <td>80.500000</td>\n",
       "      <td>72.500000</td>\n",
       "      <td>71.333333</td>\n",
       "      <td>NaN</td>\n",
       "    </tr>\n",
       "    <tr>\n",
       "      <th>Chile</th>\n",
       "      <td>29.782609</td>\n",
       "      <td>177.304348</td>\n",
       "      <td>74.869565</td>\n",
       "      <td>9.586957e+06</td>\n",
       "      <td>42565.217391</td>\n",
       "      <td>1.956522</td>\n",
       "      <td>82.500000</td>\n",
       "      <td>78.600000</td>\n",
       "      <td>73.000000</td>\n",
       "      <td>75.666667</td>\n",
       "      <td>85.000000</td>\n",
       "      <td>78.800000</td>\n",
       "      <td>76.000000</td>\n",
       "      <td>NaN</td>\n",
       "    </tr>\n",
       "    <tr>\n",
       "      <th>Ecuador</th>\n",
       "      <td>28.695652</td>\n",
       "      <td>178.043478</td>\n",
       "      <td>75.913043</td>\n",
       "      <td>2.926087e+06</td>\n",
       "      <td>19521.739130</td>\n",
       "      <td>1.173913</td>\n",
       "      <td>74.000000</td>\n",
       "      <td>72.000000</td>\n",
       "      <td>74.750000</td>\n",
       "      <td>63.666667</td>\n",
       "      <td>74.500000</td>\n",
       "      <td>79.000000</td>\n",
       "      <td>77.250000</td>\n",
       "      <td>NaN</td>\n",
       "    </tr>\n",
       "    <tr>\n",
       "      <th>Ghana</th>\n",
       "      <td>23.539130</td>\n",
       "      <td>178.434783</td>\n",
       "      <td>72.808696</td>\n",
       "      <td>2.335174e+06</td>\n",
       "      <td>11486.956522</td>\n",
       "      <td>1.121739</td>\n",
       "      <td>68.272727</td>\n",
       "      <td>68.833333</td>\n",
       "      <td>66.625000</td>\n",
       "      <td>69.000000</td>\n",
       "      <td>72.818182</td>\n",
       "      <td>74.222222</td>\n",
       "      <td>70.250000</td>\n",
       "      <td>NaN</td>\n",
       "    </tr>\n",
       "    <tr>\n",
       "      <th>Greece</th>\n",
       "      <td>26.260870</td>\n",
       "      <td>184.173913</td>\n",
       "      <td>78.913043</td>\n",
       "      <td>7.852174e+06</td>\n",
       "      <td>20608.695652</td>\n",
       "      <td>1.565217</td>\n",
       "      <td>76.000000</td>\n",
       "      <td>73.250000</td>\n",
       "      <td>77.000000</td>\n",
       "      <td>67.000000</td>\n",
       "      <td>NaN</td>\n",
       "      <td>75.750000</td>\n",
       "      <td>79.200000</td>\n",
       "      <td>70.0</td>\n",
       "    </tr>\n",
       "    <tr>\n",
       "      <th>Honduras</th>\n",
       "      <td>27.384615</td>\n",
       "      <td>180.076923</td>\n",
       "      <td>77.153846</td>\n",
       "      <td>2.126923e+06</td>\n",
       "      <td>9692.307692</td>\n",
       "      <td>1.153846</td>\n",
       "      <td>71.500000</td>\n",
       "      <td>71.000000</td>\n",
       "      <td>70.750000</td>\n",
       "      <td>63.666667</td>\n",
       "      <td>75.250000</td>\n",
       "      <td>71.000000</td>\n",
       "      <td>71.750000</td>\n",
       "      <td>NaN</td>\n",
       "    </tr>\n",
       "    <tr>\n",
       "      <th>Nigeria</th>\n",
       "      <td>23.454545</td>\n",
       "      <td>182.214876</td>\n",
       "      <td>76.727273</td>\n",
       "      <td>2.340950e+06</td>\n",
       "      <td>12760.330579</td>\n",
       "      <td>1.115702</td>\n",
       "      <td>68.863636</td>\n",
       "      <td>69.933333</td>\n",
       "      <td>69.000000</td>\n",
       "      <td>73.500000</td>\n",
       "      <td>73.636364</td>\n",
       "      <td>76.466667</td>\n",
       "      <td>74.000000</td>\n",
       "      <td>NaN</td>\n",
       "    </tr>\n",
       "  </tbody>\n",
       "</table>\n",
       "</div>"
      ],
      "text/plain": [
       "                   age   height_cm  weight_kg     value_eur      wage_eur  \\\n",
       "nationality                                                                 \n",
       "Cameroon     24.608696  182.478261  77.652174  1.886522e+06   5826.086957   \n",
       "Chile        29.782609  177.304348  74.869565  9.586957e+06  42565.217391   \n",
       "Ecuador      28.695652  178.043478  75.913043  2.926087e+06  19521.739130   \n",
       "Ghana        23.539130  178.434783  72.808696  2.335174e+06  11486.956522   \n",
       "Greece       26.260870  184.173913  78.913043  7.852174e+06  20608.695652   \n",
       "Honduras     27.384615  180.076923  77.153846  2.126923e+06   9692.307692   \n",
       "Nigeria      23.454545  182.214876  76.727273  2.340950e+06  12760.330579   \n",
       "\n",
       "             international_reputation  ovr_forwards   ovr_mids   ovr_defs  \\\n",
       "nationality                                                                 \n",
       "Cameroon                     1.173913     77.000000  67.500000  67.666667   \n",
       "Chile                        1.956522     82.500000  78.600000  73.000000   \n",
       "Ecuador                      1.173913     74.000000  72.000000  74.750000   \n",
       "Ghana                        1.121739     68.272727  68.833333  66.625000   \n",
       "Greece                       1.565217     76.000000  73.250000  77.000000   \n",
       "Honduras                     1.153846     71.500000  71.000000  70.750000   \n",
       "Nigeria                      1.115702     68.863636  69.933333  69.000000   \n",
       "\n",
       "               ovr_gks  ptl_forwards   ptl_mids   ptl_defs  ptl_gks  \n",
       "nationality                                                          \n",
       "Cameroon     72.500000     80.500000  72.500000  71.333333      NaN  \n",
       "Chile        75.666667     85.000000  78.800000  76.000000      NaN  \n",
       "Ecuador      63.666667     74.500000  79.000000  77.250000      NaN  \n",
       "Ghana        69.000000     72.818182  74.222222  70.250000      NaN  \n",
       "Greece       67.000000           NaN  75.750000  79.200000     70.0  \n",
       "Honduras     63.666667     75.250000  71.000000  71.750000      NaN  \n",
       "Nigeria      73.500000     73.636364  76.466667  74.000000      NaN  "
      ]
     },
     "execution_count": 65,
     "metadata": {},
     "output_type": "execute_result"
    }
   ],
   "source": [
    "df[(df['ptl_gks'].isnull() == True) ^ (df['ptl_forwards'].isnull() == True)]"
   ]
  },
  {
   "cell_type": "markdown",
   "metadata": {},
   "source": [
    "In order to impute the potential attributes for each country we decided to calculate the average growth amongst all the teams and add it to the overall attribute. "
   ]
  },
  {
   "cell_type": "code",
   "execution_count": 66,
   "metadata": {},
   "outputs": [
    {
     "name": "stderr",
     "output_type": "stream",
     "text": [
      "/Users/matteocangiano/opt/anaconda3/lib/python3.7/site-packages/ipykernel_launcher.py:2: SettingWithCopyWarning: \n",
      "A value is trying to be set on a copy of a slice from a DataFrame.\n",
      "Try using .loc[row_indexer,col_indexer] = value instead\n",
      "\n",
      "See the caveats in the documentation: https://pandas.pydata.org/pandas-docs/stable/user_guide/indexing.html#returning-a-view-versus-a-copy\n",
      "  \n"
     ]
    }
   ],
   "source": [
    "growth_gk = df[(df['ptl_gks'].isnull() == False) & (df['ptl_forwards'].isnull() == False)]\n",
    "growth_gk['pct_grwth_gk'] = (growth_gk['ptl_gks'] - growth_gk['ovr_gks']) / growth_gk['ovr_gks']"
   ]
  },
  {
   "cell_type": "code",
   "execution_count": 67,
   "metadata": {},
   "outputs": [],
   "source": [
    "avg_growth_gks = growth_gk['pct_grwth_gk'].mean()"
   ]
  },
  {
   "cell_type": "code",
   "execution_count": 68,
   "metadata": {
    "scrolled": true
   },
   "outputs": [
    {
     "name": "stderr",
     "output_type": "stream",
     "text": [
      "/Users/matteocangiano/opt/anaconda3/lib/python3.7/site-packages/ipykernel_launcher.py:2: SettingWithCopyWarning: \n",
      "A value is trying to be set on a copy of a slice from a DataFrame.\n",
      "Try using .loc[row_indexer,col_indexer] = value instead\n",
      "\n",
      "See the caveats in the documentation: https://pandas.pydata.org/pandas-docs/stable/user_guide/indexing.html#returning-a-view-versus-a-copy\n",
      "  \n"
     ]
    }
   ],
   "source": [
    "growth_fwds = df[(df['ptl_gks'].isnull() == False) & (df['ptl_forwards'].isnull() == False)]\n",
    "growth_fwds['pct_grwth_fwds'] = (growth_fwds['ptl_forwards'] - growth_fwds['ovr_forwards']) / growth_fwds['ovr_forwards']\n",
    "avg_growth_fwds = growth_fwds['pct_grwth_fwds'].mean()"
   ]
  },
  {
   "cell_type": "code",
   "execution_count": 69,
   "metadata": {},
   "outputs": [
    {
     "name": "stdout",
     "output_type": "stream",
     "text": [
      "Average Growth Rate for FWDs: 3.15%\n",
      "Average Growth Rate for GKs: 2.54%\n"
     ]
    }
   ],
   "source": [
    "print(f'Average Growth Rate for FWDs: {round(100*avg_growth_fwds, 2)}%')\n",
    "print(f'Average Growth Rate for GKs: {round(100*avg_growth_gks, 2)}%')"
   ]
  },
  {
   "cell_type": "code",
   "execution_count": 70,
   "metadata": {},
   "outputs": [],
   "source": [
    "#Imputing the potential attribute for the 'GK' position\n",
    "for i in range(len(country_list)):\n",
    "    df.loc[country_list[i]]['ptl_gks'] = (float(df.loc[country_list[i]]['ovr_gks']) * avg_growth_gks) + float(df.loc[country_list[i]]['ovr_gks'])"
   ]
  },
  {
   "cell_type": "code",
   "execution_count": 71,
   "metadata": {},
   "outputs": [],
   "source": [
    "#Imputing the potential attribute for the 'Forward' position\n",
    "df.loc['Greece']['ptl_forwards'] = (float(df.loc['Greece']['ovr_forwards']) * avg_growth_fwds) + float(df.loc['Greece']['ovr_forwards'])"
   ]
  },
  {
   "cell_type": "code",
   "execution_count": 72,
   "metadata": {},
   "outputs": [
    {
     "data": {
      "text/plain": [
       "ovr_gks    69.000000\n",
       "ptl_gks    70.752126\n",
       "Name: Ghana, dtype: float64"
      ]
     },
     "execution_count": 72,
     "metadata": {},
     "output_type": "execute_result"
    }
   ],
   "source": [
    "# Isolating an instance to show how the imputed potential attribute looks compared to the overall attribute. \n",
    "df.loc['Ghana'][['ovr_gks', 'ptl_gks']]"
   ]
  },
  {
   "cell_type": "code",
   "execution_count": 73,
   "metadata": {
    "scrolled": true
   },
   "outputs": [
    {
     "data": {
      "text/plain": [
       "age                         0\n",
       "height_cm                   0\n",
       "weight_kg                   0\n",
       "value_eur                   0\n",
       "wage_eur                    0\n",
       "international_reputation    0\n",
       "ovr_forwards                0\n",
       "ovr_mids                    0\n",
       "ovr_defs                    0\n",
       "ovr_gks                     0\n",
       "ptl_forwards                0\n",
       "ptl_mids                    0\n",
       "ptl_defs                    0\n",
       "ptl_gks                     0\n",
       "dtype: int64"
      ]
     },
     "execution_count": 73,
     "metadata": {},
     "output_type": "execute_result"
    }
   ],
   "source": [
    "#Checking to make sure we didn't miss any missing values\n",
    "df.isnull().sum()"
   ]
  },
  {
   "cell_type": "markdown",
   "metadata": {},
   "source": [
    "To facilitate the modeling process we will rename the columns."
   ]
  },
  {
   "cell_type": "code",
   "execution_count": 74,
   "metadata": {},
   "outputs": [],
   "source": [
    "wc_matchups = wc_matchups.rename(columns= {'Home Team Name' : 'team_1',\n",
    "                                           'Away Team Name' : 'team_2',\n",
    "                                           'Home Team Goals' : 'team_1_gls',\n",
    "                                           'Away Team Goals' : 'team_2_gls'\n",
    "                                          }).copy()"
   ]
  },
  {
   "cell_type": "code",
   "execution_count": 75,
   "metadata": {
    "scrolled": true
   },
   "outputs": [
    {
     "data": {
      "text/html": [
       "<div>\n",
       "<style scoped>\n",
       "    .dataframe tbody tr th:only-of-type {\n",
       "        vertical-align: middle;\n",
       "    }\n",
       "\n",
       "    .dataframe tbody tr th {\n",
       "        vertical-align: top;\n",
       "    }\n",
       "\n",
       "    .dataframe thead th {\n",
       "        text-align: right;\n",
       "    }\n",
       "</style>\n",
       "<table border=\"1\" class=\"dataframe\">\n",
       "  <thead>\n",
       "    <tr style=\"text-align: right;\">\n",
       "      <th></th>\n",
       "      <th>Year</th>\n",
       "      <th>Datetime</th>\n",
       "      <th>team_1</th>\n",
       "      <th>team_2</th>\n",
       "      <th>team_1_gls</th>\n",
       "      <th>team_2_gls</th>\n",
       "    </tr>\n",
       "  </thead>\n",
       "  <tbody>\n",
       "    <tr>\n",
       "      <th>1</th>\n",
       "      <td>1930.0</td>\n",
       "      <td>13 Jul 1930 - 15:00</td>\n",
       "      <td>USA</td>\n",
       "      <td>Belgium</td>\n",
       "      <td>3.0</td>\n",
       "      <td>0.0</td>\n",
       "    </tr>\n",
       "    <tr>\n",
       "      <th>4</th>\n",
       "      <td>1930.0</td>\n",
       "      <td>15 Jul 1930 - 16:00</td>\n",
       "      <td>Argentina</td>\n",
       "      <td>France</td>\n",
       "      <td>1.0</td>\n",
       "      <td>0.0</td>\n",
       "    </tr>\n",
       "    <tr>\n",
       "      <th>5</th>\n",
       "      <td>1930.0</td>\n",
       "      <td>16 Jul 1930 - 14:45</td>\n",
       "      <td>Chile</td>\n",
       "      <td>Mexico</td>\n",
       "      <td>3.0</td>\n",
       "      <td>0.0</td>\n",
       "    </tr>\n",
       "  </tbody>\n",
       "</table>\n",
       "</div>"
      ],
      "text/plain": [
       "     Year              Datetime     team_1   team_2  team_1_gls  team_2_gls\n",
       "1  1930.0  13 Jul 1930 - 15:00         USA  Belgium         3.0         0.0\n",
       "4  1930.0  15 Jul 1930 - 16:00   Argentina   France         1.0         0.0\n",
       "5  1930.0  16 Jul 1930 - 14:45       Chile   Mexico         3.0         0.0"
      ]
     },
     "execution_count": 75,
     "metadata": {},
     "output_type": "execute_result"
    }
   ],
   "source": [
    "# This is what our 'wc_matchups' DataFrame should look like\n",
    "wc_matchups.head(3)"
   ]
  },
  {
   "cell_type": "markdown",
   "metadata": {},
   "source": [
    "### Adding Team stats to `wc_matchups` DataFrame"
   ]
  },
  {
   "cell_type": "markdown",
   "metadata": {},
   "source": [
    "Now that we have our `wc_matchups` DataFrame ready, we need to merge it with the `national_team_stats`  DataFrame which has been renamed to `df`."
   ]
  },
  {
   "cell_type": "code",
   "execution_count": 76,
   "metadata": {},
   "outputs": [],
   "source": [
    "# Here we merge the two DataFrames while renaming the columns so that we know\n",
    "# which attributes belong to which team.\n",
    "trial = pd.merge(wc_matchups, df, right_on= df.index, left_on= 'team_1')\n",
    "for column in trial.columns[-14:]:\n",
    "    trial.rename(columns = {column : f'{column}_1'}, inplace = True)\n",
    "\n",
    "wc_matchups_trial = pd.merge(trial, df, right_on= df.index, left_on= 'team_2')\n",
    "for column in wc_matchups_trial.columns[-14:]:\n",
    "    wc_matchups_trial.rename(columns = {column : f'{column}_2'}, inplace = True)"
   ]
  },
  {
   "cell_type": "code",
   "execution_count": 77,
   "metadata": {},
   "outputs": [],
   "source": [
    "# Renaming the final DataFrame to 'wc_matchups'\n",
    "wc_matchups = wc_matchups_trial"
   ]
  },
  {
   "cell_type": "code",
   "execution_count": 78,
   "metadata": {
    "scrolled": true
   },
   "outputs": [
    {
     "data": {
      "text/html": [
       "<div>\n",
       "<style scoped>\n",
       "    .dataframe tbody tr th:only-of-type {\n",
       "        vertical-align: middle;\n",
       "    }\n",
       "\n",
       "    .dataframe tbody tr th {\n",
       "        vertical-align: top;\n",
       "    }\n",
       "\n",
       "    .dataframe thead th {\n",
       "        text-align: right;\n",
       "    }\n",
       "</style>\n",
       "<table border=\"1\" class=\"dataframe\">\n",
       "  <thead>\n",
       "    <tr style=\"text-align: right;\">\n",
       "      <th></th>\n",
       "      <th>Year</th>\n",
       "      <th>Datetime</th>\n",
       "      <th>team_1</th>\n",
       "      <th>team_2</th>\n",
       "      <th>team_1_gls</th>\n",
       "      <th>team_2_gls</th>\n",
       "      <th>age_1</th>\n",
       "      <th>height_cm_1</th>\n",
       "      <th>weight_kg_1</th>\n",
       "      <th>value_eur_1</th>\n",
       "      <th>...</th>\n",
       "      <th>wage_eur_2</th>\n",
       "      <th>international_reputation_2</th>\n",
       "      <th>ovr_forwards_2</th>\n",
       "      <th>ovr_mids_2</th>\n",
       "      <th>ovr_defs_2</th>\n",
       "      <th>ovr_gks_2</th>\n",
       "      <th>ptl_forwards_2</th>\n",
       "      <th>ptl_mids_2</th>\n",
       "      <th>ptl_defs_2</th>\n",
       "      <th>ptl_gks_2</th>\n",
       "    </tr>\n",
       "  </thead>\n",
       "  <tbody>\n",
       "    <tr>\n",
       "      <th>0</th>\n",
       "      <td>1930.0</td>\n",
       "      <td>13 Jul 1930 - 15:00</td>\n",
       "      <td>USA</td>\n",
       "      <td>Belgium</td>\n",
       "      <td>3.0</td>\n",
       "      <td>0.0</td>\n",
       "      <td>27.478261</td>\n",
       "      <td>182.000000</td>\n",
       "      <td>76.608696</td>\n",
       "      <td>5.708696e+06</td>\n",
       "      <td>...</td>\n",
       "      <td>115608.695652</td>\n",
       "      <td>2.826087</td>\n",
       "      <td>85.75</td>\n",
       "      <td>82.333333</td>\n",
       "      <td>85.333333</td>\n",
       "      <td>82.666667</td>\n",
       "      <td>87.5</td>\n",
       "      <td>85.5</td>\n",
       "      <td>85.666667</td>\n",
       "      <td>84.666667</td>\n",
       "    </tr>\n",
       "    <tr>\n",
       "      <th>1</th>\n",
       "      <td>1982.0</td>\n",
       "      <td>13 Jun 1982 - 20:00</td>\n",
       "      <td>Argentina</td>\n",
       "      <td>Belgium</td>\n",
       "      <td>0.0</td>\n",
       "      <td>1.0</td>\n",
       "      <td>27.478261</td>\n",
       "      <td>180.043478</td>\n",
       "      <td>75.347826</td>\n",
       "      <td>2.604348e+07</td>\n",
       "      <td>...</td>\n",
       "      <td>115608.695652</td>\n",
       "      <td>2.826087</td>\n",
       "      <td>85.75</td>\n",
       "      <td>82.333333</td>\n",
       "      <td>85.333333</td>\n",
       "      <td>82.666667</td>\n",
       "      <td>87.5</td>\n",
       "      <td>85.5</td>\n",
       "      <td>85.666667</td>\n",
       "      <td>84.666667</td>\n",
       "    </tr>\n",
       "    <tr>\n",
       "      <th>2</th>\n",
       "      <td>1986.0</td>\n",
       "      <td>25 Jun 1986 - 16:00</td>\n",
       "      <td>Argentina</td>\n",
       "      <td>Belgium</td>\n",
       "      <td>2.0</td>\n",
       "      <td>0.0</td>\n",
       "      <td>27.478261</td>\n",
       "      <td>180.043478</td>\n",
       "      <td>75.347826</td>\n",
       "      <td>2.604348e+07</td>\n",
       "      <td>...</td>\n",
       "      <td>115608.695652</td>\n",
       "      <td>2.826087</td>\n",
       "      <td>85.75</td>\n",
       "      <td>82.333333</td>\n",
       "      <td>85.333333</td>\n",
       "      <td>82.666667</td>\n",
       "      <td>87.5</td>\n",
       "      <td>85.5</td>\n",
       "      <td>85.666667</td>\n",
       "      <td>84.666667</td>\n",
       "    </tr>\n",
       "  </tbody>\n",
       "</table>\n",
       "<p>3 rows × 34 columns</p>\n",
       "</div>"
      ],
      "text/plain": [
       "     Year              Datetime     team_1   team_2  team_1_gls  team_2_gls  \\\n",
       "0  1930.0  13 Jul 1930 - 15:00         USA  Belgium         3.0         0.0   \n",
       "1  1982.0  13 Jun 1982 - 20:00   Argentina  Belgium         0.0         1.0   \n",
       "2  1986.0  25 Jun 1986 - 16:00   Argentina  Belgium         2.0         0.0   \n",
       "\n",
       "       age_1  height_cm_1  weight_kg_1   value_eur_1  ...     wage_eur_2  \\\n",
       "0  27.478261   182.000000    76.608696  5.708696e+06  ...  115608.695652   \n",
       "1  27.478261   180.043478    75.347826  2.604348e+07  ...  115608.695652   \n",
       "2  27.478261   180.043478    75.347826  2.604348e+07  ...  115608.695652   \n",
       "\n",
       "   international_reputation_2  ovr_forwards_2  ovr_mids_2  ovr_defs_2  \\\n",
       "0                    2.826087           85.75   82.333333   85.333333   \n",
       "1                    2.826087           85.75   82.333333   85.333333   \n",
       "2                    2.826087           85.75   82.333333   85.333333   \n",
       "\n",
       "   ovr_gks_2  ptl_forwards_2  ptl_mids_2  ptl_defs_2  ptl_gks_2  \n",
       "0  82.666667            87.5        85.5   85.666667  84.666667  \n",
       "1  82.666667            87.5        85.5   85.666667  84.666667  \n",
       "2  82.666667            87.5        85.5   85.666667  84.666667  \n",
       "\n",
       "[3 rows x 34 columns]"
      ]
     },
     "execution_count": 78,
     "metadata": {},
     "output_type": "execute_result"
    }
   ],
   "source": [
    "# This is what our DataFrame should look like at this stage.\n",
    "wc_matchups.head(3)"
   ]
  },
  {
   "cell_type": "code",
   "execution_count": 79,
   "metadata": {},
   "outputs": [
    {
     "name": "stderr",
     "output_type": "stream",
     "text": [
      "/Users/matteocangiano/opt/anaconda3/lib/python3.7/site-packages/ipykernel_launcher.py:8: SettingWithCopyWarning: \n",
      "A value is trying to be set on a copy of a slice from a DataFrame\n",
      "\n",
      "See the caveats in the documentation: https://pandas.pydata.org/pandas-docs/stable/user_guide/indexing.html#returning-a-view-versus-a-copy\n",
      "  \n",
      "/Users/matteocangiano/opt/anaconda3/lib/python3.7/site-packages/ipykernel_launcher.py:10: SettingWithCopyWarning: \n",
      "A value is trying to be set on a copy of a slice from a DataFrame\n",
      "\n",
      "See the caveats in the documentation: https://pandas.pydata.org/pandas-docs/stable/user_guide/indexing.html#returning-a-view-versus-a-copy\n",
      "  # Remove the CWD from sys.path while we load stuff.\n",
      "/Users/matteocangiano/opt/anaconda3/lib/python3.7/site-packages/ipykernel_launcher.py:12: SettingWithCopyWarning: \n",
      "A value is trying to be set on a copy of a slice from a DataFrame\n",
      "\n",
      "See the caveats in the documentation: https://pandas.pydata.org/pandas-docs/stable/user_guide/indexing.html#returning-a-view-versus-a-copy\n",
      "  if sys.path[0] == '':\n"
     ]
    }
   ],
   "source": [
    "# No we have to assign a target colum which indicates which team won the game for each observation (row).\n",
    "wc_matchups['score'] = wc_matchups['team_1_gls'] - wc_matchups['team_2_gls']\n",
    "wc_matchups = wc_matchups.drop(['team_1', 'team_2', 'team_1_gls', 'team_2_gls'], 1)\n",
    "\n",
    "wc_matchups['winner'] = None\n",
    "for i in range(len(wc_matchups['score'])):\n",
    "    if wc_matchups['score'][i] > 0:\n",
    "        wc_matchups['winner'][i] = 1\n",
    "    elif wc_matchups['score'][i] < 0:\n",
    "        wc_matchups['winner'][i] = -1\n",
    "    elif wc_matchups['score'][i] == 0:\n",
    "        wc_matchups['winner'][i] = 0\n"
   ]
  },
  {
   "cell_type": "code",
   "execution_count": 80,
   "metadata": {
    "scrolled": true
   },
   "outputs": [
    {
     "data": {
      "text/plain": [
       "0     1\n",
       "1    -1\n",
       "2     1\n",
       "Name: winner, dtype: object"
      ]
     },
     "execution_count": 80,
     "metadata": {},
     "output_type": "execute_result"
    }
   ],
   "source": [
    "# Here is what our target variables will look like. \n",
    "wc_matchups['winner'].head(3)"
   ]
  },
  {
   "cell_type": "code",
   "execution_count": 81,
   "metadata": {},
   "outputs": [
    {
     "data": {
      "text/plain": [
       "dtype('O')"
      ]
     },
     "execution_count": 81,
     "metadata": {},
     "output_type": "execute_result"
    }
   ],
   "source": [
    "# Checking the type of our target column.\n",
    "wc_matchups['winner'].dtypes"
   ]
  },
  {
   "cell_type": "code",
   "execution_count": 82,
   "metadata": {},
   "outputs": [],
   "source": [
    "# Converting our target column to integers so we can use it as our 'y' variable.\n",
    "wc_matchups['winner'] = wc_matchups['winner'].astype(int)"
   ]
  },
  {
   "cell_type": "code",
   "execution_count": 83,
   "metadata": {},
   "outputs": [
    {
     "data": {
      "text/plain": [
       "array([ 1, -1,  0])"
      ]
     },
     "execution_count": 83,
     "metadata": {},
     "output_type": "execute_result"
    }
   ],
   "source": [
    "# Checking to make sure the target column was imputed correctly. 1 = Win, 0 = Draw, -1 = Loss\n",
    "wc_matchups['winner'].unique()"
   ]
  },
  {
   "cell_type": "markdown",
   "metadata": {},
   "source": [
    "### Creating Interaction Terms for the Statistics for both teams. "
   ]
  },
  {
   "cell_type": "markdown",
   "metadata": {},
   "source": [
    "In order to help our model distinguish between the two teams attributes we will create interaction terms that highlight the difference between each attribute. "
   ]
  },
  {
   "cell_type": "code",
   "execution_count": 84,
   "metadata": {},
   "outputs": [],
   "source": [
    "wc_matchups['age_diff'] = wc_matchups['age_1'] - wc_matchups['age_2']\n",
    "wc_matchups['height_diff'] = wc_matchups['height_cm_1'] - wc_matchups['height_cm_2']\n",
    "wc_matchups['weight_diff'] = wc_matchups['weight_kg_1'] - wc_matchups['weight_kg_2']\n",
    "wc_matchups['value_diff'] = wc_matchups['value_eur_1'] - wc_matchups['value_eur_2']\n",
    "wc_matchups['wage_diff'] = wc_matchups['wage_eur_1'] - wc_matchups['wage_eur_2']\n",
    "wc_matchups['intl_rep_diff'] = wc_matchups['international_reputation_1'] - wc_matchups['international_reputation_2']\n",
    "wc_matchups['fw_diff'] = wc_matchups['ovr_forwards_1'] - wc_matchups['ovr_forwards_2']\n",
    "wc_matchups['mid_diff'] = wc_matchups['ovr_mids_1'] - wc_matchups['ovr_mids_2']\n",
    "wc_matchups['def_diff'] = wc_matchups['ovr_defs_1'] - wc_matchups['ovr_defs_2']\n",
    "wc_matchups['gk_diff'] = wc_matchups['ovr_gks_1'] - wc_matchups['ovr_gks_2']\n",
    "wc_matchups['age_diff'] = wc_matchups['age_1'] - wc_matchups['age_2']\n",
    "wc_matchups['height_diff'] = wc_matchups['height_cm_1'] - wc_matchups['height_cm_2']\n",
    "wc_matchups['weight_diff'] = wc_matchups['weight_kg_1'] - wc_matchups['weight_kg_2']\n",
    "wc_matchups['value_diff'] = wc_matchups['value_eur_2'] - wc_matchups['value_eur_2']\n",
    "wc_matchups['wage_diff'] = wc_matchups['wage_eur_2'] - wc_matchups['wage_eur_2']\n",
    "wc_matchups['intl_rep_diff'] = wc_matchups['international_reputation_1'] - wc_matchups['international_reputation_2']\n",
    "wc_matchups['fw_diff'] = wc_matchups['ovr_forwards_1'] - wc_matchups['ovr_forwards_2']\n",
    "wc_matchups['mid_diff'] = wc_matchups['ovr_mids_1'] - wc_matchups['ovr_mids_2']\n",
    "wc_matchups['def_diff'] = wc_matchups['ovr_defs_1'] - wc_matchups['ovr_defs_2']\n",
    "wc_matchups['gk_diff'] = wc_matchups['ovr_gks_1'] - wc_matchups['ovr_gks_2'] \n",
    "wc_matchups['ptl_fw_diff'] = wc_matchups['ptl_forwards_1'] - wc_matchups['ptl_forwards_2']\n",
    "wc_matchups['ptl_mid_diff'] = wc_matchups['ptl_mids_1'] - wc_matchups['ptl_mids_2']\n",
    "wc_matchups['ptl_def_diff'] = wc_matchups['ptl_defs_1'] - wc_matchups['ptl_defs_2']\n",
    "wc_matchups['ptl_gk_diff'] = wc_matchups['ptl_gks_1'] - wc_matchups['ptl_gks_2'] "
   ]
  },
  {
   "cell_type": "markdown",
   "metadata": {},
   "source": [
    "## Modeling"
   ]
  },
  {
   "cell_type": "markdown",
   "metadata": {},
   "source": [
    "Now that we have finalized our DataFrame we can begin fitting models."
   ]
  },
  {
   "cell_type": "code",
   "execution_count": 85,
   "metadata": {},
   "outputs": [],
   "source": [
    "X = wc_matchups.drop(columns= ['winner', 'Datetime','score','Year']) # We drop the 'score' column to avoid leakage.\n",
    "y = wc_matchups['winner']\n",
    "X_train, X_test, y_train, y_test = train_test_split(X,y, random_state= random_state)"
   ]
  },
  {
   "cell_type": "markdown",
   "metadata": {},
   "source": [
    "### Logistic Regression"
   ]
  },
  {
   "cell_type": "code",
   "execution_count": 86,
   "metadata": {
    "scrolled": true
   },
   "outputs": [],
   "source": [
    "lr = LogisticRegression(C = 1e9)\n",
    "lr_fit = lr.fit(X_train, y_train)"
   ]
  },
  {
   "cell_type": "code",
   "execution_count": 87,
   "metadata": {},
   "outputs": [
    {
     "data": {
      "text/plain": [
       "0.5824915824915825"
      ]
     },
     "execution_count": 87,
     "metadata": {},
     "output_type": "execute_result"
    }
   ],
   "source": [
    "lr_fit.score(X_train, y_train)"
   ]
  },
  {
   "cell_type": "code",
   "execution_count": 88,
   "metadata": {},
   "outputs": [
    {
     "data": {
      "text/plain": [
       "0.6363636363636364"
      ]
     },
     "execution_count": 88,
     "metadata": {},
     "output_type": "execute_result"
    }
   ],
   "source": [
    "lr_fit.score(X_test, y_test)"
   ]
  },
  {
   "cell_type": "code",
   "execution_count": 89,
   "metadata": {},
   "outputs": [
    {
     "data": {
      "text/plain": [
       "0.5935126582278482"
      ]
     },
     "execution_count": 89,
     "metadata": {},
     "output_type": "execute_result"
    }
   ],
   "source": [
    "cross_val_score(lr_fit, X, y).mean()"
   ]
  },
  {
   "cell_type": "markdown",
   "metadata": {},
   "source": [
    "Logistic Regression does a fairly good job at distinguishing the outcomes of the matches, however it is best used when there are only two classes. We decided to take a look at some other classification models to see if they would perform better."
   ]
  },
  {
   "cell_type": "markdown",
   "metadata": {},
   "source": [
    "### KNN"
   ]
  },
  {
   "cell_type": "code",
   "execution_count": 90,
   "metadata": {},
   "outputs": [],
   "source": [
    "pipe = Pipeline(steps=[('sc', StandardScaler()), ('knn',\n",
    "                                                  KNeighborsClassifier())])\n",
    "\n",
    "params = {\n",
    "    'knn__n_neighbors': [3, 5, 7, 9],\n",
    "    'knn__metric': ['minkowski', 'euclidean', 'manhattan'],\n",
    "    'knn__leaf_size': [15, 30, 45]\n",
    "}\n",
    "\n",
    "gs_knn = GridSearchCV(pipe, param_grid=params, cv=5, scoring='accuracy')\n",
    "\n",
    "gs_knn.fit(X_train, y_train);"
   ]
  },
  {
   "cell_type": "code",
   "execution_count": 91,
   "metadata": {},
   "outputs": [
    {
     "data": {
      "text/plain": [
       "Pipeline(memory=None,\n",
       "         steps=[('sc',\n",
       "                 StandardScaler(copy=True, with_mean=True, with_std=True)),\n",
       "                ('knn',\n",
       "                 KNeighborsClassifier(algorithm='auto', leaf_size=15,\n",
       "                                      metric='minkowski', metric_params=None,\n",
       "                                      n_jobs=None, n_neighbors=9, p=2,\n",
       "                                      weights='uniform'))],\n",
       "         verbose=False)"
      ]
     },
     "execution_count": 91,
     "metadata": {},
     "output_type": "execute_result"
    }
   ],
   "source": [
    "# Best Estimator for GridSearch\n",
    "gs_knn.best_estimator_"
   ]
  },
  {
   "cell_type": "code",
   "execution_count": 92,
   "metadata": {},
   "outputs": [
    {
     "data": {
      "text/plain": [
       "0.632996632996633"
      ]
     },
     "execution_count": 92,
     "metadata": {},
     "output_type": "execute_result"
    }
   ],
   "source": [
    "# Training Score\n",
    "gs_knn.score(X_train, y_train)"
   ]
  },
  {
   "cell_type": "code",
   "execution_count": 93,
   "metadata": {},
   "outputs": [
    {
     "data": {
      "text/plain": [
       "0.5959595959595959"
      ]
     },
     "execution_count": 93,
     "metadata": {},
     "output_type": "execute_result"
    }
   ],
   "source": [
    "# Test Score\n",
    "gs_knn.score(X_test, y_test)"
   ]
  },
  {
   "cell_type": "code",
   "execution_count": 94,
   "metadata": {},
   "outputs": [
    {
     "data": {
      "text/plain": [
       "0.5405379746835444"
      ]
     },
     "execution_count": 94,
     "metadata": {},
     "output_type": "execute_result"
    }
   ],
   "source": [
    "# Cross-Val Score\n",
    "cross_val_score(gs_knn, X, y, cv = 5).mean()"
   ]
  },
  {
   "cell_type": "markdown",
   "metadata": {},
   "source": [
    "The KNN model is slightly overfit and the `cross_val_score` isn't ideal. We will move on to a Decision Tree to see if we are able to get a better score. "
   ]
  },
  {
   "cell_type": "markdown",
   "metadata": {},
   "source": [
    "### Decision Tree"
   ]
  },
  {
   "cell_type": "code",
   "execution_count": 95,
   "metadata": {},
   "outputs": [],
   "source": [
    "tree_pipe = Pipeline(steps=[('trees', DecisionTreeClassifier(random_state= random_state))])\n",
    "\n",
    "params = {'trees__max_depth': [None, 5, 10, 15],\n",
    "          'trees__min_samples_leaf': [1, 3, 5],\n",
    "          'trees__min_samples_split': [2, 4, 6],\n",
    "          'trees__max_features': [5, 10, 15, 20],\n",
    "          \n",
    "         }\n",
    "gs_trees = GridSearchCV(tree_pipe,\n",
    "                              param_grid=params,\n",
    "                              cv=5,\n",
    "                              scoring='accuracy',\n",
    "                              n_jobs=-2)\n",
    "gs_trees.fit(X_train, y_train);"
   ]
  },
  {
   "cell_type": "code",
   "execution_count": 96,
   "metadata": {},
   "outputs": [
    {
     "data": {
      "text/plain": [
       "0.6801346801346801"
      ]
     },
     "execution_count": 96,
     "metadata": {},
     "output_type": "execute_result"
    }
   ],
   "source": [
    "# Training Score\n",
    "gs_trees.score(X_train, y_train)"
   ]
  },
  {
   "cell_type": "code",
   "execution_count": 97,
   "metadata": {},
   "outputs": [
    {
     "data": {
      "text/plain": [
       "0.5757575757575758"
      ]
     },
     "execution_count": 97,
     "metadata": {},
     "output_type": "execute_result"
    }
   ],
   "source": [
    "# Test Score\n",
    "gs_trees.score(X_test, y_test)"
   ]
  },
  {
   "cell_type": "code",
   "execution_count": 98,
   "metadata": {},
   "outputs": [
    {
     "data": {
      "text/plain": [
       "0.5177531645569621"
      ]
     },
     "execution_count": 98,
     "metadata": {},
     "output_type": "execute_result"
    }
   ],
   "source": [
    "# Cross-Val Score\n",
    "cross_val_score(gs_trees, X, y, cv = 5).mean()"
   ]
  },
  {
   "cell_type": "markdown",
   "metadata": {},
   "source": [
    "The Decision Tree is also overfit with a `cross_val_score` that deviates too much from the test score."
   ]
  },
  {
   "cell_type": "markdown",
   "metadata": {},
   "source": [
    "### Bagging Classifier"
   ]
  },
  {
   "cell_type": "code",
   "execution_count": 99,
   "metadata": {},
   "outputs": [
    {
     "data": {
      "text/plain": [
       "GridSearchCV(cv=5, error_score=nan,\n",
       "             estimator=Pipeline(memory=None,\n",
       "                                steps=[('bag',\n",
       "                                        BaggingClassifier(base_estimator=None,\n",
       "                                                          bootstrap=True,\n",
       "                                                          bootstrap_features=False,\n",
       "                                                          max_features=1.0,\n",
       "                                                          max_samples=1.0,\n",
       "                                                          n_estimators=10,\n",
       "                                                          n_jobs=None,\n",
       "                                                          oob_score=False,\n",
       "                                                          random_state=42,\n",
       "                                                          verbose=0,\n",
       "                                                          warm_start=False))],\n",
       "                                verbose=False),\n",
       "             iid='deprecated', n_jobs=-2,\n",
       "             param_grid={'bag__bootstrap': [False, True],\n",
       "                         'bag__bootstrap_features': [False, True],\n",
       "                         'bag__max_features': [5, 10, 15, 20],\n",
       "                         'bag__max_samples': [1, 3, 5, 7],\n",
       "                         'bag__n_estimators': [10, 20, 30, 40]},\n",
       "             pre_dispatch='2*n_jobs', refit=True, return_train_score=False,\n",
       "             scoring='accuracy', verbose=0)"
      ]
     },
     "execution_count": 99,
     "metadata": {},
     "output_type": "execute_result"
    }
   ],
   "source": [
    "bag_pipe = Pipeline(steps=[('bag', BaggingClassifier(random_state= random_state))])\n",
    "\n",
    "params = {'bag__max_samples': [1, 3, 5, 7],\n",
    "          'bag__bootstrap_features': [False, True],\n",
    "          'bag__bootstrap': [False, True],\n",
    "          'bag__max_features': [5, 10, 15, 20],\n",
    "          'bag__n_estimators' : [10, 20, 30, 40]\n",
    "          \n",
    "         }\n",
    "gs_bag = GridSearchCV(bag_pipe,\n",
    "                              param_grid=params,\n",
    "                              cv=5,\n",
    "                              scoring='accuracy',\n",
    "                              n_jobs=-2)\n",
    "\n",
    "\n",
    "gs_bag.fit(X_train, y_train)"
   ]
  },
  {
   "cell_type": "code",
   "execution_count": 100,
   "metadata": {},
   "outputs": [
    {
     "data": {
      "text/plain": [
       "0.5488215488215489"
      ]
     },
     "execution_count": 100,
     "metadata": {},
     "output_type": "execute_result"
    }
   ],
   "source": [
    "# Training Score\n",
    "gs_bag.score(X_train, y_train)"
   ]
  },
  {
   "cell_type": "code",
   "execution_count": 101,
   "metadata": {},
   "outputs": [
    {
     "data": {
      "text/plain": [
       "0.6464646464646465"
      ]
     },
     "execution_count": 101,
     "metadata": {},
     "output_type": "execute_result"
    }
   ],
   "source": [
    "# Test Score\n",
    "gs_bag.score(X_test, y_test)"
   ]
  },
  {
   "cell_type": "code",
   "execution_count": 102,
   "metadata": {},
   "outputs": [
    {
     "data": {
      "text/plain": [
       "0.5606012658227847"
      ]
     },
     "execution_count": 102,
     "metadata": {},
     "output_type": "execute_result"
    }
   ],
   "source": [
    "# Cross-Val Score\n",
    "cross_val_score(gs_bag.best_estimator_, X, y, cv = 5).mean()"
   ]
  },
  {
   "cell_type": "markdown",
   "metadata": {},
   "source": [
    "The Bagging Classifier performs well on the testing set, but we cannot trust this score as the `cross_val_score` is too far from the test score."
   ]
  },
  {
   "cell_type": "markdown",
   "metadata": {},
   "source": [
    "### Random Forest"
   ]
  },
  {
   "cell_type": "code",
   "execution_count": 103,
   "metadata": {},
   "outputs": [],
   "source": [
    "rand_pipe = Pipeline(steps=[('rand', RandomForestClassifier(random_state= random_state))])\n",
    "\n",
    "params = {'rand__max_depth': [None, 5, 10, 15],\n",
    "          'rand__min_samples_leaf': [1, 3, 5],\n",
    "          'rand__min_samples_split': [2, 4, 6],\n",
    "          'rand__n_estimators' : [100, 200, 300],\n",
    "          'rand__bootstrap': [True, False]\n",
    "         }\n",
    "gs_rand = GridSearchCV(rand_pipe,\n",
    "                       param_grid=params,\n",
    "                       cv=5,\n",
    "                       scoring='accuracy',\n",
    "                       n_jobs=-2)\n",
    "\n",
    "gs_rand.fit(X_train, y_train);"
   ]
  },
  {
   "cell_type": "code",
   "execution_count": 104,
   "metadata": {},
   "outputs": [
    {
     "data": {
      "text/plain": [
       "0.6734006734006734"
      ]
     },
     "execution_count": 104,
     "metadata": {},
     "output_type": "execute_result"
    }
   ],
   "source": [
    "# Training Score\n",
    "gs_rand.score(X_train, y_train)"
   ]
  },
  {
   "cell_type": "code",
   "execution_count": 105,
   "metadata": {},
   "outputs": [
    {
     "data": {
      "text/plain": [
       "0.5959595959595959"
      ]
     },
     "execution_count": 105,
     "metadata": {},
     "output_type": "execute_result"
    }
   ],
   "source": [
    "# Test Score\n",
    "gs_rand.score(X_test, y_test)"
   ]
  },
  {
   "cell_type": "code",
   "execution_count": 106,
   "metadata": {},
   "outputs": [
    {
     "data": {
      "text/plain": [
       "0.5833544303797468"
      ]
     },
     "execution_count": 106,
     "metadata": {},
     "output_type": "execute_result"
    }
   ],
   "source": [
    "cross_val_score(gs_rand.best_estimator_, X, y, cv = 5).mean()"
   ]
  },
  {
   "cell_type": "markdown",
   "metadata": {},
   "source": [
    "The Random Forest Classifier looks to be overfit. However, with CART models they always perform better on the training set than the testing set so this is expected. The `cross_val_score` shows us that we can trust the test score, unlike the above models. We will fit an Extra Trees model to see if we can further improve our test score. "
   ]
  },
  {
   "cell_type": "markdown",
   "metadata": {},
   "source": [
    "### Extra Trees"
   ]
  },
  {
   "cell_type": "code",
   "execution_count": 107,
   "metadata": {},
   "outputs": [],
   "source": [
    "x_trees = ExtraTreesClassifier()\n",
    "x_trees_fit = x_trees.fit(X_train, y_train)"
   ]
  },
  {
   "cell_type": "code",
   "execution_count": 108,
   "metadata": {},
   "outputs": [],
   "source": [
    "pipe = Pipeline(steps=[('x_trees', ExtraTreesClassifier(random_state= random_state))])\n",
    "\n",
    "params = {\n",
    "    'x_trees__n_estimators': [100, 200, 300, 400],\n",
    "    'x_trees__min_samples_split': [2, 4, 6, 8],\n",
    "    'x_trees__min_samples_leaf': [1, 3, 5, 7],\n",
    "    'x_trees__bootstrap' : [False, True]\n",
    "}\n",
    "\n",
    "gs_x_trees = GridSearchCV(pipe,\n",
    "                              param_grid=params,\n",
    "                              cv=5,\n",
    "                              scoring='accuracy')\n",
    "gs_x_trees.fit(X_train, y_train);"
   ]
  },
  {
   "cell_type": "code",
   "execution_count": 110,
   "metadata": {},
   "outputs": [
    {
     "data": {
      "text/plain": [
       "0.6734006734006734"
      ]
     },
     "execution_count": 110,
     "metadata": {},
     "output_type": "execute_result"
    }
   ],
   "source": [
    "# Train Score\n",
    "gs_rand.score(X_train, y_train)"
   ]
  },
  {
   "cell_type": "code",
   "execution_count": null,
   "metadata": {},
   "outputs": [],
   "source": [
    "# Test Score\n",
    "gs_x_trees.score(X_test, y_test)"
   ]
  },
  {
   "cell_type": "code",
   "execution_count": 111,
   "metadata": {},
   "outputs": [
    {
     "data": {
      "text/plain": [
       "0.585886075949367"
      ]
     },
     "execution_count": 111,
     "metadata": {},
     "output_type": "execute_result"
    }
   ],
   "source": [
    "cross_val_score(gs_x_trees.best_estimator_, X, y, cv = 5).mean()"
   ]
  },
  {
   "cell_type": "markdown",
   "metadata": {},
   "source": [
    "The Extra Trees model has a better test and train score, but the `cross_val_score` is once again not ideal."
   ]
  },
  {
   "cell_type": "markdown",
   "metadata": {},
   "source": [
    "## Model Selection"
   ]
  },
  {
   "cell_type": "markdown",
   "metadata": {},
   "source": [
    "|Model|Accuracy| Cross Val Score|\n",
    "|---|---|---|\n",
    "|Logistic Regression | 0.64 | 0.59 |\n",
    "|KNN | 0.60 | 0.55 |\n",
    "|Decision Tree| 0.58 | 0.52 |\n",
    "|Bagging Classifier| 0.65 | 0.56 |\n",
    "|Random Forest| 0.60 | 0.58 |\n",
    "|Extra Trees| 0.65 | 0.59 |\n"
   ]
  },
  {
   "cell_type": "markdown",
   "metadata": {},
   "source": [
    "The Extra Trees and Bagging Classifiers have the highest accuracy scores, however it is the Random Forest Classifier that has the best `cross_val_score`. For this reason we will move forward with the Random Forest model. "
   ]
  },
  {
   "cell_type": "markdown",
   "metadata": {},
   "source": [
    "## Model Evaluation"
   ]
  },
  {
   "cell_type": "markdown",
   "metadata": {},
   "source": [
    "To evaluate the model we will show a confusion matrix as well as a plot of the feature coefficients. "
   ]
  },
  {
   "cell_type": "markdown",
   "metadata": {},
   "source": [
    "### Confusion Matrix"
   ]
  },
  {
   "cell_type": "code",
   "execution_count": 112,
   "metadata": {},
   "outputs": [
    {
     "data": {
      "image/png": "[encoded data removed]",
      "text/plain": [
       "<Figure size 1008x504 with 2 Axes>"
      ]
     },
     "metadata": {},
     "output_type": "display_data"
    }
   ],
   "source": [
    "y_pred = gs_rand.predict(X_test) #getting predictions from the extra trees model\n",
    "\n",
    "def pretty_confusion_matrix(y_true, y_pred):\n",
    "    '''\n",
    "    Creates a confusion matrix and puts it into a prettier looking image.\n",
    "    '''\n",
    "    # handling data\n",
    "    cm = confusion_matrix(y_true, y_pred)\n",
    "    labels = y_true.unique()\n",
    "    labels.sort()\n",
    "    \n",
    "    \n",
    "    # plotting\n",
    "    sns.set(font_scale=1.5)\n",
    "    plt.figure(figsize=(14,7))\n",
    "    \n",
    "    chart = sns.heatmap(cm, annot=True, fmt='g', cmap=\"coolwarm\", xticklabels = labels, yticklabels = labels)\n",
    "    chart.set_yticklabels(chart.get_yticklabels(), rotation=0)\n",
    "    plt.title(\"Confusion Matrix\")\n",
    "    plt.xlabel('Predicted Class')\n",
    "    plt.ylabel('True Class')\n",
    "    b, t = plt.ylim() # discover the values for bottom and top\n",
    "    b += 0.5 # Add 0.5 to the bottom\n",
    "    t -= 0.5 # Subtract 0.5 from the top\n",
    "    plt.ylim(b, t) # update the ylim(bottom, top) values\n",
    "\n",
    "pretty_confusion_matrix(y_test, y_pred)"
   ]
  },
  {
   "cell_type": "markdown",
   "metadata": {},
   "source": [
    "The confusion matrix shows us that our model is good at predicting the winner, however it performs poorly when predicting a draw or a loss. It is important to keep in mind that a 1 represents a 'Home Win' meaning that the model might have picked up and given the home teams an advantage. This is something commonly known for club team games. However, for the World Cup we did not expect it to have an impact on the outcome of the games as only one team (the host country) is actually playing at home. In the future, we will have to consider introducing home game advantages for each game and see how the model reacts. "
   ]
  },
  {
   "cell_type": "markdown",
   "metadata": {},
   "source": [
    "### Feature Coefficients"
   ]
  },
  {
   "cell_type": "code",
   "execution_count": 115,
   "metadata": {},
   "outputs": [
    {
     "data": {
      "image/png": "[encoded data removed]",
      "text/plain": [
       "<Figure size 720x1080 with 1 Axes>"
      ]
     },
     "metadata": {},
     "output_type": "display_data"
    }
   ],
   "source": [
    "# getting the feature coefficiants crom the Logistic Regression model\n",
    "coefs = lr_fit.coef_\n",
    "# getting keys of the test set\n",
    "keys = X_test.keys()\n",
    "# zipping the keys and feature importances\n",
    "feat_coef = pd.DataFrame(list(zip(keys, coefs[0])),\n",
    "                         columns=['feature', 'coefficient'])\n",
    "# sorting the dataframe by coefficients\n",
    "feat_coef = feat_coef.sort_values(by='coefficient', ascending=True)\n",
    "\n",
    "# plotting coefficients\n",
    "plt.figure(figsize=(10, 15))\n",
    "plt.title('Feature Coefficients', fontsize=25)\n",
    "sns.set_style(\"darkgrid\")\n",
    "sns.barplot(data=feat_coef,\n",
    "            x='coefficient',\n",
    "            y='feature',\n",
    "            orient='h',\n",
    "            palette=\"gist_earth\")\n",
    "plt.xlabel('Coefficient', fontsize=20)\n",
    "plt.ylabel('Feature', fontsize=20)\n",
    "plt.tick_params(labelsize=20)\n"
   ]
  },
  {
   "cell_type": "markdown",
   "metadata": {},
   "source": [
    "The Feature Coefficients bar chart shows us that the best predictor for our model is the average wages the team players receive. This is most likely due to the fact that higher paid players will are also those who are able to perform on any stage, and it is precisely for this reason that they are being paid as such. The model is able to see which teams tend to perform at an international level and predict a winner with 61% accuracy. "
   ]
  },
  {
   "cell_type": "markdown",
   "metadata": {},
   "source": [
    "## Simulation"
   ]
  },
  {
   "cell_type": "markdown",
   "metadata": {},
   "source": [
    "To simulate the games we used functions created by an author on Towards Data Science."
   ]
  },
  {
   "cell_type": "code",
   "execution_count": 116,
   "metadata": {},
   "outputs": [],
   "source": [
    "def simulate_matches(data, team1, team2, model, n_matches=10000):\n",
    "    \n",
    "    def match(wc, team1, team2, model, random_scale= 5):\n",
    "\n",
    "        match = pd.DataFrame(columns=[\n",
    "\n",
    "            'age_1', 'height_cm_1', 'weight_kg_1', 'value_eur_1', 'wage_eur_1',\n",
    "            'international_reputation_1', 'ovr_forwards_1', 'ovr_mids_1',\n",
    "            'ovr_defs_1', 'ovr_gks_1','ptl_forwards_1','ptl_mids_1','ptl_defs_1','ptl_gks_1',\n",
    "            'age_2', 'height_cm_2', 'weight_kg_2',\n",
    "            'value_eur_2', 'wage_eur_2', 'international_reputation_2',\n",
    "            'ovr_forwards_2', 'ovr_mids_2', 'ovr_defs_2', 'ovr_gks_2',\n",
    "            'ptl_forwards_2','ptl_mids_2','ptl_defs_2','ptl_gks_2',\n",
    "            'age_diff', 'height_diff', 'weight_diff', 'value_diff', 'wage_diff',\n",
    "            'intl_rep_diff', 'fw_diff', 'mid_diff', 'def_diff', 'gk_diff', 'ptl_fw_diff',\n",
    "            'ptl_mid_diff', 'ptl_def_diff','ptl_gk_diff'\n",
    "                             ],\n",
    "                             index=[0])\n",
    "        # Team 1 stats\n",
    "\n",
    "        age_1 = wc[wc.index == team1]['age'].iloc[0]\n",
    "        height_cm_1 = wc[wc.index == team1]['height_cm'].iloc[0]\n",
    "        weight_kg_1 = wc[wc.index == team1]['weight_kg'].iloc[0]\n",
    "        value_eur_1 = wc[wc.index == team1]['value_eur'].iloc[0]\n",
    "        wage_eur_1 = wc[wc.index == team1]['wage_eur'].iloc[0]\n",
    "        international_reputation_1= wc[wc.index == team1]['international_reputation'].iloc[0]\n",
    "        ovr_forwards_1 = wc[wc.index == team1]['ovr_forwards'].iloc[0]\n",
    "        ovr_mids_1 = wc[wc.index == team1]['ovr_mids'].iloc[0]\n",
    "        ovr_defs_1 = wc[wc.index == team1]['ovr_defs'].iloc[0]\n",
    "        ovr_gks_1 = wc[wc.index == team1]['ovr_gks'].iloc[0]\n",
    "        ptl_forwards_1 = wc[wc.index == team1]['ptl_forwards'].iloc[0]\n",
    "        ptl_mids_1 = wc[wc.index == team1]['ptl_mids'].iloc[0]\n",
    "        ptl_defs_1 = wc[wc.index == team1]['ptl_defs'].iloc[0]\n",
    "        ptl_gks_1 = wc[wc.index == team1]['ptl_gks'].iloc[0]\n",
    "\n",
    "            #Assign randomness to each variable\n",
    "\n",
    "        match['age_1'] = np.random.normal(age_1, scale=random_scale)\n",
    "        match['height_cm_1'] = np.random.normal(height_cm_1, scale=random_scale)\n",
    "        match['weight_kg_1'] = np.random.normal(weight_kg_1, scale=random_scale)\n",
    "        match['value_eur_1'] = np.random.normal(value_eur_1, scale=random_scale)\n",
    "        match['wage_eur_1'] = np.random.normal(wage_eur_1, scale=random_scale)\n",
    "        match['international_reputation_1'] = np.random.normal(international_reputation_1, scale=random_scale)\n",
    "        match['ovr_forwards_1'] = np.random.normal(ovr_forwards_1, scale=random_scale)\n",
    "        match['ovr_mids_1'] = np.random.normal(ovr_mids_1, scale=random_scale)\n",
    "        match['ovr_defs_1'] = np.random.normal(ovr_defs_1, scale=random_scale)\n",
    "        match['ovr_gks_1'] = np.random.normal(ovr_gks_1, scale=random_scale)\n",
    "        match['ptl_forwards_1'] = np.random.normal(ptl_forwards_1, scale=random_scale)\n",
    "        match['ptl_mids_1'] = np.random.normal(ptl_mids_1, scale=random_scale)\n",
    "        match['ptl_defs_1'] = np.random.normal(ptl_defs_1, scale=random_scale)\n",
    "        match['ptl_gks_1'] = np.random.normal(ptl_gks_1, scale=random_scale)\n",
    "\n",
    "\n",
    "        # Team 2 Stats\n",
    "\n",
    "        age_2 = wc[wc.index == team1]['age'].iloc[0]\n",
    "        height_cm_2 = wc[wc.index == team1]['height_cm'].iloc[0]\n",
    "        weight_kg_2 = wc[wc.index == team1]['weight_kg'].iloc[0]\n",
    "        value_eur_2 = wc[wc.index == team1]['value_eur'].iloc[0]\n",
    "        wage_eur_2 = wc[wc.index == team1]['wage_eur'].iloc[0]\n",
    "        international_reputation_2= wc[wc.index == team1]['international_reputation'].iloc[0]\n",
    "        ovr_forwards_2 = wc[wc.index == team1]['ovr_forwards'].iloc[0]\n",
    "        ovr_mids_2 = wc[wc.index == team1]['ovr_mids'].iloc[0]\n",
    "        ovr_defs_2 = wc[wc.index == team1]['ovr_defs'].iloc[0]\n",
    "        ovr_gks_2 = wc[wc.index == team1]['ovr_gks'].iloc[0]\n",
    "        ptl_forwards_2 = wc[wc.index == team1]['ptl_forwards'].iloc[0]\n",
    "        ptl_mids_2 = wc[wc.index == team1]['ptl_mids'].iloc[0]\n",
    "        ptl_defs_2 = wc[wc.index == team1]['ptl_defs'].iloc[0]\n",
    "        ptl_gks_2 = wc[wc.index == team1]['ptl_gks'].iloc[0]\n",
    "\n",
    "        match['age_2'] = np.random.normal(age_2, scale=random_scale)\n",
    "        match['height_cm_2'] = np.random.normal(height_cm_2, scale=random_scale)\n",
    "        match['weight_kg_2'] = np.random.normal(weight_kg_2, scale=random_scale)\n",
    "        match['value_eur_2'] = np.random.normal(value_eur_2, scale=random_scale)\n",
    "        match['wage_eur_2'] = np.random.normal(wage_eur_2, scale=random_scale)\n",
    "        match['international_reputation_2'] = np.random.normal(international_reputation_2, scale=random_scale)\n",
    "        match['ovr_forwards_2'] = np.random.normal(ovr_forwards_2, scale=random_scale)\n",
    "        match['ovr_mids_2'] = np.random.normal(ovr_mids_2, scale=random_scale)\n",
    "        match['ovr_defs_2'] = np.random.normal(ovr_defs_2, scale=random_scale)\n",
    "        match['ovr_gks_2'] = np.random.normal(ovr_gks_2, scale=random_scale)\n",
    "        match['ptl_forwards_2'] = np.random.normal(ptl_forwards_2, scale=random_scale)\n",
    "        match['ptl_mids_2'] = np.random.normal(ptl_mids_2, scale=random_scale)\n",
    "        match['ptl_defs_2'] = np.random.normal(ptl_defs_2, scale=random_scale)\n",
    "        match['ptl_gks_2'] = np.random.normal(ptl_gks_2, scale=random_scale)\n",
    "\n",
    "        # Diff Columns \n",
    "\n",
    "        match['age_diff'] = match['age_1'] - match['age_2']\n",
    "        match['height_diff'] = match['height_cm_1'] - match['height_cm_2']\n",
    "        match['weight_diff'] = match['weight_kg_1'] - match['weight_kg_2']\n",
    "        match['value_diff'] = match['value_eur_2'] - match['value_eur_2']\n",
    "        match['wage_diff'] = match['wage_eur_2'] - match['wage_eur_2']\n",
    "        match['intl_rep_diff'] = match['international_reputation_1'] - match['international_reputation_2']\n",
    "        match['fw_diff'] = match['ovr_forwards_1'] - match['ovr_forwards_2']\n",
    "        match['mid_diff'] = match['ovr_mids_1'] - match['ovr_mids_2']\n",
    "        match['def_diff'] = match['ovr_defs_1'] - match['ovr_defs_2']\n",
    "        match['gk_diff'] = match['ovr_gks_1'] - match['ovr_gks_2'] \n",
    "        match['ptl_fw_diff'] = match['ptl_forwards_1'] - match['ptl_forwards_2']\n",
    "        match['ptl_mid_diff'] = match['ptl_mids_1'] - match['ptl_mids_2']\n",
    "        match['ptl_def_diff'] = match['ptl_defs_1'] - match['ptl_defs_2']\n",
    "        match['ptl_gk_diff'] = match['ptl_gks_1'] - match['ptl_gks_2'] \n",
    "\n",
    "\n",
    "\n",
    "\n",
    "\n",
    "\n",
    "\n",
    "        match = match[match.columns]\n",
    "\n",
    "        match_array = match.values\n",
    "\n",
    "        prediction = model.predict(match_array)\n",
    "\n",
    "        winner = None\n",
    "\n",
    "        if prediction == 1:\n",
    "            winner = team1\n",
    "        elif prediction == 0:\n",
    "            winner = team2\n",
    "        else:\n",
    "            winner = 'draw'\n",
    "\n",
    "        return winner\n",
    "    \n",
    "    match_results = []\n",
    "    for i in range(n_matches):\n",
    "        match_results.append(match(data, team1, team2, model, random_scale=5))\n",
    "        \n",
    "    team1_proba = match_results.count(team1)/len(match_results)*100\n",
    "    team2_proba = match_results.count(team2)/len(match_results)*100\n",
    "    draw_proba = match_results.count('draw')/len(match_results)*100\n",
    "    \n",
    "    print(team1, str(round(team1_proba, 2)) + '%')\n",
    "    print(team2, str(round(team2_proba,2)) + '%')\n",
    "    print('draw', str(round(draw_proba,2)) + '%')\n",
    "    print('-------------------------')\n",
    "    print()\n",
    "    \n",
    "    if team1_proba > team2_proba:\n",
    "        overall_winner = team1\n",
    "    elif team1_proba < team2_proba:\n",
    "        overall_winner = team2\n",
    "    else:\n",
    "        overall_winner = 'draw'\n",
    "    \n",
    "    return {'team1': team1,\n",
    "            'team2': team2,\n",
    "            'team1_proba': team1_proba, \n",
    "            'team2_proba': team2_proba, \n",
    "            'overall_winner': overall_winner,\n",
    "            'match_results': match_results}\n",
    "\n",
    "## Adapted from https://towardsdatascience.com/using-machine-learning-to-simulate-world-cup-matches-959e24d0731"
   ]
  },
  {
   "cell_type": "code",
   "execution_count": 117,
   "metadata": {},
   "outputs": [
    {
     "name": "stdout",
     "output_type": "stream",
     "text": [
      "Uruguay 95.2%\n",
      "Costa Rica 0.2%\n",
      "draw 4.6%\n",
      "-------------------------\n",
      "\n"
     ]
    }
   ],
   "source": [
    "uruguay_cr = simulate_matches(df, 'Uruguay', 'Costa Rica', gs_rand, n_matches = 1000)"
   ]
  },
  {
   "cell_type": "code",
   "execution_count": 118,
   "metadata": {},
   "outputs": [
    {
     "name": "stdout",
     "output_type": "stream",
     "text": [
      "England 97.3%\n",
      "Italy 0.1%\n",
      "draw 2.6%\n",
      "-------------------------\n",
      "\n"
     ]
    }
   ],
   "source": [
    "eng_ita = simulate_matches(df, 'England', 'Italy', gs_rand, n_matches = 1000)"
   ]
  },
  {
   "cell_type": "code",
   "execution_count": 119,
   "metadata": {},
   "outputs": [
    {
     "name": "stdout",
     "output_type": "stream",
     "text": [
      "Uruguay 96.1%\n",
      "England 0.2%\n",
      "draw 3.7%\n",
      "-------------------------\n",
      "\n"
     ]
    }
   ],
   "source": [
    "uru_eng = simulate_matches(df, 'Uruguay', 'England', gs_rand, n_matches = 1000)"
   ]
  },
  {
   "cell_type": "code",
   "execution_count": 120,
   "metadata": {},
   "outputs": [
    {
     "name": "stdout",
     "output_type": "stream",
     "text": [
      "Italy 95.5%\n",
      "Costa Rica 0.8%\n",
      "draw 3.7%\n",
      "-------------------------\n",
      "\n"
     ]
    }
   ],
   "source": [
    "ita_cr = simulate_matches(df, 'Italy', 'Costa Rica', gs_rand, n_matches = 1000)"
   ]
  },
  {
   "cell_type": "code",
   "execution_count": 121,
   "metadata": {},
   "outputs": [
    {
     "name": "stdout",
     "output_type": "stream",
     "text": [
      "Italy 95.6%\n",
      "Uruguay 0.8%\n",
      "draw 3.6%\n",
      "-------------------------\n",
      "\n"
     ]
    }
   ],
   "source": [
    "ita_uru = simulate_matches(df, 'Italy', 'Uruguay', gs_rand, n_matches = 1000)"
   ]
  },
  {
   "cell_type": "code",
   "execution_count": 122,
   "metadata": {},
   "outputs": [
    {
     "name": "stdout",
     "output_type": "stream",
     "text": [
      "Costa Rica 30.0%\n",
      "England 31.4%\n",
      "draw 38.6%\n",
      "-------------------------\n",
      "\n"
     ]
    }
   ],
   "source": [
    "cr_eng = simulate_matches(df, 'Costa Rica', 'England', gs_rand, n_matches = 1000)"
   ]
  },
  {
   "cell_type": "markdown",
   "metadata": {},
   "source": [
    "### Simulation Results"
   ]
  },
  {
   "cell_type": "markdown",
   "metadata": {},
   "source": [
    "Predictions:<br>\n",
    "\n",
    "|Team | Points|\n",
    "|----|----|\n",
    "|Italy| 6 |\n",
    "|Uruguay | 6 | \n",
    "|England | 4 |\n",
    "|Costa Rica | 1 | <br>\n",
    "\n",
    "Actual Results: <br>\n",
    "\n",
    "|Team | Points|\n",
    "|----|----|\n",
    "|Costa Rica| 7 |\n",
    "|Uruguay | 6 | \n",
    "|Italy | 3 |\n",
    "|England | 1 |\n"
   ]
  },
  {
   "cell_type": "markdown",
   "metadata": {},
   "source": [
    "The results of the simulation seem to differ from what actually happened, however if one were to look at these teams on paper they would somewhat agree with the results of the simulation. Uruguay, Italy, and England are the favorites to pass the group. In the world of soccer we are taught time and time again that anything could happen within those 90 minutes out on the field. This was especially evident when Costa Rica was greatly underestimated and ended with a point total of 7. It would be very difficult to predict the domination that Costa Rica showed during this group stage."
   ]
  },
  {
   "cell_type": "markdown",
   "metadata": {},
   "source": [
    "## Conclusion"
   ]
  },
  {
   "cell_type": "markdown",
   "metadata": {},
   "source": [
    "The model is able to predict with 61% accuracy which team will win. The model which worked best according to the accuracy score was the Voting Classifier. The simulating of the individual games sometimes seem more accurate using different classifier models on the simulation functions. However, the overall outcome of the group is best predicted by the Voting Classifier which uses a tuned Extra Trees model. There are many considerations to make when trying to predict the future as there is always a level of uncertainty present. This particular group in the 2014 World Cup was a prime example of this as the world watched Costa Rica put on a performance of a life time causing huge upsets and ultimately winning the group. The best we can do is use this data to identify what makes a winning team by looking at the coefficients of the model. This information could be of great use to international teams looking for areas in need of improvement. Ultimately my goal was to predict whether or not Italy would pass the group stages. According to my model Italy should have passed easily winning two out of the three games. However, this proved to be Costa Rica's year and the Italian nationals ended up going home. "
   ]
  },
  {
   "cell_type": "markdown",
   "metadata": {},
   "source": [
    "## Recommendations"
   ]
  },
  {
   "cell_type": "markdown",
   "metadata": {},
   "source": [
    "The model can be improved in the future by giving it more data on each team. This became evident when we found leakage due to the 'score' column in our dataset. The model was able to take this information and correctly predict the outcome every time. What can be done to include the goal scoring factor into the model would be to calculate the probability of a given team to score against another. This way our features would be able to take into consideration the goal scoring ability of each squad without having it directly inform the model on who the winner is. Furthermore, for the feasibility of this project we only ran my model on games that included teams from the 2014 World Cup. A next step would be to include all matches as the model would have more data to work with. Since the model examines the relationships between the teams average statistics rather than the team names, it would not have an impact on the outcome. Furthermore, the coefficients given by the Logistic Regression should be further investigated as the way it stands, all coefficients seem to be close to zero. This can be accomplished by going back and reviewing the inputs and parameters used in the Logistic Regression to make sure the coefficients are correct. "
   ]
  },
  {
   "cell_type": "markdown",
   "metadata": {},
   "source": [
    "## References\n",
    "  - https://www.kaggle.com/stefanoleone992/fifa-20-complete-player-dataset\n",
    "  - https://www.kaggle.com/abecklas/fifa-world-cup\n",
    "  - https://towardsdatascience.com/using-machine-learning-to-simulate-world-cup-matches-959e24d0731\n",
    "  - https://github.com/mwaskom/seaborn/issues/1582"
   ]
  }
 ],
 "metadata": {
  "kernelspec": {
   "display_name": "Python 3",
   "language": "python",
   "name": "python3"
  },
  "language_info": {
   "codemirror_mode": {
    "name": "ipython",
    "version": 3
   },
   "file_extension": ".py",
   "mimetype": "text/x-python",
   "name": "python",
   "nbconvert_exporter": "python",
   "pygments_lexer": "ipython3",
   "version": "3.7.4"
  },
  "toc": {
   "base_numbering": 1,
   "nav_menu": {
    "height": "16.9886px",
    "width": "312.628px"
   },
   "number_sections": false,
   "sideBar": true,
   "skip_h1_title": true,
   "title_cell": "Table of Contents",
   "title_sidebar": "Contents",
   "toc_cell": true,
   "toc_position": {
    "height": "calc(100% - 180px)",
    "left": "10px",
    "top": "150px",
    "width": "173.48px"
   },
   "toc_section_display": true,
   "toc_window_display": true
  },
  "varInspector": {
   "cols": {
    "lenName": 16,
    "lenType": 16,
    "lenVar": 40
   },
   "kernels_config": {
    "python": {
     "delete_cmd_postfix": "",
     "delete_cmd_prefix": "del ",
     "library": "var_list.py",
     "varRefreshCmd": "print(var_dic_list())"
    },
    "r": {
     "delete_cmd_postfix": ") ",
     "delete_cmd_prefix": "rm(",
     "library": "var_list.r",
     "varRefreshCmd": "cat(var_dic_list()) "
    }
   },
   "types_to_exclude": [
    "module",
    "function",
    "builtin_function_or_method",
    "instance",
    "_Feature"
   ],
   "window_display": false
  }
 },
 "nbformat": 4,
 "nbformat_minor": 2
}
